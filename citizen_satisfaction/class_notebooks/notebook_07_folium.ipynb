{
 "cells": [
  {
   "cell_type": "code",
   "execution_count": null,
   "metadata": {
    "scrolled": true
   },
   "outputs": [],
   "source": [
    "import pandas as pd\n",
    "import numpy as np\n",
    "import folium"
   ]
  },
  {
   "cell_type": "markdown",
   "metadata": {},
   "source": [
    "# For Loops\n",
    "**For loops** allow you to peform some kind of operation on each element of a group of items. This is called **iterating**."
   ]
  },
  {
   "cell_type": "code",
   "execution_count": null,
   "metadata": {
    "scrolled": true
   },
   "outputs": [],
   "source": [
    "# Here we have a list of strings\n",
    "list_of_letters = ['q', 'w', 'e', 'r', 't', 'y']"
   ]
  },
  {
   "cell_type": "markdown",
   "metadata": {},
   "source": [
    "Let's say we wanted to print the contents of this list one element at a time. One way to do this would be to grab each element and print it like the following cell:"
   ]
  },
  {
   "cell_type": "code",
   "execution_count": null,
   "metadata": {
    "scrolled": true
   },
   "outputs": [],
   "source": [
    "letter = list_of_letters[0]\n",
    "print(letter)\n",
    "\n",
    "letter = list_of_letters[1]\n",
    "print(letter)\n",
    "\n",
    "letter = list_of_letters[2]\n",
    "print(letter)\n",
    "\n",
    "letter = list_of_letters[3]\n",
    "print(letter)\n",
    "\n",
    "letter = list_of_letters[4]\n",
    "print(letter)\n",
    "\n",
    "letter = list_of_letters[5]\n",
    "print(letter)"
   ]
  },
  {
   "cell_type": "markdown",
   "metadata": {},
   "source": [
    "However, if you notice that you are reusing the same looking code over and over, it could be a signal to rewrite your code as a loop."
   ]
  },
  {
   "cell_type": "code",
   "execution_count": null,
   "metadata": {
    "scrolled": true
   },
   "outputs": [],
   "source": [
    "for letter in list_of_letters:\n",
    "    print(letter)"
   ]
  },
  {
   "cell_type": "markdown",
   "metadata": {},
   "source": [
    "If you want to keep track of the position you are on when iterating, you can use enumerate on the object you are iterating through."
   ]
  },
  {
   "cell_type": "code",
   "execution_count": null,
   "metadata": {
    "scrolled": true
   },
   "outputs": [],
   "source": [
    "for index, letter in enumerate(list_of_letters):\n",
    "    print('Index: ', index)\n",
    "    print('Letter: ', letter)\n",
    "    print(\"-------\")"
   ]
  },
  {
   "cell_type": "code",
   "execution_count": null,
   "metadata": {
    "scrolled": true
   },
   "outputs": [],
   "source": [
    "art = pd.read_csv(\"../data/public_art.csv\")\n",
    "\n",
    "art_sub = art.head(3)\n",
    "art_sub"
   ]
  },
  {
   "cell_type": "markdown",
   "metadata": {},
   "source": [
    "It's also possible to iterate through the rows of a DataFrame in a way similar to using enumerate on a list. Instead, we use the iterrows method. Iterrows gives the index of each row along with the content of that row."
   ]
  },
  {
   "cell_type": "code",
   "execution_count": null,
   "metadata": {
    "scrolled": true
   },
   "outputs": [],
   "source": [
    "for index, row in art_sub.iterrows():\n",
    "    print(index)\n",
    "    print(row)\n",
    "    print('--------')"
   ]
  },
  {
   "cell_type": "markdown",
   "metadata": {},
   "source": [
    "We can also select out specific parts of each row using square brackets:"
   ]
  },
  {
   "cell_type": "code",
   "execution_count": null,
   "metadata": {
    "scrolled": true
   },
   "outputs": [],
   "source": [
    "for index, row in art_sub.iterrows():\n",
    "    print(index)\n",
    "    print(row['First Name'])\n",
    "    print(row['Last Name'])\n",
    "    print('--------')"
   ]
  },
  {
   "cell_type": "markdown",
   "metadata": {},
   "source": [
    "# Introduction to the folium Library"
   ]
  },
  {
   "cell_type": "markdown",
   "metadata": {},
   "source": [
    "Maps are great, folium is no exception. It is a great package that allows you do do many map related things and make nice, visually appealing, interactive maps.\n",
    "\n",
    "Displaying a map in folium is very easy. All you need is a starting location and a zoom level."
   ]
  },
  {
   "cell_type": "code",
   "execution_count": null,
   "metadata": {
    "scrolled": true
   },
   "outputs": [],
   "source": [
    "# Try out different zooms to see which one looks good\n",
    "\n",
    "nash_map = folium.Map(location = [36.1612, -86.7775], zoom_start=12)\n",
    "\n",
    "nash_map"
   ]
  },
  {
   "cell_type": "markdown",
   "metadata": {},
   "source": [
    "We can add markers to our map by using the `Marker` constructor. We just need to specify a location and optionally can specify a popup. Let's say we want to add a marker for the first piece of art in our dataset."
   ]
  },
  {
   "cell_type": "code",
   "execution_count": null,
   "metadata": {
    "scrolled": true
   },
   "outputs": [],
   "source": [
    "row = art.loc[0]\n",
    "row"
   ]
  },
  {
   "cell_type": "code",
   "execution_count": null,
   "metadata": {
    "scrolled": true
   },
   "outputs": [],
   "source": [
    "nash_map = folium.Map(location = [36.1612, -86.7775], zoom_start=12)\n",
    "\n",
    "point = [row['Latitude'], row['Longitude']]\n",
    "message = row['Type'] + ': ' + row['Title']\n",
    "folium.Marker(location = point, popup = message).add_to(nash_map)\n",
    "\n",
    "nash_map"
   ]
  },
  {
   "cell_type": "markdown",
   "metadata": {},
   "source": [
    "If we want to do this for multiple rows, we could do it like so:"
   ]
  },
  {
   "cell_type": "code",
   "execution_count": null,
   "metadata": {
    "scrolled": true
   },
   "outputs": [],
   "source": [
    "nash_map = folium.Map(location = [36.1612, -86.7775], zoom_start=12)\n",
    "\n",
    "row = art.loc[0]\n",
    "point = [row['Latitude'], row['Longitude']]\n",
    "message = row['Type'] + ': ' + row['Title']\n",
    "folium.Marker(location = point, popup = message).add_to(nash_map)\n",
    "\n",
    "row = art.loc[1]\n",
    "point = [row['Latitude'], row['Longitude']]\n",
    "message = row['Type'] + ': ' + row['Title']\n",
    "folium.Marker(location = point, popup = message).add_to(nash_map)\n",
    "\n",
    "row = art.loc[2]\n",
    "point = [row['Latitude'], row['Longitude']]\n",
    "message = row['Type'] + ': ' + row['Title']\n",
    "folium.Marker(location = point, popup = message).add_to(nash_map)\n",
    "\n",
    "row = art.loc[3]\n",
    "point = [row['Latitude'], row['Longitude']]\n",
    "message = row['Type'] + ': ' + row['Title']\n",
    "folium.Marker(location = point, popup = message).add_to(nash_map)\n",
    "\n",
    "nash_map"
   ]
  },
  {
   "cell_type": "markdown",
   "metadata": {},
   "source": [
    "This will get very tedious if we want to add all of the items in our DataFrame, so instead we could recognize that we're in a situation where we can use iterrows."
   ]
  },
  {
   "cell_type": "code",
   "execution_count": null,
   "metadata": {
    "scrolled": true
   },
   "outputs": [],
   "source": [
    "nash_map = folium.Map(location = [36.1612, -86.7775], zoom_start=12)\n",
    "\n",
    "for index, row in art.iterrows():\n",
    "    point = [row['Latitude'], row['Longitude']]\n",
    "    message = row['Type'] + ': ' + row['Title']\n",
    "    folium.Marker(location = point, popup = message).add_to(nash_map)\n",
    "\n",
    "nash_map"
   ]
  },
  {
   "cell_type": "markdown",
   "metadata": {},
   "source": [
    "### You can use the [font awesome](https://fontawesome.com/v4.7.0/icons/) icons to customize my map"
   ]
  },
  {
   "cell_type": "code",
   "execution_count": null,
   "metadata": {
    "scrolled": true
   },
   "outputs": [],
   "source": [
    "nash_map = folium.Map(location = [36.1612, -86.7775], zoom_start = 12)\n",
    "\n",
    "for index, row in art.iterrows():\n",
    "    point = [row['Latitude'], row['Longitude']]\n",
    "    message = row['Type'] + ': ' + row['Title']\n",
    "    icon = folium.Icon(color = 'darkpurple', \n",
    "                       icon = 'paint-brush', \n",
    "                       prefix = 'fa') # here's where the icon gets customized\n",
    "    folium.Marker(point, popup = message, icon = icon).add_to(nash_map)\n",
    "    \n",
    "nash_map"
   ]
  }
 ],
 "metadata": {
  "kernelspec": {
   "display_name": "Python 3 (ipykernel)",
   "language": "python",
   "name": "python3"
  },
  "language_info": {
   "codemirror_mode": {
    "name": "ipython",
    "version": 3
   },
   "file_extension": ".py",
   "mimetype": "text/x-python",
   "name": "python",
   "nbconvert_exporter": "python",
   "pygments_lexer": "ipython3",
   "version": "3.9.16"
  }
 },
 "nbformat": 4,
 "nbformat_minor": 2
}
