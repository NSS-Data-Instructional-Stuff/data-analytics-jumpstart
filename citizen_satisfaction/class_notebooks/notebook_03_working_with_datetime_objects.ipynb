{
 "cells": [
  {
   "cell_type": "code",
   "execution_count": 1,
   "metadata": {},
   "outputs": [],
   "source": [
    "import pandas as pd"
   ]
  },
  {
   "cell_type": "markdown",
   "metadata": {},
   "source": [
    "### Data Types: all objects in python have a type. You can check the type by using the _type()_ function. Here are a few standard ones"
   ]
  },
  {
   "cell_type": "code",
   "execution_count": 2,
   "metadata": {},
   "outputs": [
    {
     "data": {
      "text/plain": [
       "float"
      ]
     },
     "execution_count": 2,
     "metadata": {},
     "output_type": "execute_result"
    }
   ],
   "source": [
    "type(1.5)"
   ]
  },
  {
   "cell_type": "code",
   "execution_count": 3,
   "metadata": {},
   "outputs": [
    {
     "data": {
      "text/plain": [
       "int"
      ]
     },
     "execution_count": 3,
     "metadata": {},
     "output_type": "execute_result"
    }
   ],
   "source": [
    "type(3)"
   ]
  },
  {
   "cell_type": "code",
   "execution_count": 4,
   "metadata": {},
   "outputs": [
    {
     "data": {
      "text/plain": [
       "str"
      ]
     },
     "execution_count": 4,
     "metadata": {},
     "output_type": "execute_result"
    }
   ],
   "source": [
    "type('abc')"
   ]
  },
  {
   "cell_type": "code",
   "execution_count": 5,
   "metadata": {},
   "outputs": [
    {
     "data": {
      "text/plain": [
       "bool"
      ]
     },
     "execution_count": 5,
     "metadata": {},
     "output_type": "execute_result"
    }
   ],
   "source": [
    "type(True)"
   ]
  },
  {
   "cell_type": "markdown",
   "metadata": {},
   "source": [
    "### You can convert between types."
   ]
  },
  {
   "cell_type": "code",
   "execution_count": 6,
   "metadata": {},
   "outputs": [
    {
     "data": {
      "text/plain": [
       "1.0"
      ]
     },
     "execution_count": 6,
     "metadata": {},
     "output_type": "execute_result"
    }
   ],
   "source": [
    "float(1)"
   ]
  },
  {
   "cell_type": "code",
   "execution_count": 7,
   "metadata": {},
   "outputs": [
    {
     "data": {
      "text/plain": [
       "'1'"
      ]
     },
     "execution_count": 7,
     "metadata": {},
     "output_type": "execute_result"
    }
   ],
   "source": [
    "str(1)"
   ]
  },
  {
   "cell_type": "code",
   "execution_count": 8,
   "metadata": {},
   "outputs": [
    {
     "data": {
      "text/plain": [
       "9"
      ]
     },
     "execution_count": 8,
     "metadata": {},
     "output_type": "execute_result"
    }
   ],
   "source": [
    "int('9')"
   ]
  },
  {
   "cell_type": "code",
   "execution_count": 9,
   "metadata": {},
   "outputs": [
    {
     "data": {
      "text/plain": [
       "9"
      ]
     },
     "execution_count": 9,
     "metadata": {},
     "output_type": "execute_result"
    }
   ],
   "source": [
    "int(9.9)"
   ]
  },
  {
   "cell_type": "markdown",
   "metadata": {},
   "source": [
    "### DataFrames also have a type"
   ]
  },
  {
   "cell_type": "code",
   "execution_count": 10,
   "metadata": {},
   "outputs": [],
   "source": [
    "accidents = pd.read_csv('../data/Traffic_Accidents__2019_.csv')"
   ]
  },
  {
   "cell_type": "code",
   "execution_count": 11,
   "metadata": {
    "scrolled": true
   },
   "outputs": [
    {
     "data": {
      "text/plain": [
       "pandas.core.frame.DataFrame"
      ]
     },
     "execution_count": 11,
     "metadata": {},
     "output_type": "execute_result"
    }
   ],
   "source": [
    "type(accidents)"
   ]
  },
  {
   "cell_type": "markdown",
   "metadata": {},
   "source": [
    "### And each column has a type"
   ]
  },
  {
   "cell_type": "code",
   "execution_count": 13,
   "metadata": {},
   "outputs": [
    {
     "name": "stdout",
     "output_type": "stream",
     "text": [
      "<class 'pandas.core.frame.DataFrame'>\n",
      "RangeIndex: 34692 entries, 0 to 34691\n",
      "Data columns (total 25 columns):\n",
      " #   Column                      Non-Null Count  Dtype  \n",
      "---  ------                      --------------  -----  \n",
      " 0   Accident Number             34692 non-null  int64  \n",
      " 1   Date and Time               34692 non-null  object \n",
      " 2   Number of Motor Vehicles    34692 non-null  int64  \n",
      " 3   Number of Injuries          34692 non-null  int64  \n",
      " 4   Number of Fatalities        34692 non-null  int64  \n",
      " 5   Property Damage             2495 non-null   object \n",
      " 6   Hit and Run                 34691 non-null  object \n",
      " 7   Reporting Officer           34684 non-null  float64\n",
      " 8   Collision Type Code         34688 non-null  float64\n",
      " 9   Collision Type Description  34688 non-null  object \n",
      " 10  Weather Code                34641 non-null  float64\n",
      " 11  Weather Description         34641 non-null  object \n",
      " 12  Illumination Code           34665 non-null  float64\n",
      " 13  Illumination Description    34665 non-null  object \n",
      " 14  Harmful Code                34692 non-null  object \n",
      " 15  Harmful Code Description    34333 non-null  object \n",
      " 16  Street Address              34691 non-null  object \n",
      " 17  City                        34692 non-null  object \n",
      " 18  State                       34692 non-null  object \n",
      " 19  ZIP                         34658 non-null  float64\n",
      " 20  RPA                         34681 non-null  float64\n",
      " 21  Precinct                    34681 non-null  object \n",
      " 22  Latitude                    34670 non-null  float64\n",
      " 23  Longitude                   34670 non-null  float64\n",
      " 24  Mapped Location             34670 non-null  object \n",
      "dtypes: float64(8), int64(4), object(13)\n",
      "memory usage: 6.6+ MB\n"
     ]
    }
   ],
   "source": [
    "accidents.info()"
   ]
  },
  {
   "cell_type": "markdown",
   "metadata": {},
   "source": [
    "Notice that quite a few of the columns are of the \"object\" type. By default, pandas will convert text data into the object datatype."
   ]
  },
  {
   "cell_type": "markdown",
   "metadata": {},
   "source": [
    "You can convert between types using the `.astype` method. For example, if we needed to treat the accident number as text instead of an integer, we could use the following:"
   ]
  },
  {
   "cell_type": "code",
   "execution_count": 16,
   "metadata": {},
   "outputs": [],
   "source": [
    "accidents['Accident Number'] = accidents['Accident Number'].astype(str)"
   ]
  },
  {
   "cell_type": "code",
   "execution_count": 17,
   "metadata": {
    "scrolled": true
   },
   "outputs": [
    {
     "name": "stdout",
     "output_type": "stream",
     "text": [
      "<class 'pandas.core.frame.DataFrame'>\n",
      "RangeIndex: 34692 entries, 0 to 34691\n",
      "Data columns (total 25 columns):\n",
      " #   Column                      Non-Null Count  Dtype  \n",
      "---  ------                      --------------  -----  \n",
      " 0   Accident Number             34692 non-null  object \n",
      " 1   Date and Time               34692 non-null  object \n",
      " 2   Number of Motor Vehicles    34692 non-null  int64  \n",
      " 3   Number of Injuries          34692 non-null  int64  \n",
      " 4   Number of Fatalities        34692 non-null  int64  \n",
      " 5   Property Damage             2495 non-null   object \n",
      " 6   Hit and Run                 34691 non-null  object \n",
      " 7   Reporting Officer           34684 non-null  float64\n",
      " 8   Collision Type Code         34688 non-null  float64\n",
      " 9   Collision Type Description  34688 non-null  object \n",
      " 10  Weather Code                34641 non-null  float64\n",
      " 11  Weather Description         34641 non-null  object \n",
      " 12  Illumination Code           34665 non-null  float64\n",
      " 13  Illumination Description    34665 non-null  object \n",
      " 14  Harmful Code                34692 non-null  object \n",
      " 15  Harmful Code Description    34333 non-null  object \n",
      " 16  Street Address              34691 non-null  object \n",
      " 17  City                        34692 non-null  object \n",
      " 18  State                       34692 non-null  object \n",
      " 19  ZIP                         34658 non-null  float64\n",
      " 20  RPA                         34681 non-null  float64\n",
      " 21  Precinct                    34681 non-null  object \n",
      " 22  Latitude                    34670 non-null  float64\n",
      " 23  Longitude                   34670 non-null  float64\n",
      " 24  Mapped Location             34670 non-null  object \n",
      "dtypes: float64(8), int64(3), object(14)\n",
      "memory usage: 6.6+ MB\n"
     ]
    }
   ],
   "source": [
    "accidents.info()"
   ]
  },
  {
   "cell_type": "markdown",
   "metadata": {},
   "source": [
    "Notice that the `Date and Time` column is currently being treated as an `object`. This would make it quite difficult to do comparisions or aggregations, for example, between months or days of the week.\n",
    "\n",
    "Fortunately, we can convert it to a more useful data type, the `datetime` data type.\n",
    "\n",
    "In order to do this, we can use the `pd.to_datetime` function.\n",
    "\n",
    "If we don't tell it otherwise, this function will infer the different date and time components of the string. This can be slow, especially when we have a large number of rows of data.\n",
    "\n",
    "However, we can help it out be being explicit about the format. To do this, you will have to use datetime symbols: https://docs.python.org/3/library/datetime.html#strftime-and-strptime-behavior"
   ]
  },
  {
   "cell_type": "code",
   "execution_count": 18,
   "metadata": {},
   "outputs": [],
   "source": [
    "accidents['Date and Time'] = pd.to_datetime(accidents['Date and Time'], \n",
    "                                            format = '%m/%d/%Y %I:%M:%S %p')"
   ]
  },
  {
   "cell_type": "code",
   "execution_count": 19,
   "metadata": {},
   "outputs": [
    {
     "data": {
      "text/plain": [
       "Accident Number                       object\n",
       "Date and Time                 datetime64[ns]\n",
       "Number of Motor Vehicles               int64\n",
       "Number of Injuries                     int64\n",
       "Number of Fatalities                   int64\n",
       "Property Damage                       object\n",
       "Hit and Run                           object\n",
       "Reporting Officer                    float64\n",
       "Collision Type Code                  float64\n",
       "Collision Type Description            object\n",
       "Weather Code                         float64\n",
       "Weather Description                   object\n",
       "Illumination Code                    float64\n",
       "Illumination Description              object\n",
       "Harmful Code                          object\n",
       "Harmful Code Description              object\n",
       "Street Address                        object\n",
       "City                                  object\n",
       "State                                 object\n",
       "ZIP                                  float64\n",
       "RPA                                  float64\n",
       "Precinct                              object\n",
       "Latitude                             float64\n",
       "Longitude                            float64\n",
       "Mapped Location                       object\n",
       "dtype: object"
      ]
     },
     "execution_count": 19,
     "metadata": {},
     "output_type": "execute_result"
    }
   ],
   "source": [
    "# Now the column is a datetime64[ns]\n",
    "accidents.dtypes"
   ]
  },
  {
   "cell_type": "code",
   "execution_count": 20,
   "metadata": {},
   "outputs": [
    {
     "data": {
      "text/html": [
       "<div>\n",
       "<style scoped>\n",
       "    .dataframe tbody tr th:only-of-type {\n",
       "        vertical-align: middle;\n",
       "    }\n",
       "\n",
       "    .dataframe tbody tr th {\n",
       "        vertical-align: top;\n",
       "    }\n",
       "\n",
       "    .dataframe thead th {\n",
       "        text-align: right;\n",
       "    }\n",
       "</style>\n",
       "<table border=\"1\" class=\"dataframe\">\n",
       "  <thead>\n",
       "    <tr style=\"text-align: right;\">\n",
       "      <th></th>\n",
       "      <th>Accident Number</th>\n",
       "      <th>Date and Time</th>\n",
       "      <th>Number of Motor Vehicles</th>\n",
       "      <th>Number of Injuries</th>\n",
       "      <th>Number of Fatalities</th>\n",
       "      <th>Property Damage</th>\n",
       "      <th>Hit and Run</th>\n",
       "      <th>Reporting Officer</th>\n",
       "      <th>Collision Type Code</th>\n",
       "      <th>Collision Type Description</th>\n",
       "      <th>...</th>\n",
       "      <th>Harmful Code Description</th>\n",
       "      <th>Street Address</th>\n",
       "      <th>City</th>\n",
       "      <th>State</th>\n",
       "      <th>ZIP</th>\n",
       "      <th>RPA</th>\n",
       "      <th>Precinct</th>\n",
       "      <th>Latitude</th>\n",
       "      <th>Longitude</th>\n",
       "      <th>Mapped Location</th>\n",
       "    </tr>\n",
       "  </thead>\n",
       "  <tbody>\n",
       "    <tr>\n",
       "      <th>0</th>\n",
       "      <td>20190038972</td>\n",
       "      <td>2019-01-15 19:40:00</td>\n",
       "      <td>2</td>\n",
       "      <td>0</td>\n",
       "      <td>0</td>\n",
       "      <td>NaN</td>\n",
       "      <td>N</td>\n",
       "      <td>256374.0</td>\n",
       "      <td>4.0</td>\n",
       "      <td>ANGLE</td>\n",
       "      <td>...</td>\n",
       "      <td>MOTOR VEHICLE IN TRANSPORT</td>\n",
       "      <td>BELL RD &amp; CEDAR POINTE PKWY</td>\n",
       "      <td>ANTIOCH</td>\n",
       "      <td>TN</td>\n",
       "      <td>37013.0</td>\n",
       "      <td>8753.0</td>\n",
       "      <td>SOUTH</td>\n",
       "      <td>36.0449</td>\n",
       "      <td>-86.6671</td>\n",
       "      <td>POINT (-86.6671 36.0449)</td>\n",
       "    </tr>\n",
       "    <tr>\n",
       "      <th>1</th>\n",
       "      <td>20190045402</td>\n",
       "      <td>2019-01-17 23:09:00</td>\n",
       "      <td>2</td>\n",
       "      <td>0</td>\n",
       "      <td>0</td>\n",
       "      <td>NaN</td>\n",
       "      <td>Y</td>\n",
       "      <td>405424.0</td>\n",
       "      <td>11.0</td>\n",
       "      <td>Front to Rear</td>\n",
       "      <td>...</td>\n",
       "      <td>PARKED MOTOR VEHICLE</td>\n",
       "      <td>3248 PERCY PRIEST DR</td>\n",
       "      <td>NASHVILLE</td>\n",
       "      <td>TN</td>\n",
       "      <td>37214.0</td>\n",
       "      <td>8955.0</td>\n",
       "      <td>HERMIT</td>\n",
       "      <td>36.1531</td>\n",
       "      <td>-86.6291</td>\n",
       "      <td>POINT (-86.6291 36.1531)</td>\n",
       "    </tr>\n",
       "    <tr>\n",
       "      <th>2</th>\n",
       "      <td>20190051468</td>\n",
       "      <td>2019-01-20 12:57:00</td>\n",
       "      <td>2</td>\n",
       "      <td>0</td>\n",
       "      <td>0</td>\n",
       "      <td>NaN</td>\n",
       "      <td>N</td>\n",
       "      <td>834798.0</td>\n",
       "      <td>6.0</td>\n",
       "      <td>SIDESWIPE - OPPOSITE DIRECTION</td>\n",
       "      <td>...</td>\n",
       "      <td>PARKED MOTOR VEHICLE</td>\n",
       "      <td>700 THOMPSON LN</td>\n",
       "      <td>NASHVILLE</td>\n",
       "      <td>TN</td>\n",
       "      <td>37204.0</td>\n",
       "      <td>8305.0</td>\n",
       "      <td>MIDTOW</td>\n",
       "      <td>36.1122</td>\n",
       "      <td>-86.7625</td>\n",
       "      <td>POINT (-86.7625 36.1122)</td>\n",
       "    </tr>\n",
       "    <tr>\n",
       "      <th>3</th>\n",
       "      <td>20190088097</td>\n",
       "      <td>2019-02-02 00:38:00</td>\n",
       "      <td>2</td>\n",
       "      <td>0</td>\n",
       "      <td>0</td>\n",
       "      <td>NaN</td>\n",
       "      <td>Y</td>\n",
       "      <td>660929.0</td>\n",
       "      <td>4.0</td>\n",
       "      <td>ANGLE</td>\n",
       "      <td>...</td>\n",
       "      <td>MOTOR VEHICLE IN TRANSPORT;PARKED MOTOR VEHICLE</td>\n",
       "      <td>400 RADNO</td>\n",
       "      <td>NASHVILLE</td>\n",
       "      <td>TN</td>\n",
       "      <td>NaN</td>\n",
       "      <td>NaN</td>\n",
       "      <td>NaN</td>\n",
       "      <td>36.0483</td>\n",
       "      <td>-86.4369</td>\n",
       "      <td>POINT (-86.4369 36.0483)</td>\n",
       "    </tr>\n",
       "    <tr>\n",
       "      <th>4</th>\n",
       "      <td>20190091289</td>\n",
       "      <td>2019-02-03 13:25:00</td>\n",
       "      <td>2</td>\n",
       "      <td>0</td>\n",
       "      <td>0</td>\n",
       "      <td>NaN</td>\n",
       "      <td>N</td>\n",
       "      <td>212369.0</td>\n",
       "      <td>4.0</td>\n",
       "      <td>ANGLE</td>\n",
       "      <td>...</td>\n",
       "      <td>MOTOR VEHICLE IN TRANSPORT</td>\n",
       "      <td>ELLINGTON AG CENTER PVTDR &amp; EDMONDSON PK</td>\n",
       "      <td>NASHVILLE</td>\n",
       "      <td>TN</td>\n",
       "      <td>37220.0</td>\n",
       "      <td>8615.0</td>\n",
       "      <td>MIDTOW</td>\n",
       "      <td>36.0618</td>\n",
       "      <td>-86.7405</td>\n",
       "      <td>POINT (-86.7405 36.0618)</td>\n",
       "    </tr>\n",
       "  </tbody>\n",
       "</table>\n",
       "<p>5 rows × 25 columns</p>\n",
       "</div>"
      ],
      "text/plain": [
       "  Accident Number       Date and Time  Number of Motor Vehicles  \\\n",
       "0     20190038972 2019-01-15 19:40:00                         2   \n",
       "1     20190045402 2019-01-17 23:09:00                         2   \n",
       "2     20190051468 2019-01-20 12:57:00                         2   \n",
       "3     20190088097 2019-02-02 00:38:00                         2   \n",
       "4     20190091289 2019-02-03 13:25:00                         2   \n",
       "\n",
       "   Number of Injuries  Number of Fatalities Property Damage Hit and Run  \\\n",
       "0                   0                     0             NaN           N   \n",
       "1                   0                     0             NaN           Y   \n",
       "2                   0                     0             NaN           N   \n",
       "3                   0                     0             NaN           Y   \n",
       "4                   0                     0             NaN           N   \n",
       "\n",
       "   Reporting Officer  Collision Type Code      Collision Type Description  \\\n",
       "0           256374.0                  4.0                           ANGLE   \n",
       "1           405424.0                 11.0                   Front to Rear   \n",
       "2           834798.0                  6.0  SIDESWIPE - OPPOSITE DIRECTION   \n",
       "3           660929.0                  4.0                           ANGLE   \n",
       "4           212369.0                  4.0                           ANGLE   \n",
       "\n",
       "   ...                         Harmful Code Description  \\\n",
       "0  ...                       MOTOR VEHICLE IN TRANSPORT   \n",
       "1  ...                             PARKED MOTOR VEHICLE   \n",
       "2  ...                             PARKED MOTOR VEHICLE   \n",
       "3  ...  MOTOR VEHICLE IN TRANSPORT;PARKED MOTOR VEHICLE   \n",
       "4  ...                       MOTOR VEHICLE IN TRANSPORT   \n",
       "\n",
       "                             Street Address       City State      ZIP     RPA  \\\n",
       "0               BELL RD & CEDAR POINTE PKWY    ANTIOCH    TN  37013.0  8753.0   \n",
       "1                      3248 PERCY PRIEST DR  NASHVILLE    TN  37214.0  8955.0   \n",
       "2                           700 THOMPSON LN  NASHVILLE    TN  37204.0  8305.0   \n",
       "3                                 400 RADNO  NASHVILLE    TN      NaN     NaN   \n",
       "4  ELLINGTON AG CENTER PVTDR & EDMONDSON PK  NASHVILLE    TN  37220.0  8615.0   \n",
       "\n",
       "  Precinct Latitude Longitude           Mapped Location  \n",
       "0    SOUTH  36.0449  -86.6671  POINT (-86.6671 36.0449)  \n",
       "1   HERMIT  36.1531  -86.6291  POINT (-86.6291 36.1531)  \n",
       "2   MIDTOW  36.1122  -86.7625  POINT (-86.7625 36.1122)  \n",
       "3      NaN  36.0483  -86.4369  POINT (-86.4369 36.0483)  \n",
       "4   MIDTOW  36.0618  -86.7405  POINT (-86.7405 36.0618)  \n",
       "\n",
       "[5 rows x 25 columns]"
      ]
     },
     "execution_count": 20,
     "metadata": {},
     "output_type": "execute_result"
    }
   ],
   "source": [
    "# The values in the Date and Time column look different now\n",
    "accidents.head()"
   ]
  },
  {
   "cell_type": "code",
   "execution_count": 21,
   "metadata": {},
   "outputs": [
    {
     "data": {
      "text/plain": [
       "Timestamp('2019-01-15 19:40:00')"
      ]
     },
     "execution_count": 21,
     "metadata": {},
     "output_type": "execute_result"
    }
   ],
   "source": [
    "# And we can see each value is a timestamp\n",
    "accidents.loc[0, 'Date and Time']"
   ]
  },
  {
   "cell_type": "markdown",
   "metadata": {},
   "source": [
    "### Once you have a `datetime` object, you can pull out [individual parts](https://pandas.pydata.org/pandas-docs/stable/reference/api/pandas.Series.dt.html)\n",
    "- Use `.dt` to specify a datetime attribute/function and then what you want to pull out\n",
    "- Pull out the month from the 'Date and Time' column and save it to a new column called 'month'"
   ]
  },
  {
   "cell_type": "code",
   "execution_count": 22,
   "metadata": {},
   "outputs": [
    {
     "data": {
      "text/html": [
       "<div>\n",
       "<style scoped>\n",
       "    .dataframe tbody tr th:only-of-type {\n",
       "        vertical-align: middle;\n",
       "    }\n",
       "\n",
       "    .dataframe tbody tr th {\n",
       "        vertical-align: top;\n",
       "    }\n",
       "\n",
       "    .dataframe thead th {\n",
       "        text-align: right;\n",
       "    }\n",
       "</style>\n",
       "<table border=\"1\" class=\"dataframe\">\n",
       "  <thead>\n",
       "    <tr style=\"text-align: right;\">\n",
       "      <th></th>\n",
       "      <th>Accident Number</th>\n",
       "      <th>Date and Time</th>\n",
       "      <th>Number of Motor Vehicles</th>\n",
       "      <th>Number of Injuries</th>\n",
       "      <th>Number of Fatalities</th>\n",
       "      <th>Property Damage</th>\n",
       "      <th>Hit and Run</th>\n",
       "      <th>Reporting Officer</th>\n",
       "      <th>Collision Type Code</th>\n",
       "      <th>Collision Type Description</th>\n",
       "      <th>...</th>\n",
       "      <th>Street Address</th>\n",
       "      <th>City</th>\n",
       "      <th>State</th>\n",
       "      <th>ZIP</th>\n",
       "      <th>RPA</th>\n",
       "      <th>Precinct</th>\n",
       "      <th>Latitude</th>\n",
       "      <th>Longitude</th>\n",
       "      <th>Mapped Location</th>\n",
       "      <th>month</th>\n",
       "    </tr>\n",
       "  </thead>\n",
       "  <tbody>\n",
       "    <tr>\n",
       "      <th>0</th>\n",
       "      <td>20190038972</td>\n",
       "      <td>2019-01-15 19:40:00</td>\n",
       "      <td>2</td>\n",
       "      <td>0</td>\n",
       "      <td>0</td>\n",
       "      <td>NaN</td>\n",
       "      <td>N</td>\n",
       "      <td>256374.0</td>\n",
       "      <td>4.0</td>\n",
       "      <td>ANGLE</td>\n",
       "      <td>...</td>\n",
       "      <td>BELL RD &amp; CEDAR POINTE PKWY</td>\n",
       "      <td>ANTIOCH</td>\n",
       "      <td>TN</td>\n",
       "      <td>37013.0</td>\n",
       "      <td>8753.0</td>\n",
       "      <td>SOUTH</td>\n",
       "      <td>36.0449</td>\n",
       "      <td>-86.6671</td>\n",
       "      <td>POINT (-86.6671 36.0449)</td>\n",
       "      <td>1</td>\n",
       "    </tr>\n",
       "    <tr>\n",
       "      <th>1</th>\n",
       "      <td>20190045402</td>\n",
       "      <td>2019-01-17 23:09:00</td>\n",
       "      <td>2</td>\n",
       "      <td>0</td>\n",
       "      <td>0</td>\n",
       "      <td>NaN</td>\n",
       "      <td>Y</td>\n",
       "      <td>405424.0</td>\n",
       "      <td>11.0</td>\n",
       "      <td>Front to Rear</td>\n",
       "      <td>...</td>\n",
       "      <td>3248 PERCY PRIEST DR</td>\n",
       "      <td>NASHVILLE</td>\n",
       "      <td>TN</td>\n",
       "      <td>37214.0</td>\n",
       "      <td>8955.0</td>\n",
       "      <td>HERMIT</td>\n",
       "      <td>36.1531</td>\n",
       "      <td>-86.6291</td>\n",
       "      <td>POINT (-86.6291 36.1531)</td>\n",
       "      <td>1</td>\n",
       "    </tr>\n",
       "    <tr>\n",
       "      <th>2</th>\n",
       "      <td>20190051468</td>\n",
       "      <td>2019-01-20 12:57:00</td>\n",
       "      <td>2</td>\n",
       "      <td>0</td>\n",
       "      <td>0</td>\n",
       "      <td>NaN</td>\n",
       "      <td>N</td>\n",
       "      <td>834798.0</td>\n",
       "      <td>6.0</td>\n",
       "      <td>SIDESWIPE - OPPOSITE DIRECTION</td>\n",
       "      <td>...</td>\n",
       "      <td>700 THOMPSON LN</td>\n",
       "      <td>NASHVILLE</td>\n",
       "      <td>TN</td>\n",
       "      <td>37204.0</td>\n",
       "      <td>8305.0</td>\n",
       "      <td>MIDTOW</td>\n",
       "      <td>36.1122</td>\n",
       "      <td>-86.7625</td>\n",
       "      <td>POINT (-86.7625 36.1122)</td>\n",
       "      <td>1</td>\n",
       "    </tr>\n",
       "    <tr>\n",
       "      <th>3</th>\n",
       "      <td>20190088097</td>\n",
       "      <td>2019-02-02 00:38:00</td>\n",
       "      <td>2</td>\n",
       "      <td>0</td>\n",
       "      <td>0</td>\n",
       "      <td>NaN</td>\n",
       "      <td>Y</td>\n",
       "      <td>660929.0</td>\n",
       "      <td>4.0</td>\n",
       "      <td>ANGLE</td>\n",
       "      <td>...</td>\n",
       "      <td>400 RADNO</td>\n",
       "      <td>NASHVILLE</td>\n",
       "      <td>TN</td>\n",
       "      <td>NaN</td>\n",
       "      <td>NaN</td>\n",
       "      <td>NaN</td>\n",
       "      <td>36.0483</td>\n",
       "      <td>-86.4369</td>\n",
       "      <td>POINT (-86.4369 36.0483)</td>\n",
       "      <td>2</td>\n",
       "    </tr>\n",
       "    <tr>\n",
       "      <th>4</th>\n",
       "      <td>20190091289</td>\n",
       "      <td>2019-02-03 13:25:00</td>\n",
       "      <td>2</td>\n",
       "      <td>0</td>\n",
       "      <td>0</td>\n",
       "      <td>NaN</td>\n",
       "      <td>N</td>\n",
       "      <td>212369.0</td>\n",
       "      <td>4.0</td>\n",
       "      <td>ANGLE</td>\n",
       "      <td>...</td>\n",
       "      <td>ELLINGTON AG CENTER PVTDR &amp; EDMONDSON PK</td>\n",
       "      <td>NASHVILLE</td>\n",
       "      <td>TN</td>\n",
       "      <td>37220.0</td>\n",
       "      <td>8615.0</td>\n",
       "      <td>MIDTOW</td>\n",
       "      <td>36.0618</td>\n",
       "      <td>-86.7405</td>\n",
       "      <td>POINT (-86.7405 36.0618)</td>\n",
       "      <td>2</td>\n",
       "    </tr>\n",
       "  </tbody>\n",
       "</table>\n",
       "<p>5 rows × 26 columns</p>\n",
       "</div>"
      ],
      "text/plain": [
       "  Accident Number       Date and Time  Number of Motor Vehicles  \\\n",
       "0     20190038972 2019-01-15 19:40:00                         2   \n",
       "1     20190045402 2019-01-17 23:09:00                         2   \n",
       "2     20190051468 2019-01-20 12:57:00                         2   \n",
       "3     20190088097 2019-02-02 00:38:00                         2   \n",
       "4     20190091289 2019-02-03 13:25:00                         2   \n",
       "\n",
       "   Number of Injuries  Number of Fatalities Property Damage Hit and Run  \\\n",
       "0                   0                     0             NaN           N   \n",
       "1                   0                     0             NaN           Y   \n",
       "2                   0                     0             NaN           N   \n",
       "3                   0                     0             NaN           Y   \n",
       "4                   0                     0             NaN           N   \n",
       "\n",
       "   Reporting Officer  Collision Type Code      Collision Type Description  \\\n",
       "0           256374.0                  4.0                           ANGLE   \n",
       "1           405424.0                 11.0                   Front to Rear   \n",
       "2           834798.0                  6.0  SIDESWIPE - OPPOSITE DIRECTION   \n",
       "3           660929.0                  4.0                           ANGLE   \n",
       "4           212369.0                  4.0                           ANGLE   \n",
       "\n",
       "   ...                            Street Address       City  State      ZIP  \\\n",
       "0  ...               BELL RD & CEDAR POINTE PKWY    ANTIOCH     TN  37013.0   \n",
       "1  ...                      3248 PERCY PRIEST DR  NASHVILLE     TN  37214.0   \n",
       "2  ...                           700 THOMPSON LN  NASHVILLE     TN  37204.0   \n",
       "3  ...                                 400 RADNO  NASHVILLE     TN      NaN   \n",
       "4  ...  ELLINGTON AG CENTER PVTDR & EDMONDSON PK  NASHVILLE     TN  37220.0   \n",
       "\n",
       "      RPA Precinct Latitude Longitude           Mapped Location  month  \n",
       "0  8753.0    SOUTH  36.0449  -86.6671  POINT (-86.6671 36.0449)      1  \n",
       "1  8955.0   HERMIT  36.1531  -86.6291  POINT (-86.6291 36.1531)      1  \n",
       "2  8305.0   MIDTOW  36.1122  -86.7625  POINT (-86.7625 36.1122)      1  \n",
       "3     NaN      NaN  36.0483  -86.4369  POINT (-86.4369 36.0483)      2  \n",
       "4  8615.0   MIDTOW  36.0618  -86.7405  POINT (-86.7405 36.0618)      2  \n",
       "\n",
       "[5 rows x 26 columns]"
      ]
     },
     "execution_count": 22,
     "metadata": {},
     "output_type": "execute_result"
    }
   ],
   "source": [
    "accidents['month'] = accidents['Date and Time'].dt.month\n",
    "accidents.head()"
   ]
  },
  {
   "cell_type": "markdown",
   "metadata": {},
   "source": [
    "### Now, let's see if we can take advantage of the datetime format to answer some questions.\n",
    "\n",
    "#### Question 1: What is the maximum number of cars involved in a single accident in July?\n",
    "- First, subset the `accidents` DataFrame to get the July accidents\n",
    "- Then, find the maximum `Number of Motor Vehicles` for accidents that happened in July"
   ]
  },
  {
   "cell_type": "code",
   "execution_count": 1,
   "metadata": {},
   "outputs": [],
   "source": [
    "# Fill in the code here"
   ]
  },
  {
   "cell_type": "markdown",
   "metadata": {},
   "source": [
    "And if we want to get more information on this accident, we can use the `nlargest` method."
   ]
  },
  {
   "cell_type": "code",
   "execution_count": 32,
   "metadata": {},
   "outputs": [
    {
     "data": {
      "text/html": [
       "<div>\n",
       "<style scoped>\n",
       "    .dataframe tbody tr th:only-of-type {\n",
       "        vertical-align: middle;\n",
       "    }\n",
       "\n",
       "    .dataframe tbody tr th {\n",
       "        vertical-align: top;\n",
       "    }\n",
       "\n",
       "    .dataframe thead th {\n",
       "        text-align: right;\n",
       "    }\n",
       "</style>\n",
       "<table border=\"1\" class=\"dataframe\">\n",
       "  <thead>\n",
       "    <tr style=\"text-align: right;\">\n",
       "      <th></th>\n",
       "      <th>Accident Number</th>\n",
       "      <th>Date and Time</th>\n",
       "      <th>Number of Motor Vehicles</th>\n",
       "      <th>Number of Injuries</th>\n",
       "      <th>Number of Fatalities</th>\n",
       "      <th>Property Damage</th>\n",
       "      <th>Hit and Run</th>\n",
       "      <th>Reporting Officer</th>\n",
       "      <th>Collision Type Code</th>\n",
       "      <th>Collision Type Description</th>\n",
       "      <th>...</th>\n",
       "      <th>Street Address</th>\n",
       "      <th>City</th>\n",
       "      <th>State</th>\n",
       "      <th>ZIP</th>\n",
       "      <th>RPA</th>\n",
       "      <th>Precinct</th>\n",
       "      <th>Latitude</th>\n",
       "      <th>Longitude</th>\n",
       "      <th>Mapped Location</th>\n",
       "      <th>month</th>\n",
       "    </tr>\n",
       "  </thead>\n",
       "  <tbody>\n",
       "    <tr>\n",
       "      <th>1818</th>\n",
       "      <td>20190560008</td>\n",
       "      <td>2019-07-27 14:45:00</td>\n",
       "      <td>8</td>\n",
       "      <td>0</td>\n",
       "      <td>0</td>\n",
       "      <td>NaN</td>\n",
       "      <td>Y</td>\n",
       "      <td>299267.0</td>\n",
       "      <td>11.0</td>\n",
       "      <td>Front to Rear</td>\n",
       "      <td>...</td>\n",
       "      <td>MM 1 4 I 440</td>\n",
       "      <td>NASHVILLE</td>\n",
       "      <td>TN</td>\n",
       "      <td>37209.0</td>\n",
       "      <td>52320.0</td>\n",
       "      <td>WEST</td>\n",
       "      <td>36.1496</td>\n",
       "      <td>-86.8227</td>\n",
       "      <td>POINT (-86.8227 36.1496)</td>\n",
       "      <td>7</td>\n",
       "    </tr>\n",
       "  </tbody>\n",
       "</table>\n",
       "<p>1 rows × 26 columns</p>\n",
       "</div>"
      ],
      "text/plain": [
       "     Accident Number       Date and Time  Number of Motor Vehicles  \\\n",
       "1818     20190560008 2019-07-27 14:45:00                         8   \n",
       "\n",
       "      Number of Injuries  Number of Fatalities Property Damage Hit and Run  \\\n",
       "1818                   0                     0             NaN           Y   \n",
       "\n",
       "      Reporting Officer  Collision Type Code Collision Type Description  ...  \\\n",
       "1818           299267.0                 11.0              Front to Rear  ...   \n",
       "\n",
       "      Street Address       City  State      ZIP      RPA Precinct Latitude  \\\n",
       "1818    MM 1 4 I 440  NASHVILLE     TN  37209.0  52320.0     WEST  36.1496   \n",
       "\n",
       "     Longitude           Mapped Location  month  \n",
       "1818  -86.8227  POINT (-86.8227 36.1496)      7  \n",
       "\n",
       "[1 rows x 26 columns]"
      ]
     },
     "execution_count": 32,
     "metadata": {},
     "output_type": "execute_result"
    }
   ],
   "source": [
    "accidents[accidents['month']==7].nlargest(1, 'Number of Motor Vehicles')"
   ]
  },
  {
   "cell_type": "markdown",
   "metadata": {},
   "source": [
    "#### Question 2: How many total accidents happened in December?"
   ]
  },
  {
   "cell_type": "code",
   "execution_count": 2,
   "metadata": {},
   "outputs": [],
   "source": [
    "# Fill in the code here"
   ]
  },
  {
   "cell_type": "markdown",
   "metadata": {},
   "source": [
    "### There are [many different attributes associated with datetimes](https://towardsdatascience.com/working-with-datetime-in-pandas-dataframe-663f7af6c587)"
   ]
  },
  {
   "cell_type": "code",
   "execution_count": 33,
   "metadata": {},
   "outputs": [
    {
     "data": {
      "text/plain": [
       "0    19:40:00\n",
       "1    23:09:00\n",
       "2    12:57:00\n",
       "3    00:38:00\n",
       "4    13:25:00\n",
       "Name: Date and Time, dtype: object"
      ]
     },
     "execution_count": 33,
     "metadata": {},
     "output_type": "execute_result"
    }
   ],
   "source": [
    "accidents['Date and Time'].dt.time.head()"
   ]
  },
  {
   "cell_type": "code",
   "execution_count": 34,
   "metadata": {},
   "outputs": [
    {
     "data": {
      "text/plain": [
       "0    2019-01-15\n",
       "1    2019-01-17\n",
       "2    2019-01-20\n",
       "3    2019-02-02\n",
       "4    2019-02-03\n",
       "Name: Date and Time, dtype: object"
      ]
     },
     "execution_count": 34,
     "metadata": {},
     "output_type": "execute_result"
    }
   ],
   "source": [
    "accidents['Date and Time'].dt.date.head()"
   ]
  },
  {
   "cell_type": "code",
   "execution_count": 35,
   "metadata": {},
   "outputs": [
    {
     "data": {
      "text/plain": [
       "0     Tuesday\n",
       "1    Thursday\n",
       "2      Sunday\n",
       "3    Saturday\n",
       "4      Sunday\n",
       "Name: Date and Time, dtype: object"
      ]
     },
     "execution_count": 35,
     "metadata": {},
     "output_type": "execute_result"
    }
   ],
   "source": [
    "accidents['Date and Time'].dt.day_name().head()"
   ]
  },
  {
   "cell_type": "code",
   "execution_count": 36,
   "metadata": {},
   "outputs": [
    {
     "data": {
      "text/plain": [
       "0    False\n",
       "1    False\n",
       "2    False\n",
       "3    False\n",
       "4    False\n",
       "Name: Date and Time, dtype: bool"
      ]
     },
     "execution_count": 36,
     "metadata": {},
     "output_type": "execute_result"
    }
   ],
   "source": [
    "accidents['Date and Time'].dt.is_leap_year.head()"
   ]
  },
  {
   "cell_type": "markdown",
   "metadata": {},
   "source": [
    "### You can use comparison symbols on `datetime` objects as well"
   ]
  },
  {
   "cell_type": "code",
   "execution_count": 37,
   "metadata": {},
   "outputs": [
    {
     "data": {
      "text/plain": [
       "5558"
      ]
     },
     "execution_count": 37,
     "metadata": {},
     "output_type": "execute_result"
    }
   ],
   "source": [
    "# How many accidents happened before March 3\n",
    "(accidents['Date and Time'] < '03/03/2019').sum()\n",
    "\n",
    "# Note: You have to input the comparison value as a string,\n",
    "# but the format can vary and pandas will attempt to infer the format.\n",
    "# Try putting in different formats and rerunning this cell."
   ]
  },
  {
   "cell_type": "markdown",
   "metadata": {},
   "source": [
    "### You can also perform calculations on `datetime` objects\n",
    "\n",
    "The difference of datetime objects is a [Timedelta](https://pandas.pydata.org/docs/reference/api/pandas.Timedelta.html)."
   ]
  },
  {
   "cell_type": "code",
   "execution_count": 29,
   "metadata": {},
   "outputs": [
    {
     "data": {
      "text/plain": [
       "Timedelta('81 days 16:05:00')"
      ]
     },
     "execution_count": 29,
     "metadata": {},
     "output_type": "execute_result"
    }
   ],
   "source": [
    "# How long between the 1st and 101th accident?\n",
    "accidents = accidents.sort_values('Date and Time')\n",
    "accidents.loc[100, 'Date and Time'] - accidents.loc[0, 'Date and Time']\n",
    "\n",
    "# It appears as a Timedelta, or a change in time"
   ]
  }
 ],
 "metadata": {
  "kernelspec": {
   "display_name": "Python 3 (ipykernel)",
   "language": "python",
   "name": "python3"
  },
  "language_info": {
   "codemirror_mode": {
    "name": "ipython",
    "version": 3
   },
   "file_extension": ".py",
   "mimetype": "text/x-python",
   "name": "python",
   "nbconvert_exporter": "python",
   "pygments_lexer": "ipython3",
   "version": "3.8.3"
  }
 },
 "nbformat": 4,
 "nbformat_minor": 2
}
