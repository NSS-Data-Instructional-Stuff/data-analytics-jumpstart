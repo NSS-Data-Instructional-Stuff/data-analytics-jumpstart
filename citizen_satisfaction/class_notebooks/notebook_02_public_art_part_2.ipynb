{
 "cells": [
  {
   "cell_type": "code",
   "execution_count": null,
   "metadata": {},
   "outputs": [],
   "source": [
    "import pandas as pd\n",
    "import matplotlib.pyplot as plt\n",
    "import seaborn as sns"
   ]
  },
  {
   "cell_type": "markdown",
   "metadata": {},
   "source": [
    "### Import and Clean the Data\n",
    "\n",
    "First, we'll repeat the steps that we did in the last notebook to prepare the dataset."
   ]
  },
  {
   "cell_type": "code",
   "execution_count": null,
   "metadata": {},
   "outputs": [],
   "source": [
    "art = pd.read_csv('../data/public_art.csv')\n",
    "art = art.drop(columns = ['Mapped Location'])\n",
    "art = art.rename(columns = {\n",
    "    'Title': 'title', \n",
    "    'Last Name': 'last_name', \n",
    "    'First Name': 'first_name',\n",
    "    'Location': 'loc', \n",
    "    'Medium': 'medium',\n",
    "    'Type': 'art_type',\n",
    "    'Description': 'desc', \n",
    "    'Latitude': 'lat', \n",
    "    'Longitude': 'lng'})\n",
    "\n",
    "art.head(2)"
   ]
  },
  {
   "cell_type": "markdown",
   "metadata": {},
   "source": [
    "### More exploration with pandas\n",
    " - .value_counts()\n",
    " - .reset_index()\n",
    " - .describe()\n",
    " - .info()\n",
    " - .isna().sum()"
   ]
  },
  {
   "cell_type": "markdown",
   "metadata": {},
   "source": [
    "Recall that `value_counts( )` tallies the number of each value for a column; here we look at the art_type column."
   ]
  },
  {
   "cell_type": "code",
   "execution_count": null,
   "metadata": {},
   "outputs": [],
   "source": [
    "art['art_type'].value_counts()"
   ]
  },
  {
   "cell_type": "markdown",
   "metadata": {},
   "source": [
    "Let's save it into a variable and check what type of object it is."
   ]
  },
  {
   "cell_type": "code",
   "execution_count": null,
   "metadata": {},
   "outputs": [],
   "source": [
    "type_counts = art['art_type'].value_counts()\n",
    "type_counts.head()"
   ]
  },
  {
   "cell_type": "markdown",
   "metadata": {},
   "source": [
    "Let's check to see what `type_counts` is. Is it a DataFrame?"
   ]
  },
  {
   "cell_type": "code",
   "execution_count": null,
   "metadata": {},
   "outputs": [],
   "source": [
    "type(type_counts)"
   ]
  },
  {
   "cell_type": "markdown",
   "metadata": {},
   "source": [
    "If you look at the head, you'll notice that the art type is now the index value for this Series."
   ]
  },
  {
   "cell_type": "code",
   "execution_count": null,
   "metadata": {},
   "outputs": [],
   "source": [
    "type_counts.head(2)"
   ]
  },
  {
   "cell_type": "code",
   "execution_count": null,
   "metadata": {},
   "outputs": [],
   "source": [
    "type_counts.index"
   ]
  },
  {
   "cell_type": "markdown",
   "metadata": {},
   "source": [
    "You can move the index value to a column (converting the series to a DataFrame in the process) with the `reset_index()` method."
   ]
  },
  {
   "cell_type": "code",
   "execution_count": null,
   "metadata": {},
   "outputs": [],
   "source": [
    "#reset index resets to 0-based index and moves existing index to a column\n",
    "type_counts = type_counts.reset_index()\n",
    "type_counts"
   ]
  },
  {
   "cell_type": "markdown",
   "metadata": {},
   "source": [
    "Now check the type again and look at the head."
   ]
  },
  {
   "cell_type": "code",
   "execution_count": null,
   "metadata": {},
   "outputs": [],
   "source": [
    "type(type_counts)"
   ]
  },
  {
   "cell_type": "code",
   "execution_count": null,
   "metadata": {},
   "outputs": [],
   "source": [
    "type_counts.head(2)"
   ]
  },
  {
   "cell_type": "markdown",
   "metadata": {},
   "source": [
    "Now you can rename the columns."
   ]
  },
  {
   "cell_type": "code",
   "execution_count": null,
   "metadata": {},
   "outputs": [],
   "source": [
    "type_counts.columns = ['art_type', 'number']\n",
    "type_counts.head(3)"
   ]
  },
  {
   "cell_type": "markdown",
   "metadata": {},
   "source": [
    "The `.info( )` method gets lots more information about the dataset: \n",
    " - number of rows\n",
    " - types for each column\n",
    " - size in memory\n",
    " - missingness"
   ]
  },
  {
   "cell_type": "code",
   "execution_count": null,
   "metadata": {},
   "outputs": [],
   "source": [
    "art.info()"
   ]
  },
  {
   "cell_type": "markdown",
   "metadata": {},
   "source": [
    "If you want to explore the missing values, the `.isna()` method can be useful. It returns a _Boolean_ (True/False) value indicating whether a particular value is missing (NA)."
   ]
  },
  {
   "cell_type": "code",
   "execution_count": null,
   "metadata": {},
   "outputs": [],
   "source": [
    "art['first_name'].isna()"
   ]
  },
  {
   "cell_type": "markdown",
   "metadata": {},
   "source": [
    "For example, we can use this in combination with `.loc` to find rows there the first name is missing."
   ]
  },
  {
   "cell_type": "code",
   "execution_count": null,
   "metadata": {},
   "outputs": [],
   "source": [
    "art.loc[art['first_name'].isna()]"
   ]
  },
  {
   "cell_type": "markdown",
   "metadata": {},
   "source": [
    "You can also check the number of null values by chaining the `isna( )` and `sum( )` methods together.\n",
    "\n",
    "The reason this works is that Python will treat True as 1 and False as 0 when doing arithmetic on Booleans."
   ]
  },
  {
   "cell_type": "code",
   "execution_count": null,
   "metadata": {},
   "outputs": [],
   "source": [
    "art.isna().sum()"
   ]
  },
  {
   "cell_type": "markdown",
   "metadata": {},
   "source": [
    "For quantitative (numeric) variables, the `.describe( )` method gives statistical information:\n",
    "- count\n",
    "- mean\n",
    "- standard deviation\n",
    "- minimum\n",
    "- maximum\n",
    "- quartiles\n"
   ]
  },
  {
   "cell_type": "code",
   "execution_count": null,
   "metadata": {},
   "outputs": [],
   "source": [
    "type_counts['number'].describe()"
   ]
  },
  {
   "cell_type": "markdown",
   "metadata": {},
   "source": [
    "## Plotting Data\n",
    "\n",
    "Visualizing data can sometimes make it easier to derive insights. Let's revisit our `type_counts` DataFrame and see how we can create a plot out of it."
   ]
  },
  {
   "cell_type": "code",
   "execution_count": null,
   "metadata": {},
   "outputs": [],
   "source": [
    "type_counts.head()"
   ]
  },
  {
   "cell_type": "markdown",
   "metadata": {},
   "source": [
    "We can start by making a basic bar chart using the `.plot` method."
   ]
  },
  {
   "cell_type": "code",
   "execution_count": null,
   "metadata": {},
   "outputs": [],
   "source": [
    "type_counts.plot(kind = 'bar', \n",
    "                 x = 'art_type', \n",
    "                 y = 'number');"
   ]
  },
  {
   "cell_type": "markdown",
   "metadata": {},
   "source": [
    "The dimensions of the figure can be adjusted by using the `figsize` argument."
   ]
  },
  {
   "cell_type": "code",
   "execution_count": null,
   "metadata": {},
   "outputs": [],
   "source": [
    "type_counts.plot(kind = 'bar', \n",
    "                 x = 'art_type', \n",
    "                 y = 'number',\n",
    "                 figsize = (9,3));"
   ]
  },
  {
   "cell_type": "markdown",
   "metadata": {},
   "source": [
    "If you have a large number of categories or long category names, it sometimes makes sense to do a horizontal bar chart."
   ]
  },
  {
   "cell_type": "code",
   "execution_count": null,
   "metadata": {},
   "outputs": [],
   "source": [
    "type_counts.plot(kind = 'barh', \n",
    "                 x = 'art_type', \n",
    "                 y = 'number');"
   ]
  },
  {
   "cell_type": "markdown",
   "metadata": {},
   "source": [
    "If we want to plot the data with the largest values on top, we can use the `sort_values` method to sort our DataFrame before plotting."
   ]
  },
  {
   "cell_type": "code",
   "execution_count": null,
   "metadata": {},
   "outputs": [],
   "source": [
    "type_counts.sort_values('number').plot(kind = 'barh', \n",
    "                                       x = 'art_type', \n",
    "                                       y = 'number');"
   ]
  },
  {
   "cell_type": "markdown",
   "metadata": {},
   "source": [
    "### Fancier horizontal barplot with seaborn\n",
    "\n",
    "We can make a nicer looking plot using the _seaborn_ library. You can check out the seaborn plot gallery here: [https://seaborn.pydata.org/examples/index.html](https://seaborn.pydata.org/examples/index.html).\n",
    "\n",
    "\n",
    "If you're not sure what each line is doing in the following block, try removing a line by adding a # at the beginning of that line to comment it out. This will make Python ignore the line when evaluating the block."
   ]
  },
  {
   "cell_type": "code",
   "execution_count": null,
   "metadata": {},
   "outputs": [],
   "source": [
    "plt.figure(figsize = (10, 6))                               # Increase the plot size to 10 x 6\n",
    "sns.set(style=\"whitegrid\")                                  # Change the plot style\n",
    "sns.barplot(x = 'number', \n",
    "            y = 'art_type', \n",
    "            data = type_counts)\n",
    "plt.xlabel('')                                              # Remove the x-axis label\n",
    "plt.ylabel('')                                              # Remove the y-axis label\n",
    "plt.title('Types of Public Art in Nashville');"
   ]
  }
 ],
 "metadata": {
  "kernelspec": {
   "display_name": "Python 3 (ipykernel)",
   "language": "python",
   "name": "python3"
  },
  "language_info": {
   "codemirror_mode": {
    "name": "ipython",
    "version": 3
   },
   "file_extension": ".py",
   "mimetype": "text/x-python",
   "name": "python",
   "nbconvert_exporter": "python",
   "pygments_lexer": "ipython3",
   "version": "3.11.9"
  }
 },
 "nbformat": 4,
 "nbformat_minor": 4
}
