{
 "cells": [
  {
   "cell_type": "code",
   "execution_count": 1,
   "metadata": {},
   "outputs": [],
   "source": [
    "import pandas as pd\n",
    "import matplotlib.pyplot as plt\n",
    "import seaborn as sns\n",
    "\n",
    "%matplotlib inline"
   ]
  },
  {
   "cell_type": "markdown",
   "metadata": {},
   "source": [
    "### Read in the public art data and examine the head, tail, and shape"
   ]
  },
  {
   "cell_type": "code",
   "execution_count": 2,
   "metadata": {},
   "outputs": [
    {
     "data": {
      "text/html": [
       "<div>\n",
       "<style scoped>\n",
       "    .dataframe tbody tr th:only-of-type {\n",
       "        vertical-align: middle;\n",
       "    }\n",
       "\n",
       "    .dataframe tbody tr th {\n",
       "        vertical-align: top;\n",
       "    }\n",
       "\n",
       "    .dataframe thead th {\n",
       "        text-align: right;\n",
       "    }\n",
       "</style>\n",
       "<table border=\"1\" class=\"dataframe\">\n",
       "  <thead>\n",
       "    <tr style=\"text-align: right;\">\n",
       "      <th></th>\n",
       "      <th>Title</th>\n",
       "      <th>Last Name</th>\n",
       "      <th>First Name</th>\n",
       "      <th>Location</th>\n",
       "      <th>Medium</th>\n",
       "      <th>Type</th>\n",
       "      <th>Description</th>\n",
       "      <th>Latitude</th>\n",
       "      <th>Longitude</th>\n",
       "      <th>Mapped Location</th>\n",
       "    </tr>\n",
       "  </thead>\n",
       "  <tbody>\n",
       "    <tr>\n",
       "      <th>0</th>\n",
       "      <td>[Cross Country Runners]</td>\n",
       "      <td>Frost</td>\n",
       "      <td>Miley</td>\n",
       "      <td>4001 Harding Rd., Nashville TN</td>\n",
       "      <td>Bronze</td>\n",
       "      <td>Sculpture</td>\n",
       "      <td>NaN</td>\n",
       "      <td>36.12856</td>\n",
       "      <td>-86.83660</td>\n",
       "      <td>(36.12856, -86.8366)</td>\n",
       "    </tr>\n",
       "    <tr>\n",
       "      <th>1</th>\n",
       "      <td>[Fourth and Commerce Sculpture]</td>\n",
       "      <td>Walker</td>\n",
       "      <td>Lin</td>\n",
       "      <td>333 Commerce Street, Nashville TN</td>\n",
       "      <td>NaN</td>\n",
       "      <td>Sculpture</td>\n",
       "      <td>NaN</td>\n",
       "      <td>36.16234</td>\n",
       "      <td>-86.77774</td>\n",
       "      <td>(36.16234, -86.77774)</td>\n",
       "    </tr>\n",
       "  </tbody>\n",
       "</table>\n",
       "</div>"
      ],
      "text/plain": [
       "                             Title Last Name First Name  \\\n",
       "0          [Cross Country Runners]     Frost      Miley   \n",
       "1  [Fourth and Commerce Sculpture]    Walker        Lin   \n",
       "\n",
       "                            Location  Medium       Type Description  Latitude  \\\n",
       "0     4001 Harding Rd., Nashville TN  Bronze  Sculpture         NaN  36.12856   \n",
       "1  333 Commerce Street, Nashville TN     NaN  Sculpture         NaN  36.16234   \n",
       "\n",
       "   Longitude        Mapped Location  \n",
       "0  -86.83660   (36.12856, -86.8366)  \n",
       "1  -86.77774  (36.16234, -86.77774)  "
      ]
     },
     "execution_count": 2,
     "metadata": {},
     "output_type": "execute_result"
    }
   ],
   "source": [
    "art = pd.read_csv('../data/public_art.csv')\n",
    "art.head(2)"
   ]
  },
  {
   "cell_type": "code",
   "execution_count": 3,
   "metadata": {},
   "outputs": [
    {
     "data": {
      "text/html": [
       "<div>\n",
       "<style scoped>\n",
       "    .dataframe tbody tr th:only-of-type {\n",
       "        vertical-align: middle;\n",
       "    }\n",
       "\n",
       "    .dataframe tbody tr th {\n",
       "        vertical-align: top;\n",
       "    }\n",
       "\n",
       "    .dataframe thead th {\n",
       "        text-align: right;\n",
       "    }\n",
       "</style>\n",
       "<table border=\"1\" class=\"dataframe\">\n",
       "  <thead>\n",
       "    <tr style=\"text-align: right;\">\n",
       "      <th></th>\n",
       "      <th>Title</th>\n",
       "      <th>Last Name</th>\n",
       "      <th>First Name</th>\n",
       "      <th>Location</th>\n",
       "      <th>Medium</th>\n",
       "      <th>Type</th>\n",
       "      <th>Description</th>\n",
       "      <th>Latitude</th>\n",
       "      <th>Longitude</th>\n",
       "      <th>Mapped Location</th>\n",
       "    </tr>\n",
       "  </thead>\n",
       "  <tbody>\n",
       "    <tr>\n",
       "      <th>130</th>\n",
       "      <td>Women Suffrage Memorial</td>\n",
       "      <td>LeQuire</td>\n",
       "      <td>Alan</td>\n",
       "      <td>600 Charlotte Avenue, Nashville TN</td>\n",
       "      <td>Bronze sculpture</td>\n",
       "      <td>Sculpture</td>\n",
       "      <td>NaN</td>\n",
       "      <td>36.16527</td>\n",
       "      <td>-86.78382</td>\n",
       "      <td>(36.16527, -86.78382)</td>\n",
       "    </tr>\n",
       "    <tr>\n",
       "      <th>131</th>\n",
       "      <td>Youth Opportunity Center-STARS Nashville - Pea...</td>\n",
       "      <td>Rudloff</td>\n",
       "      <td>Andee</td>\n",
       "      <td>1704 Charlotte Ave.</td>\n",
       "      <td>House paint on vinyl</td>\n",
       "      <td>Mural</td>\n",
       "      <td>NaN</td>\n",
       "      <td>36.15896</td>\n",
       "      <td>-86.79900</td>\n",
       "      <td>(36.15896, -86.799)</td>\n",
       "    </tr>\n",
       "  </tbody>\n",
       "</table>\n",
       "</div>"
      ],
      "text/plain": [
       "                                                 Title Last Name First Name  \\\n",
       "130                            Women Suffrage Memorial   LeQuire       Alan   \n",
       "131  Youth Opportunity Center-STARS Nashville - Pea...   Rudloff      Andee   \n",
       "\n",
       "                               Location                Medium       Type  \\\n",
       "130  600 Charlotte Avenue, Nashville TN      Bronze sculpture  Sculpture   \n",
       "131                 1704 Charlotte Ave.  House paint on vinyl      Mural   \n",
       "\n",
       "    Description  Latitude  Longitude        Mapped Location  \n",
       "130         NaN  36.16527  -86.78382  (36.16527, -86.78382)  \n",
       "131         NaN  36.15896  -86.79900    (36.15896, -86.799)  "
      ]
     },
     "execution_count": 3,
     "metadata": {},
     "output_type": "execute_result"
    }
   ],
   "source": [
    "art.tail(2)"
   ]
  },
  {
   "cell_type": "code",
   "execution_count": 4,
   "metadata": {},
   "outputs": [
    {
     "data": {
      "text/plain": [
       "(132, 10)"
      ]
     },
     "execution_count": 4,
     "metadata": {},
     "output_type": "execute_result"
    }
   ],
   "source": [
    "art.shape"
   ]
  },
  {
   "cell_type": "markdown",
   "metadata": {},
   "source": [
    "### Let's explore these additional pandas methods, attributes, and accessors\n",
    "\n",
    " - .columns\n",
    " - .query()\n",
    " - .loc[]\n",
    " - .iloc[]\n",
    " - [[ ]]\n",
    " - .drop()\n",
    " - .rename()"
   ]
  },
  {
   "cell_type": "markdown",
   "metadata": {},
   "source": [
    "#### the `columns` attribute shows the column names for the DataFrame"
   ]
  },
  {
   "cell_type": "code",
   "execution_count": 5,
   "metadata": {
    "scrolled": true
   },
   "outputs": [
    {
     "data": {
      "text/plain": [
       "Index(['Title', 'Last Name', 'First Name', 'Location', 'Medium', 'Type',\n",
       "       'Description', 'Latitude', 'Longitude', 'Mapped Location'],\n",
       "      dtype='object')"
      ]
     },
     "execution_count": 5,
     "metadata": {},
     "output_type": "execute_result"
    }
   ],
   "source": [
    "art.columns"
   ]
  },
  {
   "cell_type": "markdown",
   "metadata": {},
   "source": [
    "#### The `iloc[ ]` accessor gets the specified rows and columns by their _index_ values"
   ]
  },
  {
   "cell_type": "code",
   "execution_count": 6,
   "metadata": {},
   "outputs": [],
   "source": [
    "#art.loc[art.Type == 'Sculpture']\n",
    "first_five = art.iloc[0:5, 1:3]"
   ]
  },
  {
   "cell_type": "code",
   "execution_count": 7,
   "metadata": {},
   "outputs": [
    {
     "data": {
      "text/html": [
       "<div>\n",
       "<style scoped>\n",
       "    .dataframe tbody tr th:only-of-type {\n",
       "        vertical-align: middle;\n",
       "    }\n",
       "\n",
       "    .dataframe tbody tr th {\n",
       "        vertical-align: top;\n",
       "    }\n",
       "\n",
       "    .dataframe thead th {\n",
       "        text-align: right;\n",
       "    }\n",
       "</style>\n",
       "<table border=\"1\" class=\"dataframe\">\n",
       "  <thead>\n",
       "    <tr style=\"text-align: right;\">\n",
       "      <th></th>\n",
       "      <th>Last Name</th>\n",
       "      <th>First Name</th>\n",
       "    </tr>\n",
       "  </thead>\n",
       "  <tbody>\n",
       "    <tr>\n",
       "      <th>0</th>\n",
       "      <td>Frost</td>\n",
       "      <td>Miley</td>\n",
       "    </tr>\n",
       "    <tr>\n",
       "      <th>1</th>\n",
       "      <td>Walker</td>\n",
       "      <td>Lin</td>\n",
       "    </tr>\n",
       "    <tr>\n",
       "      <th>2</th>\n",
       "      <td>Kennedy</td>\n",
       "      <td>Kim</td>\n",
       "    </tr>\n",
       "    <tr>\n",
       "      <th>3</th>\n",
       "      <td>Stevenson and Stanley and ROFF (Harroff)</td>\n",
       "      <td>Doug and Ronnica and Lynn</td>\n",
       "    </tr>\n",
       "    <tr>\n",
       "      <th>4</th>\n",
       "      <td>Ridley</td>\n",
       "      <td>Greg</td>\n",
       "    </tr>\n",
       "  </tbody>\n",
       "</table>\n",
       "</div>"
      ],
      "text/plain": [
       "                                  Last Name                 First Name\n",
       "0                                     Frost                      Miley\n",
       "1                                    Walker                        Lin\n",
       "2                                   Kennedy                        Kim\n",
       "3  Stevenson and Stanley and ROFF (Harroff)  Doug and Ronnica and Lynn\n",
       "4                                    Ridley                       Greg"
      ]
     },
     "execution_count": 7,
     "metadata": {},
     "output_type": "execute_result"
    }
   ],
   "source": [
    "first_five"
   ]
  },
  {
   "cell_type": "markdown",
   "metadata": {},
   "source": [
    "#### The `loc[ ]` accessor gets the specified rows and columns by their _names_"
   ]
  },
  {
   "cell_type": "code",
   "execution_count": 8,
   "metadata": {},
   "outputs": [
    {
     "data": {
      "text/plain": [
       "(38, 10)"
      ]
     },
     "execution_count": 8,
     "metadata": {},
     "output_type": "execute_result"
    }
   ],
   "source": [
    "murals = art.loc[art.Type == 'Mural']\n",
    "murals.shape"
   ]
  },
  {
   "cell_type": "code",
   "execution_count": 9,
   "metadata": {},
   "outputs": [
    {
     "data": {
      "text/html": [
       "<div>\n",
       "<style scoped>\n",
       "    .dataframe tbody tr th:only-of-type {\n",
       "        vertical-align: middle;\n",
       "    }\n",
       "\n",
       "    .dataframe tbody tr th {\n",
       "        vertical-align: top;\n",
       "    }\n",
       "\n",
       "    .dataframe thead th {\n",
       "        text-align: right;\n",
       "    }\n",
       "</style>\n",
       "<table border=\"1\" class=\"dataframe\">\n",
       "  <thead>\n",
       "    <tr style=\"text-align: right;\">\n",
       "      <th></th>\n",
       "      <th>Title</th>\n",
       "      <th>Last Name</th>\n",
       "      <th>First Name</th>\n",
       "      <th>Location</th>\n",
       "      <th>Medium</th>\n",
       "      <th>Type</th>\n",
       "      <th>Description</th>\n",
       "      <th>Latitude</th>\n",
       "      <th>Longitude</th>\n",
       "      <th>Mapped Location</th>\n",
       "    </tr>\n",
       "  </thead>\n",
       "  <tbody>\n",
       "    <tr>\n",
       "      <th>2</th>\n",
       "      <td>12th &amp; Porter Mural</td>\n",
       "      <td>Kennedy</td>\n",
       "      <td>Kim</td>\n",
       "      <td>114 12th Avenue N</td>\n",
       "      <td>Porter all-weather outdoor paint</td>\n",
       "      <td>Mural</td>\n",
       "      <td>Kim Kennedy is a musician and visual artist wh...</td>\n",
       "      <td>36.157900</td>\n",
       "      <td>-86.788170</td>\n",
       "      <td>(36.1579, -86.78817)</td>\n",
       "    </tr>\n",
       "    <tr>\n",
       "      <th>3</th>\n",
       "      <td>A Splash of Color</td>\n",
       "      <td>Stevenson and Stanley and ROFF (Harroff)</td>\n",
       "      <td>Doug and Ronnica and Lynn</td>\n",
       "      <td>616 17th Ave. N.</td>\n",
       "      <td>Steel, brick, wood, and fabric on frostproof c...</td>\n",
       "      <td>Mural</td>\n",
       "      <td>Painted wooden hoop dancer on a twenty foot po...</td>\n",
       "      <td>36.162020</td>\n",
       "      <td>-86.799750</td>\n",
       "      <td>(36.16202, -86.79975)</td>\n",
       "    </tr>\n",
       "    <tr>\n",
       "      <th>5</th>\n",
       "      <td>Aerial Innovations Mural</td>\n",
       "      <td>Rudloff</td>\n",
       "      <td>Andee</td>\n",
       "      <td>202 South 17th St.</td>\n",
       "      <td>House paint on wood</td>\n",
       "      <td>Mural</td>\n",
       "      <td>NaN</td>\n",
       "      <td>36.173540</td>\n",
       "      <td>-86.739940</td>\n",
       "      <td>(36.17354, -86.73994)</td>\n",
       "    </tr>\n",
       "    <tr>\n",
       "      <th>10</th>\n",
       "      <td>April Baby</td>\n",
       "      <td>Prestwod</td>\n",
       "      <td>Seth</td>\n",
       "      <td>3020 Charlotte Avenue</td>\n",
       "      <td>Acrylic Paint</td>\n",
       "      <td>Mural</td>\n",
       "      <td>portrait of artists little sister with links t...</td>\n",
       "      <td>36.153990</td>\n",
       "      <td>-86.819539</td>\n",
       "      <td>(36.15399, -86.819539)</td>\n",
       "    </tr>\n",
       "    <tr>\n",
       "      <th>16</th>\n",
       "      <td>Bicycle Bus-Green Fleet</td>\n",
       "      <td>Rudloff</td>\n",
       "      <td>Andee</td>\n",
       "      <td>1st Avenue (under John Seigenthaler Pedestrian...</td>\n",
       "      <td>Metallic paint on metal/found object</td>\n",
       "      <td>Mural</td>\n",
       "      <td>NaN</td>\n",
       "      <td>36.161310</td>\n",
       "      <td>-86.773360</td>\n",
       "      <td>(36.16131, -86.77336)</td>\n",
       "    </tr>\n",
       "    <tr>\n",
       "      <th>19</th>\n",
       "      <td>Building a Positive Community</td>\n",
       "      <td>Healing Arts Project, Inc.</td>\n",
       "      <td>Healing Arts Project</td>\n",
       "      <td>East Park Community Center</td>\n",
       "      <td>interior wall paint on board</td>\n",
       "      <td>Mural</td>\n",
       "      <td>The Healing Arts Project, Inc. sponsored the c...</td>\n",
       "      <td>36.172140</td>\n",
       "      <td>-86.762440</td>\n",
       "      <td>(36.17214, -86.76244)</td>\n",
       "    </tr>\n",
       "    <tr>\n",
       "      <th>26</th>\n",
       "      <td>Cool Fences</td>\n",
       "      <td>Guion</td>\n",
       "      <td>Scott</td>\n",
       "      <td>500 East Iris Dr., Nashville, TN</td>\n",
       "      <td>Latex house paint on wood fence</td>\n",
       "      <td>Mural</td>\n",
       "      <td>Portraits of iconic musicians on decorative ba...</td>\n",
       "      <td>36.115540</td>\n",
       "      <td>-86.763660</td>\n",
       "      <td>(36.11554, -86.76366)</td>\n",
       "    </tr>\n",
       "    <tr>\n",
       "      <th>28</th>\n",
       "      <td>Demonbreun Hill Mural</td>\n",
       "      <td>Deese</td>\n",
       "      <td>Bryan</td>\n",
       "      <td>1524 Demonbreun Street</td>\n",
       "      <td>Latex paint and spray paint</td>\n",
       "      <td>Mural</td>\n",
       "      <td>This piece celebrates Demonbreun Hills former ...</td>\n",
       "      <td>36.153000</td>\n",
       "      <td>-86.790492</td>\n",
       "      <td>(36.153, -86.790492)</td>\n",
       "    </tr>\n",
       "    <tr>\n",
       "      <th>29</th>\n",
       "      <td>Dragon Wall Mural</td>\n",
       "      <td>Randolf and Glick</td>\n",
       "      <td>Adam and David</td>\n",
       "      <td>21st Avenue and Belcourt Ave.</td>\n",
       "      <td>painting</td>\n",
       "      <td>Mural</td>\n",
       "      <td>NaN</td>\n",
       "      <td>36.137500</td>\n",
       "      <td>-86.801190</td>\n",
       "      <td>(36.1375, -86.80119)</td>\n",
       "    </tr>\n",
       "    <tr>\n",
       "      <th>30</th>\n",
       "      <td>Eastside Mural</td>\n",
       "      <td>Sterling Goller-Brown.  Ian Lawrence</td>\n",
       "      <td>NaN</td>\n",
       "      <td>1008 Forrest Ave</td>\n",
       "      <td>Spray Paint</td>\n",
       "      <td>Mural</td>\n",
       "      <td>NaN</td>\n",
       "      <td>36.178323</td>\n",
       "      <td>-86.750240</td>\n",
       "      <td>(36.178323, -86.75024)</td>\n",
       "    </tr>\n",
       "    <tr>\n",
       "      <th>39</th>\n",
       "      <td>Gone Fishing</td>\n",
       "      <td>Cooper</td>\n",
       "      <td>Michael</td>\n",
       "      <td>Church Street Park</td>\n",
       "      <td>Acrylic on Brick</td>\n",
       "      <td>Mural</td>\n",
       "      <td>Just having some fun with Trompe L'oeil balconies</td>\n",
       "      <td>36.162980</td>\n",
       "      <td>-86.781840</td>\n",
       "      <td>(36.16298, -86.78184)</td>\n",
       "    </tr>\n",
       "    <tr>\n",
       "      <th>40</th>\n",
       "      <td>Happy Times at The Arcade</td>\n",
       "      <td>Cooper</td>\n",
       "      <td>Michael</td>\n",
       "      <td>In the Alley between 4th and 5th off of Union</td>\n",
       "      <td>Silicate paint on brick and concrete block</td>\n",
       "      <td>Mural</td>\n",
       "      <td>Trompe L'oeil artwork celebrating The Arcade</td>\n",
       "      <td>36.164700</td>\n",
       "      <td>-86.780430</td>\n",
       "      <td>(36.1647, -86.78043)</td>\n",
       "    </tr>\n",
       "    <tr>\n",
       "      <th>42</th>\n",
       "      <td>Hillsboro Village Mural</td>\n",
       "      <td>Rudloff</td>\n",
       "      <td>Andee</td>\n",
       "      <td>1602 21st Ave. South</td>\n",
       "      <td>House paint on brick</td>\n",
       "      <td>Mural</td>\n",
       "      <td>NaN</td>\n",
       "      <td>36.138570</td>\n",
       "      <td>-86.797950</td>\n",
       "      <td>(36.13857, -86.79795)</td>\n",
       "    </tr>\n",
       "    <tr>\n",
       "      <th>44</th>\n",
       "      <td>I BELIEVE IN NASHVILLE 12 South</td>\n",
       "      <td>Saporiti</td>\n",
       "      <td>Adrien</td>\n",
       "      <td>2700 12th Avenue South.</td>\n",
       "      <td>Latex Paint</td>\n",
       "      <td>Mural</td>\n",
       "      <td>This is the original I BELIEVE IN NASHVILLE mu...</td>\n",
       "      <td>36.123065</td>\n",
       "      <td>-86.789827</td>\n",
       "      <td>(36.123065, -86.789827)</td>\n",
       "    </tr>\n",
       "    <tr>\n",
       "      <th>45</th>\n",
       "      <td>I BELIEVE IN NASHVILLE East Nashville</td>\n",
       "      <td>Saporiti</td>\n",
       "      <td>Adrien</td>\n",
       "      <td>1306 McGavock</td>\n",
       "      <td>Latex paint</td>\n",
       "      <td>Mural</td>\n",
       "      <td>I BELIEVE IN NASHVILLE was created as a unifyi...</td>\n",
       "      <td>36.204232</td>\n",
       "      <td>-86.724938</td>\n",
       "      <td>(36.204232, -86.724938)</td>\n",
       "    </tr>\n",
       "    <tr>\n",
       "      <th>46</th>\n",
       "      <td>I BELIEVE IN NASHVILLE North Nashville</td>\n",
       "      <td>Saporiti</td>\n",
       "      <td>Adrien</td>\n",
       "      <td>1402 Clinton St.</td>\n",
       "      <td>Latex Paint</td>\n",
       "      <td>Mural</td>\n",
       "      <td>I BELIEVE IN NASHVILLE was created as a unifyi...</td>\n",
       "      <td>36.164133</td>\n",
       "      <td>-86.797418</td>\n",
       "      <td>(36.164133, -86.797418)</td>\n",
       "    </tr>\n",
       "    <tr>\n",
       "      <th>47</th>\n",
       "      <td>In Concert</td>\n",
       "      <td>Purcell</td>\n",
       "      <td>Randy</td>\n",
       "      <td>2620 Lebanon Pike</td>\n",
       "      <td>Paint</td>\n",
       "      <td>Mural</td>\n",
       "      <td>Community Mural Project with over 175 particip...</td>\n",
       "      <td>36.169697</td>\n",
       "      <td>-86.671421</td>\n",
       "      <td>(36.169697, -86.671421)</td>\n",
       "    </tr>\n",
       "    <tr>\n",
       "      <th>54</th>\n",
       "      <td>Johnny Cash Mural</td>\n",
       "      <td>Bryan Deese, Audie Adams, Ryan Shrader</td>\n",
       "      <td>NaN</td>\n",
       "      <td>300 4th Avenue</td>\n",
       "      <td>Latex paint and spray paint</td>\n",
       "      <td>Mural</td>\n",
       "      <td>Classic street art by Thoughts Manifested crew...</td>\n",
       "      <td>36.158301</td>\n",
       "      <td>-86.774955</td>\n",
       "      <td>(36.158301, -86.774955)</td>\n",
       "    </tr>\n",
       "    <tr>\n",
       "      <th>56</th>\n",
       "      <td>Lane Motor Museum</td>\n",
       "      <td>Cooper</td>\n",
       "      <td>Michael</td>\n",
       "      <td>702 Murfreesboro Pike</td>\n",
       "      <td>Acrylic on Brick; acrylic on metal wall panels</td>\n",
       "      <td>Mural</td>\n",
       "      <td>Trompe l'oeil scene on garage wall; custom \"po...</td>\n",
       "      <td>36.140340</td>\n",
       "      <td>-86.734400</td>\n",
       "      <td>(36.14034, -86.7344)</td>\n",
       "    </tr>\n",
       "    <tr>\n",
       "      <th>57</th>\n",
       "      <td>Les Paul Guitar Mural</td>\n",
       "      <td>Hughes</td>\n",
       "      <td>Milree</td>\n",
       "      <td>100 Broadway, Nashville TN 37201</td>\n",
       "      <td>Painting</td>\n",
       "      <td>Mural</td>\n",
       "      <td>NaN</td>\n",
       "      <td>36.162400</td>\n",
       "      <td>-86.774910</td>\n",
       "      <td>(36.1624, -86.77491)</td>\n",
       "    </tr>\n",
       "    <tr>\n",
       "      <th>58</th>\n",
       "      <td>Phillips Toy Mart</td>\n",
       "      <td>Cooper</td>\n",
       "      <td>Michael</td>\n",
       "      <td>5207 Harding Pike</td>\n",
       "      <td>Acrylic on Drywall</td>\n",
       "      <td>Mural</td>\n",
       "      <td>Planes, trains and automobiles!</td>\n",
       "      <td>36.102550</td>\n",
       "      <td>-86.869700</td>\n",
       "      <td>(36.10255, -86.8697)</td>\n",
       "    </tr>\n",
       "    <tr>\n",
       "      <th>61</th>\n",
       "      <td>M&amp;M Furniture-Riverside Village</td>\n",
       "      <td>Rudloff</td>\n",
       "      <td>Andee</td>\n",
       "      <td>Riverside Drive and McGavock Pike</td>\n",
       "      <td>House paint on metal</td>\n",
       "      <td>Mural</td>\n",
       "      <td>NaN</td>\n",
       "      <td>36.204610</td>\n",
       "      <td>-86.724470</td>\n",
       "      <td>(36.20461, -86.72447)</td>\n",
       "    </tr>\n",
       "    <tr>\n",
       "      <th>63</th>\n",
       "      <td>Maybelle Carter</td>\n",
       "      <td>Brian Law / Jenna Colt</td>\n",
       "      <td>NaN</td>\n",
       "      <td>625 8th Ave S.</td>\n",
       "      <td>acrylic</td>\n",
       "      <td>Mural</td>\n",
       "      <td>NaN</td>\n",
       "      <td>36.150892</td>\n",
       "      <td>-86.779582</td>\n",
       "      <td>(36.150892, -86.779582)</td>\n",
       "    </tr>\n",
       "    <tr>\n",
       "      <th>64</th>\n",
       "      <td>Migration</td>\n",
       "      <td>Prado</td>\n",
       "      <td>Jairo</td>\n",
       "      <td>2195 Nolensville Pike</td>\n",
       "      <td>Porcelain tile</td>\n",
       "      <td>Mural</td>\n",
       "      <td>Migration was inspired by my personal experien...</td>\n",
       "      <td>36.126480</td>\n",
       "      <td>-86.753410</td>\n",
       "      <td>(36.12648, -86.75341)</td>\n",
       "    </tr>\n",
       "    <tr>\n",
       "      <th>66</th>\n",
       "      <td>Nashville, A History through Maps and Aerial V...</td>\n",
       "      <td>Haas</td>\n",
       "      <td>Richard</td>\n",
       "      <td>615 Church Street, Nashville TN</td>\n",
       "      <td>Oil on Canvas</td>\n",
       "      <td>Mural</td>\n",
       "      <td>Eight scenes showing the development of Nashvi...</td>\n",
       "      <td>36.162150</td>\n",
       "      <td>-86.782050</td>\n",
       "      <td>(36.16215, -86.78205)</td>\n",
       "    </tr>\n",
       "    <tr>\n",
       "      <th>69</th>\n",
       "      <td>Our Past, Your Future</td>\n",
       "      <td>Sterling Goller-Brown.  Ian Lawrence</td>\n",
       "      <td>NaN</td>\n",
       "      <td>1524 Gallatin Ave</td>\n",
       "      <td>Spray Paint</td>\n",
       "      <td>Mural</td>\n",
       "      <td>NaN</td>\n",
       "      <td>36.194354</td>\n",
       "      <td>-86.743985</td>\n",
       "      <td>(36.194354, -86.743985)</td>\n",
       "    </tr>\n",
       "    <tr>\n",
       "      <th>75</th>\n",
       "      <td>Piecing It All Together</td>\n",
       "      <td>Cooper</td>\n",
       "      <td>Michael</td>\n",
       "      <td>600 Church Street, Nashville TN</td>\n",
       "      <td>Painting on Stone</td>\n",
       "      <td>Mural</td>\n",
       "      <td>NaN</td>\n",
       "      <td>36.162810</td>\n",
       "      <td>-86.781860</td>\n",
       "      <td>(36.16281, -86.78186)</td>\n",
       "    </tr>\n",
       "    <tr>\n",
       "      <th>81</th>\n",
       "      <td>Rolling Hills</td>\n",
       "      <td>Ulibarri</td>\n",
       "      <td>Jerry</td>\n",
       "      <td>3700 James Kay Lane, Hermitage, TN</td>\n",
       "      <td>Acrylic on canvas</td>\n",
       "      <td>Mural</td>\n",
       "      <td>Landscapes typical to the Nashville area</td>\n",
       "      <td>36.177040</td>\n",
       "      <td>-86.615640</td>\n",
       "      <td>(36.17704, -86.61564)</td>\n",
       "    </tr>\n",
       "    <tr>\n",
       "      <th>84</th>\n",
       "      <td>Safe Haven Family Shelter Mural</td>\n",
       "      <td>Rudloff</td>\n",
       "      <td>Andee</td>\n",
       "      <td>1234 3rd Ave. South</td>\n",
       "      <td>latex block paint on concrete</td>\n",
       "      <td>Mural</td>\n",
       "      <td>NaN</td>\n",
       "      <td>36.143730</td>\n",
       "      <td>-86.764270</td>\n",
       "      <td>(36.14373, -86.76427)</td>\n",
       "    </tr>\n",
       "    <tr>\n",
       "      <th>97</th>\n",
       "      <td>Stay Tuned</td>\n",
       "      <td>Saporiti</td>\n",
       "      <td>Adrien</td>\n",
       "      <td>615 Main St</td>\n",
       "      <td>Latex Paint</td>\n",
       "      <td>Mural</td>\n",
       "      <td>Use #staytunednashville and share your photo!</td>\n",
       "      <td>36.174564</td>\n",
       "      <td>-86.761809</td>\n",
       "      <td>(36.174564, -86.761809)</td>\n",
       "    </tr>\n",
       "    <tr>\n",
       "      <th>111</th>\n",
       "      <td>The Waterfall Mural</td>\n",
       "      <td>Deese</td>\n",
       "      <td>Bryan</td>\n",
       "      <td>917 Woodland St.</td>\n",
       "      <td>Latex paint and spray paint</td>\n",
       "      <td>Mural</td>\n",
       "      <td>Mural painted celebrating the band My Morning ...</td>\n",
       "      <td>36.175636</td>\n",
       "      <td>-86.755652</td>\n",
       "      <td>(36.175636, -86.755652)</td>\n",
       "    </tr>\n",
       "    <tr>\n",
       "      <th>116</th>\n",
       "      <td>Tomatoes</td>\n",
       "      <td>Sterling Goller-Brown and Ian Lawrence, co-cre...</td>\n",
       "      <td>NaN</td>\n",
       "      <td>701 Porter Rd at Eastland Ave</td>\n",
       "      <td>paint on brick</td>\n",
       "      <td>Mural</td>\n",
       "      <td>Tomatoes</td>\n",
       "      <td>36.182437</td>\n",
       "      <td>-86.733449</td>\n",
       "      <td>(36.182437, -86.733449)</td>\n",
       "    </tr>\n",
       "    <tr>\n",
       "      <th>118</th>\n",
       "      <td>Two Musicians</td>\n",
       "      <td>Sterling Goller-Brown.  Ian Lawrence</td>\n",
       "      <td>NaN</td>\n",
       "      <td>1008 Forrest Ave</td>\n",
       "      <td>Spray Paint</td>\n",
       "      <td>Mural</td>\n",
       "      <td>NaN</td>\n",
       "      <td>36.178323</td>\n",
       "      <td>-86.750240</td>\n",
       "      <td>(36.178323, -86.75024)</td>\n",
       "    </tr>\n",
       "    <tr>\n",
       "      <th>123</th>\n",
       "      <td>Voices Gathering</td>\n",
       "      <td>Williams</td>\n",
       "      <td>Herb</td>\n",
       "      <td>827 Meridian Street</td>\n",
       "      <td>enamel spray paint</td>\n",
       "      <td>Mural</td>\n",
       "      <td>The mural is located on the side of the old Ro...</td>\n",
       "      <td>36.185960</td>\n",
       "      <td>-86.767800</td>\n",
       "      <td>(36.18596, -86.7678)</td>\n",
       "    </tr>\n",
       "    <tr>\n",
       "      <th>124</th>\n",
       "      <td>Volume</td>\n",
       "      <td>Saporiti</td>\n",
       "      <td>Adrien</td>\n",
       "      <td>1702 8th Avenue S.</td>\n",
       "      <td>Latex paint and spray paint</td>\n",
       "      <td>Mural</td>\n",
       "      <td>Giant stacks of stereo hi-fi speakers.</td>\n",
       "      <td>36.136849</td>\n",
       "      <td>-86.778404</td>\n",
       "      <td>(36.136849, -86.778404)</td>\n",
       "    </tr>\n",
       "    <tr>\n",
       "      <th>127</th>\n",
       "      <td>We Are Our Stories</td>\n",
       "      <td>Omari Booker &amp; The REAL Program at Oasis Center</td>\n",
       "      <td>NaN</td>\n",
       "      <td>1037 28th Avenue North</td>\n",
       "      <td>acrylic &amp; spray paint on plywood</td>\n",
       "      <td>Mural</td>\n",
       "      <td>\"We Are Our Stories\" is a public art project t...</td>\n",
       "      <td>36.165101</td>\n",
       "      <td>-86.822209</td>\n",
       "      <td>(36.165101, -86.822209)</td>\n",
       "    </tr>\n",
       "    <tr>\n",
       "      <th>128</th>\n",
       "      <td>Welcome to Flatrock</td>\n",
       "      <td>Cooper</td>\n",
       "      <td>Michael</td>\n",
       "      <td>3756 Nolensville Rd</td>\n",
       "      <td>Silicate paint on concrete</td>\n",
       "      <td>Mural</td>\n",
       "      <td>Trompe L'oeil animals and architectural stonew...</td>\n",
       "      <td>36.090820</td>\n",
       "      <td>-86.734450</td>\n",
       "      <td>(36.09082, -86.73445)</td>\n",
       "    </tr>\n",
       "    <tr>\n",
       "      <th>131</th>\n",
       "      <td>Youth Opportunity Center-STARS Nashville - Pea...</td>\n",
       "      <td>Rudloff</td>\n",
       "      <td>Andee</td>\n",
       "      <td>1704 Charlotte Ave.</td>\n",
       "      <td>House paint on vinyl</td>\n",
       "      <td>Mural</td>\n",
       "      <td>NaN</td>\n",
       "      <td>36.158960</td>\n",
       "      <td>-86.799000</td>\n",
       "      <td>(36.15896, -86.799)</td>\n",
       "    </tr>\n",
       "  </tbody>\n",
       "</table>\n",
       "</div>"
      ],
      "text/plain": [
       "                                                 Title  \\\n",
       "2                                  12th & Porter Mural   \n",
       "3                                    A Splash of Color   \n",
       "5                             Aerial Innovations Mural   \n",
       "10                                          April Baby   \n",
       "16                             Bicycle Bus-Green Fleet   \n",
       "19                       Building a Positive Community   \n",
       "26                                         Cool Fences   \n",
       "28                               Demonbreun Hill Mural   \n",
       "29                                   Dragon Wall Mural   \n",
       "30                                      Eastside Mural   \n",
       "39                                        Gone Fishing   \n",
       "40                           Happy Times at The Arcade   \n",
       "42                             Hillsboro Village Mural   \n",
       "44                     I BELIEVE IN NASHVILLE 12 South   \n",
       "45               I BELIEVE IN NASHVILLE East Nashville   \n",
       "46              I BELIEVE IN NASHVILLE North Nashville   \n",
       "47                                          In Concert   \n",
       "54                                   Johnny Cash Mural   \n",
       "56                                   Lane Motor Museum   \n",
       "57                               Les Paul Guitar Mural   \n",
       "58                                   Phillips Toy Mart   \n",
       "61                     M&M Furniture-Riverside Village   \n",
       "63                                     Maybelle Carter   \n",
       "64                                           Migration   \n",
       "66   Nashville, A History through Maps and Aerial V...   \n",
       "69                               Our Past, Your Future   \n",
       "75                             Piecing It All Together   \n",
       "81                                       Rolling Hills   \n",
       "84                     Safe Haven Family Shelter Mural   \n",
       "97                                          Stay Tuned   \n",
       "111                                The Waterfall Mural   \n",
       "116                                           Tomatoes   \n",
       "118                                      Two Musicians   \n",
       "123                                   Voices Gathering   \n",
       "124                                             Volume   \n",
       "127                                 We Are Our Stories   \n",
       "128                                Welcome to Flatrock   \n",
       "131  Youth Opportunity Center-STARS Nashville - Pea...   \n",
       "\n",
       "                                             Last Name  \\\n",
       "2                                              Kennedy   \n",
       "3             Stevenson and Stanley and ROFF (Harroff)   \n",
       "5                                              Rudloff   \n",
       "10                                            Prestwod   \n",
       "16                                             Rudloff   \n",
       "19                          Healing Arts Project, Inc.   \n",
       "26                                               Guion   \n",
       "28                                               Deese   \n",
       "29                                   Randolf and Glick   \n",
       "30                Sterling Goller-Brown.  Ian Lawrence   \n",
       "39                                              Cooper   \n",
       "40                                              Cooper   \n",
       "42                                             Rudloff   \n",
       "44                                            Saporiti   \n",
       "45                                            Saporiti   \n",
       "46                                            Saporiti   \n",
       "47                                             Purcell   \n",
       "54              Bryan Deese, Audie Adams, Ryan Shrader   \n",
       "56                                              Cooper   \n",
       "57                                              Hughes   \n",
       "58                                              Cooper   \n",
       "61                                             Rudloff   \n",
       "63                              Brian Law / Jenna Colt   \n",
       "64                                               Prado   \n",
       "66                                                Haas   \n",
       "69                Sterling Goller-Brown.  Ian Lawrence   \n",
       "75                                              Cooper   \n",
       "81                                            Ulibarri   \n",
       "84                                             Rudloff   \n",
       "97                                            Saporiti   \n",
       "111                                              Deese   \n",
       "116  Sterling Goller-Brown and Ian Lawrence, co-cre...   \n",
       "118               Sterling Goller-Brown.  Ian Lawrence   \n",
       "123                                           Williams   \n",
       "124                                           Saporiti   \n",
       "127    Omari Booker & The REAL Program at Oasis Center   \n",
       "128                                             Cooper   \n",
       "131                                            Rudloff   \n",
       "\n",
       "                    First Name  \\\n",
       "2                          Kim   \n",
       "3    Doug and Ronnica and Lynn   \n",
       "5                        Andee   \n",
       "10                        Seth   \n",
       "16                       Andee   \n",
       "19        Healing Arts Project   \n",
       "26                       Scott   \n",
       "28                       Bryan   \n",
       "29              Adam and David   \n",
       "30                         NaN   \n",
       "39                     Michael   \n",
       "40                     Michael   \n",
       "42                       Andee   \n",
       "44                      Adrien   \n",
       "45                      Adrien   \n",
       "46                      Adrien   \n",
       "47                       Randy   \n",
       "54                         NaN   \n",
       "56                     Michael   \n",
       "57                      Milree   \n",
       "58                     Michael   \n",
       "61                       Andee   \n",
       "63                         NaN   \n",
       "64                       Jairo   \n",
       "66                     Richard   \n",
       "69                         NaN   \n",
       "75                     Michael   \n",
       "81                       Jerry   \n",
       "84                       Andee   \n",
       "97                      Adrien   \n",
       "111                      Bryan   \n",
       "116                        NaN   \n",
       "118                        NaN   \n",
       "123                       Herb   \n",
       "124                     Adrien   \n",
       "127                        NaN   \n",
       "128                    Michael   \n",
       "131                      Andee   \n",
       "\n",
       "                                              Location  \\\n",
       "2                                    114 12th Avenue N   \n",
       "3                                     616 17th Ave. N.   \n",
       "5                                   202 South 17th St.   \n",
       "10                               3020 Charlotte Avenue   \n",
       "16   1st Avenue (under John Seigenthaler Pedestrian...   \n",
       "19                          East Park Community Center   \n",
       "26                    500 East Iris Dr., Nashville, TN   \n",
       "28                              1524 Demonbreun Street   \n",
       "29                       21st Avenue and Belcourt Ave.   \n",
       "30                                    1008 Forrest Ave   \n",
       "39                                  Church Street Park   \n",
       "40       In the Alley between 4th and 5th off of Union   \n",
       "42                                1602 21st Ave. South   \n",
       "44                             2700 12th Avenue South.   \n",
       "45                                       1306 McGavock   \n",
       "46                                    1402 Clinton St.   \n",
       "47                                   2620 Lebanon Pike   \n",
       "54                                      300 4th Avenue   \n",
       "56                               702 Murfreesboro Pike   \n",
       "57                    100 Broadway, Nashville TN 37201   \n",
       "58                                   5207 Harding Pike   \n",
       "61                   Riverside Drive and McGavock Pike   \n",
       "63                                      625 8th Ave S.   \n",
       "64                               2195 Nolensville Pike   \n",
       "66                     615 Church Street, Nashville TN   \n",
       "69                                   1524 Gallatin Ave   \n",
       "75                     600 Church Street, Nashville TN   \n",
       "81                  3700 James Kay Lane, Hermitage, TN   \n",
       "84                                 1234 3rd Ave. South   \n",
       "97                                         615 Main St   \n",
       "111                                   917 Woodland St.   \n",
       "116                      701 Porter Rd at Eastland Ave   \n",
       "118                                   1008 Forrest Ave   \n",
       "123                                827 Meridian Street   \n",
       "124                                 1702 8th Avenue S.   \n",
       "127                             1037 28th Avenue North   \n",
       "128                                3756 Nolensville Rd   \n",
       "131                                1704 Charlotte Ave.   \n",
       "\n",
       "                                                Medium   Type  \\\n",
       "2                     Porter all-weather outdoor paint  Mural   \n",
       "3    Steel, brick, wood, and fabric on frostproof c...  Mural   \n",
       "5                                  House paint on wood  Mural   \n",
       "10                                       Acrylic Paint  Mural   \n",
       "16                Metallic paint on metal/found object  Mural   \n",
       "19                        interior wall paint on board  Mural   \n",
       "26                     Latex house paint on wood fence  Mural   \n",
       "28                         Latex paint and spray paint  Mural   \n",
       "29                                            painting  Mural   \n",
       "30                                         Spray Paint  Mural   \n",
       "39                                    Acrylic on Brick  Mural   \n",
       "40          Silicate paint on brick and concrete block  Mural   \n",
       "42                                House paint on brick  Mural   \n",
       "44                                         Latex Paint  Mural   \n",
       "45                                         Latex paint  Mural   \n",
       "46                                         Latex Paint  Mural   \n",
       "47                                               Paint  Mural   \n",
       "54                         Latex paint and spray paint  Mural   \n",
       "56      Acrylic on Brick; acrylic on metal wall panels  Mural   \n",
       "57                                            Painting  Mural   \n",
       "58                                  Acrylic on Drywall  Mural   \n",
       "61                                House paint on metal  Mural   \n",
       "63                                             acrylic  Mural   \n",
       "64                                      Porcelain tile  Mural   \n",
       "66                                       Oil on Canvas  Mural   \n",
       "69                                         Spray Paint  Mural   \n",
       "75                                   Painting on Stone  Mural   \n",
       "81                                   Acrylic on canvas  Mural   \n",
       "84                       latex block paint on concrete  Mural   \n",
       "97                                         Latex Paint  Mural   \n",
       "111                        Latex paint and spray paint  Mural   \n",
       "116                                     paint on brick  Mural   \n",
       "118                                        Spray Paint  Mural   \n",
       "123                                 enamel spray paint  Mural   \n",
       "124                        Latex paint and spray paint  Mural   \n",
       "127                   acrylic & spray paint on plywood  Mural   \n",
       "128                         Silicate paint on concrete  Mural   \n",
       "131                               House paint on vinyl  Mural   \n",
       "\n",
       "                                           Description   Latitude  Longitude  \\\n",
       "2    Kim Kennedy is a musician and visual artist wh...  36.157900 -86.788170   \n",
       "3    Painted wooden hoop dancer on a twenty foot po...  36.162020 -86.799750   \n",
       "5                                                  NaN  36.173540 -86.739940   \n",
       "10   portrait of artists little sister with links t...  36.153990 -86.819539   \n",
       "16                                                 NaN  36.161310 -86.773360   \n",
       "19   The Healing Arts Project, Inc. sponsored the c...  36.172140 -86.762440   \n",
       "26   Portraits of iconic musicians on decorative ba...  36.115540 -86.763660   \n",
       "28   This piece celebrates Demonbreun Hills former ...  36.153000 -86.790492   \n",
       "29                                                 NaN  36.137500 -86.801190   \n",
       "30                                                 NaN  36.178323 -86.750240   \n",
       "39   Just having some fun with Trompe L'oeil balconies  36.162980 -86.781840   \n",
       "40        Trompe L'oeil artwork celebrating The Arcade  36.164700 -86.780430   \n",
       "42                                                 NaN  36.138570 -86.797950   \n",
       "44   This is the original I BELIEVE IN NASHVILLE mu...  36.123065 -86.789827   \n",
       "45   I BELIEVE IN NASHVILLE was created as a unifyi...  36.204232 -86.724938   \n",
       "46   I BELIEVE IN NASHVILLE was created as a unifyi...  36.164133 -86.797418   \n",
       "47   Community Mural Project with over 175 particip...  36.169697 -86.671421   \n",
       "54   Classic street art by Thoughts Manifested crew...  36.158301 -86.774955   \n",
       "56   Trompe l'oeil scene on garage wall; custom \"po...  36.140340 -86.734400   \n",
       "57                                                 NaN  36.162400 -86.774910   \n",
       "58                     Planes, trains and automobiles!  36.102550 -86.869700   \n",
       "61                                                 NaN  36.204610 -86.724470   \n",
       "63                                                 NaN  36.150892 -86.779582   \n",
       "64   Migration was inspired by my personal experien...  36.126480 -86.753410   \n",
       "66   Eight scenes showing the development of Nashvi...  36.162150 -86.782050   \n",
       "69                                                 NaN  36.194354 -86.743985   \n",
       "75                                                 NaN  36.162810 -86.781860   \n",
       "81            Landscapes typical to the Nashville area  36.177040 -86.615640   \n",
       "84                                                 NaN  36.143730 -86.764270   \n",
       "97       Use #staytunednashville and share your photo!  36.174564 -86.761809   \n",
       "111  Mural painted celebrating the band My Morning ...  36.175636 -86.755652   \n",
       "116                                           Tomatoes  36.182437 -86.733449   \n",
       "118                                                NaN  36.178323 -86.750240   \n",
       "123  The mural is located on the side of the old Ro...  36.185960 -86.767800   \n",
       "124             Giant stacks of stereo hi-fi speakers.  36.136849 -86.778404   \n",
       "127  \"We Are Our Stories\" is a public art project t...  36.165101 -86.822209   \n",
       "128  Trompe L'oeil animals and architectural stonew...  36.090820 -86.734450   \n",
       "131                                                NaN  36.158960 -86.799000   \n",
       "\n",
       "             Mapped Location  \n",
       "2       (36.1579, -86.78817)  \n",
       "3      (36.16202, -86.79975)  \n",
       "5      (36.17354, -86.73994)  \n",
       "10    (36.15399, -86.819539)  \n",
       "16     (36.16131, -86.77336)  \n",
       "19     (36.17214, -86.76244)  \n",
       "26     (36.11554, -86.76366)  \n",
       "28      (36.153, -86.790492)  \n",
       "29      (36.1375, -86.80119)  \n",
       "30    (36.178323, -86.75024)  \n",
       "39     (36.16298, -86.78184)  \n",
       "40      (36.1647, -86.78043)  \n",
       "42     (36.13857, -86.79795)  \n",
       "44   (36.123065, -86.789827)  \n",
       "45   (36.204232, -86.724938)  \n",
       "46   (36.164133, -86.797418)  \n",
       "47   (36.169697, -86.671421)  \n",
       "54   (36.158301, -86.774955)  \n",
       "56      (36.14034, -86.7344)  \n",
       "57      (36.1624, -86.77491)  \n",
       "58      (36.10255, -86.8697)  \n",
       "61     (36.20461, -86.72447)  \n",
       "63   (36.150892, -86.779582)  \n",
       "64     (36.12648, -86.75341)  \n",
       "66     (36.16215, -86.78205)  \n",
       "69   (36.194354, -86.743985)  \n",
       "75     (36.16281, -86.78186)  \n",
       "81     (36.17704, -86.61564)  \n",
       "84     (36.14373, -86.76427)  \n",
       "97   (36.174564, -86.761809)  \n",
       "111  (36.175636, -86.755652)  \n",
       "116  (36.182437, -86.733449)  \n",
       "118   (36.178323, -86.75024)  \n",
       "123     (36.18596, -86.7678)  \n",
       "124  (36.136849, -86.778404)  \n",
       "127  (36.165101, -86.822209)  \n",
       "128    (36.09082, -86.73445)  \n",
       "131      (36.15896, -86.799)  "
      ]
     },
     "execution_count": 9,
     "metadata": {},
     "output_type": "execute_result"
    }
   ],
   "source": [
    "murals"
   ]
  },
  {
   "cell_type": "markdown",
   "metadata": {},
   "source": [
    "#### The `.query( )` method uses an expression to subset the DataFrame"
   ]
  },
  {
   "cell_type": "code",
   "execution_count": 10,
   "metadata": {},
   "outputs": [
    {
     "data": {
      "text/plain": [
       "(61, 10)"
      ]
     },
     "execution_count": 10,
     "metadata": {},
     "output_type": "execute_result"
    }
   ],
   "source": [
    "sculptures = art.query('Type == \"Sculpture\"')\n",
    "sculptures.shape"
   ]
  },
  {
   "cell_type": "markdown",
   "metadata": {},
   "source": [
    "#### Use `@` before the variable name to reference an external object in the query expression"
   ]
  },
  {
   "cell_type": "code",
   "execution_count": 11,
   "metadata": {},
   "outputs": [
    {
     "data": {
      "text/plain": [
       "(99, 10)"
      ]
     },
     "execution_count": 11,
     "metadata": {},
     "output_type": "execute_result"
    }
   ],
   "source": [
    "my_list = ['Sculpture', 'Mural']\n",
    "\n",
    "sculptures_and_murals = art.query(\"Type in @my_list\")\n",
    "sculptures_and_murals.shape"
   ]
  },
  {
   "cell_type": "code",
   "execution_count": 12,
   "metadata": {},
   "outputs": [
    {
     "data": {
      "text/html": [
       "<div>\n",
       "<style scoped>\n",
       "    .dataframe tbody tr th:only-of-type {\n",
       "        vertical-align: middle;\n",
       "    }\n",
       "\n",
       "    .dataframe tbody tr th {\n",
       "        vertical-align: top;\n",
       "    }\n",
       "\n",
       "    .dataframe thead th {\n",
       "        text-align: right;\n",
       "    }\n",
       "</style>\n",
       "<table border=\"1\" class=\"dataframe\">\n",
       "  <thead>\n",
       "    <tr style=\"text-align: right;\">\n",
       "      <th></th>\n",
       "      <th>Last Name</th>\n",
       "      <th>First Name</th>\n",
       "    </tr>\n",
       "  </thead>\n",
       "  <tbody>\n",
       "    <tr>\n",
       "      <th>0</th>\n",
       "      <td>Frost</td>\n",
       "      <td>Miley</td>\n",
       "    </tr>\n",
       "    <tr>\n",
       "      <th>1</th>\n",
       "      <td>Walker</td>\n",
       "      <td>Lin</td>\n",
       "    </tr>\n",
       "  </tbody>\n",
       "</table>\n",
       "</div>"
      ],
      "text/plain": [
       "  Last Name First Name\n",
       "0     Frost      Miley\n",
       "1    Walker        Lin"
      ]
     },
     "execution_count": 12,
     "metadata": {},
     "output_type": "execute_result"
    }
   ],
   "source": [
    "artists = art[['Last Name', 'First Name']]\n",
    "artists.head(2)"
   ]
  },
  {
   "cell_type": "markdown",
   "metadata": {},
   "source": [
    "#### Drop columns from a DataFrame with the `.drop( )` method; be sure to specify `columns = ` and pass a list of columns to the method"
   ]
  },
  {
   "cell_type": "code",
   "execution_count": 13,
   "metadata": {},
   "outputs": [],
   "source": [
    "art = art.drop(columns = ['Mapped Location'])"
   ]
  },
  {
   "cell_type": "code",
   "execution_count": 14,
   "metadata": {},
   "outputs": [
    {
     "data": {
      "text/plain": [
       "Index(['Title', 'Last Name', 'First Name', 'Location', 'Medium', 'Type',\n",
       "       'Description', 'Latitude', 'Longitude'],\n",
       "      dtype='object')"
      ]
     },
     "execution_count": 14,
     "metadata": {},
     "output_type": "execute_result"
    }
   ],
   "source": [
    "art.columns"
   ]
  },
  {
   "cell_type": "code",
   "execution_count": 15,
   "metadata": {},
   "outputs": [],
   "source": [
    "art = art.rename(columns = {'Title': 'title', 'Last Name': 'last_name', \n",
    "                            'First Name': 'first_name','Location': 'loc', \n",
    "                            'Medium': 'medium', 'Description': 'desc'})"
   ]
  },
  {
   "cell_type": "code",
   "execution_count": 16,
   "metadata": {},
   "outputs": [
    {
     "data": {
      "text/plain": [
       "Index(['title', 'last_name', 'first_name', 'loc', 'medium', 'Type', 'desc',\n",
       "       'Latitude', 'Longitude'],\n",
       "      dtype='object')"
      ]
     },
     "execution_count": 16,
     "metadata": {},
     "output_type": "execute_result"
    }
   ],
   "source": [
    "art.columns"
   ]
  },
  {
   "cell_type": "markdown",
   "metadata": {},
   "source": [
    "#### If the column list is short and you are feeling lazy, you can assign new column names (as a list _with every column in the right order_ ) to the columns attribute"
   ]
  },
  {
   "cell_type": "code",
   "execution_count": 17,
   "metadata": {},
   "outputs": [],
   "source": [
    "art.columns = ['title', 'last', 'first', 'loc', 'med',\n",
    "              'type', 'desc', 'lat', 'lng']"
   ]
  },
  {
   "cell_type": "code",
   "execution_count": 18,
   "metadata": {},
   "outputs": [
    {
     "data": {
      "text/plain": [
       "Index(['title', 'last', 'first', 'loc', 'med', 'type', 'desc', 'lat', 'lng'], dtype='object')"
      ]
     },
     "execution_count": 18,
     "metadata": {},
     "output_type": "execute_result"
    }
   ],
   "source": [
    "art.columns"
   ]
  },
  {
   "cell_type": "markdown",
   "metadata": {},
   "source": [
    "### More exploration with pandas\n",
    " - .value_counts()\n",
    " - .to_frame()\n",
    " - .reset_index()\n",
    " - .describe()\n",
    " - .info()\n",
    " - .isnull().sum()"
   ]
  },
  {
   "cell_type": "markdown",
   "metadata": {},
   "source": [
    "#### Let's remind ourselves of the data "
   ]
  },
  {
   "cell_type": "code",
   "execution_count": 19,
   "metadata": {
    "scrolled": true
   },
   "outputs": [
    {
     "data": {
      "text/html": [
       "<div>\n",
       "<style scoped>\n",
       "    .dataframe tbody tr th:only-of-type {\n",
       "        vertical-align: middle;\n",
       "    }\n",
       "\n",
       "    .dataframe tbody tr th {\n",
       "        vertical-align: top;\n",
       "    }\n",
       "\n",
       "    .dataframe thead th {\n",
       "        text-align: right;\n",
       "    }\n",
       "</style>\n",
       "<table border=\"1\" class=\"dataframe\">\n",
       "  <thead>\n",
       "    <tr style=\"text-align: right;\">\n",
       "      <th></th>\n",
       "      <th>title</th>\n",
       "      <th>last</th>\n",
       "      <th>first</th>\n",
       "      <th>loc</th>\n",
       "      <th>med</th>\n",
       "      <th>type</th>\n",
       "      <th>desc</th>\n",
       "      <th>lat</th>\n",
       "      <th>lng</th>\n",
       "    </tr>\n",
       "  </thead>\n",
       "  <tbody>\n",
       "    <tr>\n",
       "      <th>0</th>\n",
       "      <td>[Cross Country Runners]</td>\n",
       "      <td>Frost</td>\n",
       "      <td>Miley</td>\n",
       "      <td>4001 Harding Rd., Nashville TN</td>\n",
       "      <td>Bronze</td>\n",
       "      <td>Sculpture</td>\n",
       "      <td>NaN</td>\n",
       "      <td>36.12856</td>\n",
       "      <td>-86.83660</td>\n",
       "    </tr>\n",
       "    <tr>\n",
       "      <th>1</th>\n",
       "      <td>[Fourth and Commerce Sculpture]</td>\n",
       "      <td>Walker</td>\n",
       "      <td>Lin</td>\n",
       "      <td>333 Commerce Street, Nashville TN</td>\n",
       "      <td>NaN</td>\n",
       "      <td>Sculpture</td>\n",
       "      <td>NaN</td>\n",
       "      <td>36.16234</td>\n",
       "      <td>-86.77774</td>\n",
       "    </tr>\n",
       "  </tbody>\n",
       "</table>\n",
       "</div>"
      ],
      "text/plain": [
       "                             title    last  first  \\\n",
       "0          [Cross Country Runners]   Frost  Miley   \n",
       "1  [Fourth and Commerce Sculpture]  Walker    Lin   \n",
       "\n",
       "                                 loc     med       type desc       lat  \\\n",
       "0     4001 Harding Rd., Nashville TN  Bronze  Sculpture  NaN  36.12856   \n",
       "1  333 Commerce Street, Nashville TN     NaN  Sculpture  NaN  36.16234   \n",
       "\n",
       "        lng  \n",
       "0 -86.83660  \n",
       "1 -86.77774  "
      ]
     },
     "execution_count": 19,
     "metadata": {},
     "output_type": "execute_result"
    }
   ],
   "source": [
    "art.head(2)"
   ]
  },
  {
   "cell_type": "markdown",
   "metadata": {},
   "source": [
    "#### `value_counts( )` tallies the number of each value for a column; here we look at the art type column"
   ]
  },
  {
   "cell_type": "code",
   "execution_count": 20,
   "metadata": {},
   "outputs": [
    {
     "data": {
      "text/plain": [
       "Sculpture             61\n",
       "Mural                 38\n",
       "Monument              16\n",
       "Mosaic                 2\n",
       "Mobile                 2\n",
       "Frieze                 2\n",
       "Various                2\n",
       "Multipart              1\n",
       "Furniture              1\n",
       "Bronzes                1\n",
       "Stained Glass          1\n",
       "Street Art             1\n",
       "Sculpture/Fountain     1\n",
       "Relief                 1\n",
       "Fountain               1\n",
       "mural                  1\n",
       "Name: type, dtype: int64"
      ]
     },
     "execution_count": 20,
     "metadata": {},
     "output_type": "execute_result"
    }
   ],
   "source": [
    "art.type.value_counts()"
   ]
  },
  {
   "cell_type": "markdown",
   "metadata": {},
   "source": [
    "#### Let's save it into a variable and check the type"
   ]
  },
  {
   "cell_type": "code",
   "execution_count": 21,
   "metadata": {},
   "outputs": [],
   "source": [
    "type_counts = art.type.value_counts()"
   ]
  },
  {
   "cell_type": "code",
   "execution_count": 22,
   "metadata": {},
   "outputs": [
    {
     "data": {
      "text/plain": [
       "Sculpture    61\n",
       "Mural        38\n",
       "Monument     16\n",
       "Mosaic        2\n",
       "Mobile        2\n",
       "Name: type, dtype: int64"
      ]
     },
     "execution_count": 22,
     "metadata": {},
     "output_type": "execute_result"
    }
   ],
   "source": [
    "type_counts.head()"
   ]
  },
  {
   "cell_type": "code",
   "execution_count": 23,
   "metadata": {},
   "outputs": [
    {
     "data": {
      "text/plain": [
       "pandas.core.series.Series"
      ]
     },
     "execution_count": 23,
     "metadata": {},
     "output_type": "execute_result"
    }
   ],
   "source": [
    "type(type_counts)"
   ]
  },
  {
   "cell_type": "code",
   "execution_count": 24,
   "metadata": {},
   "outputs": [],
   "source": [
    "#make series a df\n",
    "type_counts = type_counts.to_frame()\n",
    "\n"
   ]
  },
  {
   "cell_type": "code",
   "execution_count": 25,
   "metadata": {},
   "outputs": [
    {
     "data": {
      "text/plain": [
       "pandas.core.frame.DataFrame"
      ]
     },
     "execution_count": 25,
     "metadata": {},
     "output_type": "execute_result"
    }
   ],
   "source": [
    "type(type_counts)"
   ]
  },
  {
   "cell_type": "code",
   "execution_count": 26,
   "metadata": {},
   "outputs": [
    {
     "data": {
      "text/html": [
       "<div>\n",
       "<style scoped>\n",
       "    .dataframe tbody tr th:only-of-type {\n",
       "        vertical-align: middle;\n",
       "    }\n",
       "\n",
       "    .dataframe tbody tr th {\n",
       "        vertical-align: top;\n",
       "    }\n",
       "\n",
       "    .dataframe thead th {\n",
       "        text-align: right;\n",
       "    }\n",
       "</style>\n",
       "<table border=\"1\" class=\"dataframe\">\n",
       "  <thead>\n",
       "    <tr style=\"text-align: right;\">\n",
       "      <th></th>\n",
       "      <th>type</th>\n",
       "    </tr>\n",
       "  </thead>\n",
       "  <tbody>\n",
       "    <tr>\n",
       "      <th>Sculpture</th>\n",
       "      <td>61</td>\n",
       "    </tr>\n",
       "    <tr>\n",
       "      <th>Mural</th>\n",
       "      <td>38</td>\n",
       "    </tr>\n",
       "  </tbody>\n",
       "</table>\n",
       "</div>"
      ],
      "text/plain": [
       "           type\n",
       "Sculpture    61\n",
       "Mural        38"
      ]
     },
     "execution_count": 26,
     "metadata": {},
     "output_type": "execute_result"
    }
   ],
   "source": [
    "type_counts.head(2)"
   ]
  },
  {
   "cell_type": "code",
   "execution_count": 27,
   "metadata": {},
   "outputs": [
    {
     "data": {
      "text/html": [
       "<div>\n",
       "<style scoped>\n",
       "    .dataframe tbody tr th:only-of-type {\n",
       "        vertical-align: middle;\n",
       "    }\n",
       "\n",
       "    .dataframe tbody tr th {\n",
       "        vertical-align: top;\n",
       "    }\n",
       "\n",
       "    .dataframe thead th {\n",
       "        text-align: right;\n",
       "    }\n",
       "</style>\n",
       "<table border=\"1\" class=\"dataframe\">\n",
       "  <thead>\n",
       "    <tr style=\"text-align: right;\">\n",
       "      <th></th>\n",
       "      <th>index</th>\n",
       "      <th>type</th>\n",
       "    </tr>\n",
       "  </thead>\n",
       "  <tbody>\n",
       "    <tr>\n",
       "      <th>0</th>\n",
       "      <td>Sculpture</td>\n",
       "      <td>61</td>\n",
       "    </tr>\n",
       "    <tr>\n",
       "      <th>1</th>\n",
       "      <td>Mural</td>\n",
       "      <td>38</td>\n",
       "    </tr>\n",
       "    <tr>\n",
       "      <th>2</th>\n",
       "      <td>Monument</td>\n",
       "      <td>16</td>\n",
       "    </tr>\n",
       "    <tr>\n",
       "      <th>3</th>\n",
       "      <td>Mosaic</td>\n",
       "      <td>2</td>\n",
       "    </tr>\n",
       "    <tr>\n",
       "      <th>4</th>\n",
       "      <td>Mobile</td>\n",
       "      <td>2</td>\n",
       "    </tr>\n",
       "    <tr>\n",
       "      <th>5</th>\n",
       "      <td>Frieze</td>\n",
       "      <td>2</td>\n",
       "    </tr>\n",
       "    <tr>\n",
       "      <th>6</th>\n",
       "      <td>Various</td>\n",
       "      <td>2</td>\n",
       "    </tr>\n",
       "    <tr>\n",
       "      <th>7</th>\n",
       "      <td>Multipart</td>\n",
       "      <td>1</td>\n",
       "    </tr>\n",
       "    <tr>\n",
       "      <th>8</th>\n",
       "      <td>Furniture</td>\n",
       "      <td>1</td>\n",
       "    </tr>\n",
       "    <tr>\n",
       "      <th>9</th>\n",
       "      <td>Bronzes</td>\n",
       "      <td>1</td>\n",
       "    </tr>\n",
       "    <tr>\n",
       "      <th>10</th>\n",
       "      <td>Stained Glass</td>\n",
       "      <td>1</td>\n",
       "    </tr>\n",
       "    <tr>\n",
       "      <th>11</th>\n",
       "      <td>Street Art</td>\n",
       "      <td>1</td>\n",
       "    </tr>\n",
       "    <tr>\n",
       "      <th>12</th>\n",
       "      <td>Sculpture/Fountain</td>\n",
       "      <td>1</td>\n",
       "    </tr>\n",
       "    <tr>\n",
       "      <th>13</th>\n",
       "      <td>Relief</td>\n",
       "      <td>1</td>\n",
       "    </tr>\n",
       "    <tr>\n",
       "      <th>14</th>\n",
       "      <td>Fountain</td>\n",
       "      <td>1</td>\n",
       "    </tr>\n",
       "    <tr>\n",
       "      <th>15</th>\n",
       "      <td>mural</td>\n",
       "      <td>1</td>\n",
       "    </tr>\n",
       "  </tbody>\n",
       "</table>\n",
       "</div>"
      ],
      "text/plain": [
       "                 index  type\n",
       "0            Sculpture    61\n",
       "1                Mural    38\n",
       "2             Monument    16\n",
       "3               Mosaic     2\n",
       "4               Mobile     2\n",
       "5               Frieze     2\n",
       "6              Various     2\n",
       "7            Multipart     1\n",
       "8            Furniture     1\n",
       "9              Bronzes     1\n",
       "10       Stained Glass     1\n",
       "11          Street Art     1\n",
       "12  Sculpture/Fountain     1\n",
       "13              Relief     1\n",
       "14            Fountain     1\n",
       "15               mural     1"
      ]
     },
     "execution_count": 27,
     "metadata": {},
     "output_type": "execute_result"
    }
   ],
   "source": [
    "#reset index resets to 0-based index and moves existing index to a column\n",
    "type_counts = type_counts.reset_index()\n",
    "type_counts"
   ]
  },
  {
   "cell_type": "code",
   "execution_count": 28,
   "metadata": {},
   "outputs": [
    {
     "data": {
      "text/html": [
       "<div>\n",
       "<style scoped>\n",
       "    .dataframe tbody tr th:only-of-type {\n",
       "        vertical-align: middle;\n",
       "    }\n",
       "\n",
       "    .dataframe tbody tr th {\n",
       "        vertical-align: top;\n",
       "    }\n",
       "\n",
       "    .dataframe thead th {\n",
       "        text-align: right;\n",
       "    }\n",
       "</style>\n",
       "<table border=\"1\" class=\"dataframe\">\n",
       "  <thead>\n",
       "    <tr style=\"text-align: right;\">\n",
       "      <th></th>\n",
       "      <th>index</th>\n",
       "      <th>type</th>\n",
       "    </tr>\n",
       "  </thead>\n",
       "  <tbody>\n",
       "    <tr>\n",
       "      <th>0</th>\n",
       "      <td>Sculpture</td>\n",
       "      <td>61</td>\n",
       "    </tr>\n",
       "    <tr>\n",
       "      <th>1</th>\n",
       "      <td>Mural</td>\n",
       "      <td>38</td>\n",
       "    </tr>\n",
       "  </tbody>\n",
       "</table>\n",
       "</div>"
      ],
      "text/plain": [
       "       index  type\n",
       "0  Sculpture    61\n",
       "1      Mural    38"
      ]
     },
     "execution_count": 28,
     "metadata": {},
     "output_type": "execute_result"
    }
   ],
   "source": [
    "type_counts.head(2)"
   ]
  },
  {
   "cell_type": "markdown",
   "metadata": {},
   "source": [
    "#### fix columns"
   ]
  },
  {
   "cell_type": "code",
   "execution_count": 29,
   "metadata": {},
   "outputs": [
    {
     "data": {
      "text/html": [
       "<div>\n",
       "<style scoped>\n",
       "    .dataframe tbody tr th:only-of-type {\n",
       "        vertical-align: middle;\n",
       "    }\n",
       "\n",
       "    .dataframe tbody tr th {\n",
       "        vertical-align: top;\n",
       "    }\n",
       "\n",
       "    .dataframe thead th {\n",
       "        text-align: right;\n",
       "    }\n",
       "</style>\n",
       "<table border=\"1\" class=\"dataframe\">\n",
       "  <thead>\n",
       "    <tr style=\"text-align: right;\">\n",
       "      <th></th>\n",
       "      <th>art_type</th>\n",
       "      <th>count</th>\n",
       "    </tr>\n",
       "  </thead>\n",
       "  <tbody>\n",
       "    <tr>\n",
       "      <th>0</th>\n",
       "      <td>Sculpture</td>\n",
       "      <td>61</td>\n",
       "    </tr>\n",
       "    <tr>\n",
       "      <th>1</th>\n",
       "      <td>Mural</td>\n",
       "      <td>38</td>\n",
       "    </tr>\n",
       "    <tr>\n",
       "      <th>2</th>\n",
       "      <td>Monument</td>\n",
       "      <td>16</td>\n",
       "    </tr>\n",
       "  </tbody>\n",
       "</table>\n",
       "</div>"
      ],
      "text/plain": [
       "    art_type  count\n",
       "0  Sculpture     61\n",
       "1      Mural     38\n",
       "2   Monument     16"
      ]
     },
     "execution_count": 29,
     "metadata": {},
     "output_type": "execute_result"
    }
   ],
   "source": [
    "type_counts.columns = ['art_type', 'count']\n",
    "type_counts.head(3)"
   ]
  },
  {
   "cell_type": "markdown",
   "metadata": {},
   "source": [
    "#### check the type again"
   ]
  },
  {
   "cell_type": "code",
   "execution_count": 30,
   "metadata": {},
   "outputs": [
    {
     "data": {
      "text/plain": [
       "pandas.core.frame.DataFrame"
      ]
     },
     "execution_count": 30,
     "metadata": {},
     "output_type": "execute_result"
    }
   ],
   "source": [
    "type(type_counts)"
   ]
  },
  {
   "cell_type": "markdown",
   "metadata": {},
   "source": [
    "#### the `.info( )` method gets lots of info about the data: \n",
    " - number of rows\n",
    " - types for each column\n",
    " - size in memory\n",
    " - missingness"
   ]
  },
  {
   "cell_type": "code",
   "execution_count": 31,
   "metadata": {},
   "outputs": [
    {
     "name": "stdout",
     "output_type": "stream",
     "text": [
      "<class 'pandas.core.frame.DataFrame'>\n",
      "RangeIndex: 132 entries, 0 to 131\n",
      "Data columns (total 9 columns):\n",
      "title    132 non-null object\n",
      "last     132 non-null object\n",
      "first    122 non-null object\n",
      "loc      131 non-null object\n",
      "med      128 non-null object\n",
      "type     132 non-null object\n",
      "desc     87 non-null object\n",
      "lat      132 non-null float64\n",
      "lng      132 non-null float64\n",
      "dtypes: float64(2), object(7)\n",
      "memory usage: 9.4+ KB\n"
     ]
    }
   ],
   "source": [
    "art.info()"
   ]
  },
  {
   "cell_type": "markdown",
   "metadata": {},
   "source": [
    "#### The `.describe( )` method gives statistical info for the quantitative data \n",
    "- count\n",
    "- mean\n",
    "- standard deviation\n",
    "- minimum\n",
    "- maximum\n",
    "- quartiles\n"
   ]
  },
  {
   "cell_type": "code",
   "execution_count": 32,
   "metadata": {},
   "outputs": [
    {
     "data": {
      "text/html": [
       "<div>\n",
       "<style scoped>\n",
       "    .dataframe tbody tr th:only-of-type {\n",
       "        vertical-align: middle;\n",
       "    }\n",
       "\n",
       "    .dataframe tbody tr th {\n",
       "        vertical-align: top;\n",
       "    }\n",
       "\n",
       "    .dataframe thead th {\n",
       "        text-align: right;\n",
       "    }\n",
       "</style>\n",
       "<table border=\"1\" class=\"dataframe\">\n",
       "  <thead>\n",
       "    <tr style=\"text-align: right;\">\n",
       "      <th></th>\n",
       "      <th>count</th>\n",
       "    </tr>\n",
       "  </thead>\n",
       "  <tbody>\n",
       "    <tr>\n",
       "      <th>count</th>\n",
       "      <td>16.000000</td>\n",
       "    </tr>\n",
       "    <tr>\n",
       "      <th>mean</th>\n",
       "      <td>8.250000</td>\n",
       "    </tr>\n",
       "    <tr>\n",
       "      <th>std</th>\n",
       "      <td>17.043083</td>\n",
       "    </tr>\n",
       "    <tr>\n",
       "      <th>min</th>\n",
       "      <td>1.000000</td>\n",
       "    </tr>\n",
       "    <tr>\n",
       "      <th>25%</th>\n",
       "      <td>1.000000</td>\n",
       "    </tr>\n",
       "    <tr>\n",
       "      <th>50%</th>\n",
       "      <td>1.000000</td>\n",
       "    </tr>\n",
       "    <tr>\n",
       "      <th>75%</th>\n",
       "      <td>2.000000</td>\n",
       "    </tr>\n",
       "    <tr>\n",
       "      <th>max</th>\n",
       "      <td>61.000000</td>\n",
       "    </tr>\n",
       "  </tbody>\n",
       "</table>\n",
       "</div>"
      ],
      "text/plain": [
       "           count\n",
       "count  16.000000\n",
       "mean    8.250000\n",
       "std    17.043083\n",
       "min     1.000000\n",
       "25%     1.000000\n",
       "50%     1.000000\n",
       "75%     2.000000\n",
       "max    61.000000"
      ]
     },
     "execution_count": 32,
     "metadata": {},
     "output_type": "execute_result"
    }
   ],
   "source": [
    "type_counts.describe()"
   ]
  },
  {
   "cell_type": "markdown",
   "metadata": {},
   "source": [
    "#### You can also check null values by chaining the `isnull( )` and `sum( )` methods together; this sums up the number of cases where a value is null (the is null boolean returns a 1 when True)"
   ]
  },
  {
   "cell_type": "code",
   "execution_count": 33,
   "metadata": {},
   "outputs": [
    {
     "data": {
      "text/plain": [
       "title     0\n",
       "last      0\n",
       "first    10\n",
       "loc       1\n",
       "med       4\n",
       "type      0\n",
       "desc     45\n",
       "lat       0\n",
       "lng       0\n",
       "dtype: int64"
      ]
     },
     "execution_count": 33,
     "metadata": {},
     "output_type": "execute_result"
    }
   ],
   "source": [
    "art.isnull().sum()"
   ]
  },
  {
   "cell_type": "markdown",
   "metadata": {},
   "source": [
    "#### matplotlib - https://matplotlib.org/api/_as_gen/matplotlib.pyplot.plot.html#examples-using-matplotlib-pyplot-plot\n"
   ]
  },
  {
   "cell_type": "markdown",
   "metadata": {},
   "source": [
    "### Simplest horizontal barplot using matplotlib.pyplot"
   ]
  },
  {
   "cell_type": "code",
   "execution_count": 34,
   "metadata": {},
   "outputs": [
    {
     "data": {
      "image/png": "[encoded data removed]",
      "text/plain": [
       "<Figure size 432x288 with 1 Axes>"
      ]
     },
     "metadata": {
      "needs_background": "light"
     },
     "output_type": "display_data"
    }
   ],
   "source": [
    "plt.barh('art_type', 'count', data=type_counts, color = 'green', edgecolor = 'black');"
   ]
  },
  {
   "cell_type": "markdown",
   "metadata": {},
   "source": [
    "### Fancier horizontal barplot with seaborn"
   ]
  },
  {
   "cell_type": "code",
   "execution_count": 35,
   "metadata": {},
   "outputs": [
    {
     "data": {
      "image/png": "[encoded data removed]",
      "text/plain": [
       "<Figure size 720x576 with 1 Axes>"
      ]
     },
     "metadata": {
      "needs_background": "light"
     },
     "output_type": "display_data"
    }
   ],
   "source": [
    "plt.figure(figsize = (10, 8))\n",
    "sns.set(style=\"whitegrid\")\n",
    "sns.barplot('count', 'art_type', data = type_counts, palette = 'Set2')\n",
    "plt.xlabel('')\n",
    "plt.ylabel('')\n",
    "plt.title('Types of Public Art in Nashville');"
   ]
  }
 ],
 "metadata": {
  "kernelspec": {
   "display_name": "Python 3",
   "language": "python",
   "name": "python3"
  },
  "language_info": {
   "codemirror_mode": {
    "name": "ipython",
    "version": 3
   },
   "file_extension": ".py",
   "mimetype": "text/x-python",
   "name": "python",
   "nbconvert_exporter": "python",
   "pygments_lexer": "ipython3",
   "version": "3.7.6"
  }
 },
 "nbformat": 4,
 "nbformat_minor": 2
}
