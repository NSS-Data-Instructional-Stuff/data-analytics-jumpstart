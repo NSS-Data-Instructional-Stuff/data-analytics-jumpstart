{
 "cells": [
  {
   "cell_type": "code",
   "execution_count": null,
   "metadata": {},
   "outputs": [],
   "source": [
    "import pandas as pd\n",
    "import numpy as np\n",
    "import folium"
   ]
  },
  {
   "cell_type": "markdown",
   "metadata": {},
   "source": [
    "# Fun with for loops\n",
    "##### For loops allow you to peform some kind of operation on each element of a group of items. This is called iterating."
   ]
  },
  {
   "cell_type": "code",
   "execution_count": null,
   "metadata": {},
   "outputs": [],
   "source": [
    "# Here we have a list of strings\n",
    "list_of_letters = ['q', 'w', 'e', 'r', 't', 'y']"
   ]
  },
  {
   "cell_type": "markdown",
   "metadata": {},
   "source": [
    "If we put this list in a for loop, we are saying for each item in the list, do something"
   ]
  },
  {
   "cell_type": "code",
   "execution_count": null,
   "metadata": {},
   "outputs": [],
   "source": [
    "# In this for loop, we are just printing each item of the list as we see it\n",
    "\n",
    "for letter in list_of_letters:\n",
    "    print(letter)"
   ]
  },
  {
   "cell_type": "markdown",
   "metadata": {},
   "source": [
    "### What you do in a for loop can be more complicated"
   ]
  },
  {
   "cell_type": "code",
   "execution_count": null,
   "metadata": {},
   "outputs": [],
   "source": [
    "list_of_numbers = [1, 2, 3, 4, 5, 6, 7, 8, 9, 10]\n",
    "list_of_new_numbers = []\n",
    "for number in list_of_numbers:\n",
    "    new_number = (number**3)/50\n",
    "    print(new_number)\n",
    "    list_of_new_numbers.append(new_number)"
   ]
  },
  {
   "cell_type": "code",
   "execution_count": null,
   "metadata": {},
   "outputs": [],
   "source": [
    "list_of_new_numbers"
   ]
  },
  {
   "cell_type": "code",
   "execution_count": null,
   "metadata": {},
   "outputs": [],
   "source": [
    "new_number"
   ]
  },
  {
   "cell_type": "code",
   "execution_count": null,
   "metadata": {},
   "outputs": [],
   "source": [
    "number"
   ]
  },
  {
   "cell_type": "markdown",
   "metadata": {},
   "source": [
    "### For loops allow you do be flexible with your code and treat each item differently or consider multiple things simultaneously"
   ]
  },
  {
   "cell_type": "code",
   "execution_count": null,
   "metadata": {},
   "outputs": [],
   "source": [
    "mixed_list = [1, 'q', 2, 'w', 3, 'e', 4, 'r', 5, 't', 6, 'y', 0, np.nan]\n",
    "\n",
    "for item in mixed_list:\n",
    "    print(item*3)"
   ]
  },
  {
   "cell_type": "markdown",
   "metadata": {},
   "source": [
    "### For loops can get elaborate quickly and the things you're able to do allow a lot nuance in your code"
   ]
  },
  {
   "cell_type": "code",
   "execution_count": null,
   "metadata": {},
   "outputs": [],
   "source": [
    "# There is a function called 'enumerate', which creates pairs of values and their index location (index, val)\n",
    "\n",
    "list_of_floats = [1.5, 2.6, 3.7, 4.8, 5.9, 6.0]\n",
    "list(enumerate(list_of_floats))"
   ]
  },
  {
   "cell_type": "code",
   "execution_count": null,
   "metadata": {
    "scrolled": false
   },
   "outputs": [],
   "source": [
    "# What does enumerate do when you put it in a for loop?\n",
    "\n",
    "for value in enumerate(list_of_floats):\n",
    "    print(value)\n",
    "    print(value[0])\n",
    "    print(value[1])\n",
    "    print('\\n') # This will just add an empty line in between each set of print statements"
   ]
  },
  {
   "cell_type": "code",
   "execution_count": null,
   "metadata": {},
   "outputs": [],
   "source": [
    "list_of_floats"
   ]
  },
  {
   "cell_type": "code",
   "execution_count": null,
   "metadata": {},
   "outputs": [],
   "source": [
    "# Running enumerate on a list, you can choose to name the 2 items in the pair as separate variables\n",
    "# If you do, you can do different things to them within the for loop\n",
    "\n",
    "enumerate_list = []\n",
    "for index, number in enumerate(list_of_floats):\n",
    "    print('Index: ', index)\n",
    "    print('Number: ', number)\n",
    "    product = index*number\n",
    "    print(product, '\\n')\n",
    "    enumerate_list.append(index + 5)"
   ]
  },
  {
   "cell_type": "code",
   "execution_count": null,
   "metadata": {},
   "outputs": [],
   "source": [
    "enumerate_list"
   ]
  },
  {
   "cell_type": "markdown",
   "metadata": {},
   "source": [
    "### A more practical application may be modifying the values in a column of a DataFrame"
   ]
  },
  {
   "cell_type": "code",
   "execution_count": null,
   "metadata": {},
   "outputs": [],
   "source": [
    "art = pd.read_csv('../data/public_art.csv')\n",
    "art.Type.unique()"
   ]
  },
  {
   "cell_type": "code",
   "execution_count": null,
   "metadata": {},
   "outputs": [],
   "source": [
    "for ind, Type in enumerate(art['Type']):\n",
    "    if Type in ['Fountain', 'Frieze', 'Sculpture/Fountain', 'Relief']:\n",
    "        art.loc[ind, 'Type'] = 'Sculpture'\n",
    "    elif Type in ['Street Art', 'mural']:\n",
    "        art.loc[ind, 'Type'] = 'Mural'\n",
    "    elif Type == 'Bronzes':\n",
    "        art.loc[ind, 'Type'] = 'Monument'"
   ]
  },
  {
   "cell_type": "code",
   "execution_count": null,
   "metadata": {},
   "outputs": [],
   "source": [
    "art.Type.unique()"
   ]
  },
  {
   "cell_type": "markdown",
   "metadata": {},
   "source": [
    "---"
   ]
  },
  {
   "cell_type": "markdown",
   "metadata": {},
   "source": [
    "# Fun with folium"
   ]
  },
  {
   "cell_type": "markdown",
   "metadata": {},
   "source": [
    "Maps are great, folium is no exception. It is a great package that allows you do do many map related things and make nice, visually appealing, interactive maps."
   ]
  },
  {
   "cell_type": "markdown",
   "metadata": {},
   "source": [
    "Displaying a map in folium is very easy. All you need is a starting location and a zoom"
   ]
  },
  {
   "cell_type": "code",
   "execution_count": null,
   "metadata": {},
   "outputs": [],
   "source": [
    "# Try out different zooms to see which one looks good\n",
    "\n",
    "nash_map = folium.Map(location = [36.1612, -86.7775], zoom_start=12)"
   ]
  },
  {
   "cell_type": "code",
   "execution_count": null,
   "metadata": {},
   "outputs": [],
   "source": [
    "nash_map"
   ]
  },
  {
   "cell_type": "markdown",
   "metadata": {},
   "source": [
    "---"
   ]
  },
  {
   "cell_type": "markdown",
   "metadata": {},
   "source": [
    "# Putting it all together\n",
    "##### Using for loops and folium, we can plot points on a map"
   ]
  },
  {
   "cell_type": "markdown",
   "metadata": {},
   "source": [
    "Pandas has its own version of a for loop, called _iterrows()_"
   ]
  },
  {
   "cell_type": "code",
   "execution_count": null,
   "metadata": {},
   "outputs": [],
   "source": [
    "# iterrows acts like enumerate, it provides 2 values you can access as 1 variable or 2, if you decide to unpack\n",
    "\n",
    "for row in art.iterrows():\n",
    "    print('row: ', row, '\\n')\n",
    "    print('first item: ', row[0], '\\n')\n",
    "    print('second item: ', row[1], '\\n')\n",
    "    print('row value: ', row[1]['Title'], '\\n')\n",
    "    "
   ]
  },
  {
   "cell_type": "code",
   "execution_count": null,
   "metadata": {},
   "outputs": [],
   "source": [
    "for ind, row in art.iterrows():\n",
    "    print('ind: ', ind, '\\n')\n",
    "    print('row: ', row, '\\n')\n",
    "    print('row value: ', row['Title'], '\\n')"
   ]
  },
  {
   "cell_type": "markdown",
   "metadata": {},
   "source": [
    "We can use _iterrows()_ to construct points and plot them on a map in one chunk of code"
   ]
  },
  {
   "cell_type": "code",
   "execution_count": null,
   "metadata": {
    "scrolled": false
   },
   "outputs": [],
   "source": [
    "# The format for a point in folium is: [lat, lng]\n",
    "\n",
    "nash_map = folium.Map(location = [36.1612, -86.7775], zoom_start = 12)\n",
    "\n",
    "for ind, row in art.iterrows():\n",
    "    point = [row['Latitude'], row['Longitude']]\n",
    "    message = row['Type'] + ': ' + row['Title']\n",
    "    folium.Marker(location = point, popup = message).add_to(nash_map)\n",
    "\n",
    "nash_map"
   ]
  },
  {
   "cell_type": "markdown",
   "metadata": {},
   "source": [
    "### I can use the [font awesome](https://fontawesome.com/v4.7.0/icons/) icons to customize my map"
   ]
  },
  {
   "cell_type": "code",
   "execution_count": null,
   "metadata": {},
   "outputs": [],
   "source": [
    "\n",
    "nash_map = folium.Map(location = [36.1612, -86.7775], zoom_start = 12)\n",
    "\n",
    "for ind, row in art.iterrows():\n",
    "    point = [row['Latitude'], row['Longitude']]\n",
    "    popup = row['Type'] + ': ' + row['Title']\n",
    "    icon = folium.Icon(color = 'darkpurple', icon = 'paint-brush', prefix = 'fa') # here's where the icon gets customized\n",
    "    folium.Marker(point, popup = popup, icon = icon).add_to(nash_map)\n",
    "nash_map\n",
    "\n",
    "\n",
    "\n"
   ]
  },
  {
   "cell_type": "code",
   "execution_count": null,
   "metadata": {},
   "outputs": [],
   "source": []
  }
 ],
 "metadata": {
  "kernelspec": {
   "display_name": "Python 3",
   "language": "python",
   "name": "python3"
  },
  "language_info": {
   "codemirror_mode": {
    "name": "ipython",
    "version": 3
   },
   "file_extension": ".py",
   "mimetype": "text/x-python",
   "name": "python",
   "nbconvert_exporter": "python",
   "pygments_lexer": "ipython3",
   "version": "3.8.5"
  }
 },
 "nbformat": 4,
 "nbformat_minor": 2
}
