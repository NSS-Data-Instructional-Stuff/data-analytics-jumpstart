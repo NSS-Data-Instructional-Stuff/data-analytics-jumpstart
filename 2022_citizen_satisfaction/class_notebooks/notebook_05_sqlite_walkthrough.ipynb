{
 "cells": [
  {
   "cell_type": "markdown",
   "id": "ad0cef6f",
   "metadata": {},
   "source": [
    "# SQLite"
   ]
  },
  {
   "cell_type": "code",
   "execution_count": null,
   "id": "876f6312",
   "metadata": {},
   "outputs": [],
   "source": [
    "import pandas as pd\n",
    "import sqlite3 as sql\n",
    "\n",
    "#since we are looking at poems, we'll bump up the width of our columns\n",
    "pd.set_option(\"display.max_colwidth\", 250)"
   ]
  },
  {
   "cell_type": "markdown",
   "id": "04ebbc43",
   "metadata": {},
   "source": [
    "### Creating a connection to the poetry_kids.db database\n",
    " - tell python what database to connect to (`sql.connect( )`)\n",
    " - create a cursor to allow passing queries directly to the database"
   ]
  },
  {
   "cell_type": "code",
   "execution_count": null,
   "id": "c7f2ebdc",
   "metadata": {},
   "outputs": [],
   "source": [
    "conn = sql.connect('../data/poetry_kids.db')\n",
    "cur = conn.cursor()"
   ]
  },
  {
   "cell_type": "markdown",
   "id": "f2539685",
   "metadata": {},
   "source": [
    "### Checking what tables exist within a database\n",
    "- the cursor executes the SQL query passed to `.execute( )`\n",
    "- the results of your query are loaded to the cursor\n",
    "- the `fetchall()` method returns those results so you can store them in a variable"
   ]
  },
  {
   "cell_type": "code",
   "execution_count": null,
   "id": "d376e984",
   "metadata": {},
   "outputs": [],
   "source": [
    "# Execute tells the cursor to run the query provided\n",
    "\n",
    "cur.execute(\"SELECT name FROM sqlite_master WHERE type='table' ORDER BY name;\")\n",
    "\n",
    "# fetchall() allows us to see everything returned by our query, which we store in our 'available_tables' variable\n",
    "\n",
    "available_tables = (cur.fetchall())\n",
    "\n",
    "available_tables"
   ]
  },
  {
   "cell_type": "markdown",
   "id": "67cf4a4a",
   "metadata": {},
   "source": [
    "Let's compare this to the **entity relationship diagram** (ERD) for this database.\n",
    "\n",
    "![ERD](assets/PoetryKids_erd.png)"
   ]
  },
  {
   "cell_type": "markdown",
   "id": "1cf8fdc4",
   "metadata": {},
   "source": [
    "## Using Pandas to place results into a DataFrame\n",
    "\n",
    "We can SQL queries and convert the result to a _pandas_ DataFrame by using the `read_sql` method.\n",
    "\n",
    "When building SQL queries, it may be useful to write the query independently and save to variable. Multi-line queries can use triple quotes (''' ''') to keep it together as one string.\n",
    "\n",
    "For example, if we want to find the very short poems, we can use the following code. "
   ]
  },
  {
   "cell_type": "code",
   "execution_count": null,
   "id": "e03d5ff2",
   "metadata": {},
   "outputs": [],
   "source": [
    "query = '''\n",
    "SELECT text\n",
    "FROM poem\n",
    "WHERE char_count < 20;\n",
    "'''\n",
    "\n",
    "results = pd.read_sql(query, conn)\n",
    "\n",
    "results"
   ]
  },
  {
   "cell_type": "markdown",
   "id": "ac481d6d",
   "metadata": {},
   "source": [
    "Let's now practice writing queries. Remember the process we can use:\n",
    "\n",
    "    a. decide what tables you need   \n",
    "    b. (if you need to use more than one table) decide how to connect your tables   \n",
    "    c. decide which columns to select  \n",
    "    d. decide what (if any) filters you want to apply in your `WHERE` clause"
   ]
  },
  {
   "cell_type": "markdown",
   "id": "69310fc1",
   "metadata": {},
   "source": [
    "First, let's find the text of all poems with the title \"cats\"."
   ]
  },
  {
   "cell_type": "code",
   "execution_count": null,
   "id": "40ece674",
   "metadata": {},
   "outputs": [],
   "source": [
    "query = '''\n",
    "# Try and fill in the query\n",
    "'''\n",
    "\n",
    "results = pd.read_sql(query, conn)\n",
    "results"
   ]
  },
  {
   "cell_type": "markdown",
   "id": "b1ced198",
   "metadata": {},
   "source": [
    "Now, let's see find the emotion_id associated with these poems. Keep the text of the poem, the poem_id, the emotion_id, and the intensity_percent.\n",
    "\n",
    "Sort by the poem_id as the same poem can appear multiple times."
   ]
  },
  {
   "cell_type": "code",
   "execution_count": null,
   "id": "24f20167",
   "metadata": {},
   "outputs": [],
   "source": [
    "query = '''\n",
    "# Try and fill in the query\n",
    "'''\n",
    "\n",
    "results = pd.read_sql(query, conn)\n",
    "results"
   ]
  },
  {
   "cell_type": "markdown",
   "id": "792c9983",
   "metadata": {},
   "source": [
    "Finally, let's modify the above query to show the emotion name instead of the emotion_id. This will require joining with another table."
   ]
  },
  {
   "cell_type": "code",
   "execution_count": null,
   "id": "4026f345",
   "metadata": {},
   "outputs": [],
   "source": [
    "query = '''\n",
    "# Try and fill in the query\n",
    "'''\n",
    "\n",
    "results = pd.read_sql(query, conn)\n",
    "results"
   ]
  },
  {
   "cell_type": "markdown",
   "id": "c8414f7f",
   "metadata": {},
   "source": [
    "## Best Practice - Close connections after use to prevent the tables from being locked"
   ]
  },
  {
   "cell_type": "code",
   "execution_count": null,
   "id": "7353401c",
   "metadata": {},
   "outputs": [],
   "source": [
    "cur.close()\n",
    "conn.close()"
   ]
  }
 ],
 "metadata": {
  "kernelspec": {
   "display_name": "Python 3 (ipykernel)",
   "language": "python",
   "name": "python3"
  },
  "language_info": {
   "codemirror_mode": {
    "name": "ipython",
    "version": 3
   },
   "file_extension": ".py",
   "mimetype": "text/x-python",
   "name": "python",
   "nbconvert_exporter": "python",
   "pygments_lexer": "ipython3",
   "version": "3.8.3"
  }
 },
 "nbformat": 4,
 "nbformat_minor": 5
}
