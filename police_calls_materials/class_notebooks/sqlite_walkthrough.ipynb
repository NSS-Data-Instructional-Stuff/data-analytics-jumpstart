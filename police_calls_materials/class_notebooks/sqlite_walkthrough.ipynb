{
 "cells": [
  {
   "cell_type": "code",
   "execution_count": null,
   "metadata": {
    "collapsed": true
   },
   "outputs": [],
   "source": [
    "import pandas as pd\n",
    "import sqlite3 as sql"
   ]
  },
  {
   "cell_type": "markdown",
   "metadata": {},
   "source": [
    "## Creating a connection to the weather.db database"
   ]
  },
  {
   "cell_type": "code",
   "execution_count": null,
   "metadata": {
    "collapsed": true
   },
   "outputs": [],
   "source": [
    "# Telling python what database to use\n",
    "\n",
    "conn = sql.connect('data/weather.db')\n",
    "\n",
    "# Activating the cursor, which will allow us to pass queries through sqlite and access the database directly\n",
    "\n",
    "cur = conn.cursor()"
   ]
  },
  {
   "cell_type": "markdown",
   "metadata": {},
   "source": [
    "## Checking what tables exist within a database"
   ]
  },
  {
   "cell_type": "code",
   "execution_count": null,
   "metadata": {
    "collapsed": true
   },
   "outputs": [],
   "source": [
    "# Execute tells the cursor to run the query provided\n",
    "\n",
    "cur.execute(\"SELECT name FROM sqlite_master WHERE type='table' ORDER BY name;\")\n",
    "\n",
    "# fetchall() allows us to see everything returned by our query, which we store in our 'available_tables' variable\n",
    "\n",
    "available_tables = (cur.fetchall())"
   ]
  },
  {
   "cell_type": "code",
   "execution_count": null,
   "metadata": {
    "collapsed": true
   },
   "outputs": [],
   "source": [
    "print(available_tables)"
   ]
  },
  {
   "cell_type": "markdown",
   "metadata": {},
   "source": [
    "## Querying the 'weather2013' table"
   ]
  },
  {
   "cell_type": "code",
   "execution_count": null,
   "metadata": {
    "collapsed": true
   },
   "outputs": [],
   "source": [
    "# Let's check to see what our data looks like by selecting the first 5 rows\n",
    "\n",
    "cur.execute(\"SELECT * FROM weather2013 LIMIT 5;\")\n",
    "\n",
    "weather_data_2013 = (cur.fetchall())"
   ]
  },
  {
   "cell_type": "code",
   "execution_count": null,
   "metadata": {
    "collapsed": true
   },
   "outputs": [],
   "source": [
    "# What is the type of weather_data_2013?\n",
    "\n",
    "type(weather_data_2013)"
   ]
  },
  {
   "cell_type": "code",
   "execution_count": null,
   "metadata": {
    "collapsed": true
   },
   "outputs": [],
   "source": [
    "weather_data_2013"
   ]
  },
  {
   "cell_type": "markdown",
   "metadata": {},
   "source": [
    "## Using Pandas to place results into a DataFrame"
   ]
  },
  {
   "cell_type": "code",
   "execution_count": null,
   "metadata": {
    "collapsed": true
   },
   "outputs": [],
   "source": [
    "# Using the same query as before to select the first 5 rows from weather2013.db\n",
    "\n",
    "weather_2013_df = pd.read_sql_query(\"SELECT * FROM weather2013 LIMIT 5;\", conn)"
   ]
  },
  {
   "cell_type": "code",
   "execution_count": null,
   "metadata": {
    "collapsed": true
   },
   "outputs": [],
   "source": [
    "# Checking the type again\n",
    "\n",
    "type(weather_2013_df)"
   ]
  },
  {
   "cell_type": "code",
   "execution_count": null,
   "metadata": {
    "collapsed": true
   },
   "outputs": [],
   "source": [
    "weather_2013_df.head()"
   ]
  },
  {
   "cell_type": "code",
   "execution_count": null,
   "metadata": {
    "collapsed": true
   },
   "outputs": [],
   "source": [
    "# Drop the first row that has undesired column headers\n",
    "\n",
    "weather_2013_df.drop([0,]).head()\n",
    "# weather_2013_df = weather_2013_df.drop([0,])"
   ]
  },
  {
   "cell_type": "code",
   "execution_count": null,
   "metadata": {
    "collapsed": true
   },
   "outputs": [],
   "source": [
    "# Whenever you drop a row, remember to reset the index!\n",
    "\n",
    "weather_2013_df = weather_2013_df.reset_index(drop = True)"
   ]
  },
  {
   "cell_type": "code",
   "execution_count": null,
   "metadata": {
    "collapsed": true
   },
   "outputs": [],
   "source": [
    "weather_2013_df.head()"
   ]
  },
  {
   "cell_type": "markdown",
   "metadata": {},
   "source": [
    "## Example of a query using the WHERE clause"
   ]
  },
  {
   "cell_type": "code",
   "execution_count": null,
   "metadata": {
    "collapsed": true
   },
   "outputs": [],
   "source": [
    "# This time, we'll query weather2013 to find the dates where the percipitation was greater than 1\n",
    "\n",
    "high_perc_2013_df = pd.read_sql_query(\"SELECT * FROM weather2013 WHERE precip > 1;\", conn)\n",
    "high_perc_2013_df = high_perc_2013_df.drop([0,])\n",
    "high_perc_2013_df = high_perc_2013_df.reset_index(drop = True)"
   ]
  },
  {
   "cell_type": "code",
   "execution_count": null,
   "metadata": {
    "collapsed": true
   },
   "outputs": [],
   "source": [
    "high_perc_2013_df.head()"
   ]
  },
  {
   "cell_type": "markdown",
   "metadata": {},
   "source": [
    "## Example of a query using the BETWEEN clause"
   ]
  },
  {
   "cell_type": "code",
   "execution_count": null,
   "metadata": {
    "collapsed": true
   },
   "outputs": [],
   "source": [
    "# This time, we'll query weather2013 to find the dates where the percipitation was between 0.2 and 0.5\n",
    "\n",
    "mid_perc_2013_df = pd.read_sql_query(\"SELECT * FROM weather2013 WHERE precip BETWEEN 0.2 AND 0.5;\", conn)\n",
    "mid_perc_2013_df = mid_perc_2013_df.drop([0,])\n",
    "mid_perc_2013_df = mid_perc_2013_df.reset_index(drop = True)"
   ]
  },
  {
   "cell_type": "code",
   "execution_count": null,
   "metadata": {
    "collapsed": true
   },
   "outputs": [],
   "source": [
    "mid_perc_2013_df.head()"
   ]
  },
  {
   "cell_type": "markdown",
   "metadata": {},
   "source": [
    "## Same example, but using the ORDER BY to sort on percipitation"
   ]
  },
  {
   "cell_type": "code",
   "execution_count": null,
   "metadata": {
    "collapsed": true
   },
   "outputs": [],
   "source": [
    "# Using ASC or DESC to specify how to order the desired column - Is ASC or DESC used by default?\n",
    "\n",
    "mid_perc_2013_df = pd.read_sql_query(\"SELECT * FROM weather2013 WHERE precip BETWEEN 0.2 AND 0.5 ORDER BY precip;\", conn)\n",
    "mid_perc_2013_df = mid_perc_2013_df.drop([0,])\n",
    "mid_perc_2013_df = mid_perc_2013_df.reset_index(drop = True)"
   ]
  },
  {
   "cell_type": "code",
   "execution_count": null,
   "metadata": {
    "collapsed": true
   },
   "outputs": [],
   "source": [
    "mid_perc_2013_df.head()"
   ]
  },
  {
   "cell_type": "markdown",
   "metadata": {},
   "source": [
    "## Best Practice - Close connections after use to prevent the tables from being locked"
   ]
  },
  {
   "cell_type": "code",
   "execution_count": null,
   "metadata": {
    "collapsed": true
   },
   "outputs": [],
   "source": [
    "cur.close()\n",
    "conn.close()"
   ]
  },
  {
   "cell_type": "code",
   "execution_count": null,
   "metadata": {
    "collapsed": true
   },
   "outputs": [],
   "source": []
  }
 ],
 "metadata": {
  "kernelspec": {
   "display_name": "Python 3",
   "language": "python",
   "name": "python3"
  },
  "language_info": {
   "codemirror_mode": {
    "name": "ipython",
    "version": 3
   },
   "file_extension": ".py",
   "mimetype": "text/x-python",
   "name": "python",
   "nbconvert_exporter": "python",
   "pygments_lexer": "ipython3",
   "version": "3.6.4"
  }
 },
 "nbformat": 4,
 "nbformat_minor": 2
}
