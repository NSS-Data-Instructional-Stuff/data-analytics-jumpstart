{
 "cells": [
  {
   "cell_type": "markdown",
   "metadata": {},
   "source": [
    "# WEEK 1"
   ]
  },
  {
   "cell_type": "code",
   "execution_count": 1,
   "metadata": {},
   "outputs": [],
   "source": [
    "import pandas as pd\n",
    "import matplotlib.pyplot as plt\n",
    "import seaborn as sns\n",
    "import sqlite3 as sql\n",
    "import folium\n",
    "\n",
    "%matplotlib inline"
   ]
  },
  {
   "cell_type": "code",
   "execution_count": 2,
   "metadata": {},
   "outputs": [],
   "source": [
    "building_permits = pd.read_csv('../data/Building_Permits_Issued.csv', low_memory = False)"
   ]
  },
  {
   "cell_type": "code",
   "execution_count": 3,
   "metadata": {},
   "outputs": [
    {
     "data": {
      "text/html": [
       "<div>\n",
       "<style scoped>\n",
       "    .dataframe tbody tr th:only-of-type {\n",
       "        vertical-align: middle;\n",
       "    }\n",
       "\n",
       "    .dataframe tbody tr th {\n",
       "        vertical-align: top;\n",
       "    }\n",
       "\n",
       "    .dataframe thead th {\n",
       "        text-align: right;\n",
       "    }\n",
       "</style>\n",
       "<table border=\"1\" class=\"dataframe\">\n",
       "  <thead>\n",
       "    <tr style=\"text-align: right;\">\n",
       "      <th></th>\n",
       "      <th>Permit #</th>\n",
       "      <th>Permit Type Description</th>\n",
       "      <th>Permit Subtype Description</th>\n",
       "      <th>Parcel</th>\n",
       "      <th>Date Entered</th>\n",
       "      <th>Date Issued</th>\n",
       "      <th>Construction Cost</th>\n",
       "      <th>Address</th>\n",
       "      <th>City</th>\n",
       "      <th>State</th>\n",
       "      <th>ZIP</th>\n",
       "      <th>Subdivision / Lot</th>\n",
       "      <th>Contact</th>\n",
       "      <th>Permit Type</th>\n",
       "      <th>Permit Subtype</th>\n",
       "      <th>IVR Tracking #</th>\n",
       "      <th>Purpose</th>\n",
       "      <th>Council District</th>\n",
       "      <th>Census Tract</th>\n",
       "      <th>Mapped Location</th>\n",
       "    </tr>\n",
       "  </thead>\n",
       "  <tbody>\n",
       "    <tr>\n",
       "      <th>0</th>\n",
       "      <td>2019067152</td>\n",
       "      <td>Building Demolition Permit</td>\n",
       "      <td>Demolition Permit - Residential</td>\n",
       "      <td>06106005200</td>\n",
       "      <td>11/01/2019</td>\n",
       "      <td>11/01/2019</td>\n",
       "      <td>6000.0</td>\n",
       "      <td>600  MAPLEWOOD LN</td>\n",
       "      <td>NASHVILLE</td>\n",
       "      <td>TN</td>\n",
       "      <td>37216</td>\n",
       "      <td>S SIDE MAPLEWOOD LANE &amp; W OF HUTSON AVE</td>\n",
       "      <td>CONTRERAS DESIGN BUILD LLC</td>\n",
       "      <td>CADM</td>\n",
       "      <td>CAZ01A001</td>\n",
       "      <td>3728422</td>\n",
       "      <td>to demolish existing residence and detached st...</td>\n",
       "      <td>8.0</td>\n",
       "      <td>37011002.0</td>\n",
       "      <td>600 MAPLEWOOD LN\\nNASHVILLE, TN 37216\\n(36.228...</td>\n",
       "    </tr>\n",
       "    <tr>\n",
       "      <th>1</th>\n",
       "      <td>2019011084</td>\n",
       "      <td>Building Use &amp; Occupancy</td>\n",
       "      <td>Multifamily, Townhome</td>\n",
       "      <td>051100J90000CO</td>\n",
       "      <td>02/25/2019</td>\n",
       "      <td>07/22/2019</td>\n",
       "      <td>0.0</td>\n",
       "      <td>812  BRIAR CIR</td>\n",
       "      <td>MADISON</td>\n",
       "      <td>TN</td>\n",
       "      <td>37115</td>\n",
       "      <td>COMMON AREA HOMES AT BRIAR</td>\n",
       "      <td>COLE INVESTMENTS LLC</td>\n",
       "      <td>CAUO</td>\n",
       "      <td>CAA03R301</td>\n",
       "      <td>3611315</td>\n",
       "      <td>MASTER PERMIT ONLY� � NO CONSTRUCTION� �MULTI-...</td>\n",
       "      <td>8.0</td>\n",
       "      <td>37010802.0</td>\n",
       "      <td>812 BRIAR CIR\\nMADISON, TN 37115</td>\n",
       "    </tr>\n",
       "    <tr>\n",
       "      <th>2</th>\n",
       "      <td>2019011479</td>\n",
       "      <td>Building Commercial - Rehab</td>\n",
       "      <td>Restaurant (Full Service)</td>\n",
       "      <td>11714005500</td>\n",
       "      <td>02/27/2019</td>\n",
       "      <td>07/22/2019</td>\n",
       "      <td>759670.0</td>\n",
       "      <td>2171  GREEN HILLS VILLAGE DR</td>\n",
       "      <td>NASHVILLE</td>\n",
       "      <td>TN</td>\n",
       "      <td>37215</td>\n",
       "      <td>W/S HILLSBORO PK. &amp; N/S ABBOTT MARTIN RD.</td>\n",
       "      <td>BATTINO CONTRACTING SOLUTIONS, LLC</td>\n",
       "      <td>CACR</td>\n",
       "      <td>CAF19A203</td>\n",
       "      <td>3613106</td>\n",
       "      <td>2475 sq.ft. build out of CAVA RESTURANT to inc...</td>\n",
       "      <td>25.0</td>\n",
       "      <td>37017901.0</td>\n",
       "      <td>2171 GREEN HILLS VILLAGE DR\\nNASHVILLE, TN 372...</td>\n",
       "    </tr>\n",
       "    <tr>\n",
       "      <th>3</th>\n",
       "      <td>2019039568</td>\n",
       "      <td>Building Residential - New</td>\n",
       "      <td>Single Family Residence</td>\n",
       "      <td>085040A40800CO</td>\n",
       "      <td>07/03/2019</td>\n",
       "      <td>07/22/2019</td>\n",
       "      <td>300888.0</td>\n",
       "      <td>4327  STONE HALL BLVD</td>\n",
       "      <td>HERMITAGE</td>\n",
       "      <td>TN</td>\n",
       "      <td>37076</td>\n",
       "      <td>LOT 408 THE RESERVE AT STONE HALL PH 2 SEC 1</td>\n",
       "      <td>MERITAGE HOMES OF TENNESSEE INC</td>\n",
       "      <td>CARN</td>\n",
       "      <td>CAA01R301</td>\n",
       "      <td>3687554</td>\n",
       "      <td>New Single Family construction - Total Sq foot...</td>\n",
       "      <td>14.0</td>\n",
       "      <td>37015402.0</td>\n",
       "      <td>4327 STONE HALL BLVD\\nHERMITAGE, TN 37076</td>\n",
       "    </tr>\n",
       "    <tr>\n",
       "      <th>4</th>\n",
       "      <td>2017000049</td>\n",
       "      <td>Building Residential - New</td>\n",
       "      <td>Single Family Residence</td>\n",
       "      <td>164100A43100CO</td>\n",
       "      <td>01/03/2017</td>\n",
       "      <td>01/09/2017</td>\n",
       "      <td>268107.0</td>\n",
       "      <td>704  ABERCORN CT</td>\n",
       "      <td>ANTIOCH</td>\n",
       "      <td>TN</td>\n",
       "      <td>37013</td>\n",
       "      <td>LOT 79 SUMMERFIELD SUBDIVISION VILLAGE TEN</td>\n",
       "      <td>NVR, INC. T/A RYAN HOMES</td>\n",
       "      <td>CARN</td>\n",
       "      <td>CAA01R301</td>\n",
       "      <td>3306701</td>\n",
       "      <td>TO CONSTRUCT A NEW SINGLE FAMILY RES AT 2380 S...</td>\n",
       "      <td>32.0</td>\n",
       "      <td>37015630.0</td>\n",
       "      <td>704 ABERCORN CT\\nANTIOCH, TN 37013\\n(36.045042...</td>\n",
       "    </tr>\n",
       "  </tbody>\n",
       "</table>\n",
       "</div>"
      ],
      "text/plain": [
       "     Permit #      Permit Type Description       Permit Subtype Description  \\\n",
       "0  2019067152   Building Demolition Permit  Demolition Permit - Residential   \n",
       "1  2019011084     Building Use & Occupancy            Multifamily, Townhome   \n",
       "2  2019011479  Building Commercial - Rehab        Restaurant (Full Service)   \n",
       "3  2019039568   Building Residential - New          Single Family Residence   \n",
       "4  2017000049   Building Residential - New          Single Family Residence   \n",
       "\n",
       "           Parcel Date Entered Date Issued  Construction Cost  \\\n",
       "0     06106005200   11/01/2019  11/01/2019             6000.0   \n",
       "1  051100J90000CO   02/25/2019  07/22/2019                0.0   \n",
       "2     11714005500   02/27/2019  07/22/2019           759670.0   \n",
       "3  085040A40800CO   07/03/2019  07/22/2019           300888.0   \n",
       "4  164100A43100CO   01/03/2017  01/09/2017           268107.0   \n",
       "\n",
       "                        Address       City State    ZIP  \\\n",
       "0             600  MAPLEWOOD LN  NASHVILLE    TN  37216   \n",
       "1                812  BRIAR CIR    MADISON    TN  37115   \n",
       "2  2171  GREEN HILLS VILLAGE DR  NASHVILLE    TN  37215   \n",
       "3         4327  STONE HALL BLVD  HERMITAGE    TN  37076   \n",
       "4              704  ABERCORN CT    ANTIOCH    TN  37013   \n",
       "\n",
       "                              Subdivision / Lot  \\\n",
       "0       S SIDE MAPLEWOOD LANE & W OF HUTSON AVE   \n",
       "1                    COMMON AREA HOMES AT BRIAR   \n",
       "2     W/S HILLSBORO PK. & N/S ABBOTT MARTIN RD.   \n",
       "3  LOT 408 THE RESERVE AT STONE HALL PH 2 SEC 1   \n",
       "4    LOT 79 SUMMERFIELD SUBDIVISION VILLAGE TEN   \n",
       "\n",
       "                              Contact Permit Type Permit Subtype  \\\n",
       "0          CONTRERAS DESIGN BUILD LLC        CADM      CAZ01A001   \n",
       "1                COLE INVESTMENTS LLC        CAUO      CAA03R301   \n",
       "2  BATTINO CONTRACTING SOLUTIONS, LLC        CACR      CAF19A203   \n",
       "3     MERITAGE HOMES OF TENNESSEE INC        CARN      CAA01R301   \n",
       "4            NVR, INC. T/A RYAN HOMES        CARN      CAA01R301   \n",
       "\n",
       "   IVR Tracking #                                            Purpose  \\\n",
       "0         3728422  to demolish existing residence and detached st...   \n",
       "1         3611315  MASTER PERMIT ONLY� � NO CONSTRUCTION� �MULTI-...   \n",
       "2         3613106  2475 sq.ft. build out of CAVA RESTURANT to inc...   \n",
       "3         3687554  New Single Family construction - Total Sq foot...   \n",
       "4         3306701  TO CONSTRUCT A NEW SINGLE FAMILY RES AT 2380 S...   \n",
       "\n",
       "   Council District  Census Tract  \\\n",
       "0               8.0    37011002.0   \n",
       "1               8.0    37010802.0   \n",
       "2              25.0    37017901.0   \n",
       "3              14.0    37015402.0   \n",
       "4              32.0    37015630.0   \n",
       "\n",
       "                                     Mapped Location  \n",
       "0  600 MAPLEWOOD LN\\nNASHVILLE, TN 37216\\n(36.228...  \n",
       "1                   812 BRIAR CIR\\nMADISON, TN 37115  \n",
       "2  2171 GREEN HILLS VILLAGE DR\\nNASHVILLE, TN 372...  \n",
       "3          4327 STONE HALL BLVD\\nHERMITAGE, TN 37076  \n",
       "4  704 ABERCORN CT\\nANTIOCH, TN 37013\\n(36.045042...  "
      ]
     },
     "execution_count": 3,
     "metadata": {},
     "output_type": "execute_result"
    }
   ],
   "source": [
    "building_permits.head()"
   ]
  },
  {
   "cell_type": "code",
   "execution_count": 4,
   "metadata": {},
   "outputs": [
    {
     "data": {
      "text/html": [
       "<div>\n",
       "<style scoped>\n",
       "    .dataframe tbody tr th:only-of-type {\n",
       "        vertical-align: middle;\n",
       "    }\n",
       "\n",
       "    .dataframe tbody tr th {\n",
       "        vertical-align: top;\n",
       "    }\n",
       "\n",
       "    .dataframe thead th {\n",
       "        text-align: right;\n",
       "    }\n",
       "</style>\n",
       "<table border=\"1\" class=\"dataframe\">\n",
       "  <thead>\n",
       "    <tr style=\"text-align: right;\">\n",
       "      <th></th>\n",
       "      <th>Permit #</th>\n",
       "      <th>Permit Type Description</th>\n",
       "      <th>Permit Subtype Description</th>\n",
       "      <th>Parcel</th>\n",
       "      <th>Date Entered</th>\n",
       "      <th>Date Issued</th>\n",
       "      <th>Construction Cost</th>\n",
       "      <th>Address</th>\n",
       "      <th>City</th>\n",
       "      <th>State</th>\n",
       "      <th>ZIP</th>\n",
       "      <th>Subdivision / Lot</th>\n",
       "      <th>Contact</th>\n",
       "      <th>Permit Type</th>\n",
       "      <th>Permit Subtype</th>\n",
       "      <th>IVR Tracking #</th>\n",
       "      <th>Purpose</th>\n",
       "      <th>Council District</th>\n",
       "      <th>Census Tract</th>\n",
       "      <th>Mapped Location</th>\n",
       "    </tr>\n",
       "  </thead>\n",
       "  <tbody>\n",
       "    <tr>\n",
       "      <th>34467</th>\n",
       "      <td>2017062064</td>\n",
       "      <td>Building Residential - Addition</td>\n",
       "      <td>Single Family Residence</td>\n",
       "      <td>07209025900</td>\n",
       "      <td>09/25/2017</td>\n",
       "      <td>09/25/2017</td>\n",
       "      <td>57452.0</td>\n",
       "      <td>1001  FAIRWIN AVE</td>\n",
       "      <td>NASHVILLE</td>\n",
       "      <td>TN</td>\n",
       "      <td>37216</td>\n",
       "      <td>LOT 21 ESKRIDGE SUB</td>\n",
       "      <td>DOTSON GROUP LLC</td>\n",
       "      <td>CARA</td>\n",
       "      <td>CAA01R301</td>\n",
       "      <td>3408732</td>\n",
       "      <td>to construct 510SF addition to the rear of exi...</td>\n",
       "      <td>5.0</td>\n",
       "      <td>37011400.0</td>\n",
       "      <td>1001 FAIRWIN AVE\\nNASHVILLE, TN 37216\\n(36.199...</td>\n",
       "    </tr>\n",
       "    <tr>\n",
       "      <th>34468</th>\n",
       "      <td>2017080442</td>\n",
       "      <td>Building Residential - Addition</td>\n",
       "      <td>Single Family Residence</td>\n",
       "      <td>13004005000</td>\n",
       "      <td>12/18/2017</td>\n",
       "      <td>01/08/2018</td>\n",
       "      <td>300000.0</td>\n",
       "      <td>4215  SNEED RD</td>\n",
       "      <td>NASHVILLE</td>\n",
       "      <td>TN</td>\n",
       "      <td>37215</td>\n",
       "      <td>PT LOT 4 BELLEMEADE ANNEX</td>\n",
       "      <td>VAN MOL RESTORATION LLC</td>\n",
       "      <td>CARA</td>\n",
       "      <td>CAA01R301</td>\n",
       "      <td>3433097</td>\n",
       "      <td>Remodel Kitchen. Open back wall of home to add...</td>\n",
       "      <td>34.0</td>\n",
       "      <td>37017902.0</td>\n",
       "      <td>4215 SNEED RD\\nNASHVILLE, TN 37215\\n(36.100397...</td>\n",
       "    </tr>\n",
       "    <tr>\n",
       "      <th>34469</th>\n",
       "      <td>2018065491</td>\n",
       "      <td>Building Residential - Addition</td>\n",
       "      <td>Single Family Residence</td>\n",
       "      <td>08307030200</td>\n",
       "      <td>10/16/2018</td>\n",
       "      <td>10/30/2018</td>\n",
       "      <td>161540.0</td>\n",
       "      <td>2212  EASTLAND AVE</td>\n",
       "      <td>NASHVILLE</td>\n",
       "      <td>TN</td>\n",
       "      <td>37206</td>\n",
       "      <td>PT LOT 2 ROLLING ACRES</td>\n",
       "      <td>ALFORD BUILDERS, LLC</td>\n",
       "      <td>CARA</td>\n",
       "      <td>CAA01R301</td>\n",
       "      <td>3569305</td>\n",
       "      <td>to construct 2 story addition which will add 1...</td>\n",
       "      <td>6.0</td>\n",
       "      <td>37012100.0</td>\n",
       "      <td>2212 EASTLAND AVE\\nNASHVILLE, TN 37206\\n(36.18...</td>\n",
       "    </tr>\n",
       "    <tr>\n",
       "      <th>34470</th>\n",
       "      <td>2017019524</td>\n",
       "      <td>Building Residential - Addition</td>\n",
       "      <td>Single Family Residence</td>\n",
       "      <td>04313027400</td>\n",
       "      <td>03/22/2017</td>\n",
       "      <td>03/22/2017</td>\n",
       "      <td>20000.0</td>\n",
       "      <td>316  CHERRY ST</td>\n",
       "      <td>MADISON</td>\n",
       "      <td>TN</td>\n",
       "      <td>37115</td>\n",
       "      <td>LOT 25 BLK C CRITTENDEN EST</td>\n",
       "      <td>SELF CONTRACTOR RESIDENTIAL (SEE APPLICANT INF...</td>\n",
       "      <td>CARA</td>\n",
       "      <td>CAA01R301</td>\n",
       "      <td>3338760</td>\n",
       "      <td>EXISTING ONE STORY HOUSE.\\nTHIS PERMIT:\\n1...N...</td>\n",
       "      <td>9.0</td>\n",
       "      <td>37010701.0</td>\n",
       "      <td>316 CHERRY ST\\nMADISON, TN 37115\\n(36.258694, ...</td>\n",
       "    </tr>\n",
       "    <tr>\n",
       "      <th>34471</th>\n",
       "      <td>2018008218</td>\n",
       "      <td>Building Commercial - Rehab</td>\n",
       "      <td>General Office, Professional Services</td>\n",
       "      <td>03409008400</td>\n",
       "      <td>02/13/2018</td>\n",
       "      <td>04/17/2018</td>\n",
       "      <td>14000.0</td>\n",
       "      <td>131  EDENWOLD RD</td>\n",
       "      <td>MADISON</td>\n",
       "      <td>TN</td>\n",
       "      <td>37115</td>\n",
       "      <td>LOTS 18 19 PT 20 BLK A EDENWOLD CITY SUB</td>\n",
       "      <td>sergy motorny</td>\n",
       "      <td>CACR</td>\n",
       "      <td>CAD02B016</td>\n",
       "      <td>3446279</td>\n",
       "      <td>BUILDING AT 2100 SQFT WITH UNFINISH ATTIC AT A...</td>\n",
       "      <td>10.0</td>\n",
       "      <td>37010401.0</td>\n",
       "      <td>131 EDENWOLD RD\\nMADISON, TN 37115\\n(36.287001...</td>\n",
       "    </tr>\n",
       "    <tr>\n",
       "      <th>34472</th>\n",
       "      <td>2017044878</td>\n",
       "      <td>Building Sign Permit</td>\n",
       "      <td>Sign - Ground /  Wall Signs</td>\n",
       "      <td>09306208500</td>\n",
       "      <td>07/10/2017</td>\n",
       "      <td>08/23/2017</td>\n",
       "      <td>5000.0</td>\n",
       "      <td>110  2ND AVE N</td>\n",
       "      <td>NASHVILLE</td>\n",
       "      <td>TN</td>\n",
       "      <td>37201</td>\n",
       "      <td>PT LOT 15 ORIGINAL TOWN OF NASHVILLE</td>\n",
       "      <td>GENERAL SIGN SERVICES</td>\n",
       "      <td>CASN</td>\n",
       "      <td>CAZ02A001</td>\n",
       "      <td>3384196</td>\n",
       "      <td>to erect 28SF illuminated wall sign for Famous...</td>\n",
       "      <td>19.0</td>\n",
       "      <td>37019500.0</td>\n",
       "      <td>110 2ND AVE N\\nNASHVILLE, TN 37201\\n(36.162296...</td>\n",
       "    </tr>\n",
       "    <tr>\n",
       "      <th>34473</th>\n",
       "      <td>2018059022</td>\n",
       "      <td>Building Residential - New</td>\n",
       "      <td>Single Family Residence</td>\n",
       "      <td>163020C32000CO</td>\n",
       "      <td>09/17/2018</td>\n",
       "      <td>09/26/2018</td>\n",
       "      <td>140813.0</td>\n",
       "      <td>1382  RURAL HILL RD  320</td>\n",
       "      <td>ANTIOCH</td>\n",
       "      <td>TN</td>\n",
       "      <td>37013</td>\n",
       "      <td>UNIT 320 AUTUMN RIDGE TOWNHOMES 3RD AMEND</td>\n",
       "      <td>R J YORK HOMES LLC</td>\n",
       "      <td>CARN</td>\n",
       "      <td>CAA01R301</td>\n",
       "      <td>3560019</td>\n",
       "      <td>TO CONSTRUCT A NEW SINGLE FAMILY UNIT AT 1250 ...</td>\n",
       "      <td>32.0</td>\n",
       "      <td>37015628.0</td>\n",
       "      <td>1382 RURAL HILL RD 320\\nANTIOCH, TN 37013\\n(36...</td>\n",
       "    </tr>\n",
       "  </tbody>\n",
       "</table>\n",
       "</div>"
      ],
      "text/plain": [
       "         Permit #          Permit Type Description  \\\n",
       "34467  2017062064  Building Residential - Addition   \n",
       "34468  2017080442  Building Residential - Addition   \n",
       "34469  2018065491  Building Residential - Addition   \n",
       "34470  2017019524  Building Residential - Addition   \n",
       "34471  2018008218      Building Commercial - Rehab   \n",
       "34472  2017044878             Building Sign Permit   \n",
       "34473  2018059022       Building Residential - New   \n",
       "\n",
       "                  Permit Subtype Description          Parcel Date Entered  \\\n",
       "34467                Single Family Residence     07209025900   09/25/2017   \n",
       "34468                Single Family Residence     13004005000   12/18/2017   \n",
       "34469                Single Family Residence     08307030200   10/16/2018   \n",
       "34470                Single Family Residence     04313027400   03/22/2017   \n",
       "34471  General Office, Professional Services     03409008400   02/13/2018   \n",
       "34472            Sign - Ground /  Wall Signs     09306208500   07/10/2017   \n",
       "34473                Single Family Residence  163020C32000CO   09/17/2018   \n",
       "\n",
       "      Date Issued  Construction Cost                   Address       City  \\\n",
       "34467  09/25/2017            57452.0         1001  FAIRWIN AVE  NASHVILLE   \n",
       "34468  01/08/2018           300000.0            4215  SNEED RD  NASHVILLE   \n",
       "34469  10/30/2018           161540.0        2212  EASTLAND AVE  NASHVILLE   \n",
       "34470  03/22/2017            20000.0            316  CHERRY ST    MADISON   \n",
       "34471  04/17/2018            14000.0          131  EDENWOLD RD    MADISON   \n",
       "34472  08/23/2017             5000.0            110  2ND AVE N  NASHVILLE   \n",
       "34473  09/26/2018           140813.0  1382  RURAL HILL RD  320    ANTIOCH   \n",
       "\n",
       "      State    ZIP                          Subdivision / Lot  \\\n",
       "34467    TN  37216                        LOT 21 ESKRIDGE SUB   \n",
       "34468    TN  37215                  PT LOT 4 BELLEMEADE ANNEX   \n",
       "34469    TN  37206                     PT LOT 2 ROLLING ACRES   \n",
       "34470    TN  37115                LOT 25 BLK C CRITTENDEN EST   \n",
       "34471    TN  37115   LOTS 18 19 PT 20 BLK A EDENWOLD CITY SUB   \n",
       "34472    TN  37201       PT LOT 15 ORIGINAL TOWN OF NASHVILLE   \n",
       "34473    TN  37013  UNIT 320 AUTUMN RIDGE TOWNHOMES 3RD AMEND   \n",
       "\n",
       "                                                 Contact Permit Type  \\\n",
       "34467                                   DOTSON GROUP LLC        CARA   \n",
       "34468                            VAN MOL RESTORATION LLC        CARA   \n",
       "34469                               ALFORD BUILDERS, LLC        CARA   \n",
       "34470  SELF CONTRACTOR RESIDENTIAL (SEE APPLICANT INF...        CARA   \n",
       "34471                                      sergy motorny        CACR   \n",
       "34472                              GENERAL SIGN SERVICES        CASN   \n",
       "34473                                 R J YORK HOMES LLC        CARN   \n",
       "\n",
       "      Permit Subtype  IVR Tracking #  \\\n",
       "34467      CAA01R301         3408732   \n",
       "34468      CAA01R301         3433097   \n",
       "34469      CAA01R301         3569305   \n",
       "34470      CAA01R301         3338760   \n",
       "34471      CAD02B016         3446279   \n",
       "34472      CAZ02A001         3384196   \n",
       "34473      CAA01R301         3560019   \n",
       "\n",
       "                                                 Purpose  Council District  \\\n",
       "34467  to construct 510SF addition to the rear of exi...               5.0   \n",
       "34468  Remodel Kitchen. Open back wall of home to add...              34.0   \n",
       "34469  to construct 2 story addition which will add 1...               6.0   \n",
       "34470  EXISTING ONE STORY HOUSE.\\nTHIS PERMIT:\\n1...N...               9.0   \n",
       "34471  BUILDING AT 2100 SQFT WITH UNFINISH ATTIC AT A...              10.0   \n",
       "34472  to erect 28SF illuminated wall sign for Famous...              19.0   \n",
       "34473  TO CONSTRUCT A NEW SINGLE FAMILY UNIT AT 1250 ...              32.0   \n",
       "\n",
       "       Census Tract                                    Mapped Location  \n",
       "34467    37011400.0  1001 FAIRWIN AVE\\nNASHVILLE, TN 37216\\n(36.199...  \n",
       "34468    37017902.0  4215 SNEED RD\\nNASHVILLE, TN 37215\\n(36.100397...  \n",
       "34469    37012100.0  2212 EASTLAND AVE\\nNASHVILLE, TN 37206\\n(36.18...  \n",
       "34470    37010701.0  316 CHERRY ST\\nMADISON, TN 37115\\n(36.258694, ...  \n",
       "34471    37010401.0  131 EDENWOLD RD\\nMADISON, TN 37115\\n(36.287001...  \n",
       "34472    37019500.0  110 2ND AVE N\\nNASHVILLE, TN 37201\\n(36.162296...  \n",
       "34473    37015628.0  1382 RURAL HILL RD 320\\nANTIOCH, TN 37013\\n(36...  "
      ]
     },
     "execution_count": 4,
     "metadata": {},
     "output_type": "execute_result"
    }
   ],
   "source": [
    "building_permits.tail(7)"
   ]
  },
  {
   "cell_type": "code",
   "execution_count": 5,
   "metadata": {},
   "outputs": [
    {
     "data": {
      "text/plain": [
       "(34474, 20)"
      ]
     },
     "execution_count": 5,
     "metadata": {},
     "output_type": "execute_result"
    }
   ],
   "source": [
    "building_permits.shape"
   ]
  },
  {
   "cell_type": "code",
   "execution_count": 6,
   "metadata": {},
   "outputs": [
    {
     "data": {
      "text/plain": [
       "Index(['Permit #', 'Permit Type Description', 'Permit Subtype Description',\n",
       "       'Parcel', 'Date Entered', 'Date Issued', 'Construction Cost', 'Address',\n",
       "       'City', 'State', 'ZIP', 'Subdivision / Lot', 'Contact', 'Permit Type',\n",
       "       'Permit Subtype', 'IVR Tracking #', 'Purpose', 'Council District',\n",
       "       'Census Tract', 'Mapped Location'],\n",
       "      dtype='object')"
      ]
     },
     "execution_count": 6,
     "metadata": {},
     "output_type": "execute_result"
    }
   ],
   "source": [
    "building_permits.columns"
   ]
  },
  {
   "cell_type": "code",
   "execution_count": 7,
   "metadata": {},
   "outputs": [],
   "source": [
    "keep_cols = ['Permit #',\n",
    "'Permit Type Description',\n",
    "'Permit Subtype Description',\n",
    "'Parcel',\n",
    "'Date Entered',\n",
    "'Date Issued',\n",
    "'Construction Cost',\n",
    "'Address',\n",
    "'City',\n",
    "'State',\n",
    "'ZIP',\n",
    "'Contact',\n",
    "'Purpose',\n",
    "'Council District',]"
   ]
  },
  {
   "cell_type": "code",
   "execution_count": 8,
   "metadata": {},
   "outputs": [],
   "source": [
    "building_permits = building_permits[keep_cols]"
   ]
  },
  {
   "cell_type": "code",
   "execution_count": 9,
   "metadata": {},
   "outputs": [],
   "source": [
    "rename_cols = [\n",
    "    'number',\n",
    "    'type_desc',\n",
    "    'subtype_desc',\n",
    "    'parcel',\n",
    "    'date_entered',\n",
    "    'date_issued',\n",
    "    'cost',\n",
    "    'address',\n",
    "    'city',\n",
    "    'state',\n",
    "    'zip_code',\n",
    "    'contact',\n",
    "    'purpose',\n",
    "    'council_district',\n",
    "]"
   ]
  },
  {
   "cell_type": "code",
   "execution_count": 10,
   "metadata": {},
   "outputs": [],
   "source": [
    "building_permits.columns = rename_cols"
   ]
  },
  {
   "cell_type": "code",
   "execution_count": 11,
   "metadata": {},
   "outputs": [
    {
     "data": {
      "text/plain": [
       "SELF CONTRACTOR RESIDENTIAL (SEE APPLICANT INFORMATION)    3061\n",
       "SELF CONTRACTOR COMMERCIAL (SEE APPLICANT INFORMATION)      746\n",
       "OLE SOUTH PROPERTIES INC                                    601\n",
       "NVR, INC. T/A RYAN HOMES                                    581\n",
       "JOSLIN SIGN & MAINTENANCE CO INC                            520\n",
       "                                                           ... \n",
       "Rachel Miller                                                 1\n",
       "nasser ghaly                                                  1\n",
       "Jim Lukens                                                    1\n",
       "SHAUB REMODELING LLC                                          1\n",
       "tyrone cole                                                   1\n",
       "Name: contact, Length: 4555, dtype: int64"
      ]
     },
     "execution_count": 11,
     "metadata": {},
     "output_type": "execute_result"
    }
   ],
   "source": [
    "building_permits['contact'].value_counts()"
   ]
  },
  {
   "cell_type": "markdown",
   "metadata": {},
   "source": [
    "OLE SOUTH PROPERTIES INC, 601"
   ]
  },
  {
   "cell_type": "code",
   "execution_count": 12,
   "metadata": {},
   "outputs": [],
   "source": [
    "description_counts = building_permits['type_desc'].value_counts().reset_index()\n",
    "description_counts.columns = ['type_desc', 'type_desc_count']"
   ]
  },
  {
   "cell_type": "code",
   "execution_count": 13,
   "metadata": {},
   "outputs": [
    {
     "data": {
      "text/plain": [
       "True"
      ]
     },
     "execution_count": 13,
     "metadata": {},
     "output_type": "execute_result"
    }
   ],
   "source": [
    "sum(description_counts[description_counts['type_desc'].str.contains('Residential')]['type_desc_count']) > sum(description_counts[description_counts['type_desc'].str.contains('Commercial')]['type_desc_count'])\n"
   ]
  },
  {
   "cell_type": "code",
   "execution_count": 14,
   "metadata": {},
   "outputs": [
    {
     "data": {
      "text/plain": [
       "20396"
      ]
     },
     "execution_count": 14,
     "metadata": {},
     "output_type": "execute_result"
    }
   ],
   "source": [
    "sum(description_counts[description_counts['type_desc'].str.contains('Residential')]['type_desc_count'])"
   ]
  },
  {
   "cell_type": "code",
   "execution_count": 15,
   "metadata": {},
   "outputs": [
    {
     "data": {
      "text/plain": [
       "6574"
      ]
     },
     "execution_count": 15,
     "metadata": {},
     "output_type": "execute_result"
    }
   ],
   "source": [
    "sum(description_counts[description_counts['type_desc'].str.contains('Commercial')]['type_desc_count'])"
   ]
  },
  {
   "cell_type": "code",
   "execution_count": 16,
   "metadata": {},
   "outputs": [
    {
     "data": {
      "text/plain": [
       "7504"
      ]
     },
     "execution_count": 16,
     "metadata": {},
     "output_type": "execute_result"
    }
   ],
   "source": [
    "sum(description_counts[(~description_counts['type_desc'].str.contains('Residential'))&(~description_counts['type_desc'].str.contains('Commercial'))]['type_desc_count'])"
   ]
  },
  {
   "cell_type": "code",
   "execution_count": 17,
   "metadata": {},
   "outputs": [
    {
     "data": {
      "text/plain": [
       "131412660.0"
      ]
     },
     "execution_count": 17,
     "metadata": {},
     "output_type": "execute_result"
    }
   ],
   "source": [
    "max(building_permits['cost'])"
   ]
  },
  {
   "cell_type": "code",
   "execution_count": 18,
   "metadata": {},
   "outputs": [
    {
     "data": {
      "text/plain": [
       "0.0"
      ]
     },
     "execution_count": 18,
     "metadata": {},
     "output_type": "execute_result"
    }
   ],
   "source": [
    "min(building_permits['cost'])"
   ]
  },
  {
   "cell_type": "code",
   "execution_count": 19,
   "metadata": {
    "scrolled": false
   },
   "outputs": [
    {
     "name": "stderr",
     "output_type": "stream",
     "text": [
      "/Users/maheshrao/anaconda3/envs/jumpstart/lib/python3.7/site-packages/numpy/lib/histograms.py:839: RuntimeWarning: invalid value encountered in greater_equal\n",
      "  keep = (tmp_a >= first_edge)\n",
      "/Users/maheshrao/anaconda3/envs/jumpstart/lib/python3.7/site-packages/numpy/lib/histograms.py:840: RuntimeWarning: invalid value encountered in less_equal\n",
      "  keep &= (tmp_a <= last_edge)\n"
     ]
    },
    {
     "data": {
      "text/plain": [
       "''"
      ]
     },
     "execution_count": 19,
     "metadata": {},
     "output_type": "execute_result"
    },
    {
     "data": {
      "image/png": "[encoded data removed]",
      "text/plain": [
       "<Figure size 1440x360 with 1 Axes>"
      ]
     },
     "metadata": {
      "needs_background": "light"
     },
     "output_type": "display_data"
    }
   ],
   "source": [
    "plt.figure(figsize = (20, 5))\n",
    "plt.hist(building_permits['cost'], bins = 1000)\n",
    "#plt.yscale('log')\n",
    ";"
   ]
  },
  {
   "cell_type": "markdown",
   "metadata": {},
   "source": [
    "---\n",
    "# WEEK 2"
   ]
  },
  {
   "cell_type": "code",
   "execution_count": 20,
   "metadata": {},
   "outputs": [],
   "source": [
    "building_permits['date_entered'] = pd.to_datetime(building_permits['date_entered'])\n",
    "building_permits['date_issued'] = pd.to_datetime(building_permits['date_issued'])"
   ]
  },
  {
   "cell_type": "code",
   "execution_count": 21,
   "metadata": {},
   "outputs": [],
   "source": [
    "building_permits['lapse'] = building_permits['date_issued'] - building_permits['date_entered']"
   ]
  },
  {
   "cell_type": "code",
   "execution_count": 22,
   "metadata": {},
   "outputs": [
    {
     "data": {
      "text/plain": [
       "Timedelta('3371 days 00:00:00')"
      ]
     },
     "execution_count": 22,
     "metadata": {},
     "output_type": "execute_result"
    }
   ],
   "source": [
    "max(building_permits['lapse'])"
   ]
  },
  {
   "cell_type": "code",
   "execution_count": 23,
   "metadata": {},
   "outputs": [
    {
     "data": {
      "text/plain": [
       "Timedelta('0 days 00:00:00')"
      ]
     },
     "execution_count": 23,
     "metadata": {},
     "output_type": "execute_result"
    }
   ],
   "source": [
    "min(building_permits['lapse'])"
   ]
  },
  {
   "cell_type": "raw",
   "metadata": {},
   "source": [
    "# two ways to do it. I'm not sure if this should be included.\n",
    "\n",
    "print(len(building_permits[building_permits['lapse'] > pd.Timedelta('100 days')]))\n",
    "\n",
    "building_permits['lapse_days'] = building_permits['lapse'].astype(str).str.split(' ').str[0].astype(int)\n",
    "print(len(building_permits[building_permits['lapse_days'] > 100]))"
   ]
  },
  {
   "cell_type": "code",
   "execution_count": 24,
   "metadata": {},
   "outputs": [
    {
     "data": {
      "text/plain": [
       "962"
      ]
     },
     "execution_count": 24,
     "metadata": {},
     "output_type": "execute_result"
    }
   ],
   "source": [
    "len(building_permits[(building_permits['date_issued'].dt.month == 9)&(building_permits['date_issued'].dt.year == 2019)])"
   ]
  },
  {
   "cell_type": "code",
   "execution_count": 25,
   "metadata": {},
   "outputs": [],
   "source": [
    "building_permits['year'] = building_permits['date_issued'].dt.year"
   ]
  },
  {
   "cell_type": "code",
   "execution_count": 26,
   "metadata": {},
   "outputs": [
    {
     "data": {
      "text/plain": [
       "array([2019, 2017, 2018, 2016])"
      ]
     },
     "execution_count": 26,
     "metadata": {},
     "output_type": "execute_result"
    }
   ],
   "source": [
    "building_permits['year'].unique()"
   ]
  },
  {
   "cell_type": "code",
   "execution_count": 27,
   "metadata": {},
   "outputs": [],
   "source": [
    "building_permits_2019 = building_permits[building_permits['year'] == 2019]"
   ]
  },
  {
   "cell_type": "code",
   "execution_count": 28,
   "metadata": {},
   "outputs": [],
   "source": [
    "building_permits_2019_zip_gb = building_permits_2019.groupby('zip_code').count().reset_index().iloc[:,:2]"
   ]
  },
  {
   "cell_type": "code",
   "execution_count": 29,
   "metadata": {},
   "outputs": [],
   "source": [
    "building_permits_2019_zip_gb.columns = ['zip_code', 'zip_count']\n",
    "building_permits_2019_zip_gb['zip_code'] = building_permits_2019_zip_gb['zip_code'].astype(str)"
   ]
  },
  {
   "cell_type": "code",
   "execution_count": 30,
   "metadata": {},
   "outputs": [
    {
     "data": {
      "image/png": "[encoded data removed]",
      "text/plain": [
       "<Figure size 1440x360 with 1 Axes>"
      ]
     },
     "metadata": {
      "needs_background": "light"
     },
     "output_type": "display_data"
    }
   ],
   "source": [
    "plt.figure(figsize = (20, 5))\n",
    "plt.bar(building_permits_2019_zip_gb['zip_code'], building_permits_2019_zip_gb['zip_count'])\n",
    "plt.xticks(rotation = 90);"
   ]
  },
  {
   "cell_type": "code",
   "execution_count": 31,
   "metadata": {},
   "outputs": [],
   "source": [
    "short_term_rental_permits = pd.read_csv('../data/Residential_Short_Term_Rental_Permits.csv')"
   ]
  },
  {
   "cell_type": "code",
   "execution_count": 32,
   "metadata": {},
   "outputs": [],
   "source": [
    "short_term_rental_permits = short_term_rental_permits[['Permit #', 'Applicant', 'Contact', 'Permit Subtype Description', 'Permit Status', 'Parcel', 'Date Entered', 'Date Issued', 'Expiration Date', 'Address', 'City', 'State', 'ZIP', 'Purpose', 'Permit Owner Name', 'Permit Type', 'Council District']]"
   ]
  },
  {
   "cell_type": "code",
   "execution_count": 33,
   "metadata": {},
   "outputs": [],
   "source": [
    "short_term_rental_permits.columns =['id', 'applicant', 'contact', 'subtype_desc', 'status', 'parcel', 'entered', 'issued',  'expiration', 'address', 'city', 'state', 'zip_code', 'purpose', 'permit_owner_name', 'type', 'council_district']"
   ]
  },
  {
   "cell_type": "code",
   "execution_count": 34,
   "metadata": {},
   "outputs": [],
   "source": [
    "short_term_rental_permits['issued'] = pd.to_datetime(short_term_rental_permits['issued'])"
   ]
  },
  {
   "cell_type": "code",
   "execution_count": 35,
   "metadata": {},
   "outputs": [],
   "source": [
    "strp_2019 = short_term_rental_permits[(short_term_rental_permits['issued'] <= max(building_permits_2019['date_issued']))&\n",
    "                                                      (short_term_rental_permits['issued'] >= min(building_permits_2019['date_issued']))]"
   ]
  },
  {
   "cell_type": "code",
   "execution_count": 36,
   "metadata": {},
   "outputs": [],
   "source": [
    "strp_2019_zip_gb = strp_2019.groupby('zip_code').count().reset_index().iloc[:,:2]\n",
    "strp_2019_zip_gb.columns = ['zip_code', 'zip_count']\n",
    "strp_2019_zip_gb['zip_code'] = strp_2019_zip_gb['zip_code'].astype(str)"
   ]
  },
  {
   "cell_type": "code",
   "execution_count": 37,
   "metadata": {},
   "outputs": [],
   "source": [
    "strp_2019_zip_gb['permit_type'] = 'short_term_rental'\n",
    "building_permits_2019_zip_gb['permit_type'] = 'building'"
   ]
  },
  {
   "cell_type": "code",
   "execution_count": 38,
   "metadata": {},
   "outputs": [],
   "source": [
    "building_strp_2019 = pd.concat([building_permits_2019_zip_gb, strp_2019_zip_gb])"
   ]
  },
  {
   "cell_type": "code",
   "execution_count": 39,
   "metadata": {},
   "outputs": [
    {
     "data": {
      "image/png": "[encoded data removed]",
      "text/plain": [
       "<Figure size 988.875x432 with 1 Axes>"
      ]
     },
     "metadata": {
      "needs_background": "light"
     },
     "output_type": "display_data"
    }
   ],
   "source": [
    "g = sns.catplot(x=\"zip_code\", y=\"zip_count\", hue=\"permit_type\", data=building_strp_2019, kind=\"bar\", height = 6, aspect = 2)\n",
    "plt.xticks(rotation = 90);"
   ]
  },
  {
   "cell_type": "code",
   "execution_count": 40,
   "metadata": {},
   "outputs": [],
   "source": [
    "building_strp_merge = building_permits.merge(short_term_rental_permits, how = 'inner', on = 'parcel')"
   ]
  },
  {
   "cell_type": "code",
   "execution_count": 41,
   "metadata": {},
   "outputs": [
    {
     "data": {
      "text/plain": [
       "6290"
      ]
     },
     "execution_count": 41,
     "metadata": {},
     "output_type": "execute_result"
    }
   ],
   "source": [
    "len(building_strp_merge)"
   ]
  },
  {
   "cell_type": "code",
   "execution_count": 42,
   "metadata": {},
   "outputs": [
    {
     "data": {
      "text/plain": [
       "1623"
      ]
     },
     "execution_count": 42,
     "metadata": {},
     "output_type": "execute_result"
    }
   ],
   "source": [
    "# strp happened before build\n",
    "len(building_strp_merge[building_strp_merge['date_issued'] > building_strp_merge['issued']])"
   ]
  },
  {
   "cell_type": "code",
   "execution_count": 43,
   "metadata": {},
   "outputs": [
    {
     "data": {
      "text/plain": [
       "4050"
      ]
     },
     "execution_count": 43,
     "metadata": {},
     "output_type": "execute_result"
    }
   ],
   "source": [
    "# strp happened after build\n",
    "len(building_strp_merge[building_strp_merge['date_issued'] < building_strp_merge['issued']])"
   ]
  },
  {
   "cell_type": "code",
   "execution_count": 44,
   "metadata": {},
   "outputs": [
    {
     "data": {
      "text/plain": [
       "617"
      ]
     },
     "execution_count": 44,
     "metadata": {},
     "output_type": "execute_result"
    }
   ],
   "source": [
    "# 617 happened at the same time\n",
    "6290-(4050+1623)"
   ]
  },
  {
   "cell_type": "code",
   "execution_count": 45,
   "metadata": {},
   "outputs": [],
   "source": [
    "# strp usually happens before build, but not by a huge amount"
   ]
  },
  {
   "cell_type": "code",
   "execution_count": 46,
   "metadata": {},
   "outputs": [
    {
     "data": {
      "text/html": [
       "<div style=\"width:100%;\"><div style=\"position:relative;width:100%;height:0;padding-bottom:60%;\"><iframe src=\"data:text/html;charset=utf-8;base64,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\" style=\"position:absolute;width:100%;height:100%;left:0;top:0;border:none !important;\" allowfullscreen webkitallowfullscreen mozallowfullscreen></iframe></div></div>"
      ],
      "text/plain": [
       "<folium.folium.Map at 0x1a21f05850>"
      ]
     },
     "execution_count": 46,
     "metadata": {},
     "output_type": "execute_result"
    }
   ],
   "source": [
    "nash_map = folium.Map(location=[36.1612, -86.7775], zoom_start=12)\n",
    "nash_map"
   ]
  },
  {
   "cell_type": "code",
   "execution_count": 47,
   "metadata": {},
   "outputs": [
    {
     "name": "stdout",
     "output_type": "stream",
     "text": [
      "[('fire_stations',)]\n"
     ]
    }
   ],
   "source": [
    "db = '../data/stations.db'\n",
    "con = sql.connect(db)\n",
    "mycursor = con.cursor() \n",
    "mycursor.execute(\"SELECT name FROM sqlite_master WHERE type='table' ORDER BY name;\")\n",
    "tables=(mycursor.fetchall())\n",
    "print(tables)"
   ]
  },
  {
   "cell_type": "code",
   "execution_count": 48,
   "metadata": {},
   "outputs": [],
   "source": [
    "fire_stations = pd.read_sql_query(\"SELECT * FROM fire_stations\", con)"
   ]
  },
  {
   "cell_type": "code",
   "execution_count": 49,
   "metadata": {},
   "outputs": [
    {
     "data": {
      "text/html": [
       "<div>\n",
       "<style scoped>\n",
       "    .dataframe tbody tr th:only-of-type {\n",
       "        vertical-align: middle;\n",
       "    }\n",
       "\n",
       "    .dataframe tbody tr th {\n",
       "        vertical-align: top;\n",
       "    }\n",
       "\n",
       "    .dataframe thead th {\n",
       "        text-align: right;\n",
       "    }\n",
       "</style>\n",
       "<table border=\"1\" class=\"dataframe\">\n",
       "  <thead>\n",
       "    <tr style=\"text-align: right;\">\n",
       "      <th></th>\n",
       "      <th>district</th>\n",
       "      <th>station_number</th>\n",
       "      <th>address</th>\n",
       "      <th>city</th>\n",
       "      <th>state</th>\n",
       "      <th>lat</th>\n",
       "      <th>lng</th>\n",
       "    </tr>\n",
       "  </thead>\n",
       "  <tbody>\n",
       "    <tr>\n",
       "      <th>0</th>\n",
       "      <td>1</td>\n",
       "      <td>Station 30</td>\n",
       "      <td>3705 Old Clarksville Pike</td>\n",
       "      <td>Joelton</td>\n",
       "      <td>TN</td>\n",
       "      <td>36.316384</td>\n",
       "      <td>-86.876877</td>\n",
       "    </tr>\n",
       "    <tr>\n",
       "      <th>1</th>\n",
       "      <td>2</td>\n",
       "      <td>Station 24</td>\n",
       "      <td>3851 Clarksville Highway</td>\n",
       "      <td>Nashville</td>\n",
       "      <td>TN</td>\n",
       "      <td>36.203627</td>\n",
       "      <td>-86.840622</td>\n",
       "    </tr>\n",
       "    <tr>\n",
       "      <th>2</th>\n",
       "      <td>2</td>\n",
       "      <td>Station 25</td>\n",
       "      <td>2589 Whites Creek Pike</td>\n",
       "      <td>Nashville</td>\n",
       "      <td>TN</td>\n",
       "      <td>36.215851</td>\n",
       "      <td>-86.801616</td>\n",
       "    </tr>\n",
       "    <tr>\n",
       "      <th>3</th>\n",
       "      <td>8</td>\n",
       "      <td>Station 1</td>\n",
       "      <td>130 Broadmoor Avenue</td>\n",
       "      <td>Nashville</td>\n",
       "      <td>TN</td>\n",
       "      <td>36.229579</td>\n",
       "      <td>-86.757426</td>\n",
       "    </tr>\n",
       "    <tr>\n",
       "      <th>4</th>\n",
       "      <td>8</td>\n",
       "      <td>Station 31</td>\n",
       "      <td>415 Douglas Avenue</td>\n",
       "      <td>Madison</td>\n",
       "      <td>TN</td>\n",
       "      <td>36.259135</td>\n",
       "      <td>-86.716084</td>\n",
       "    </tr>\n",
       "  </tbody>\n",
       "</table>\n",
       "</div>"
      ],
      "text/plain": [
       "  district station_number                    address       city state  \\\n",
       "0        1     Station 30  3705 Old Clarksville Pike    Joelton    TN   \n",
       "1        2     Station 24   3851 Clarksville Highway  Nashville    TN   \n",
       "2        2     Station 25     2589 Whites Creek Pike  Nashville    TN   \n",
       "3        8      Station 1       130 Broadmoor Avenue  Nashville    TN   \n",
       "4        8     Station 31         415 Douglas Avenue    Madison    TN   \n",
       "\n",
       "         lat        lng  \n",
       "0  36.316384 -86.876877  \n",
       "1  36.203627 -86.840622  \n",
       "2  36.215851 -86.801616  \n",
       "3  36.229579 -86.757426  \n",
       "4  36.259135 -86.716084  "
      ]
     },
     "execution_count": 49,
     "metadata": {},
     "output_type": "execute_result"
    }
   ],
   "source": [
    "fire_stations.head()"
   ]
  },
  {
   "cell_type": "code",
   "execution_count": 50,
   "metadata": {},
   "outputs": [
    {
     "data": {
      "text/plain": [
       "(38, 7)"
      ]
     },
     "execution_count": 50,
     "metadata": {},
     "output_type": "execute_result"
    }
   ],
   "source": [
    "fire_stations.shape"
   ]
  },
  {
   "cell_type": "code",
   "execution_count": 51,
   "metadata": {},
   "outputs": [
    {
     "data": {
      "text/html": [
       "<div style=\"width:100%;\"><div style=\"position:relative;width:100%;height:0;padding-bottom:60%;\"><iframe src=\"data:text/html;charset=utf-8;base64,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\" style=\"position:absolute;width:100%;height:100%;left:0;top:0;border:none !important;\" allowfullscreen webkitallowfullscreen mozallowfullscreen></iframe></div></div>"
      ],
      "text/plain": [
       "<folium.folium.Map at 0x1a23ac4b10>"
      ]
     },
     "execution_count": 51,
     "metadata": {},
     "output_type": "execute_result"
    }
   ],
   "source": [
    "nash_map = folium.Map(location=[36.1612, -86.7775], zoom_start=12)\n",
    "for ind, row in fire_stations.iterrows():\n",
    "    point = [row['lat'], row['lng']]\n",
    "    folium.Marker(point, popup=row['station_number']).add_to(nash_map)\n",
    "nash_map"
   ]
  },
  {
   "cell_type": "code",
   "execution_count": 52,
   "metadata": {
    "scrolled": true
   },
   "outputs": [
    {
     "name": "stdout",
     "output_type": "stream",
     "text": [
      "[('permits_2018',), ('resident_survey_2018',), ('station_dist',), ('strp_2018',)]\n"
     ]
    }
   ],
   "source": [
    "db = '../data/multi_table.db'\n",
    "con = sql.connect(db)\n",
    "mycursor = con.cursor() \n",
    "mycursor.execute(\"SELECT name FROM sqlite_master WHERE type='table' ORDER BY name;\")\n",
    "tables=(mycursor.fetchall())\n",
    "print(tables)"
   ]
  },
  {
   "cell_type": "code",
   "execution_count": 53,
   "metadata": {},
   "outputs": [],
   "source": [
    "fire_council_survey = pd.read_sql_query(\"SELECT station_dist.district, station_dist.station_number, resident_survey_2018.fire_and_ems__overall, resident_survey_2018.fire_services, resident_survey_2018.fire_response_time, resident_survey_2018.fire_professionalism FROM strp_2018 INNER JOIN resident_survey_2018 ON resident_survey_2018.zip_code = strp_2018.zip LEFT JOIN station_dist ON station_dist.district = strp_2018.council_district\", con)"
   ]
  },
  {
   "cell_type": "code",
   "execution_count": 54,
   "metadata": {},
   "outputs": [
    {
     "data": {
      "text/html": [
       "<div>\n",
       "<style scoped>\n",
       "    .dataframe tbody tr th:only-of-type {\n",
       "        vertical-align: middle;\n",
       "    }\n",
       "\n",
       "    .dataframe tbody tr th {\n",
       "        vertical-align: top;\n",
       "    }\n",
       "\n",
       "    .dataframe thead th {\n",
       "        text-align: right;\n",
       "    }\n",
       "</style>\n",
       "<table border=\"1\" class=\"dataframe\">\n",
       "  <thead>\n",
       "    <tr style=\"text-align: right;\">\n",
       "      <th></th>\n",
       "      <th>district</th>\n",
       "      <th>station_number</th>\n",
       "      <th>fire_and_ems__overall</th>\n",
       "      <th>fire_services</th>\n",
       "      <th>fire_response_time</th>\n",
       "      <th>fire_professionalism</th>\n",
       "    </tr>\n",
       "  </thead>\n",
       "  <tbody>\n",
       "    <tr>\n",
       "      <th>255</th>\n",
       "      <td>1.0</td>\n",
       "      <td>['Station 30']</td>\n",
       "      <td>Satisfied</td>\n",
       "      <td>Satisfied</td>\n",
       "      <td>Satisfied</td>\n",
       "      <td>Satisfied</td>\n",
       "    </tr>\n",
       "    <tr>\n",
       "      <th>149</th>\n",
       "      <td>2.0</td>\n",
       "      <td>['Station 24' 'Station 25']</td>\n",
       "      <td>Satisfied</td>\n",
       "      <td>Satisfied</td>\n",
       "      <td>Don't Know</td>\n",
       "      <td>Don't Know</td>\n",
       "    </tr>\n",
       "    <tr>\n",
       "      <th>96</th>\n",
       "      <td>3.0</td>\n",
       "      <td>['Station 39']</td>\n",
       "      <td>Very Satisfied</td>\n",
       "      <td>Don't Know</td>\n",
       "      <td>Don't Know</td>\n",
       "      <td>Don't Know</td>\n",
       "    </tr>\n",
       "    <tr>\n",
       "      <th>306</th>\n",
       "      <td>4.0</td>\n",
       "      <td>[]</td>\n",
       "      <td>Very Satisfied</td>\n",
       "      <td>Satisfied</td>\n",
       "      <td>Satisfied</td>\n",
       "      <td>Satisfied</td>\n",
       "    </tr>\n",
       "    <tr>\n",
       "      <th>0</th>\n",
       "      <td>5.0</td>\n",
       "      <td>['Station 3']</td>\n",
       "      <td>Satisfied</td>\n",
       "      <td>Satisfied</td>\n",
       "      <td>Don't Know</td>\n",
       "      <td>Don't Know</td>\n",
       "    </tr>\n",
       "    <tr>\n",
       "      <th>23</th>\n",
       "      <td>6.0</td>\n",
       "      <td>['Station 14']</td>\n",
       "      <td>Satisfied</td>\n",
       "      <td>Satisfied</td>\n",
       "      <td>Satisfied</td>\n",
       "      <td>Don't Know</td>\n",
       "    </tr>\n",
       "    <tr>\n",
       "      <th>3</th>\n",
       "      <td>7.0</td>\n",
       "      <td>['Station 29' 'Station 18']</td>\n",
       "      <td>Satisfied</td>\n",
       "      <td>Neutral</td>\n",
       "      <td>Satisfied</td>\n",
       "      <td>Very Satisfied</td>\n",
       "    </tr>\n",
       "    <tr>\n",
       "      <th>6</th>\n",
       "      <td>8.0</td>\n",
       "      <td>['Station 1' 'Station 31']</td>\n",
       "      <td>Satisfied</td>\n",
       "      <td>Neutral</td>\n",
       "      <td>Satisfied</td>\n",
       "      <td>Very Satisfied</td>\n",
       "    </tr>\n",
       "    <tr>\n",
       "      <th>22</th>\n",
       "      <td>9.0</td>\n",
       "      <td>['Station 38']</td>\n",
       "      <td>Satisfied</td>\n",
       "      <td>Satisfied</td>\n",
       "      <td>Neutral</td>\n",
       "      <td>Don't Know</td>\n",
       "    </tr>\n",
       "    <tr>\n",
       "      <th>401</th>\n",
       "      <td>10.0</td>\n",
       "      <td>[]</td>\n",
       "      <td>Satisfied</td>\n",
       "      <td>Satisfied</td>\n",
       "      <td>Neutral</td>\n",
       "      <td>Don't Know</td>\n",
       "    </tr>\n",
       "    <tr>\n",
       "      <th>395</th>\n",
       "      <td>11.0</td>\n",
       "      <td>['Station 36']</td>\n",
       "      <td>Satisfied</td>\n",
       "      <td>Satisfied</td>\n",
       "      <td>Satisfied</td>\n",
       "      <td>Neutral</td>\n",
       "    </tr>\n",
       "    <tr>\n",
       "      <th>50</th>\n",
       "      <td>12.0</td>\n",
       "      <td>[]</td>\n",
       "      <td>Satisfied</td>\n",
       "      <td>Satisfied</td>\n",
       "      <td>Satisfied</td>\n",
       "      <td>Satisfied</td>\n",
       "    </tr>\n",
       "    <tr>\n",
       "      <th>126</th>\n",
       "      <td>13.0</td>\n",
       "      <td>['Station 15' 'Station 4']</td>\n",
       "      <td>Satisfied</td>\n",
       "      <td>Satisfied</td>\n",
       "      <td>Don't Know</td>\n",
       "      <td>Satisfied</td>\n",
       "    </tr>\n",
       "    <tr>\n",
       "      <th>150</th>\n",
       "      <td>14.0</td>\n",
       "      <td>['Station 32']</td>\n",
       "      <td>Satisfied</td>\n",
       "      <td>Satisfied</td>\n",
       "      <td>Satisfied</td>\n",
       "      <td>Satisfied</td>\n",
       "    </tr>\n",
       "    <tr>\n",
       "      <th>38</th>\n",
       "      <td>15.0</td>\n",
       "      <td>['Station 22' 'Station 28']</td>\n",
       "      <td>Satisfied</td>\n",
       "      <td>Satisfied</td>\n",
       "      <td>Don't Know</td>\n",
       "      <td>Satisfied</td>\n",
       "    </tr>\n",
       "    <tr>\n",
       "      <th>60</th>\n",
       "      <td>16.0</td>\n",
       "      <td>['Station 21']</td>\n",
       "      <td>Satisfied</td>\n",
       "      <td>Satisfied</td>\n",
       "      <td>Satisfied</td>\n",
       "      <td>Don't Know</td>\n",
       "    </tr>\n",
       "    <tr>\n",
       "      <th>5</th>\n",
       "      <td>17.0</td>\n",
       "      <td>['Station 12' 'Station 8' 'Station 5']</td>\n",
       "      <td>Satisfied</td>\n",
       "      <td>Don't Know</td>\n",
       "      <td>Don't Know</td>\n",
       "      <td>Don't Know</td>\n",
       "    </tr>\n",
       "    <tr>\n",
       "      <th>39</th>\n",
       "      <td>18.0</td>\n",
       "      <td>['Station 16']</td>\n",
       "      <td>Satisfied</td>\n",
       "      <td>Satisfied</td>\n",
       "      <td>Don't Know</td>\n",
       "      <td>Satisfied</td>\n",
       "    </tr>\n",
       "    <tr>\n",
       "      <th>8</th>\n",
       "      <td>19.0</td>\n",
       "      <td>['Station 9' 'Station 2']</td>\n",
       "      <td>Neutral</td>\n",
       "      <td>Neutral</td>\n",
       "      <td>Neutral</td>\n",
       "      <td>Neutral</td>\n",
       "    </tr>\n",
       "    <tr>\n",
       "      <th>29</th>\n",
       "      <td>20.0</td>\n",
       "      <td>['Station 23']</td>\n",
       "      <td>Satisfied</td>\n",
       "      <td>Don't Know</td>\n",
       "      <td>Don't Know</td>\n",
       "      <td>Don't Know</td>\n",
       "    </tr>\n",
       "    <tr>\n",
       "      <th>1</th>\n",
       "      <td>21.0</td>\n",
       "      <td>['Station 11' 'Station 19']</td>\n",
       "      <td>Satisfied</td>\n",
       "      <td>Don't Know</td>\n",
       "      <td>Don't Know</td>\n",
       "      <td>Don't Know</td>\n",
       "    </tr>\n",
       "    <tr>\n",
       "      <th>367</th>\n",
       "      <td>22.0</td>\n",
       "      <td>['Station 37']</td>\n",
       "      <td>Satisfied</td>\n",
       "      <td>Satisfied</td>\n",
       "      <td>Satisfied</td>\n",
       "      <td>Satisfied</td>\n",
       "    </tr>\n",
       "    <tr>\n",
       "      <th>81</th>\n",
       "      <td>23.0</td>\n",
       "      <td>['Station 7']</td>\n",
       "      <td>Satisfied</td>\n",
       "      <td>Satisfied</td>\n",
       "      <td>Don't Know</td>\n",
       "      <td>Satisfied</td>\n",
       "    </tr>\n",
       "    <tr>\n",
       "      <th>2</th>\n",
       "      <td>24.0</td>\n",
       "      <td>['Station 13' 'Station 17']</td>\n",
       "      <td>Satisfied</td>\n",
       "      <td>Don't Know</td>\n",
       "      <td>Don't Know</td>\n",
       "      <td>Don't Know</td>\n",
       "    </tr>\n",
       "    <tr>\n",
       "      <th>164</th>\n",
       "      <td>25.0</td>\n",
       "      <td>['Station 20']</td>\n",
       "      <td>Satisfied</td>\n",
       "      <td>Satisfied</td>\n",
       "      <td>Satisfied</td>\n",
       "      <td>Very Satisfied</td>\n",
       "    </tr>\n",
       "    <tr>\n",
       "      <th>66</th>\n",
       "      <td>26.0</td>\n",
       "      <td>['Station 27']</td>\n",
       "      <td>Very Satisfied</td>\n",
       "      <td>Satisfied</td>\n",
       "      <td>Satisfied</td>\n",
       "      <td>Satisfied</td>\n",
       "    </tr>\n",
       "    <tr>\n",
       "      <th>31</th>\n",
       "      <td>27.0</td>\n",
       "      <td>['Station 10']</td>\n",
       "      <td>Very Satisfied</td>\n",
       "      <td>Satisfied</td>\n",
       "      <td>Satisfied</td>\n",
       "      <td>Satisfied</td>\n",
       "    </tr>\n",
       "    <tr>\n",
       "      <th>167</th>\n",
       "      <td>28.0</td>\n",
       "      <td>[]</td>\n",
       "      <td>Very Satisfied</td>\n",
       "      <td>Satisfied</td>\n",
       "      <td>Satisfied</td>\n",
       "      <td>Satisfied</td>\n",
       "    </tr>\n",
       "    <tr>\n",
       "      <th>109</th>\n",
       "      <td>29.0</td>\n",
       "      <td>['Station 33']</td>\n",
       "      <td>Very Satisfied</td>\n",
       "      <td>Satisfied</td>\n",
       "      <td>Satisfied</td>\n",
       "      <td>Satisfied</td>\n",
       "    </tr>\n",
       "    <tr>\n",
       "      <th>348</th>\n",
       "      <td>30.0</td>\n",
       "      <td>['Station 6']</td>\n",
       "      <td>Very Satisfied</td>\n",
       "      <td>Satisfied</td>\n",
       "      <td>Satisfied</td>\n",
       "      <td>Satisfied</td>\n",
       "    </tr>\n",
       "    <tr>\n",
       "      <th>736</th>\n",
       "      <td>31.0</td>\n",
       "      <td>[]</td>\n",
       "      <td>Satisfied</td>\n",
       "      <td>Satisfied</td>\n",
       "      <td>Satisfied</td>\n",
       "      <td>Very Satisfied</td>\n",
       "    </tr>\n",
       "    <tr>\n",
       "      <th>304</th>\n",
       "      <td>33.0</td>\n",
       "      <td>['Station 35']</td>\n",
       "      <td>Satisfied</td>\n",
       "      <td>Satisfied</td>\n",
       "      <td>Satisfied</td>\n",
       "      <td>Satisfied</td>\n",
       "    </tr>\n",
       "    <tr>\n",
       "      <th>21</th>\n",
       "      <td>NaN</td>\n",
       "      <td>None</td>\n",
       "      <td>Satisfied</td>\n",
       "      <td>Don't Know</td>\n",
       "      <td>Don't Know</td>\n",
       "      <td>Don't Know</td>\n",
       "    </tr>\n",
       "  </tbody>\n",
       "</table>\n",
       "</div>"
      ],
      "text/plain": [
       "     district                          station_number fire_and_ems__overall  \\\n",
       "255       1.0                          ['Station 30']             Satisfied   \n",
       "149       2.0             ['Station 24' 'Station 25']             Satisfied   \n",
       "96        3.0                          ['Station 39']        Very Satisfied   \n",
       "306       4.0                                      []        Very Satisfied   \n",
       "0         5.0                           ['Station 3']             Satisfied   \n",
       "23        6.0                          ['Station 14']             Satisfied   \n",
       "3         7.0             ['Station 29' 'Station 18']             Satisfied   \n",
       "6         8.0              ['Station 1' 'Station 31']             Satisfied   \n",
       "22        9.0                          ['Station 38']             Satisfied   \n",
       "401      10.0                                      []             Satisfied   \n",
       "395      11.0                          ['Station 36']             Satisfied   \n",
       "50       12.0                                      []             Satisfied   \n",
       "126      13.0              ['Station 15' 'Station 4']             Satisfied   \n",
       "150      14.0                          ['Station 32']             Satisfied   \n",
       "38       15.0             ['Station 22' 'Station 28']             Satisfied   \n",
       "60       16.0                          ['Station 21']             Satisfied   \n",
       "5        17.0  ['Station 12' 'Station 8' 'Station 5']             Satisfied   \n",
       "39       18.0                          ['Station 16']             Satisfied   \n",
       "8        19.0               ['Station 9' 'Station 2']               Neutral   \n",
       "29       20.0                          ['Station 23']             Satisfied   \n",
       "1        21.0             ['Station 11' 'Station 19']             Satisfied   \n",
       "367      22.0                          ['Station 37']             Satisfied   \n",
       "81       23.0                           ['Station 7']             Satisfied   \n",
       "2        24.0             ['Station 13' 'Station 17']             Satisfied   \n",
       "164      25.0                          ['Station 20']             Satisfied   \n",
       "66       26.0                          ['Station 27']        Very Satisfied   \n",
       "31       27.0                          ['Station 10']        Very Satisfied   \n",
       "167      28.0                                      []        Very Satisfied   \n",
       "109      29.0                          ['Station 33']        Very Satisfied   \n",
       "348      30.0                           ['Station 6']        Very Satisfied   \n",
       "736      31.0                                      []             Satisfied   \n",
       "304      33.0                          ['Station 35']             Satisfied   \n",
       "21        NaN                                    None             Satisfied   \n",
       "\n",
       "    fire_services fire_response_time fire_professionalism  \n",
       "255     Satisfied          Satisfied            Satisfied  \n",
       "149     Satisfied         Don't Know           Don't Know  \n",
       "96     Don't Know         Don't Know           Don't Know  \n",
       "306     Satisfied          Satisfied            Satisfied  \n",
       "0       Satisfied         Don't Know           Don't Know  \n",
       "23      Satisfied          Satisfied           Don't Know  \n",
       "3         Neutral          Satisfied       Very Satisfied  \n",
       "6         Neutral          Satisfied       Very Satisfied  \n",
       "22      Satisfied            Neutral           Don't Know  \n",
       "401     Satisfied            Neutral           Don't Know  \n",
       "395     Satisfied          Satisfied              Neutral  \n",
       "50      Satisfied          Satisfied            Satisfied  \n",
       "126     Satisfied         Don't Know            Satisfied  \n",
       "150     Satisfied          Satisfied            Satisfied  \n",
       "38      Satisfied         Don't Know            Satisfied  \n",
       "60      Satisfied          Satisfied           Don't Know  \n",
       "5      Don't Know         Don't Know           Don't Know  \n",
       "39      Satisfied         Don't Know            Satisfied  \n",
       "8         Neutral            Neutral              Neutral  \n",
       "29     Don't Know         Don't Know           Don't Know  \n",
       "1      Don't Know         Don't Know           Don't Know  \n",
       "367     Satisfied          Satisfied            Satisfied  \n",
       "81      Satisfied         Don't Know            Satisfied  \n",
       "2      Don't Know         Don't Know           Don't Know  \n",
       "164     Satisfied          Satisfied       Very Satisfied  \n",
       "66      Satisfied          Satisfied            Satisfied  \n",
       "31      Satisfied          Satisfied            Satisfied  \n",
       "167     Satisfied          Satisfied            Satisfied  \n",
       "109     Satisfied          Satisfied            Satisfied  \n",
       "348     Satisfied          Satisfied            Satisfied  \n",
       "736     Satisfied          Satisfied       Very Satisfied  \n",
       "304     Satisfied          Satisfied            Satisfied  \n",
       "21     Don't Know         Don't Know           Don't Know  "
      ]
     },
     "execution_count": 54,
     "metadata": {},
     "output_type": "execute_result"
    }
   ],
   "source": [
    "fire_council_survey.drop_duplicates('district').sort_values('district')"
   ]
  },
  {
   "cell_type": "code",
   "execution_count": null,
   "metadata": {},
   "outputs": [],
   "source": []
  }
 ],
 "metadata": {
  "kernelspec": {
   "display_name": "Python 3",
   "language": "python",
   "name": "python3"
  },
  "language_info": {
   "codemirror_mode": {
    "name": "ipython",
    "version": 3
   },
   "file_extension": ".py",
   "mimetype": "text/x-python",
   "name": "python",
   "nbconvert_exporter": "python",
   "pygments_lexer": "ipython3",
   "version": "3.7.6"
  }
 },
 "nbformat": 4,
 "nbformat_minor": 2
}
