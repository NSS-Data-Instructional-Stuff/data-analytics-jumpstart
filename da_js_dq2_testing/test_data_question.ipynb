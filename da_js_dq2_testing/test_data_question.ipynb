{
 "cells": [
  {
   "cell_type": "code",
   "execution_count": 1,
   "metadata": {},
   "outputs": [],
   "source": [
    "import pandas as pd\n",
    "import matplotlib.pyplot as plt\n",
    "import seaborn as sns\n",
    "import sqlite3 as sql\n",
    "from sqlalchemy import create_engine, MetaData, Table\n",
    "from eralchemy import render_er\n",
    "import folium\n",
    "\n",
    "%matplotlib inline"
   ]
  },
  {
   "cell_type": "code",
   "execution_count": 2,
   "metadata": {},
   "outputs": [],
   "source": [
    "building_permits = pd.read_csv('data/Building_Permits_Issued.csv', low_memory = False)"
   ]
  },
  {
   "cell_type": "code",
   "execution_count": 3,
   "metadata": {},
   "outputs": [
    {
     "data": {
      "text/html": [
       "<div>\n",
       "<style scoped>\n",
       "    .dataframe tbody tr th:only-of-type {\n",
       "        vertical-align: middle;\n",
       "    }\n",
       "\n",
       "    .dataframe tbody tr th {\n",
       "        vertical-align: top;\n",
       "    }\n",
       "\n",
       "    .dataframe thead th {\n",
       "        text-align: right;\n",
       "    }\n",
       "</style>\n",
       "<table border=\"1\" class=\"dataframe\">\n",
       "  <thead>\n",
       "    <tr style=\"text-align: right;\">\n",
       "      <th></th>\n",
       "      <th>Permit #</th>\n",
       "      <th>Permit Type Description</th>\n",
       "      <th>Permit Subtype Description</th>\n",
       "      <th>Parcel</th>\n",
       "      <th>Date Entered</th>\n",
       "      <th>Date Issued</th>\n",
       "      <th>Construction Cost</th>\n",
       "      <th>Address</th>\n",
       "      <th>City</th>\n",
       "      <th>State</th>\n",
       "      <th>ZIP</th>\n",
       "      <th>Subdivision / Lot</th>\n",
       "      <th>Contact</th>\n",
       "      <th>Permit Type</th>\n",
       "      <th>Permit Subtype</th>\n",
       "      <th>IVR Tracking #</th>\n",
       "      <th>Purpose</th>\n",
       "      <th>Council District</th>\n",
       "      <th>Census Tract</th>\n",
       "      <th>Mapped Location</th>\n",
       "    </tr>\n",
       "  </thead>\n",
       "  <tbody>\n",
       "    <tr>\n",
       "      <th>0</th>\n",
       "      <td>2019067152</td>\n",
       "      <td>Building Demolition Permit</td>\n",
       "      <td>Demolition Permit - Residential</td>\n",
       "      <td>06106005200</td>\n",
       "      <td>11/01/2019</td>\n",
       "      <td>11/01/2019</td>\n",
       "      <td>6000.0</td>\n",
       "      <td>600  MAPLEWOOD LN</td>\n",
       "      <td>NASHVILLE</td>\n",
       "      <td>TN</td>\n",
       "      <td>37216</td>\n",
       "      <td>S SIDE MAPLEWOOD LANE &amp; W OF HUTSON AVE</td>\n",
       "      <td>CONTRERAS DESIGN BUILD LLC</td>\n",
       "      <td>CADM</td>\n",
       "      <td>CAZ01A001</td>\n",
       "      <td>3728422</td>\n",
       "      <td>to demolish existing residence and detached st...</td>\n",
       "      <td>8.0</td>\n",
       "      <td>37011002.0</td>\n",
       "      <td>600 MAPLEWOOD LN\\nNASHVILLE, TN 37216\\n(36.228...</td>\n",
       "    </tr>\n",
       "    <tr>\n",
       "      <th>1</th>\n",
       "      <td>2019011084</td>\n",
       "      <td>Building Use &amp; Occupancy</td>\n",
       "      <td>Multifamily, Townhome</td>\n",
       "      <td>051100J90000CO</td>\n",
       "      <td>02/25/2019</td>\n",
       "      <td>07/22/2019</td>\n",
       "      <td>0.0</td>\n",
       "      <td>812  BRIAR CIR</td>\n",
       "      <td>MADISON</td>\n",
       "      <td>TN</td>\n",
       "      <td>37115</td>\n",
       "      <td>COMMON AREA HOMES AT BRIAR</td>\n",
       "      <td>COLE INVESTMENTS LLC</td>\n",
       "      <td>CAUO</td>\n",
       "      <td>CAA03R301</td>\n",
       "      <td>3611315</td>\n",
       "      <td>MASTER PERMIT ONLY� � NO CONSTRUCTION� �MULTI-...</td>\n",
       "      <td>8.0</td>\n",
       "      <td>37010802.0</td>\n",
       "      <td>812 BRIAR CIR\\nMADISON, TN 37115</td>\n",
       "    </tr>\n",
       "    <tr>\n",
       "      <th>2</th>\n",
       "      <td>2019011479</td>\n",
       "      <td>Building Commercial - Rehab</td>\n",
       "      <td>Restaurant (Full Service)</td>\n",
       "      <td>11714005500</td>\n",
       "      <td>02/27/2019</td>\n",
       "      <td>07/22/2019</td>\n",
       "      <td>759670.0</td>\n",
       "      <td>2171  GREEN HILLS VILLAGE DR</td>\n",
       "      <td>NASHVILLE</td>\n",
       "      <td>TN</td>\n",
       "      <td>37215</td>\n",
       "      <td>W/S HILLSBORO PK. &amp; N/S ABBOTT MARTIN RD.</td>\n",
       "      <td>BATTINO CONTRACTING SOLUTIONS, LLC</td>\n",
       "      <td>CACR</td>\n",
       "      <td>CAF19A203</td>\n",
       "      <td>3613106</td>\n",
       "      <td>2475 sq.ft. build out of CAVA RESTURANT to inc...</td>\n",
       "      <td>25.0</td>\n",
       "      <td>37017901.0</td>\n",
       "      <td>2171 GREEN HILLS VILLAGE DR\\nNASHVILLE, TN 372...</td>\n",
       "    </tr>\n",
       "    <tr>\n",
       "      <th>3</th>\n",
       "      <td>2019039568</td>\n",
       "      <td>Building Residential - New</td>\n",
       "      <td>Single Family Residence</td>\n",
       "      <td>085040A40800CO</td>\n",
       "      <td>07/03/2019</td>\n",
       "      <td>07/22/2019</td>\n",
       "      <td>300888.0</td>\n",
       "      <td>4327  STONE HALL BLVD</td>\n",
       "      <td>HERMITAGE</td>\n",
       "      <td>TN</td>\n",
       "      <td>37076</td>\n",
       "      <td>LOT 408 THE RESERVE AT STONE HALL PH 2 SEC 1</td>\n",
       "      <td>MERITAGE HOMES OF TENNESSEE INC</td>\n",
       "      <td>CARN</td>\n",
       "      <td>CAA01R301</td>\n",
       "      <td>3687554</td>\n",
       "      <td>New Single Family construction - Total Sq foot...</td>\n",
       "      <td>14.0</td>\n",
       "      <td>37015402.0</td>\n",
       "      <td>4327 STONE HALL BLVD\\nHERMITAGE, TN 37076</td>\n",
       "    </tr>\n",
       "    <tr>\n",
       "      <th>4</th>\n",
       "      <td>2017000049</td>\n",
       "      <td>Building Residential - New</td>\n",
       "      <td>Single Family Residence</td>\n",
       "      <td>164100A43100CO</td>\n",
       "      <td>01/03/2017</td>\n",
       "      <td>01/09/2017</td>\n",
       "      <td>268107.0</td>\n",
       "      <td>704  ABERCORN CT</td>\n",
       "      <td>ANTIOCH</td>\n",
       "      <td>TN</td>\n",
       "      <td>37013</td>\n",
       "      <td>LOT 79 SUMMERFIELD SUBDIVISION VILLAGE TEN</td>\n",
       "      <td>NVR, INC. T/A RYAN HOMES</td>\n",
       "      <td>CARN</td>\n",
       "      <td>CAA01R301</td>\n",
       "      <td>3306701</td>\n",
       "      <td>TO CONSTRUCT A NEW SINGLE FAMILY RES AT 2380 S...</td>\n",
       "      <td>32.0</td>\n",
       "      <td>37015630.0</td>\n",
       "      <td>704 ABERCORN CT\\nANTIOCH, TN 37013\\n(36.045042...</td>\n",
       "    </tr>\n",
       "  </tbody>\n",
       "</table>\n",
       "</div>"
      ],
      "text/plain": [
       "     Permit #      Permit Type Description       Permit Subtype Description  \\\n",
       "0  2019067152   Building Demolition Permit  Demolition Permit - Residential   \n",
       "1  2019011084     Building Use & Occupancy            Multifamily, Townhome   \n",
       "2  2019011479  Building Commercial - Rehab        Restaurant (Full Service)   \n",
       "3  2019039568   Building Residential - New          Single Family Residence   \n",
       "4  2017000049   Building Residential - New          Single Family Residence   \n",
       "\n",
       "           Parcel Date Entered Date Issued  Construction Cost  \\\n",
       "0     06106005200   11/01/2019  11/01/2019             6000.0   \n",
       "1  051100J90000CO   02/25/2019  07/22/2019                0.0   \n",
       "2     11714005500   02/27/2019  07/22/2019           759670.0   \n",
       "3  085040A40800CO   07/03/2019  07/22/2019           300888.0   \n",
       "4  164100A43100CO   01/03/2017  01/09/2017           268107.0   \n",
       "\n",
       "                        Address       City State    ZIP  \\\n",
       "0             600  MAPLEWOOD LN  NASHVILLE    TN  37216   \n",
       "1                812  BRIAR CIR    MADISON    TN  37115   \n",
       "2  2171  GREEN HILLS VILLAGE DR  NASHVILLE    TN  37215   \n",
       "3         4327  STONE HALL BLVD  HERMITAGE    TN  37076   \n",
       "4              704  ABERCORN CT    ANTIOCH    TN  37013   \n",
       "\n",
       "                              Subdivision / Lot  \\\n",
       "0       S SIDE MAPLEWOOD LANE & W OF HUTSON AVE   \n",
       "1                    COMMON AREA HOMES AT BRIAR   \n",
       "2     W/S HILLSBORO PK. & N/S ABBOTT MARTIN RD.   \n",
       "3  LOT 408 THE RESERVE AT STONE HALL PH 2 SEC 1   \n",
       "4    LOT 79 SUMMERFIELD SUBDIVISION VILLAGE TEN   \n",
       "\n",
       "                              Contact Permit Type Permit Subtype  \\\n",
       "0          CONTRERAS DESIGN BUILD LLC        CADM      CAZ01A001   \n",
       "1                COLE INVESTMENTS LLC        CAUO      CAA03R301   \n",
       "2  BATTINO CONTRACTING SOLUTIONS, LLC        CACR      CAF19A203   \n",
       "3     MERITAGE HOMES OF TENNESSEE INC        CARN      CAA01R301   \n",
       "4            NVR, INC. T/A RYAN HOMES        CARN      CAA01R301   \n",
       "\n",
       "   IVR Tracking #                                            Purpose  \\\n",
       "0         3728422  to demolish existing residence and detached st...   \n",
       "1         3611315  MASTER PERMIT ONLY� � NO CONSTRUCTION� �MULTI-...   \n",
       "2         3613106  2475 sq.ft. build out of CAVA RESTURANT to inc...   \n",
       "3         3687554  New Single Family construction - Total Sq foot...   \n",
       "4         3306701  TO CONSTRUCT A NEW SINGLE FAMILY RES AT 2380 S...   \n",
       "\n",
       "   Council District  Census Tract  \\\n",
       "0               8.0    37011002.0   \n",
       "1               8.0    37010802.0   \n",
       "2              25.0    37017901.0   \n",
       "3              14.0    37015402.0   \n",
       "4              32.0    37015630.0   \n",
       "\n",
       "                                     Mapped Location  \n",
       "0  600 MAPLEWOOD LN\\nNASHVILLE, TN 37216\\n(36.228...  \n",
       "1                   812 BRIAR CIR\\nMADISON, TN 37115  \n",
       "2  2171 GREEN HILLS VILLAGE DR\\nNASHVILLE, TN 372...  \n",
       "3          4327 STONE HALL BLVD\\nHERMITAGE, TN 37076  \n",
       "4  704 ABERCORN CT\\nANTIOCH, TN 37013\\n(36.045042...  "
      ]
     },
     "execution_count": 3,
     "metadata": {},
     "output_type": "execute_result"
    }
   ],
   "source": [
    "building_permits.head()"
   ]
  },
  {
   "cell_type": "code",
   "execution_count": 4,
   "metadata": {},
   "outputs": [
    {
     "data": {
      "text/html": [
       "<div>\n",
       "<style scoped>\n",
       "    .dataframe tbody tr th:only-of-type {\n",
       "        vertical-align: middle;\n",
       "    }\n",
       "\n",
       "    .dataframe tbody tr th {\n",
       "        vertical-align: top;\n",
       "    }\n",
       "\n",
       "    .dataframe thead th {\n",
       "        text-align: right;\n",
       "    }\n",
       "</style>\n",
       "<table border=\"1\" class=\"dataframe\">\n",
       "  <thead>\n",
       "    <tr style=\"text-align: right;\">\n",
       "      <th></th>\n",
       "      <th>Permit #</th>\n",
       "      <th>Permit Type Description</th>\n",
       "      <th>Permit Subtype Description</th>\n",
       "      <th>Parcel</th>\n",
       "      <th>Date Entered</th>\n",
       "      <th>Date Issued</th>\n",
       "      <th>Construction Cost</th>\n",
       "      <th>Address</th>\n",
       "      <th>City</th>\n",
       "      <th>State</th>\n",
       "      <th>ZIP</th>\n",
       "      <th>Subdivision / Lot</th>\n",
       "      <th>Contact</th>\n",
       "      <th>Permit Type</th>\n",
       "      <th>Permit Subtype</th>\n",
       "      <th>IVR Tracking #</th>\n",
       "      <th>Purpose</th>\n",
       "      <th>Council District</th>\n",
       "      <th>Census Tract</th>\n",
       "      <th>Mapped Location</th>\n",
       "    </tr>\n",
       "  </thead>\n",
       "  <tbody>\n",
       "    <tr>\n",
       "      <th>34467</th>\n",
       "      <td>2017062064</td>\n",
       "      <td>Building Residential - Addition</td>\n",
       "      <td>Single Family Residence</td>\n",
       "      <td>07209025900</td>\n",
       "      <td>09/25/2017</td>\n",
       "      <td>09/25/2017</td>\n",
       "      <td>57452.0</td>\n",
       "      <td>1001  FAIRWIN AVE</td>\n",
       "      <td>NASHVILLE</td>\n",
       "      <td>TN</td>\n",
       "      <td>37216</td>\n",
       "      <td>LOT 21 ESKRIDGE SUB</td>\n",
       "      <td>DOTSON GROUP LLC</td>\n",
       "      <td>CARA</td>\n",
       "      <td>CAA01R301</td>\n",
       "      <td>3408732</td>\n",
       "      <td>to construct 510SF addition to the rear of exi...</td>\n",
       "      <td>5.0</td>\n",
       "      <td>37011400.0</td>\n",
       "      <td>1001 FAIRWIN AVE\\nNASHVILLE, TN 37216\\n(36.199...</td>\n",
       "    </tr>\n",
       "    <tr>\n",
       "      <th>34468</th>\n",
       "      <td>2017080442</td>\n",
       "      <td>Building Residential - Addition</td>\n",
       "      <td>Single Family Residence</td>\n",
       "      <td>13004005000</td>\n",
       "      <td>12/18/2017</td>\n",
       "      <td>01/08/2018</td>\n",
       "      <td>300000.0</td>\n",
       "      <td>4215  SNEED RD</td>\n",
       "      <td>NASHVILLE</td>\n",
       "      <td>TN</td>\n",
       "      <td>37215</td>\n",
       "      <td>PT LOT 4 BELLEMEADE ANNEX</td>\n",
       "      <td>VAN MOL RESTORATION LLC</td>\n",
       "      <td>CARA</td>\n",
       "      <td>CAA01R301</td>\n",
       "      <td>3433097</td>\n",
       "      <td>Remodel Kitchen. Open back wall of home to add...</td>\n",
       "      <td>34.0</td>\n",
       "      <td>37017902.0</td>\n",
       "      <td>4215 SNEED RD\\nNASHVILLE, TN 37215\\n(36.100397...</td>\n",
       "    </tr>\n",
       "    <tr>\n",
       "      <th>34469</th>\n",
       "      <td>2018065491</td>\n",
       "      <td>Building Residential - Addition</td>\n",
       "      <td>Single Family Residence</td>\n",
       "      <td>08307030200</td>\n",
       "      <td>10/16/2018</td>\n",
       "      <td>10/30/2018</td>\n",
       "      <td>161540.0</td>\n",
       "      <td>2212  EASTLAND AVE</td>\n",
       "      <td>NASHVILLE</td>\n",
       "      <td>TN</td>\n",
       "      <td>37206</td>\n",
       "      <td>PT LOT 2 ROLLING ACRES</td>\n",
       "      <td>ALFORD BUILDERS, LLC</td>\n",
       "      <td>CARA</td>\n",
       "      <td>CAA01R301</td>\n",
       "      <td>3569305</td>\n",
       "      <td>to construct 2 story addition which will add 1...</td>\n",
       "      <td>6.0</td>\n",
       "      <td>37012100.0</td>\n",
       "      <td>2212 EASTLAND AVE\\nNASHVILLE, TN 37206\\n(36.18...</td>\n",
       "    </tr>\n",
       "    <tr>\n",
       "      <th>34470</th>\n",
       "      <td>2017019524</td>\n",
       "      <td>Building Residential - Addition</td>\n",
       "      <td>Single Family Residence</td>\n",
       "      <td>04313027400</td>\n",
       "      <td>03/22/2017</td>\n",
       "      <td>03/22/2017</td>\n",
       "      <td>20000.0</td>\n",
       "      <td>316  CHERRY ST</td>\n",
       "      <td>MADISON</td>\n",
       "      <td>TN</td>\n",
       "      <td>37115</td>\n",
       "      <td>LOT 25 BLK C CRITTENDEN EST</td>\n",
       "      <td>SELF CONTRACTOR RESIDENTIAL (SEE APPLICANT INF...</td>\n",
       "      <td>CARA</td>\n",
       "      <td>CAA01R301</td>\n",
       "      <td>3338760</td>\n",
       "      <td>EXISTING ONE STORY HOUSE.\\nTHIS PERMIT:\\n1...N...</td>\n",
       "      <td>9.0</td>\n",
       "      <td>37010701.0</td>\n",
       "      <td>316 CHERRY ST\\nMADISON, TN 37115\\n(36.258694, ...</td>\n",
       "    </tr>\n",
       "    <tr>\n",
       "      <th>34471</th>\n",
       "      <td>2018008218</td>\n",
       "      <td>Building Commercial - Rehab</td>\n",
       "      <td>General Office, Professional Services</td>\n",
       "      <td>03409008400</td>\n",
       "      <td>02/13/2018</td>\n",
       "      <td>04/17/2018</td>\n",
       "      <td>14000.0</td>\n",
       "      <td>131  EDENWOLD RD</td>\n",
       "      <td>MADISON</td>\n",
       "      <td>TN</td>\n",
       "      <td>37115</td>\n",
       "      <td>LOTS 18 19 PT 20 BLK A EDENWOLD CITY SUB</td>\n",
       "      <td>sergy motorny</td>\n",
       "      <td>CACR</td>\n",
       "      <td>CAD02B016</td>\n",
       "      <td>3446279</td>\n",
       "      <td>BUILDING AT 2100 SQFT WITH UNFINISH ATTIC AT A...</td>\n",
       "      <td>10.0</td>\n",
       "      <td>37010401.0</td>\n",
       "      <td>131 EDENWOLD RD\\nMADISON, TN 37115\\n(36.287001...</td>\n",
       "    </tr>\n",
       "    <tr>\n",
       "      <th>34472</th>\n",
       "      <td>2017044878</td>\n",
       "      <td>Building Sign Permit</td>\n",
       "      <td>Sign - Ground /  Wall Signs</td>\n",
       "      <td>09306208500</td>\n",
       "      <td>07/10/2017</td>\n",
       "      <td>08/23/2017</td>\n",
       "      <td>5000.0</td>\n",
       "      <td>110  2ND AVE N</td>\n",
       "      <td>NASHVILLE</td>\n",
       "      <td>TN</td>\n",
       "      <td>37201</td>\n",
       "      <td>PT LOT 15 ORIGINAL TOWN OF NASHVILLE</td>\n",
       "      <td>GENERAL SIGN SERVICES</td>\n",
       "      <td>CASN</td>\n",
       "      <td>CAZ02A001</td>\n",
       "      <td>3384196</td>\n",
       "      <td>to erect 28SF illuminated wall sign for Famous...</td>\n",
       "      <td>19.0</td>\n",
       "      <td>37019500.0</td>\n",
       "      <td>110 2ND AVE N\\nNASHVILLE, TN 37201\\n(36.162296...</td>\n",
       "    </tr>\n",
       "    <tr>\n",
       "      <th>34473</th>\n",
       "      <td>2018059022</td>\n",
       "      <td>Building Residential - New</td>\n",
       "      <td>Single Family Residence</td>\n",
       "      <td>163020C32000CO</td>\n",
       "      <td>09/17/2018</td>\n",
       "      <td>09/26/2018</td>\n",
       "      <td>140813.0</td>\n",
       "      <td>1382  RURAL HILL RD  320</td>\n",
       "      <td>ANTIOCH</td>\n",
       "      <td>TN</td>\n",
       "      <td>37013</td>\n",
       "      <td>UNIT 320 AUTUMN RIDGE TOWNHOMES 3RD AMEND</td>\n",
       "      <td>R J YORK HOMES LLC</td>\n",
       "      <td>CARN</td>\n",
       "      <td>CAA01R301</td>\n",
       "      <td>3560019</td>\n",
       "      <td>TO CONSTRUCT A NEW SINGLE FAMILY UNIT AT 1250 ...</td>\n",
       "      <td>32.0</td>\n",
       "      <td>37015628.0</td>\n",
       "      <td>1382 RURAL HILL RD 320\\nANTIOCH, TN 37013\\n(36...</td>\n",
       "    </tr>\n",
       "  </tbody>\n",
       "</table>\n",
       "</div>"
      ],
      "text/plain": [
       "         Permit #          Permit Type Description  \\\n",
       "34467  2017062064  Building Residential - Addition   \n",
       "34468  2017080442  Building Residential - Addition   \n",
       "34469  2018065491  Building Residential - Addition   \n",
       "34470  2017019524  Building Residential - Addition   \n",
       "34471  2018008218      Building Commercial - Rehab   \n",
       "34472  2017044878             Building Sign Permit   \n",
       "34473  2018059022       Building Residential - New   \n",
       "\n",
       "                  Permit Subtype Description          Parcel Date Entered  \\\n",
       "34467                Single Family Residence     07209025900   09/25/2017   \n",
       "34468                Single Family Residence     13004005000   12/18/2017   \n",
       "34469                Single Family Residence     08307030200   10/16/2018   \n",
       "34470                Single Family Residence     04313027400   03/22/2017   \n",
       "34471  General Office, Professional Services     03409008400   02/13/2018   \n",
       "34472            Sign - Ground /  Wall Signs     09306208500   07/10/2017   \n",
       "34473                Single Family Residence  163020C32000CO   09/17/2018   \n",
       "\n",
       "      Date Issued  Construction Cost                   Address       City  \\\n",
       "34467  09/25/2017            57452.0         1001  FAIRWIN AVE  NASHVILLE   \n",
       "34468  01/08/2018           300000.0            4215  SNEED RD  NASHVILLE   \n",
       "34469  10/30/2018           161540.0        2212  EASTLAND AVE  NASHVILLE   \n",
       "34470  03/22/2017            20000.0            316  CHERRY ST    MADISON   \n",
       "34471  04/17/2018            14000.0          131  EDENWOLD RD    MADISON   \n",
       "34472  08/23/2017             5000.0            110  2ND AVE N  NASHVILLE   \n",
       "34473  09/26/2018           140813.0  1382  RURAL HILL RD  320    ANTIOCH   \n",
       "\n",
       "      State    ZIP                          Subdivision / Lot  \\\n",
       "34467    TN  37216                        LOT 21 ESKRIDGE SUB   \n",
       "34468    TN  37215                  PT LOT 4 BELLEMEADE ANNEX   \n",
       "34469    TN  37206                     PT LOT 2 ROLLING ACRES   \n",
       "34470    TN  37115                LOT 25 BLK C CRITTENDEN EST   \n",
       "34471    TN  37115   LOTS 18 19 PT 20 BLK A EDENWOLD CITY SUB   \n",
       "34472    TN  37201       PT LOT 15 ORIGINAL TOWN OF NASHVILLE   \n",
       "34473    TN  37013  UNIT 320 AUTUMN RIDGE TOWNHOMES 3RD AMEND   \n",
       "\n",
       "                                                 Contact Permit Type  \\\n",
       "34467                                   DOTSON GROUP LLC        CARA   \n",
       "34468                            VAN MOL RESTORATION LLC        CARA   \n",
       "34469                               ALFORD BUILDERS, LLC        CARA   \n",
       "34470  SELF CONTRACTOR RESIDENTIAL (SEE APPLICANT INF...        CARA   \n",
       "34471                                      sergy motorny        CACR   \n",
       "34472                              GENERAL SIGN SERVICES        CASN   \n",
       "34473                                 R J YORK HOMES LLC        CARN   \n",
       "\n",
       "      Permit Subtype  IVR Tracking #  \\\n",
       "34467      CAA01R301         3408732   \n",
       "34468      CAA01R301         3433097   \n",
       "34469      CAA01R301         3569305   \n",
       "34470      CAA01R301         3338760   \n",
       "34471      CAD02B016         3446279   \n",
       "34472      CAZ02A001         3384196   \n",
       "34473      CAA01R301         3560019   \n",
       "\n",
       "                                                 Purpose  Council District  \\\n",
       "34467  to construct 510SF addition to the rear of exi...               5.0   \n",
       "34468  Remodel Kitchen. Open back wall of home to add...              34.0   \n",
       "34469  to construct 2 story addition which will add 1...               6.0   \n",
       "34470  EXISTING ONE STORY HOUSE.\\nTHIS PERMIT:\\n1...N...               9.0   \n",
       "34471  BUILDING AT 2100 SQFT WITH UNFINISH ATTIC AT A...              10.0   \n",
       "34472  to erect 28SF illuminated wall sign for Famous...              19.0   \n",
       "34473  TO CONSTRUCT A NEW SINGLE FAMILY UNIT AT 1250 ...              32.0   \n",
       "\n",
       "       Census Tract                                    Mapped Location  \n",
       "34467    37011400.0  1001 FAIRWIN AVE\\nNASHVILLE, TN 37216\\n(36.199...  \n",
       "34468    37017902.0  4215 SNEED RD\\nNASHVILLE, TN 37215\\n(36.100397...  \n",
       "34469    37012100.0  2212 EASTLAND AVE\\nNASHVILLE, TN 37206\\n(36.18...  \n",
       "34470    37010701.0  316 CHERRY ST\\nMADISON, TN 37115\\n(36.258694, ...  \n",
       "34471    37010401.0  131 EDENWOLD RD\\nMADISON, TN 37115\\n(36.287001...  \n",
       "34472    37019500.0  110 2ND AVE N\\nNASHVILLE, TN 37201\\n(36.162296...  \n",
       "34473    37015628.0  1382 RURAL HILL RD 320\\nANTIOCH, TN 37013\\n(36...  "
      ]
     },
     "execution_count": 4,
     "metadata": {},
     "output_type": "execute_result"
    }
   ],
   "source": [
    "building_permits.tail(7)"
   ]
  },
  {
   "cell_type": "code",
   "execution_count": 5,
   "metadata": {},
   "outputs": [
    {
     "data": {
      "text/plain": [
       "(34474, 20)"
      ]
     },
     "execution_count": 5,
     "metadata": {},
     "output_type": "execute_result"
    }
   ],
   "source": [
    "building_permits.shape"
   ]
  },
  {
   "cell_type": "code",
   "execution_count": 6,
   "metadata": {},
   "outputs": [
    {
     "data": {
      "text/plain": [
       "Index(['Permit #', 'Permit Type Description', 'Permit Subtype Description',\n",
       "       'Parcel', 'Date Entered', 'Date Issued', 'Construction Cost', 'Address',\n",
       "       'City', 'State', 'ZIP', 'Subdivision / Lot', 'Contact', 'Permit Type',\n",
       "       'Permit Subtype', 'IVR Tracking #', 'Purpose', 'Council District',\n",
       "       'Census Tract', 'Mapped Location'],\n",
       "      dtype='object')"
      ]
     },
     "execution_count": 6,
     "metadata": {},
     "output_type": "execute_result"
    }
   ],
   "source": [
    "building_permits.columns"
   ]
  },
  {
   "cell_type": "code",
   "execution_count": 7,
   "metadata": {},
   "outputs": [],
   "source": [
    "keep_cols = ['Permit #',\n",
    "'Permit Type Description',\n",
    "'Permit Subtype Description',\n",
    "'Parcel',\n",
    "'Date Entered',\n",
    "'Date Issued',\n",
    "'Construction Cost',\n",
    "'Address',\n",
    "'City',\n",
    "'State',\n",
    "'ZIP',\n",
    "'Contact',\n",
    "'Purpose',\n",
    "'Council District',]"
   ]
  },
  {
   "cell_type": "code",
   "execution_count": 8,
   "metadata": {},
   "outputs": [],
   "source": [
    "building_permits = building_permits[keep_cols]"
   ]
  },
  {
   "cell_type": "code",
   "execution_count": 9,
   "metadata": {},
   "outputs": [],
   "source": [
    "rename_cols = [\n",
    "    'number',\n",
    "    'type_desc',\n",
    "    'subtype_desc',\n",
    "    'parcel',\n",
    "    'date_entered',\n",
    "    'date_issued',\n",
    "    'cost',\n",
    "    'address',\n",
    "    'city',\n",
    "    'state',\n",
    "    'zip',\n",
    "    'contact',\n",
    "    'purpose',\n",
    "    'council_district',\n",
    "]"
   ]
  },
  {
   "cell_type": "code",
   "execution_count": 10,
   "metadata": {},
   "outputs": [],
   "source": [
    "building_permits.columns = rename_cols"
   ]
  },
  {
   "cell_type": "code",
   "execution_count": 11,
   "metadata": {},
   "outputs": [
    {
     "data": {
      "text/plain": [
       "SELF CONTRACTOR RESIDENTIAL (SEE APPLICANT INFORMATION)       3061\n",
       "SELF CONTRACTOR COMMERCIAL (SEE APPLICANT INFORMATION)         746\n",
       "OLE SOUTH PROPERTIES INC                                       601\n",
       "NVR, INC. T/A RYAN HOMES                                       581\n",
       "JOSLIN SIGN & MAINTENANCE CO INC                               520\n",
       "                                                              ... \n",
       "JOINT-ADVANCED DESIGN SYSTEMS, LLC AND HIGHLAND HOMES, LLC       1\n",
       "kenneth Perkins                                                  1\n",
       "CODE USA                                                         1\n",
       "robert robinson                                                  1\n",
       "GRAYMONT DEVELOPMENT LLC                                         1\n",
       "Name: contact, Length: 4555, dtype: int64"
      ]
     },
     "execution_count": 11,
     "metadata": {},
     "output_type": "execute_result"
    }
   ],
   "source": [
    "building_permits['contact'].value_counts()"
   ]
  },
  {
   "cell_type": "markdown",
   "metadata": {},
   "source": [
    "OLE SOUTH PROPERTIES INC, 601"
   ]
  },
  {
   "cell_type": "code",
   "execution_count": 12,
   "metadata": {},
   "outputs": [],
   "source": [
    "description_counts = building_permits['type_desc'].value_counts().reset_index()\n",
    "description_counts.columns = ['type', 'count']"
   ]
  },
  {
   "cell_type": "code",
   "execution_count": 13,
   "metadata": {},
   "outputs": [
    {
     "data": {
      "text/plain": [
       "True"
      ]
     },
     "execution_count": 13,
     "metadata": {},
     "output_type": "execute_result"
    }
   ],
   "source": [
    "sum(description_counts[description_counts['type'].str.contains('Residential')]['count']) > sum(description_counts[description_counts['type'].str.contains('Commercial')]['count'])\n"
   ]
  },
  {
   "cell_type": "code",
   "execution_count": 14,
   "metadata": {},
   "outputs": [
    {
     "data": {
      "text/plain": [
       "20396"
      ]
     },
     "execution_count": 14,
     "metadata": {},
     "output_type": "execute_result"
    }
   ],
   "source": [
    "sum(description_counts[description_counts['type'].str.contains('Residential')]['count'])"
   ]
  },
  {
   "cell_type": "code",
   "execution_count": 15,
   "metadata": {},
   "outputs": [
    {
     "data": {
      "text/plain": [
       "6574"
      ]
     },
     "execution_count": 15,
     "metadata": {},
     "output_type": "execute_result"
    }
   ],
   "source": [
    "sum(description_counts[description_counts['type'].str.contains('Commercial')]['count'])"
   ]
  },
  {
   "cell_type": "code",
   "execution_count": 16,
   "metadata": {},
   "outputs": [
    {
     "data": {
      "text/plain": [
       "7504"
      ]
     },
     "execution_count": 16,
     "metadata": {},
     "output_type": "execute_result"
    }
   ],
   "source": [
    "sum(description_counts[(~description_counts['type'].str.contains('Residential'))&(~description_counts['type'].str.contains('Commercial'))]['count'])"
   ]
  },
  {
   "cell_type": "code",
   "execution_count": 17,
   "metadata": {},
   "outputs": [
    {
     "data": {
      "text/plain": [
       "131412660.0"
      ]
     },
     "execution_count": 17,
     "metadata": {},
     "output_type": "execute_result"
    }
   ],
   "source": [
    "max(building_permits['cost'])"
   ]
  },
  {
   "cell_type": "code",
   "execution_count": 18,
   "metadata": {},
   "outputs": [
    {
     "data": {
      "text/plain": [
       "0.0"
      ]
     },
     "execution_count": 18,
     "metadata": {},
     "output_type": "execute_result"
    }
   ],
   "source": [
    "min(building_permits['cost'])"
   ]
  },
  {
   "cell_type": "code",
   "execution_count": 19,
   "metadata": {},
   "outputs": [
    {
     "name": "stderr",
     "output_type": "stream",
     "text": [
      "/Users/maheshrao/anaconda3/envs/jumpstart/lib/python3.7/site-packages/numpy/lib/histograms.py:839: RuntimeWarning: invalid value encountered in greater_equal\n",
      "  keep = (tmp_a >= first_edge)\n",
      "/Users/maheshrao/anaconda3/envs/jumpstart/lib/python3.7/site-packages/numpy/lib/histograms.py:840: RuntimeWarning: invalid value encountered in less_equal\n",
      "  keep &= (tmp_a <= last_edge)\n"
     ]
    },
    {
     "data": {
      "text/plain": [
       "''"
      ]
     },
     "execution_count": 19,
     "metadata": {},
     "output_type": "execute_result"
    },
    {
     "data": {
      "image/png": "[encoded data removed]",
      "text/plain": [
       "<Figure size 1440x360 with 1 Axes>"
      ]
     },
     "metadata": {
      "needs_background": "light"
     },
     "output_type": "display_data"
    }
   ],
   "source": [
    "plt.figure(figsize = (20, 5))\n",
    "plt.hist(building_permits['cost'], bins = 1000)\n",
    "#plt.yscale('log')\n",
    ";"
   ]
  },
  {
   "cell_type": "code",
   "execution_count": 20,
   "metadata": {},
   "outputs": [],
   "source": [
    "building_permits['date_entered'] = pd.to_datetime(building_permits['date_entered'])\n",
    "building_permits['date_issued'] = pd.to_datetime(building_permits['date_issued'])"
   ]
  },
  {
   "cell_type": "code",
   "execution_count": 21,
   "metadata": {},
   "outputs": [],
   "source": [
    "building_permits['lapse'] = building_permits['date_issued'] - building_permits['date_entered']"
   ]
  },
  {
   "cell_type": "code",
   "execution_count": 22,
   "metadata": {},
   "outputs": [
    {
     "data": {
      "text/plain": [
       "Timedelta('3371 days 00:00:00')"
      ]
     },
     "execution_count": 22,
     "metadata": {},
     "output_type": "execute_result"
    }
   ],
   "source": [
    "max(building_permits['lapse'])"
   ]
  },
  {
   "cell_type": "code",
   "execution_count": 23,
   "metadata": {},
   "outputs": [
    {
     "data": {
      "text/plain": [
       "Timedelta('0 days 00:00:00')"
      ]
     },
     "execution_count": 23,
     "metadata": {},
     "output_type": "execute_result"
    }
   ],
   "source": [
    "min(building_permits['lapse'])"
   ]
  },
  {
   "cell_type": "code",
   "execution_count": 24,
   "metadata": {},
   "outputs": [
    {
     "name": "stdout",
     "output_type": "stream",
     "text": [
      "2631\n",
      "2631\n"
     ]
    }
   ],
   "source": [
    "# two ways to do it. I'm not sure if this should be included.\n",
    "\n",
    "print(len(building_permits[building_permits['lapse'] > pd.Timedelta('100 days')]))\n",
    "\n",
    "building_permits['lapse_days'] = building_permits['lapse'].astype(str).str.split(' ').str[0].astype(int)\n",
    "print(len(building_permits[building_permits['lapse_days'] > 100]))"
   ]
  },
  {
   "cell_type": "code",
   "execution_count": 25,
   "metadata": {},
   "outputs": [],
   "source": [
    "building_permits['year'] = building_permits['date_issued'].dt.year"
   ]
  },
  {
   "cell_type": "code",
   "execution_count": 26,
   "metadata": {},
   "outputs": [
    {
     "data": {
      "text/plain": [
       "2017    11624\n",
       "2019    11171\n",
       "2018    11089\n",
       "2016      590\n",
       "Name: year, dtype: int64"
      ]
     },
     "execution_count": 26,
     "metadata": {},
     "output_type": "execute_result"
    }
   ],
   "source": [
    "building_permits['year'].value_counts()"
   ]
  },
  {
   "cell_type": "code",
   "execution_count": 27,
   "metadata": {},
   "outputs": [],
   "source": [
    "building_permits_sub = building_permits[building_permits['year'] != 2016]"
   ]
  },
  {
   "cell_type": "code",
   "execution_count": 28,
   "metadata": {},
   "outputs": [],
   "source": [
    "building_permits_2017 = building_permits_sub[building_permits_sub['year']==2017]\n",
    "building_permits_2018 = building_permits_sub[building_permits_sub['year']==2018]\n",
    "building_permits_2019 = building_permits_sub[building_permits_sub['year']==2019]"
   ]
  },
  {
   "cell_type": "code",
   "execution_count": 29,
   "metadata": {},
   "outputs": [
    {
     "name": "stdout",
     "output_type": "stream",
     "text": [
      "2017-12-29 00:00:00\n",
      "2018-12-31 00:00:00\n",
      "2019-12-12 00:00:00\n",
      "---\n",
      "2017-01-03 00:00:00\n",
      "2018-01-02 00:00:00\n",
      "2019-01-02 00:00:00\n"
     ]
    }
   ],
   "source": [
    "print(max(building_permits_2017['date_issued']))\n",
    "print(max(building_permits_2018['date_issued']))\n",
    "print(max(building_permits_2019['date_issued']))\n",
    "print('---')\n",
    "print(min(building_permits_2017['date_issued']))\n",
    "print(min(building_permits_2018['date_issued']))\n",
    "print(min(building_permits_2019['date_issued']))"
   ]
  },
  {
   "cell_type": "code",
   "execution_count": 30,
   "metadata": {},
   "outputs": [],
   "source": [
    "# max for all should be 2019-12-12\n",
    "# min for all are good\n",
    "\n",
    "# truncate 2017 and 2018 to 2019-12-12"
   ]
  },
  {
   "cell_type": "code",
   "execution_count": 31,
   "metadata": {},
   "outputs": [],
   "source": [
    "building_permits_2017 = building_permits_2017[(building_permits_2017['date_issued'].dt.day <= 12)&\\\n",
    "                                              (building_permits_2017['date_issued'].dt.month <= 12)]\n",
    "building_permits_2018 = building_permits_2018[(building_permits_2018['date_issued'].dt.day <= 12)&\\\n",
    "                                              (building_permits_2018['date_issued'].dt.month <= 12)]"
   ]
  },
  {
   "cell_type": "code",
   "execution_count": 32,
   "metadata": {},
   "outputs": [],
   "source": [
    "building_permits_recombine = pd.concat([building_permits_2017, building_permits_2018, building_permits_2019])"
   ]
  },
  {
   "cell_type": "code",
   "execution_count": 33,
   "metadata": {},
   "outputs": [],
   "source": [
    "building_permits_year_count = building_permits_recombine.groupby(['council_district', 'year']).count().reset_index().iloc[:,:3]"
   ]
  },
  {
   "cell_type": "code",
   "execution_count": 34,
   "metadata": {},
   "outputs": [],
   "source": [
    "building_permits_year_count = building_permits_year_count.rename(columns = {'number':'count'})"
   ]
  },
  {
   "cell_type": "code",
   "execution_count": 35,
   "metadata": {},
   "outputs": [
    {
     "data": {
      "image/png": "[encoded data removed]",
      "text/plain": [
       "<Figure size 1141.38x360 with 1 Axes>"
      ]
     },
     "metadata": {
      "needs_background": "light"
     },
     "output_type": "display_data"
    }
   ],
   "source": [
    "g = sns.catplot(x=\"council_district\",\n",
    "                y=\"count\",\n",
    "                hue=\"year\",\n",
    "                data=building_permits_year_count,\n",
    "                kind='bar',\n",
    "                aspect=3)"
   ]
  },
  {
   "cell_type": "code",
   "execution_count": 36,
   "metadata": {},
   "outputs": [],
   "source": [
    "short_term_rental_permits = pd.read_csv('data/Residential_Short_Term_Rental_Permits.csv')"
   ]
  },
  {
   "cell_type": "code",
   "execution_count": 37,
   "metadata": {},
   "outputs": [],
   "source": [
    "short_term_rental_permits = short_term_rental_permits[['Permit #', 'Applicant', 'Contact', 'Permit Subtype Description', 'Permit Status', 'Parcel', 'Date Entered', 'Date Issued', 'Expiration Date', 'Address', 'City', 'State', 'ZIP', 'Purpose', 'Permit Owner Name', 'Permit Type', 'Council District']]"
   ]
  },
  {
   "cell_type": "code",
   "execution_count": 38,
   "metadata": {},
   "outputs": [],
   "source": [
    "short_term_rental_permits.columns =['id', 'applicant', 'contact', 'subtype_desc', 'status', 'parcel', 'entered', 'issued',  'expiration', 'address', 'city', 'state', 'zip', 'purpose', 'permit_owner_name', 'type', 'council_district']"
   ]
  },
  {
   "cell_type": "code",
   "execution_count": 39,
   "metadata": {},
   "outputs": [],
   "source": [
    "short_term_rental_permits['issued'] = pd.to_datetime(short_term_rental_permits['issued'])"
   ]
  },
  {
   "cell_type": "code",
   "execution_count": 40,
   "metadata": {},
   "outputs": [],
   "source": [
    "short_term_rental_permits = short_term_rental_permits[(short_term_rental_permits['issued'] <= max(building_permits_recombine['date_issued']))&\n",
    "                                                      (short_term_rental_permits['issued'] >= min(building_permits_recombine['date_issued']))]"
   ]
  },
  {
   "cell_type": "code",
   "execution_count": 41,
   "metadata": {},
   "outputs": [
    {
     "data": {
      "image/png": "[encoded data removed]",
      "text/plain": [
       "<Figure size 1440x720 with 1 Axes>"
      ]
     },
     "metadata": {
      "needs_background": "light"
     },
     "output_type": "display_data"
    }
   ],
   "source": [
    "short_term_rental_permits_zip_vc = short_term_rental_permits['zip'].value_counts().sort_index()\n",
    "building_permits_recombine_zip_vc = building_permits_recombine['zip'].value_counts().sort_index()\n",
    "permits_merge = pd.merge(building_permits_recombine_zip_vc, short_term_rental_permits_zip_vc, how = 'inner', left_index = True, right_index = True, suffixes = ('_build', '_strp'))\n",
    "\n",
    "plt.figure(figsize = (20, 10))\n",
    "plt.bar(permits_merge.index.astype(str), permits_merge['zip_build'])\n",
    "plt.bar(permits_merge.index.astype(str), permits_merge['zip_strp'], alpha = 0.5)\n",
    "plt.xticks(rotation = 90);"
   ]
  },
  {
   "cell_type": "code",
   "execution_count": 42,
   "metadata": {},
   "outputs": [],
   "source": [
    "building_strp_merge = building_permits_recombine.merge(short_term_rental_permits, how = 'inner', on = 'parcel')"
   ]
  },
  {
   "cell_type": "code",
   "execution_count": 43,
   "metadata": {},
   "outputs": [
    {
     "data": {
      "text/plain": [
       "2006"
      ]
     },
     "execution_count": 43,
     "metadata": {},
     "output_type": "execute_result"
    }
   ],
   "source": [
    "len(building_strp_merge)"
   ]
  },
  {
   "cell_type": "code",
   "execution_count": 44,
   "metadata": {},
   "outputs": [
    {
     "data": {
      "text/plain": [
       "1115"
      ]
     },
     "execution_count": 44,
     "metadata": {},
     "output_type": "execute_result"
    }
   ],
   "source": [
    "# strp happened before build\n",
    "len(building_strp_merge[building_strp_merge['date_issued'] > building_strp_merge['issued']])"
   ]
  },
  {
   "cell_type": "code",
   "execution_count": 45,
   "metadata": {},
   "outputs": [
    {
     "data": {
      "text/plain": [
       "888"
      ]
     },
     "execution_count": 45,
     "metadata": {},
     "output_type": "execute_result"
    }
   ],
   "source": [
    "# strp happened after build\n",
    "len(building_strp_merge[building_strp_merge['date_issued'] < building_strp_merge['issued']])"
   ]
  },
  {
   "cell_type": "code",
   "execution_count": 46,
   "metadata": {},
   "outputs": [
    {
     "data": {
      "text/plain": [
       "2003"
      ]
     },
     "execution_count": 46,
     "metadata": {},
     "output_type": "execute_result"
    }
   ],
   "source": [
    "# 3 happened at the same time\n",
    "1115+888"
   ]
  },
  {
   "cell_type": "code",
   "execution_count": 47,
   "metadata": {},
   "outputs": [],
   "source": [
    "# strp usually happens before build, but not by a huge amount"
   ]
  },
  {
   "cell_type": "code",
   "execution_count": 48,
   "metadata": {},
   "outputs": [
    {
     "data": {
      "text/html": [
       "<div style=\"width:100%;\"><div style=\"position:relative;width:100%;height:0;padding-bottom:60%;\"><iframe src=\"data:text/html;charset=utf-8;base64,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\" style=\"position:absolute;width:100%;height:100%;left:0;top:0;border:none !important;\" allowfullscreen webkitallowfullscreen mozallowfullscreen></iframe></div></div>"
      ],
      "text/plain": [
       "<folium.folium.Map at 0x1a20665d90>"
      ]
     },
     "execution_count": 48,
     "metadata": {},
     "output_type": "execute_result"
    }
   ],
   "source": [
    "nash_map = folium.Map(location=[36.1612, -86.7775], zoom_start=12)\n",
    "nash_map"
   ]
  },
  {
   "cell_type": "code",
   "execution_count": 49,
   "metadata": {},
   "outputs": [
    {
     "name": "stdout",
     "output_type": "stream",
     "text": [
      "[('fire_stations',)]\n"
     ]
    }
   ],
   "source": [
    "db = 'data/stations.db'\n",
    "con = sql.connect(db)\n",
    "mycursor = con.cursor() \n",
    "mycursor.execute(\"SELECT name FROM sqlite_master WHERE type='table' ORDER BY name;\")\n",
    "tables=(mycursor.fetchall())\n",
    "print(tables)"
   ]
  },
  {
   "cell_type": "code",
   "execution_count": 50,
   "metadata": {},
   "outputs": [],
   "source": [
    "fire_stations = pd.read_sql_query(\"SELECT * FROM fire_stations\", con)"
   ]
  },
  {
   "cell_type": "code",
   "execution_count": 51,
   "metadata": {},
   "outputs": [
    {
     "data": {
      "text/html": [
       "<div>\n",
       "<style scoped>\n",
       "    .dataframe tbody tr th:only-of-type {\n",
       "        vertical-align: middle;\n",
       "    }\n",
       "\n",
       "    .dataframe tbody tr th {\n",
       "        vertical-align: top;\n",
       "    }\n",
       "\n",
       "    .dataframe thead th {\n",
       "        text-align: right;\n",
       "    }\n",
       "</style>\n",
       "<table border=\"1\" class=\"dataframe\">\n",
       "  <thead>\n",
       "    <tr style=\"text-align: right;\">\n",
       "      <th></th>\n",
       "      <th>district</th>\n",
       "      <th>station_number</th>\n",
       "      <th>address</th>\n",
       "      <th>city</th>\n",
       "      <th>state</th>\n",
       "      <th>lat</th>\n",
       "      <th>lng</th>\n",
       "    </tr>\n",
       "  </thead>\n",
       "  <tbody>\n",
       "    <tr>\n",
       "      <th>0</th>\n",
       "      <td>1</td>\n",
       "      <td>Station 30</td>\n",
       "      <td>3705 Old Clarksville Pike</td>\n",
       "      <td>Joelton</td>\n",
       "      <td>TN</td>\n",
       "      <td>36.316384</td>\n",
       "      <td>-86.876877</td>\n",
       "    </tr>\n",
       "    <tr>\n",
       "      <th>1</th>\n",
       "      <td>2</td>\n",
       "      <td>Station 24</td>\n",
       "      <td>3851 Clarksville Highway</td>\n",
       "      <td>Nashville</td>\n",
       "      <td>TN</td>\n",
       "      <td>36.203627</td>\n",
       "      <td>-86.840622</td>\n",
       "    </tr>\n",
       "    <tr>\n",
       "      <th>2</th>\n",
       "      <td>2</td>\n",
       "      <td>Station 25</td>\n",
       "      <td>2589 Whites Creek Pike</td>\n",
       "      <td>Nashville</td>\n",
       "      <td>TN</td>\n",
       "      <td>36.215851</td>\n",
       "      <td>-86.801616</td>\n",
       "    </tr>\n",
       "    <tr>\n",
       "      <th>3</th>\n",
       "      <td>8</td>\n",
       "      <td>Station 1</td>\n",
       "      <td>130 Broadmoor Avenue</td>\n",
       "      <td>Nashville</td>\n",
       "      <td>TN</td>\n",
       "      <td>36.229579</td>\n",
       "      <td>-86.757426</td>\n",
       "    </tr>\n",
       "    <tr>\n",
       "      <th>4</th>\n",
       "      <td>8</td>\n",
       "      <td>Station 31</td>\n",
       "      <td>415 Douglas Avenue</td>\n",
       "      <td>Madison</td>\n",
       "      <td>TN</td>\n",
       "      <td>36.259135</td>\n",
       "      <td>-86.716084</td>\n",
       "    </tr>\n",
       "  </tbody>\n",
       "</table>\n",
       "</div>"
      ],
      "text/plain": [
       "  district station_number                    address       city state  \\\n",
       "0        1     Station 30  3705 Old Clarksville Pike    Joelton    TN   \n",
       "1        2     Station 24   3851 Clarksville Highway  Nashville    TN   \n",
       "2        2     Station 25     2589 Whites Creek Pike  Nashville    TN   \n",
       "3        8      Station 1       130 Broadmoor Avenue  Nashville    TN   \n",
       "4        8     Station 31         415 Douglas Avenue    Madison    TN   \n",
       "\n",
       "         lat        lng  \n",
       "0  36.316384 -86.876877  \n",
       "1  36.203627 -86.840622  \n",
       "2  36.215851 -86.801616  \n",
       "3  36.229579 -86.757426  \n",
       "4  36.259135 -86.716084  "
      ]
     },
     "execution_count": 51,
     "metadata": {},
     "output_type": "execute_result"
    }
   ],
   "source": [
    "fire_stations.head()"
   ]
  },
  {
   "cell_type": "code",
   "execution_count": 52,
   "metadata": {},
   "outputs": [
    {
     "data": {
      "text/plain": [
       "(38, 7)"
      ]
     },
     "execution_count": 52,
     "metadata": {},
     "output_type": "execute_result"
    }
   ],
   "source": [
    "fire_stations.shape"
   ]
  },
  {
   "cell_type": "code",
   "execution_count": 53,
   "metadata": {},
   "outputs": [
    {
     "data": {
      "text/html": [
       "<div style=\"width:100%;\"><div style=\"position:relative;width:100%;height:0;padding-bottom:60%;\"><iframe src=\"data:text/html;charset=utf-8;base64,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\" style=\"position:absolute;width:100%;height:100%;left:0;top:0;border:none !important;\" allowfullscreen webkitallowfullscreen mozallowfullscreen></iframe></div></div>"
      ],
      "text/plain": [
       "<folium.folium.Map at 0x1a2074f0d0>"
      ]
     },
     "execution_count": 53,
     "metadata": {},
     "output_type": "execute_result"
    }
   ],
   "source": [
    "nash_map = folium.Map(location=[36.1612, -86.7775], zoom_start=12)\n",
    "for ind, row in fire_stations.iterrows():\n",
    "    point = [row['lat'], row['lng']]\n",
    "    folium.Marker(point, popup=row['station_number']).add_to(nash_map)\n",
    "nash_map"
   ]
  },
  {
   "cell_type": "code",
   "execution_count": 54,
   "metadata": {},
   "outputs": [
    {
     "name": "stdout",
     "output_type": "stream",
     "text": [
      "[('permits_2018',), ('resident_survey_2018',), ('station_dist',), ('strp_2018',)]\n"
     ]
    }
   ],
   "source": [
    "db = 'data/multi_table.db'\n",
    "con = sql.connect(db)\n",
    "mycursor = con.cursor() \n",
    "mycursor.execute(\"SELECT name FROM sqlite_master WHERE type='table' ORDER BY name;\")\n",
    "tables=(mycursor.fetchall())\n",
    "print(tables)"
   ]
  },
  {
   "cell_type": "code",
   "execution_count": 55,
   "metadata": {},
   "outputs": [],
   "source": [
    "engine = create_engine('sqlite:///data/multi_table.db')\n",
    "connection = engine.connect() \n",
    "metadata = MetaData()"
   ]
  },
  {
   "cell_type": "code",
   "execution_count": 56,
   "metadata": {},
   "outputs": [],
   "source": [
    "permits_2018 = Table('permits_2018', metadata, autoload=True, autoload_with=engine)\n",
    "resident_survey_2018 = Table('resident_survey_2018', metadata, autoload=True, autoload_with=engine)\n",
    "station_dist = Table('station_dist', metadata, autoload=True, autoload_with=engine)\n",
    "strp_2018 = Table('strp_2018', metadata, autoload=True, autoload_with=engine)"
   ]
  },
  {
   "cell_type": "code",
   "execution_count": 57,
   "metadata": {},
   "outputs": [],
   "source": [
    "filename = 'data/entity_relationship_diagram.png'\n",
    "render_er(metadata, filename)"
   ]
  },
  {
   "cell_type": "code",
   "execution_count": 58,
   "metadata": {},
   "outputs": [],
   "source": [
    "fire_council_survey = pd.read_sql_query(\"SELECT station_dist.district, station_dist.station_number, resident_survey_2018.fire_and_ems__overall, resident_survey_2018.fire_services, resident_survey_2018.fire_response_time, resident_survey_2018.fire_professionalism FROM strp_2018 INNER JOIN resident_survey_2018 ON resident_survey_2018.zip_code = strp_2018.zip LEFT JOIN station_dist ON station_dist.district = strp_2018.council_district\", con)"
   ]
  },
  {
   "cell_type": "code",
   "execution_count": 59,
   "metadata": {},
   "outputs": [
    {
     "data": {
      "text/html": [
       "<div>\n",
       "<style scoped>\n",
       "    .dataframe tbody tr th:only-of-type {\n",
       "        vertical-align: middle;\n",
       "    }\n",
       "\n",
       "    .dataframe tbody tr th {\n",
       "        vertical-align: top;\n",
       "    }\n",
       "\n",
       "    .dataframe thead th {\n",
       "        text-align: right;\n",
       "    }\n",
       "</style>\n",
       "<table border=\"1\" class=\"dataframe\">\n",
       "  <thead>\n",
       "    <tr style=\"text-align: right;\">\n",
       "      <th></th>\n",
       "      <th>district</th>\n",
       "      <th>station_number</th>\n",
       "      <th>fire_and_ems__overall</th>\n",
       "      <th>fire_services</th>\n",
       "      <th>fire_response_time</th>\n",
       "      <th>fire_professionalism</th>\n",
       "    </tr>\n",
       "  </thead>\n",
       "  <tbody>\n",
       "    <tr>\n",
       "      <th>255</th>\n",
       "      <td>1.0</td>\n",
       "      <td>['Station 30']</td>\n",
       "      <td>Satisfied</td>\n",
       "      <td>Satisfied</td>\n",
       "      <td>Satisfied</td>\n",
       "      <td>Satisfied</td>\n",
       "    </tr>\n",
       "    <tr>\n",
       "      <th>149</th>\n",
       "      <td>2.0</td>\n",
       "      <td>['Station 24' 'Station 25']</td>\n",
       "      <td>Satisfied</td>\n",
       "      <td>Satisfied</td>\n",
       "      <td>Don't Know</td>\n",
       "      <td>Don't Know</td>\n",
       "    </tr>\n",
       "    <tr>\n",
       "      <th>96</th>\n",
       "      <td>3.0</td>\n",
       "      <td>['Station 39']</td>\n",
       "      <td>Very Satisfied</td>\n",
       "      <td>Don't Know</td>\n",
       "      <td>Don't Know</td>\n",
       "      <td>Don't Know</td>\n",
       "    </tr>\n",
       "    <tr>\n",
       "      <th>306</th>\n",
       "      <td>4.0</td>\n",
       "      <td>[]</td>\n",
       "      <td>Very Satisfied</td>\n",
       "      <td>Satisfied</td>\n",
       "      <td>Satisfied</td>\n",
       "      <td>Satisfied</td>\n",
       "    </tr>\n",
       "    <tr>\n",
       "      <th>0</th>\n",
       "      <td>5.0</td>\n",
       "      <td>['Station 3']</td>\n",
       "      <td>Satisfied</td>\n",
       "      <td>Satisfied</td>\n",
       "      <td>Don't Know</td>\n",
       "      <td>Don't Know</td>\n",
       "    </tr>\n",
       "    <tr>\n",
       "      <th>23</th>\n",
       "      <td>6.0</td>\n",
       "      <td>['Station 14']</td>\n",
       "      <td>Satisfied</td>\n",
       "      <td>Satisfied</td>\n",
       "      <td>Satisfied</td>\n",
       "      <td>Don't Know</td>\n",
       "    </tr>\n",
       "    <tr>\n",
       "      <th>3</th>\n",
       "      <td>7.0</td>\n",
       "      <td>['Station 29' 'Station 18']</td>\n",
       "      <td>Satisfied</td>\n",
       "      <td>Neutral</td>\n",
       "      <td>Satisfied</td>\n",
       "      <td>Very Satisfied</td>\n",
       "    </tr>\n",
       "    <tr>\n",
       "      <th>6</th>\n",
       "      <td>8.0</td>\n",
       "      <td>['Station 1' 'Station 31']</td>\n",
       "      <td>Satisfied</td>\n",
       "      <td>Neutral</td>\n",
       "      <td>Satisfied</td>\n",
       "      <td>Very Satisfied</td>\n",
       "    </tr>\n",
       "    <tr>\n",
       "      <th>22</th>\n",
       "      <td>9.0</td>\n",
       "      <td>['Station 38']</td>\n",
       "      <td>Satisfied</td>\n",
       "      <td>Satisfied</td>\n",
       "      <td>Neutral</td>\n",
       "      <td>Don't Know</td>\n",
       "    </tr>\n",
       "    <tr>\n",
       "      <th>401</th>\n",
       "      <td>10.0</td>\n",
       "      <td>[]</td>\n",
       "      <td>Satisfied</td>\n",
       "      <td>Satisfied</td>\n",
       "      <td>Neutral</td>\n",
       "      <td>Don't Know</td>\n",
       "    </tr>\n",
       "    <tr>\n",
       "      <th>395</th>\n",
       "      <td>11.0</td>\n",
       "      <td>['Station 36']</td>\n",
       "      <td>Satisfied</td>\n",
       "      <td>Satisfied</td>\n",
       "      <td>Satisfied</td>\n",
       "      <td>Neutral</td>\n",
       "    </tr>\n",
       "    <tr>\n",
       "      <th>50</th>\n",
       "      <td>12.0</td>\n",
       "      <td>[]</td>\n",
       "      <td>Satisfied</td>\n",
       "      <td>Satisfied</td>\n",
       "      <td>Satisfied</td>\n",
       "      <td>Satisfied</td>\n",
       "    </tr>\n",
       "    <tr>\n",
       "      <th>126</th>\n",
       "      <td>13.0</td>\n",
       "      <td>['Station 15' 'Station 4']</td>\n",
       "      <td>Satisfied</td>\n",
       "      <td>Satisfied</td>\n",
       "      <td>Don't Know</td>\n",
       "      <td>Satisfied</td>\n",
       "    </tr>\n",
       "    <tr>\n",
       "      <th>150</th>\n",
       "      <td>14.0</td>\n",
       "      <td>['Station 32']</td>\n",
       "      <td>Satisfied</td>\n",
       "      <td>Satisfied</td>\n",
       "      <td>Satisfied</td>\n",
       "      <td>Satisfied</td>\n",
       "    </tr>\n",
       "    <tr>\n",
       "      <th>38</th>\n",
       "      <td>15.0</td>\n",
       "      <td>['Station 22' 'Station 28']</td>\n",
       "      <td>Satisfied</td>\n",
       "      <td>Satisfied</td>\n",
       "      <td>Don't Know</td>\n",
       "      <td>Satisfied</td>\n",
       "    </tr>\n",
       "    <tr>\n",
       "      <th>60</th>\n",
       "      <td>16.0</td>\n",
       "      <td>['Station 21']</td>\n",
       "      <td>Satisfied</td>\n",
       "      <td>Satisfied</td>\n",
       "      <td>Satisfied</td>\n",
       "      <td>Don't Know</td>\n",
       "    </tr>\n",
       "    <tr>\n",
       "      <th>5</th>\n",
       "      <td>17.0</td>\n",
       "      <td>['Station 12' 'Station 8' 'Station 5']</td>\n",
       "      <td>Satisfied</td>\n",
       "      <td>Don't Know</td>\n",
       "      <td>Don't Know</td>\n",
       "      <td>Don't Know</td>\n",
       "    </tr>\n",
       "    <tr>\n",
       "      <th>39</th>\n",
       "      <td>18.0</td>\n",
       "      <td>['Station 16']</td>\n",
       "      <td>Satisfied</td>\n",
       "      <td>Satisfied</td>\n",
       "      <td>Don't Know</td>\n",
       "      <td>Satisfied</td>\n",
       "    </tr>\n",
       "    <tr>\n",
       "      <th>8</th>\n",
       "      <td>19.0</td>\n",
       "      <td>['Station 9' 'Station 2']</td>\n",
       "      <td>Neutral</td>\n",
       "      <td>Neutral</td>\n",
       "      <td>Neutral</td>\n",
       "      <td>Neutral</td>\n",
       "    </tr>\n",
       "    <tr>\n",
       "      <th>29</th>\n",
       "      <td>20.0</td>\n",
       "      <td>['Station 23']</td>\n",
       "      <td>Satisfied</td>\n",
       "      <td>Don't Know</td>\n",
       "      <td>Don't Know</td>\n",
       "      <td>Don't Know</td>\n",
       "    </tr>\n",
       "    <tr>\n",
       "      <th>1</th>\n",
       "      <td>21.0</td>\n",
       "      <td>['Station 11' 'Station 19']</td>\n",
       "      <td>Satisfied</td>\n",
       "      <td>Don't Know</td>\n",
       "      <td>Don't Know</td>\n",
       "      <td>Don't Know</td>\n",
       "    </tr>\n",
       "    <tr>\n",
       "      <th>367</th>\n",
       "      <td>22.0</td>\n",
       "      <td>['Station 37']</td>\n",
       "      <td>Satisfied</td>\n",
       "      <td>Satisfied</td>\n",
       "      <td>Satisfied</td>\n",
       "      <td>Satisfied</td>\n",
       "    </tr>\n",
       "    <tr>\n",
       "      <th>81</th>\n",
       "      <td>23.0</td>\n",
       "      <td>['Station 7']</td>\n",
       "      <td>Satisfied</td>\n",
       "      <td>Satisfied</td>\n",
       "      <td>Don't Know</td>\n",
       "      <td>Satisfied</td>\n",
       "    </tr>\n",
       "    <tr>\n",
       "      <th>2</th>\n",
       "      <td>24.0</td>\n",
       "      <td>['Station 13' 'Station 17']</td>\n",
       "      <td>Satisfied</td>\n",
       "      <td>Don't Know</td>\n",
       "      <td>Don't Know</td>\n",
       "      <td>Don't Know</td>\n",
       "    </tr>\n",
       "    <tr>\n",
       "      <th>164</th>\n",
       "      <td>25.0</td>\n",
       "      <td>['Station 20']</td>\n",
       "      <td>Satisfied</td>\n",
       "      <td>Satisfied</td>\n",
       "      <td>Satisfied</td>\n",
       "      <td>Very Satisfied</td>\n",
       "    </tr>\n",
       "    <tr>\n",
       "      <th>66</th>\n",
       "      <td>26.0</td>\n",
       "      <td>['Station 27']</td>\n",
       "      <td>Very Satisfied</td>\n",
       "      <td>Satisfied</td>\n",
       "      <td>Satisfied</td>\n",
       "      <td>Satisfied</td>\n",
       "    </tr>\n",
       "    <tr>\n",
       "      <th>31</th>\n",
       "      <td>27.0</td>\n",
       "      <td>['Station 10']</td>\n",
       "      <td>Very Satisfied</td>\n",
       "      <td>Satisfied</td>\n",
       "      <td>Satisfied</td>\n",
       "      <td>Satisfied</td>\n",
       "    </tr>\n",
       "    <tr>\n",
       "      <th>167</th>\n",
       "      <td>28.0</td>\n",
       "      <td>[]</td>\n",
       "      <td>Very Satisfied</td>\n",
       "      <td>Satisfied</td>\n",
       "      <td>Satisfied</td>\n",
       "      <td>Satisfied</td>\n",
       "    </tr>\n",
       "    <tr>\n",
       "      <th>109</th>\n",
       "      <td>29.0</td>\n",
       "      <td>['Station 33']</td>\n",
       "      <td>Very Satisfied</td>\n",
       "      <td>Satisfied</td>\n",
       "      <td>Satisfied</td>\n",
       "      <td>Satisfied</td>\n",
       "    </tr>\n",
       "    <tr>\n",
       "      <th>348</th>\n",
       "      <td>30.0</td>\n",
       "      <td>['Station 6']</td>\n",
       "      <td>Very Satisfied</td>\n",
       "      <td>Satisfied</td>\n",
       "      <td>Satisfied</td>\n",
       "      <td>Satisfied</td>\n",
       "    </tr>\n",
       "    <tr>\n",
       "      <th>736</th>\n",
       "      <td>31.0</td>\n",
       "      <td>[]</td>\n",
       "      <td>Satisfied</td>\n",
       "      <td>Satisfied</td>\n",
       "      <td>Satisfied</td>\n",
       "      <td>Very Satisfied</td>\n",
       "    </tr>\n",
       "    <tr>\n",
       "      <th>304</th>\n",
       "      <td>33.0</td>\n",
       "      <td>['Station 35']</td>\n",
       "      <td>Satisfied</td>\n",
       "      <td>Satisfied</td>\n",
       "      <td>Satisfied</td>\n",
       "      <td>Satisfied</td>\n",
       "    </tr>\n",
       "    <tr>\n",
       "      <th>21</th>\n",
       "      <td>NaN</td>\n",
       "      <td>None</td>\n",
       "      <td>Satisfied</td>\n",
       "      <td>Don't Know</td>\n",
       "      <td>Don't Know</td>\n",
       "      <td>Don't Know</td>\n",
       "    </tr>\n",
       "  </tbody>\n",
       "</table>\n",
       "</div>"
      ],
      "text/plain": [
       "     district                          station_number fire_and_ems__overall  \\\n",
       "255       1.0                          ['Station 30']             Satisfied   \n",
       "149       2.0             ['Station 24' 'Station 25']             Satisfied   \n",
       "96        3.0                          ['Station 39']        Very Satisfied   \n",
       "306       4.0                                      []        Very Satisfied   \n",
       "0         5.0                           ['Station 3']             Satisfied   \n",
       "23        6.0                          ['Station 14']             Satisfied   \n",
       "3         7.0             ['Station 29' 'Station 18']             Satisfied   \n",
       "6         8.0              ['Station 1' 'Station 31']             Satisfied   \n",
       "22        9.0                          ['Station 38']             Satisfied   \n",
       "401      10.0                                      []             Satisfied   \n",
       "395      11.0                          ['Station 36']             Satisfied   \n",
       "50       12.0                                      []             Satisfied   \n",
       "126      13.0              ['Station 15' 'Station 4']             Satisfied   \n",
       "150      14.0                          ['Station 32']             Satisfied   \n",
       "38       15.0             ['Station 22' 'Station 28']             Satisfied   \n",
       "60       16.0                          ['Station 21']             Satisfied   \n",
       "5        17.0  ['Station 12' 'Station 8' 'Station 5']             Satisfied   \n",
       "39       18.0                          ['Station 16']             Satisfied   \n",
       "8        19.0               ['Station 9' 'Station 2']               Neutral   \n",
       "29       20.0                          ['Station 23']             Satisfied   \n",
       "1        21.0             ['Station 11' 'Station 19']             Satisfied   \n",
       "367      22.0                          ['Station 37']             Satisfied   \n",
       "81       23.0                           ['Station 7']             Satisfied   \n",
       "2        24.0             ['Station 13' 'Station 17']             Satisfied   \n",
       "164      25.0                          ['Station 20']             Satisfied   \n",
       "66       26.0                          ['Station 27']        Very Satisfied   \n",
       "31       27.0                          ['Station 10']        Very Satisfied   \n",
       "167      28.0                                      []        Very Satisfied   \n",
       "109      29.0                          ['Station 33']        Very Satisfied   \n",
       "348      30.0                           ['Station 6']        Very Satisfied   \n",
       "736      31.0                                      []             Satisfied   \n",
       "304      33.0                          ['Station 35']             Satisfied   \n",
       "21        NaN                                    None             Satisfied   \n",
       "\n",
       "    fire_services fire_response_time fire_professionalism  \n",
       "255     Satisfied          Satisfied            Satisfied  \n",
       "149     Satisfied         Don't Know           Don't Know  \n",
       "96     Don't Know         Don't Know           Don't Know  \n",
       "306     Satisfied          Satisfied            Satisfied  \n",
       "0       Satisfied         Don't Know           Don't Know  \n",
       "23      Satisfied          Satisfied           Don't Know  \n",
       "3         Neutral          Satisfied       Very Satisfied  \n",
       "6         Neutral          Satisfied       Very Satisfied  \n",
       "22      Satisfied            Neutral           Don't Know  \n",
       "401     Satisfied            Neutral           Don't Know  \n",
       "395     Satisfied          Satisfied              Neutral  \n",
       "50      Satisfied          Satisfied            Satisfied  \n",
       "126     Satisfied         Don't Know            Satisfied  \n",
       "150     Satisfied          Satisfied            Satisfied  \n",
       "38      Satisfied         Don't Know            Satisfied  \n",
       "60      Satisfied          Satisfied           Don't Know  \n",
       "5      Don't Know         Don't Know           Don't Know  \n",
       "39      Satisfied         Don't Know            Satisfied  \n",
       "8         Neutral            Neutral              Neutral  \n",
       "29     Don't Know         Don't Know           Don't Know  \n",
       "1      Don't Know         Don't Know           Don't Know  \n",
       "367     Satisfied          Satisfied            Satisfied  \n",
       "81      Satisfied         Don't Know            Satisfied  \n",
       "2      Don't Know         Don't Know           Don't Know  \n",
       "164     Satisfied          Satisfied       Very Satisfied  \n",
       "66      Satisfied          Satisfied            Satisfied  \n",
       "31      Satisfied          Satisfied            Satisfied  \n",
       "167     Satisfied          Satisfied            Satisfied  \n",
       "109     Satisfied          Satisfied            Satisfied  \n",
       "348     Satisfied          Satisfied            Satisfied  \n",
       "736     Satisfied          Satisfied       Very Satisfied  \n",
       "304     Satisfied          Satisfied            Satisfied  \n",
       "21     Don't Know         Don't Know           Don't Know  "
      ]
     },
     "execution_count": 59,
     "metadata": {},
     "output_type": "execute_result"
    }
   ],
   "source": [
    "fire_council_survey.drop_duplicates('district').sort_values('district')"
   ]
  },
  {
   "cell_type": "code",
   "execution_count": null,
   "metadata": {},
   "outputs": [],
   "source": []
  }
 ],
 "metadata": {
  "kernelspec": {
   "display_name": "Python 3",
   "language": "python",
   "name": "python3"
  },
  "language_info": {
   "codemirror_mode": {
    "name": "ipython",
    "version": 3
   },
   "file_extension": ".py",
   "mimetype": "text/x-python",
   "name": "python",
   "nbconvert_exporter": "python",
   "pygments_lexer": "ipython3",
   "version": "3.7.6"
  }
 },
 "nbformat": 4,
 "nbformat_minor": 2
}
