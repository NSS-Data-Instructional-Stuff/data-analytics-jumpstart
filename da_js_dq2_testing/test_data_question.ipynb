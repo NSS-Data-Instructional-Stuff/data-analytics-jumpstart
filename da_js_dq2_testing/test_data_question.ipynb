{
 "cells": [
  {
   "cell_type": "markdown",
   "metadata": {},
   "source": [
    "# WEEK 1"
   ]
  },
  {
   "cell_type": "code",
   "execution_count": 1,
   "metadata": {},
   "outputs": [],
   "source": [
    "import pandas as pd\n",
    "import matplotlib.pyplot as plt\n",
    "import seaborn as sns\n",
    "import sqlite3 as sql\n",
    "import folium\n",
    "\n",
    "%matplotlib inline"
   ]
  },
  {
   "cell_type": "code",
   "execution_count": 2,
   "metadata": {},
   "outputs": [],
   "source": [
    "building_permits = pd.read_csv('../data/Building_Permits_Issued.csv', low_memory = False)"
   ]
  },
  {
   "cell_type": "code",
   "execution_count": 3,
   "metadata": {},
   "outputs": [
    {
     "data": {
      "text/html": [
       "<div>\n",
       "<style scoped>\n",
       "    .dataframe tbody tr th:only-of-type {\n",
       "        vertical-align: middle;\n",
       "    }\n",
       "\n",
       "    .dataframe tbody tr th {\n",
       "        vertical-align: top;\n",
       "    }\n",
       "\n",
       "    .dataframe thead th {\n",
       "        text-align: right;\n",
       "    }\n",
       "</style>\n",
       "<table border=\"1\" class=\"dataframe\">\n",
       "  <thead>\n",
       "    <tr style=\"text-align: right;\">\n",
       "      <th></th>\n",
       "      <th>Permit #</th>\n",
       "      <th>Permit Type Description</th>\n",
       "      <th>Permit Subtype Description</th>\n",
       "      <th>Parcel</th>\n",
       "      <th>Date Entered</th>\n",
       "      <th>Date Issued</th>\n",
       "      <th>Construction Cost</th>\n",
       "      <th>Address</th>\n",
       "      <th>City</th>\n",
       "      <th>State</th>\n",
       "      <th>ZIP</th>\n",
       "      <th>Subdivision / Lot</th>\n",
       "      <th>Contact</th>\n",
       "      <th>Permit Type</th>\n",
       "      <th>Permit Subtype</th>\n",
       "      <th>IVR Tracking #</th>\n",
       "      <th>Purpose</th>\n",
       "      <th>Council District</th>\n",
       "      <th>Census Tract</th>\n",
       "      <th>Mapped Location</th>\n",
       "    </tr>\n",
       "  </thead>\n",
       "  <tbody>\n",
       "    <tr>\n",
       "      <th>0</th>\n",
       "      <td>2019067152</td>\n",
       "      <td>Building Demolition Permit</td>\n",
       "      <td>Demolition Permit - Residential</td>\n",
       "      <td>06106005200</td>\n",
       "      <td>11/01/2019</td>\n",
       "      <td>11/01/2019</td>\n",
       "      <td>6000.0</td>\n",
       "      <td>600  MAPLEWOOD LN</td>\n",
       "      <td>NASHVILLE</td>\n",
       "      <td>TN</td>\n",
       "      <td>37216</td>\n",
       "      <td>S SIDE MAPLEWOOD LANE &amp; W OF HUTSON AVE</td>\n",
       "      <td>CONTRERAS DESIGN BUILD LLC</td>\n",
       "      <td>CADM</td>\n",
       "      <td>CAZ01A001</td>\n",
       "      <td>3728422</td>\n",
       "      <td>to demolish existing residence and detached st...</td>\n",
       "      <td>8.0</td>\n",
       "      <td>37011002.0</td>\n",
       "      <td>600 MAPLEWOOD LN\\nNASHVILLE, TN 37216\\n(36.228...</td>\n",
       "    </tr>\n",
       "    <tr>\n",
       "      <th>1</th>\n",
       "      <td>2019011084</td>\n",
       "      <td>Building Use &amp; Occupancy</td>\n",
       "      <td>Multifamily, Townhome</td>\n",
       "      <td>051100J90000CO</td>\n",
       "      <td>02/25/2019</td>\n",
       "      <td>07/22/2019</td>\n",
       "      <td>0.0</td>\n",
       "      <td>812  BRIAR CIR</td>\n",
       "      <td>MADISON</td>\n",
       "      <td>TN</td>\n",
       "      <td>37115</td>\n",
       "      <td>COMMON AREA HOMES AT BRIAR</td>\n",
       "      <td>COLE INVESTMENTS LLC</td>\n",
       "      <td>CAUO</td>\n",
       "      <td>CAA03R301</td>\n",
       "      <td>3611315</td>\n",
       "      <td>MASTER PERMIT ONLY� � NO CONSTRUCTION� �MULTI-...</td>\n",
       "      <td>8.0</td>\n",
       "      <td>37010802.0</td>\n",
       "      <td>812 BRIAR CIR\\nMADISON, TN 37115</td>\n",
       "    </tr>\n",
       "    <tr>\n",
       "      <th>2</th>\n",
       "      <td>2019011479</td>\n",
       "      <td>Building Commercial - Rehab</td>\n",
       "      <td>Restaurant (Full Service)</td>\n",
       "      <td>11714005500</td>\n",
       "      <td>02/27/2019</td>\n",
       "      <td>07/22/2019</td>\n",
       "      <td>759670.0</td>\n",
       "      <td>2171  GREEN HILLS VILLAGE DR</td>\n",
       "      <td>NASHVILLE</td>\n",
       "      <td>TN</td>\n",
       "      <td>37215</td>\n",
       "      <td>W/S HILLSBORO PK. &amp; N/S ABBOTT MARTIN RD.</td>\n",
       "      <td>BATTINO CONTRACTING SOLUTIONS, LLC</td>\n",
       "      <td>CACR</td>\n",
       "      <td>CAF19A203</td>\n",
       "      <td>3613106</td>\n",
       "      <td>2475 sq.ft. build out of CAVA RESTURANT to inc...</td>\n",
       "      <td>25.0</td>\n",
       "      <td>37017901.0</td>\n",
       "      <td>2171 GREEN HILLS VILLAGE DR\\nNASHVILLE, TN 372...</td>\n",
       "    </tr>\n",
       "    <tr>\n",
       "      <th>3</th>\n",
       "      <td>2019039568</td>\n",
       "      <td>Building Residential - New</td>\n",
       "      <td>Single Family Residence</td>\n",
       "      <td>085040A40800CO</td>\n",
       "      <td>07/03/2019</td>\n",
       "      <td>07/22/2019</td>\n",
       "      <td>300888.0</td>\n",
       "      <td>4327  STONE HALL BLVD</td>\n",
       "      <td>HERMITAGE</td>\n",
       "      <td>TN</td>\n",
       "      <td>37076</td>\n",
       "      <td>LOT 408 THE RESERVE AT STONE HALL PH 2 SEC 1</td>\n",
       "      <td>MERITAGE HOMES OF TENNESSEE INC</td>\n",
       "      <td>CARN</td>\n",
       "      <td>CAA01R301</td>\n",
       "      <td>3687554</td>\n",
       "      <td>New Single Family construction - Total Sq foot...</td>\n",
       "      <td>14.0</td>\n",
       "      <td>37015402.0</td>\n",
       "      <td>4327 STONE HALL BLVD\\nHERMITAGE, TN 37076</td>\n",
       "    </tr>\n",
       "    <tr>\n",
       "      <th>4</th>\n",
       "      <td>2017000049</td>\n",
       "      <td>Building Residential - New</td>\n",
       "      <td>Single Family Residence</td>\n",
       "      <td>164100A43100CO</td>\n",
       "      <td>01/03/2017</td>\n",
       "      <td>01/09/2017</td>\n",
       "      <td>268107.0</td>\n",
       "      <td>704  ABERCORN CT</td>\n",
       "      <td>ANTIOCH</td>\n",
       "      <td>TN</td>\n",
       "      <td>37013</td>\n",
       "      <td>LOT 79 SUMMERFIELD SUBDIVISION VILLAGE TEN</td>\n",
       "      <td>NVR, INC. T/A RYAN HOMES</td>\n",
       "      <td>CARN</td>\n",
       "      <td>CAA01R301</td>\n",
       "      <td>3306701</td>\n",
       "      <td>TO CONSTRUCT A NEW SINGLE FAMILY RES AT 2380 S...</td>\n",
       "      <td>32.0</td>\n",
       "      <td>37015630.0</td>\n",
       "      <td>704 ABERCORN CT\\nANTIOCH, TN 37013\\n(36.045042...</td>\n",
       "    </tr>\n",
       "  </tbody>\n",
       "</table>\n",
       "</div>"
      ],
      "text/plain": [
       "     Permit #      Permit Type Description       Permit Subtype Description  \\\n",
       "0  2019067152   Building Demolition Permit  Demolition Permit - Residential   \n",
       "1  2019011084     Building Use & Occupancy            Multifamily, Townhome   \n",
       "2  2019011479  Building Commercial - Rehab        Restaurant (Full Service)   \n",
       "3  2019039568   Building Residential - New          Single Family Residence   \n",
       "4  2017000049   Building Residential - New          Single Family Residence   \n",
       "\n",
       "           Parcel Date Entered Date Issued  Construction Cost  \\\n",
       "0     06106005200   11/01/2019  11/01/2019             6000.0   \n",
       "1  051100J90000CO   02/25/2019  07/22/2019                0.0   \n",
       "2     11714005500   02/27/2019  07/22/2019           759670.0   \n",
       "3  085040A40800CO   07/03/2019  07/22/2019           300888.0   \n",
       "4  164100A43100CO   01/03/2017  01/09/2017           268107.0   \n",
       "\n",
       "                        Address       City State    ZIP  \\\n",
       "0             600  MAPLEWOOD LN  NASHVILLE    TN  37216   \n",
       "1                812  BRIAR CIR    MADISON    TN  37115   \n",
       "2  2171  GREEN HILLS VILLAGE DR  NASHVILLE    TN  37215   \n",
       "3         4327  STONE HALL BLVD  HERMITAGE    TN  37076   \n",
       "4              704  ABERCORN CT    ANTIOCH    TN  37013   \n",
       "\n",
       "                              Subdivision / Lot  \\\n",
       "0       S SIDE MAPLEWOOD LANE & W OF HUTSON AVE   \n",
       "1                    COMMON AREA HOMES AT BRIAR   \n",
       "2     W/S HILLSBORO PK. & N/S ABBOTT MARTIN RD.   \n",
       "3  LOT 408 THE RESERVE AT STONE HALL PH 2 SEC 1   \n",
       "4    LOT 79 SUMMERFIELD SUBDIVISION VILLAGE TEN   \n",
       "\n",
       "                              Contact Permit Type Permit Subtype  \\\n",
       "0          CONTRERAS DESIGN BUILD LLC        CADM      CAZ01A001   \n",
       "1                COLE INVESTMENTS LLC        CAUO      CAA03R301   \n",
       "2  BATTINO CONTRACTING SOLUTIONS, LLC        CACR      CAF19A203   \n",
       "3     MERITAGE HOMES OF TENNESSEE INC        CARN      CAA01R301   \n",
       "4            NVR, INC. T/A RYAN HOMES        CARN      CAA01R301   \n",
       "\n",
       "   IVR Tracking #                                            Purpose  \\\n",
       "0         3728422  to demolish existing residence and detached st...   \n",
       "1         3611315  MASTER PERMIT ONLY� � NO CONSTRUCTION� �MULTI-...   \n",
       "2         3613106  2475 sq.ft. build out of CAVA RESTURANT to inc...   \n",
       "3         3687554  New Single Family construction - Total Sq foot...   \n",
       "4         3306701  TO CONSTRUCT A NEW SINGLE FAMILY RES AT 2380 S...   \n",
       "\n",
       "   Council District  Census Tract  \\\n",
       "0               8.0    37011002.0   \n",
       "1               8.0    37010802.0   \n",
       "2              25.0    37017901.0   \n",
       "3              14.0    37015402.0   \n",
       "4              32.0    37015630.0   \n",
       "\n",
       "                                     Mapped Location  \n",
       "0  600 MAPLEWOOD LN\\nNASHVILLE, TN 37216\\n(36.228...  \n",
       "1                   812 BRIAR CIR\\nMADISON, TN 37115  \n",
       "2  2171 GREEN HILLS VILLAGE DR\\nNASHVILLE, TN 372...  \n",
       "3          4327 STONE HALL BLVD\\nHERMITAGE, TN 37076  \n",
       "4  704 ABERCORN CT\\nANTIOCH, TN 37013\\n(36.045042...  "
      ]
     },
     "execution_count": 3,
     "metadata": {},
     "output_type": "execute_result"
    }
   ],
   "source": [
    "building_permits.head()"
   ]
  },
  {
   "cell_type": "code",
   "execution_count": 4,
   "metadata": {},
   "outputs": [
    {
     "data": {
      "text/html": [
       "<div>\n",
       "<style scoped>\n",
       "    .dataframe tbody tr th:only-of-type {\n",
       "        vertical-align: middle;\n",
       "    }\n",
       "\n",
       "    .dataframe tbody tr th {\n",
       "        vertical-align: top;\n",
       "    }\n",
       "\n",
       "    .dataframe thead th {\n",
       "        text-align: right;\n",
       "    }\n",
       "</style>\n",
       "<table border=\"1\" class=\"dataframe\">\n",
       "  <thead>\n",
       "    <tr style=\"text-align: right;\">\n",
       "      <th></th>\n",
       "      <th>Permit #</th>\n",
       "      <th>Permit Type Description</th>\n",
       "      <th>Permit Subtype Description</th>\n",
       "      <th>Parcel</th>\n",
       "      <th>Date Entered</th>\n",
       "      <th>Date Issued</th>\n",
       "      <th>Construction Cost</th>\n",
       "      <th>Address</th>\n",
       "      <th>City</th>\n",
       "      <th>State</th>\n",
       "      <th>ZIP</th>\n",
       "      <th>Subdivision / Lot</th>\n",
       "      <th>Contact</th>\n",
       "      <th>Permit Type</th>\n",
       "      <th>Permit Subtype</th>\n",
       "      <th>IVR Tracking #</th>\n",
       "      <th>Purpose</th>\n",
       "      <th>Council District</th>\n",
       "      <th>Census Tract</th>\n",
       "      <th>Mapped Location</th>\n",
       "    </tr>\n",
       "  </thead>\n",
       "  <tbody>\n",
       "    <tr>\n",
       "      <th>34467</th>\n",
       "      <td>2017062064</td>\n",
       "      <td>Building Residential - Addition</td>\n",
       "      <td>Single Family Residence</td>\n",
       "      <td>07209025900</td>\n",
       "      <td>09/25/2017</td>\n",
       "      <td>09/25/2017</td>\n",
       "      <td>57452.0</td>\n",
       "      <td>1001  FAIRWIN AVE</td>\n",
       "      <td>NASHVILLE</td>\n",
       "      <td>TN</td>\n",
       "      <td>37216</td>\n",
       "      <td>LOT 21 ESKRIDGE SUB</td>\n",
       "      <td>DOTSON GROUP LLC</td>\n",
       "      <td>CARA</td>\n",
       "      <td>CAA01R301</td>\n",
       "      <td>3408732</td>\n",
       "      <td>to construct 510SF addition to the rear of exi...</td>\n",
       "      <td>5.0</td>\n",
       "      <td>37011400.0</td>\n",
       "      <td>1001 FAIRWIN AVE\\nNASHVILLE, TN 37216\\n(36.199...</td>\n",
       "    </tr>\n",
       "    <tr>\n",
       "      <th>34468</th>\n",
       "      <td>2017080442</td>\n",
       "      <td>Building Residential - Addition</td>\n",
       "      <td>Single Family Residence</td>\n",
       "      <td>13004005000</td>\n",
       "      <td>12/18/2017</td>\n",
       "      <td>01/08/2018</td>\n",
       "      <td>300000.0</td>\n",
       "      <td>4215  SNEED RD</td>\n",
       "      <td>NASHVILLE</td>\n",
       "      <td>TN</td>\n",
       "      <td>37215</td>\n",
       "      <td>PT LOT 4 BELLEMEADE ANNEX</td>\n",
       "      <td>VAN MOL RESTORATION LLC</td>\n",
       "      <td>CARA</td>\n",
       "      <td>CAA01R301</td>\n",
       "      <td>3433097</td>\n",
       "      <td>Remodel Kitchen. Open back wall of home to add...</td>\n",
       "      <td>34.0</td>\n",
       "      <td>37017902.0</td>\n",
       "      <td>4215 SNEED RD\\nNASHVILLE, TN 37215\\n(36.100397...</td>\n",
       "    </tr>\n",
       "    <tr>\n",
       "      <th>34469</th>\n",
       "      <td>2018065491</td>\n",
       "      <td>Building Residential - Addition</td>\n",
       "      <td>Single Family Residence</td>\n",
       "      <td>08307030200</td>\n",
       "      <td>10/16/2018</td>\n",
       "      <td>10/30/2018</td>\n",
       "      <td>161540.0</td>\n",
       "      <td>2212  EASTLAND AVE</td>\n",
       "      <td>NASHVILLE</td>\n",
       "      <td>TN</td>\n",
       "      <td>37206</td>\n",
       "      <td>PT LOT 2 ROLLING ACRES</td>\n",
       "      <td>ALFORD BUILDERS, LLC</td>\n",
       "      <td>CARA</td>\n",
       "      <td>CAA01R301</td>\n",
       "      <td>3569305</td>\n",
       "      <td>to construct 2 story addition which will add 1...</td>\n",
       "      <td>6.0</td>\n",
       "      <td>37012100.0</td>\n",
       "      <td>2212 EASTLAND AVE\\nNASHVILLE, TN 37206\\n(36.18...</td>\n",
       "    </tr>\n",
       "    <tr>\n",
       "      <th>34470</th>\n",
       "      <td>2017019524</td>\n",
       "      <td>Building Residential - Addition</td>\n",
       "      <td>Single Family Residence</td>\n",
       "      <td>04313027400</td>\n",
       "      <td>03/22/2017</td>\n",
       "      <td>03/22/2017</td>\n",
       "      <td>20000.0</td>\n",
       "      <td>316  CHERRY ST</td>\n",
       "      <td>MADISON</td>\n",
       "      <td>TN</td>\n",
       "      <td>37115</td>\n",
       "      <td>LOT 25 BLK C CRITTENDEN EST</td>\n",
       "      <td>SELF CONTRACTOR RESIDENTIAL (SEE APPLICANT INF...</td>\n",
       "      <td>CARA</td>\n",
       "      <td>CAA01R301</td>\n",
       "      <td>3338760</td>\n",
       "      <td>EXISTING ONE STORY HOUSE.\\nTHIS PERMIT:\\n1...N...</td>\n",
       "      <td>9.0</td>\n",
       "      <td>37010701.0</td>\n",
       "      <td>316 CHERRY ST\\nMADISON, TN 37115\\n(36.258694, ...</td>\n",
       "    </tr>\n",
       "    <tr>\n",
       "      <th>34471</th>\n",
       "      <td>2018008218</td>\n",
       "      <td>Building Commercial - Rehab</td>\n",
       "      <td>General Office, Professional Services</td>\n",
       "      <td>03409008400</td>\n",
       "      <td>02/13/2018</td>\n",
       "      <td>04/17/2018</td>\n",
       "      <td>14000.0</td>\n",
       "      <td>131  EDENWOLD RD</td>\n",
       "      <td>MADISON</td>\n",
       "      <td>TN</td>\n",
       "      <td>37115</td>\n",
       "      <td>LOTS 18 19 PT 20 BLK A EDENWOLD CITY SUB</td>\n",
       "      <td>sergy motorny</td>\n",
       "      <td>CACR</td>\n",
       "      <td>CAD02B016</td>\n",
       "      <td>3446279</td>\n",
       "      <td>BUILDING AT 2100 SQFT WITH UNFINISH ATTIC AT A...</td>\n",
       "      <td>10.0</td>\n",
       "      <td>37010401.0</td>\n",
       "      <td>131 EDENWOLD RD\\nMADISON, TN 37115\\n(36.287001...</td>\n",
       "    </tr>\n",
       "    <tr>\n",
       "      <th>34472</th>\n",
       "      <td>2017044878</td>\n",
       "      <td>Building Sign Permit</td>\n",
       "      <td>Sign - Ground /  Wall Signs</td>\n",
       "      <td>09306208500</td>\n",
       "      <td>07/10/2017</td>\n",
       "      <td>08/23/2017</td>\n",
       "      <td>5000.0</td>\n",
       "      <td>110  2ND AVE N</td>\n",
       "      <td>NASHVILLE</td>\n",
       "      <td>TN</td>\n",
       "      <td>37201</td>\n",
       "      <td>PT LOT 15 ORIGINAL TOWN OF NASHVILLE</td>\n",
       "      <td>GENERAL SIGN SERVICES</td>\n",
       "      <td>CASN</td>\n",
       "      <td>CAZ02A001</td>\n",
       "      <td>3384196</td>\n",
       "      <td>to erect 28SF illuminated wall sign for Famous...</td>\n",
       "      <td>19.0</td>\n",
       "      <td>37019500.0</td>\n",
       "      <td>110 2ND AVE N\\nNASHVILLE, TN 37201\\n(36.162296...</td>\n",
       "    </tr>\n",
       "    <tr>\n",
       "      <th>34473</th>\n",
       "      <td>2018059022</td>\n",
       "      <td>Building Residential - New</td>\n",
       "      <td>Single Family Residence</td>\n",
       "      <td>163020C32000CO</td>\n",
       "      <td>09/17/2018</td>\n",
       "      <td>09/26/2018</td>\n",
       "      <td>140813.0</td>\n",
       "      <td>1382  RURAL HILL RD  320</td>\n",
       "      <td>ANTIOCH</td>\n",
       "      <td>TN</td>\n",
       "      <td>37013</td>\n",
       "      <td>UNIT 320 AUTUMN RIDGE TOWNHOMES 3RD AMEND</td>\n",
       "      <td>R J YORK HOMES LLC</td>\n",
       "      <td>CARN</td>\n",
       "      <td>CAA01R301</td>\n",
       "      <td>3560019</td>\n",
       "      <td>TO CONSTRUCT A NEW SINGLE FAMILY UNIT AT 1250 ...</td>\n",
       "      <td>32.0</td>\n",
       "      <td>37015628.0</td>\n",
       "      <td>1382 RURAL HILL RD 320\\nANTIOCH, TN 37013\\n(36...</td>\n",
       "    </tr>\n",
       "  </tbody>\n",
       "</table>\n",
       "</div>"
      ],
      "text/plain": [
       "         Permit #          Permit Type Description  \\\n",
       "34467  2017062064  Building Residential - Addition   \n",
       "34468  2017080442  Building Residential - Addition   \n",
       "34469  2018065491  Building Residential - Addition   \n",
       "34470  2017019524  Building Residential - Addition   \n",
       "34471  2018008218      Building Commercial - Rehab   \n",
       "34472  2017044878             Building Sign Permit   \n",
       "34473  2018059022       Building Residential - New   \n",
       "\n",
       "                  Permit Subtype Description          Parcel Date Entered  \\\n",
       "34467                Single Family Residence     07209025900   09/25/2017   \n",
       "34468                Single Family Residence     13004005000   12/18/2017   \n",
       "34469                Single Family Residence     08307030200   10/16/2018   \n",
       "34470                Single Family Residence     04313027400   03/22/2017   \n",
       "34471  General Office, Professional Services     03409008400   02/13/2018   \n",
       "34472            Sign - Ground /  Wall Signs     09306208500   07/10/2017   \n",
       "34473                Single Family Residence  163020C32000CO   09/17/2018   \n",
       "\n",
       "      Date Issued  Construction Cost                   Address       City  \\\n",
       "34467  09/25/2017            57452.0         1001  FAIRWIN AVE  NASHVILLE   \n",
       "34468  01/08/2018           300000.0            4215  SNEED RD  NASHVILLE   \n",
       "34469  10/30/2018           161540.0        2212  EASTLAND AVE  NASHVILLE   \n",
       "34470  03/22/2017            20000.0            316  CHERRY ST    MADISON   \n",
       "34471  04/17/2018            14000.0          131  EDENWOLD RD    MADISON   \n",
       "34472  08/23/2017             5000.0            110  2ND AVE N  NASHVILLE   \n",
       "34473  09/26/2018           140813.0  1382  RURAL HILL RD  320    ANTIOCH   \n",
       "\n",
       "      State    ZIP                          Subdivision / Lot  \\\n",
       "34467    TN  37216                        LOT 21 ESKRIDGE SUB   \n",
       "34468    TN  37215                  PT LOT 4 BELLEMEADE ANNEX   \n",
       "34469    TN  37206                     PT LOT 2 ROLLING ACRES   \n",
       "34470    TN  37115                LOT 25 BLK C CRITTENDEN EST   \n",
       "34471    TN  37115   LOTS 18 19 PT 20 BLK A EDENWOLD CITY SUB   \n",
       "34472    TN  37201       PT LOT 15 ORIGINAL TOWN OF NASHVILLE   \n",
       "34473    TN  37013  UNIT 320 AUTUMN RIDGE TOWNHOMES 3RD AMEND   \n",
       "\n",
       "                                                 Contact Permit Type  \\\n",
       "34467                                   DOTSON GROUP LLC        CARA   \n",
       "34468                            VAN MOL RESTORATION LLC        CARA   \n",
       "34469                               ALFORD BUILDERS, LLC        CARA   \n",
       "34470  SELF CONTRACTOR RESIDENTIAL (SEE APPLICANT INF...        CARA   \n",
       "34471                                      sergy motorny        CACR   \n",
       "34472                              GENERAL SIGN SERVICES        CASN   \n",
       "34473                                 R J YORK HOMES LLC        CARN   \n",
       "\n",
       "      Permit Subtype  IVR Tracking #  \\\n",
       "34467      CAA01R301         3408732   \n",
       "34468      CAA01R301         3433097   \n",
       "34469      CAA01R301         3569305   \n",
       "34470      CAA01R301         3338760   \n",
       "34471      CAD02B016         3446279   \n",
       "34472      CAZ02A001         3384196   \n",
       "34473      CAA01R301         3560019   \n",
       "\n",
       "                                                 Purpose  Council District  \\\n",
       "34467  to construct 510SF addition to the rear of exi...               5.0   \n",
       "34468  Remodel Kitchen. Open back wall of home to add...              34.0   \n",
       "34469  to construct 2 story addition which will add 1...               6.0   \n",
       "34470  EXISTING ONE STORY HOUSE.\\nTHIS PERMIT:\\n1...N...               9.0   \n",
       "34471  BUILDING AT 2100 SQFT WITH UNFINISH ATTIC AT A...              10.0   \n",
       "34472  to erect 28SF illuminated wall sign for Famous...              19.0   \n",
       "34473  TO CONSTRUCT A NEW SINGLE FAMILY UNIT AT 1250 ...              32.0   \n",
       "\n",
       "       Census Tract                                    Mapped Location  \n",
       "34467    37011400.0  1001 FAIRWIN AVE\\nNASHVILLE, TN 37216\\n(36.199...  \n",
       "34468    37017902.0  4215 SNEED RD\\nNASHVILLE, TN 37215\\n(36.100397...  \n",
       "34469    37012100.0  2212 EASTLAND AVE\\nNASHVILLE, TN 37206\\n(36.18...  \n",
       "34470    37010701.0  316 CHERRY ST\\nMADISON, TN 37115\\n(36.258694, ...  \n",
       "34471    37010401.0  131 EDENWOLD RD\\nMADISON, TN 37115\\n(36.287001...  \n",
       "34472    37019500.0  110 2ND AVE N\\nNASHVILLE, TN 37201\\n(36.162296...  \n",
       "34473    37015628.0  1382 RURAL HILL RD 320\\nANTIOCH, TN 37013\\n(36...  "
      ]
     },
     "execution_count": 4,
     "metadata": {},
     "output_type": "execute_result"
    }
   ],
   "source": [
    "building_permits.tail(7)"
   ]
  },
  {
   "cell_type": "code",
   "execution_count": 5,
   "metadata": {},
   "outputs": [
    {
     "data": {
      "text/plain": [
       "(34474, 20)"
      ]
     },
     "execution_count": 5,
     "metadata": {},
     "output_type": "execute_result"
    }
   ],
   "source": [
    "building_permits.shape"
   ]
  },
  {
   "cell_type": "code",
   "execution_count": 6,
   "metadata": {},
   "outputs": [
    {
     "data": {
      "text/plain": [
       "Index(['Permit #', 'Permit Type Description', 'Permit Subtype Description',\n",
       "       'Parcel', 'Date Entered', 'Date Issued', 'Construction Cost', 'Address',\n",
       "       'City', 'State', 'ZIP', 'Subdivision / Lot', 'Contact', 'Permit Type',\n",
       "       'Permit Subtype', 'IVR Tracking #', 'Purpose', 'Council District',\n",
       "       'Census Tract', 'Mapped Location'],\n",
       "      dtype='object')"
      ]
     },
     "execution_count": 6,
     "metadata": {},
     "output_type": "execute_result"
    }
   ],
   "source": [
    "building_permits.columns"
   ]
  },
  {
   "cell_type": "code",
   "execution_count": 7,
   "metadata": {},
   "outputs": [],
   "source": [
    "keep_cols = ['Permit #',\n",
    "'Permit Type Description',\n",
    "'Permit Subtype Description',\n",
    "'Parcel',\n",
    "'Date Entered',\n",
    "'Date Issued',\n",
    "'Construction Cost',\n",
    "'Address',\n",
    "'City',\n",
    "'State',\n",
    "'ZIP',\n",
    "'Contact',\n",
    "'Purpose',\n",
    "'Council District',]"
   ]
  },
  {
   "cell_type": "code",
   "execution_count": 8,
   "metadata": {},
   "outputs": [],
   "source": [
    "building_permits = building_permits[keep_cols]"
   ]
  },
  {
   "cell_type": "code",
   "execution_count": 9,
   "metadata": {},
   "outputs": [],
   "source": [
    "rename_cols = [\n",
    "    'number',\n",
    "    'type_desc',\n",
    "    'subtype_desc',\n",
    "    'parcel',\n",
    "    'date_entered',\n",
    "    'date_issued',\n",
    "    'cost',\n",
    "    'address',\n",
    "    'city',\n",
    "    'state',\n",
    "    'zip_code',\n",
    "    'contact',\n",
    "    'purpose',\n",
    "    'council_district',\n",
    "]"
   ]
  },
  {
   "cell_type": "code",
   "execution_count": 10,
   "metadata": {},
   "outputs": [],
   "source": [
    "building_permits.columns = rename_cols"
   ]
  },
  {
   "cell_type": "code",
   "execution_count": 11,
   "metadata": {},
   "outputs": [
    {
     "data": {
      "text/plain": [
       "SELF CONTRACTOR RESIDENTIAL (SEE APPLICANT INFORMATION)    3061\n",
       "SELF CONTRACTOR COMMERCIAL (SEE APPLICANT INFORMATION)      746\n",
       "OLE SOUTH PROPERTIES INC                                    601\n",
       "NVR, INC. T/A RYAN HOMES                                    581\n",
       "JOSLIN SIGN & MAINTENANCE CO INC                            520\n",
       "                                                           ... \n",
       "kimberly sansom                                               1\n",
       "FUEL TANK MAINTENANCE CO LLC                                  1\n",
       "WIGGINS, APRIL                                                1\n",
       "Zack Nofal                                                    1\n",
       "ROOF ROOF NASHVILLE, LLC                                      1\n",
       "Name: contact, Length: 4555, dtype: int64"
      ]
     },
     "execution_count": 11,
     "metadata": {},
     "output_type": "execute_result"
    }
   ],
   "source": [
    "building_permits['contact'].value_counts()"
   ]
  },
  {
   "cell_type": "markdown",
   "metadata": {},
   "source": [
    "OLE SOUTH PROPERTIES INC, 601"
   ]
  },
  {
   "cell_type": "code",
   "execution_count": 12,
   "metadata": {},
   "outputs": [],
   "source": [
    "description_counts = building_permits['type_desc'].value_counts().reset_index()\n",
    "description_counts.columns = ['type_desc', 'type_desc_count']"
   ]
  },
  {
   "cell_type": "code",
   "execution_count": 13,
   "metadata": {},
   "outputs": [
    {
     "data": {
      "text/plain": [
       "True"
      ]
     },
     "execution_count": 13,
     "metadata": {},
     "output_type": "execute_result"
    }
   ],
   "source": [
    "sum(description_counts[description_counts['type_desc'].str.contains('Residential')]['type_desc_count']) > sum(description_counts[description_counts['type_desc'].str.contains('Commercial')]['type_desc_count'])\n"
   ]
  },
  {
   "cell_type": "code",
   "execution_count": 14,
   "metadata": {},
   "outputs": [
    {
     "data": {
      "text/plain": [
       "20396"
      ]
     },
     "execution_count": 14,
     "metadata": {},
     "output_type": "execute_result"
    }
   ],
   "source": [
    "sum(description_counts[description_counts['type_desc'].str.contains('Residential')]['type_desc_count'])"
   ]
  },
  {
   "cell_type": "code",
   "execution_count": 15,
   "metadata": {},
   "outputs": [
    {
     "data": {
      "text/plain": [
       "6574"
      ]
     },
     "execution_count": 15,
     "metadata": {},
     "output_type": "execute_result"
    }
   ],
   "source": [
    "sum(description_counts[description_counts['type_desc'].str.contains('Commercial')]['type_desc_count'])"
   ]
  },
  {
   "cell_type": "code",
   "execution_count": 16,
   "metadata": {},
   "outputs": [
    {
     "data": {
      "text/plain": [
       "7504"
      ]
     },
     "execution_count": 16,
     "metadata": {},
     "output_type": "execute_result"
    }
   ],
   "source": [
    "sum(description_counts[(~description_counts['type_desc'].str.contains('Residential'))&(~description_counts['type_desc'].str.contains('Commercial'))]['type_desc_count'])"
   ]
  },
  {
   "cell_type": "code",
   "execution_count": 30,
   "metadata": {},
   "outputs": [],
   "source": [
    "# easier method would be to just use pd.to_datetime()\n",
    "building_permits['month_entered'] = building_permits['date_entered'].str.split('/').str[0].astype(int)"
   ]
  },
  {
   "cell_type": "code",
   "execution_count": 31,
   "metadata": {},
   "outputs": [],
   "source": [
    "month_count = building_permits['month_entered'].value_counts().sort_index()"
   ]
  },
  {
   "cell_type": "code",
   "execution_count": 33,
   "metadata": {},
   "outputs": [
    {
     "data": {
      "image/png": "[encoded data removed]",
      "text/plain": [
       "<Figure size 1440x360 with 1 Axes>"
      ]
     },
     "metadata": {
      "needs_background": "light"
     },
     "output_type": "display_data"
    }
   ],
   "source": [
    "plt.figure(figsize = (20, 5))\n",
    "plt.bar(month_count.index, month_count)\n",
    "plt.xlabel('Month')\n",
    "plt.ylabel('Count');"
   ]
  },
  {
   "cell_type": "markdown",
   "metadata": {},
   "source": [
    "---\n",
    "# WEEK 2"
   ]
  },
  {
   "cell_type": "code",
   "execution_count": 20,
   "metadata": {},
   "outputs": [],
   "source": [
    "building_permits['date_entered'] = pd.to_datetime(building_permits['date_entered'])\n",
    "building_permits['date_issued'] = pd.to_datetime(building_permits['date_issued'])"
   ]
  },
  {
   "cell_type": "code",
   "execution_count": 21,
   "metadata": {},
   "outputs": [],
   "source": [
    "building_permits['lapse'] = building_permits['date_issued'] - building_permits['date_entered']"
   ]
  },
  {
   "cell_type": "code",
   "execution_count": 22,
   "metadata": {},
   "outputs": [
    {
     "data": {
      "text/plain": [
       "Timedelta('3371 days 00:00:00')"
      ]
     },
     "execution_count": 22,
     "metadata": {},
     "output_type": "execute_result"
    }
   ],
   "source": [
    "max(building_permits['lapse'])"
   ]
  },
  {
   "cell_type": "code",
   "execution_count": 23,
   "metadata": {},
   "outputs": [
    {
     "data": {
      "text/plain": [
       "Timedelta('0 days 00:00:00')"
      ]
     },
     "execution_count": 23,
     "metadata": {},
     "output_type": "execute_result"
    }
   ],
   "source": [
    "min(building_permits['lapse'])"
   ]
  },
  {
   "cell_type": "raw",
   "metadata": {},
   "source": [
    "# two ways to do it. I'm not sure if this should be included.\n",
    "\n",
    "print(len(building_permits[building_permits['lapse'] > pd.Timedelta('100 days')]))\n",
    "\n",
    "building_permits['lapse_days'] = building_permits['lapse'].astype(str).str.split(' ').str[0].astype(int)\n",
    "print(len(building_permits[building_permits['lapse_days'] > 100]))"
   ]
  },
  {
   "cell_type": "code",
   "execution_count": 24,
   "metadata": {},
   "outputs": [
    {
     "data": {
      "text/plain": [
       "962"
      ]
     },
     "execution_count": 24,
     "metadata": {},
     "output_type": "execute_result"
    }
   ],
   "source": [
    "len(building_permits[(building_permits['date_issued'].dt.month == 9)&(building_permits['date_issued'].dt.year == 2019)])"
   ]
  },
  {
   "cell_type": "code",
   "execution_count": 25,
   "metadata": {},
   "outputs": [],
   "source": [
    "building_permits['year'] = building_permits['date_issued'].dt.year"
   ]
  },
  {
   "cell_type": "code",
   "execution_count": 26,
   "metadata": {},
   "outputs": [
    {
     "data": {
      "text/plain": [
       "array([2019, 2017, 2018, 2016])"
      ]
     },
     "execution_count": 26,
     "metadata": {},
     "output_type": "execute_result"
    }
   ],
   "source": [
    "building_permits['year'].unique()"
   ]
  },
  {
   "cell_type": "code",
   "execution_count": 27,
   "metadata": {},
   "outputs": [],
   "source": [
    "building_permits_2019 = building_permits[building_permits['year'] == 2019]"
   ]
  },
  {
   "cell_type": "code",
   "execution_count": 28,
   "metadata": {},
   "outputs": [],
   "source": [
    "building_permits_2019_zip_gb = building_permits_2019.groupby('zip_code').count().reset_index().iloc[:,:2]"
   ]
  },
  {
   "cell_type": "code",
   "execution_count": 29,
   "metadata": {},
   "outputs": [],
   "source": [
    "building_permits_2019_zip_gb.columns = ['zip_code', 'zip_count']\n",
    "building_permits_2019_zip_gb['zip_code'] = building_permits_2019_zip_gb['zip_code'].astype(str)"
   ]
  },
  {
   "cell_type": "code",
   "execution_count": 30,
   "metadata": {},
   "outputs": [
    {
     "data": {
      "image/png": "[encoded data removed]",
      "text/plain": [
       "<Figure size 1440x360 with 1 Axes>"
      ]
     },
     "metadata": {
      "needs_background": "light"
     },
     "output_type": "display_data"
    }
   ],
   "source": [
    "plt.figure(figsize = (20, 5))\n",
    "plt.bar(building_permits_2019_zip_gb['zip_code'], building_permits_2019_zip_gb['zip_count'])\n",
    "plt.xticks(rotation = 90);"
   ]
  },
  {
   "cell_type": "code",
   "execution_count": 31,
   "metadata": {},
   "outputs": [],
   "source": [
    "short_term_rental_permits = pd.read_csv('../data/Residential_Short_Term_Rental_Permits.csv')"
   ]
  },
  {
   "cell_type": "code",
   "execution_count": 32,
   "metadata": {},
   "outputs": [],
   "source": [
    "short_term_rental_permits = short_term_rental_permits[['Permit #', 'Applicant', 'Contact', 'Permit Subtype Description', 'Permit Status', 'Parcel', 'Date Entered', 'Date Issued', 'Expiration Date', 'Address', 'City', 'State', 'ZIP', 'Purpose', 'Permit Owner Name', 'Permit Type', 'Council District']]"
   ]
  },
  {
   "cell_type": "code",
   "execution_count": 33,
   "metadata": {},
   "outputs": [],
   "source": [
    "short_term_rental_permits.columns =['id', 'applicant', 'contact', 'subtype_desc', 'status', 'parcel', 'entered', 'issued',  'expiration', 'address', 'city', 'state', 'zip_code', 'purpose', 'permit_owner_name', 'type', 'council_district']"
   ]
  },
  {
   "cell_type": "code",
   "execution_count": 34,
   "metadata": {},
   "outputs": [],
   "source": [
    "short_term_rental_permits['issued'] = pd.to_datetime(short_term_rental_permits['issued'])"
   ]
  },
  {
   "cell_type": "code",
   "execution_count": 35,
   "metadata": {},
   "outputs": [],
   "source": [
    "strp_2019 = short_term_rental_permits[(short_term_rental_permits['issued'] <= max(building_permits_2019['date_issued']))&\n",
    "                                                      (short_term_rental_permits['issued'] >= min(building_permits_2019['date_issued']))]"
   ]
  },
  {
   "cell_type": "code",
   "execution_count": 36,
   "metadata": {},
   "outputs": [],
   "source": [
    "strp_2019_zip_gb = strp_2019.groupby('zip_code').count().reset_index().iloc[:,:2]\n",
    "strp_2019_zip_gb.columns = ['zip_code', 'zip_count']\n",
    "strp_2019_zip_gb['zip_code'] = strp_2019_zip_gb['zip_code'].astype(str)"
   ]
  },
  {
   "cell_type": "code",
   "execution_count": 37,
   "metadata": {},
   "outputs": [],
   "source": [
    "strp_2019_zip_gb['permit_type'] = 'short_term_rental'\n",
    "building_permits_2019_zip_gb['permit_type'] = 'building'"
   ]
  },
  {
   "cell_type": "code",
   "execution_count": 38,
   "metadata": {},
   "outputs": [],
   "source": [
    "building_strp_2019 = pd.concat([building_permits_2019_zip_gb, strp_2019_zip_gb])"
   ]
  },
  {
   "cell_type": "code",
   "execution_count": 39,
   "metadata": {},
   "outputs": [
    {
     "data": {
      "image/png": "[encoded data removed]",
      "text/plain": [
       "<Figure size 988.875x432 with 1 Axes>"
      ]
     },
     "metadata": {
      "needs_background": "light"
     },
     "output_type": "display_data"
    }
   ],
   "source": [
    "g = sns.catplot(x=\"zip_code\", y=\"zip_count\", hue=\"permit_type\", data=building_strp_2019, kind=\"bar\", height = 6, aspect = 2)\n",
    "plt.xticks(rotation = 90);"
   ]
  },
  {
   "cell_type": "code",
   "execution_count": 40,
   "metadata": {},
   "outputs": [],
   "source": [
    "building_strp_merge = building_permits.merge(short_term_rental_permits, how = 'inner', on = 'parcel')"
   ]
  },
  {
   "cell_type": "code",
   "execution_count": 41,
   "metadata": {},
   "outputs": [
    {
     "data": {
      "text/plain": [
       "6290"
      ]
     },
     "execution_count": 41,
     "metadata": {},
     "output_type": "execute_result"
    }
   ],
   "source": [
    "len(building_strp_merge)"
   ]
  },
  {
   "cell_type": "code",
   "execution_count": 42,
   "metadata": {},
   "outputs": [
    {
     "data": {
      "text/plain": [
       "1623"
      ]
     },
     "execution_count": 42,
     "metadata": {},
     "output_type": "execute_result"
    }
   ],
   "source": [
    "# strp happened before build\n",
    "len(building_strp_merge[building_strp_merge['date_issued'] > building_strp_merge['issued']])"
   ]
  },
  {
   "cell_type": "code",
   "execution_count": 43,
   "metadata": {},
   "outputs": [
    {
     "data": {
      "text/plain": [
       "4050"
      ]
     },
     "execution_count": 43,
     "metadata": {},
     "output_type": "execute_result"
    }
   ],
   "source": [
    "# strp happened after build\n",
    "len(building_strp_merge[building_strp_merge['date_issued'] < building_strp_merge['issued']])"
   ]
  },
  {
   "cell_type": "code",
   "execution_count": 44,
   "metadata": {},
   "outputs": [
    {
     "data": {
      "text/plain": [
       "617"
      ]
     },
     "execution_count": 44,
     "metadata": {},
     "output_type": "execute_result"
    }
   ],
   "source": [
    "# 617 happened at the same time\n",
    "6290-(4050+1623)"
   ]
  },
  {
   "cell_type": "code",
   "execution_count": 82,
   "metadata": {},
   "outputs": [
    {
     "data": {
      "text/html": [
       "<div>\n",
       "<style scoped>\n",
       "    .dataframe tbody tr th:only-of-type {\n",
       "        vertical-align: middle;\n",
       "    }\n",
       "\n",
       "    .dataframe tbody tr th {\n",
       "        vertical-align: top;\n",
       "    }\n",
       "\n",
       "    .dataframe thead th {\n",
       "        text-align: right;\n",
       "    }\n",
       "</style>\n",
       "<table border=\"1\" class=\"dataframe\">\n",
       "  <thead>\n",
       "    <tr style=\"text-align: right;\">\n",
       "      <th></th>\n",
       "      <th>zip_code</th>\n",
       "      <th>zip_count</th>\n",
       "      <th>permit_type</th>\n",
       "    </tr>\n",
       "  </thead>\n",
       "  <tbody>\n",
       "    <tr>\n",
       "      <th>0</th>\n",
       "      <td>0</td>\n",
       "      <td>2</td>\n",
       "      <td>building</td>\n",
       "    </tr>\n",
       "    <tr>\n",
       "      <th>1</th>\n",
       "      <td>301</td>\n",
       "      <td>1</td>\n",
       "      <td>building</td>\n",
       "    </tr>\n",
       "    <tr>\n",
       "      <th>2</th>\n",
       "      <td>37013</td>\n",
       "      <td>1212</td>\n",
       "      <td>building</td>\n",
       "    </tr>\n",
       "    <tr>\n",
       "      <th>3</th>\n",
       "      <td>37015</td>\n",
       "      <td>3</td>\n",
       "      <td>building</td>\n",
       "    </tr>\n",
       "    <tr>\n",
       "      <th>4</th>\n",
       "      <td>37027</td>\n",
       "      <td>129</td>\n",
       "      <td>building</td>\n",
       "    </tr>\n",
       "    <tr>\n",
       "      <th>...</th>\n",
       "      <td>...</td>\n",
       "      <td>...</td>\n",
       "      <td>...</td>\n",
       "    </tr>\n",
       "    <tr>\n",
       "      <th>25</th>\n",
       "      <td>37218</td>\n",
       "      <td>14</td>\n",
       "      <td>short_term_rental</td>\n",
       "    </tr>\n",
       "    <tr>\n",
       "      <th>26</th>\n",
       "      <td>37219</td>\n",
       "      <td>28</td>\n",
       "      <td>short_term_rental</td>\n",
       "    </tr>\n",
       "    <tr>\n",
       "      <th>27</th>\n",
       "      <td>37220</td>\n",
       "      <td>7</td>\n",
       "      <td>short_term_rental</td>\n",
       "    </tr>\n",
       "    <tr>\n",
       "      <th>28</th>\n",
       "      <td>37221</td>\n",
       "      <td>6</td>\n",
       "      <td>short_term_rental</td>\n",
       "    </tr>\n",
       "    <tr>\n",
       "      <th>29</th>\n",
       "      <td>37228</td>\n",
       "      <td>35</td>\n",
       "      <td>short_term_rental</td>\n",
       "    </tr>\n",
       "  </tbody>\n",
       "</table>\n",
       "<p>69 rows × 3 columns</p>\n",
       "</div>"
      ],
      "text/plain": [
       "   zip_code  zip_count        permit_type\n",
       "0         0          2           building\n",
       "1       301          1           building\n",
       "2     37013       1212           building\n",
       "3     37015          3           building\n",
       "4     37027        129           building\n",
       "..      ...        ...                ...\n",
       "25    37218         14  short_term_rental\n",
       "26    37219         28  short_term_rental\n",
       "27    37220          7  short_term_rental\n",
       "28    37221          6  short_term_rental\n",
       "29    37228         35  short_term_rental\n",
       "\n",
       "[69 rows x 3 columns]"
      ]
     },
     "execution_count": 82,
     "metadata": {},
     "output_type": "execute_result"
    }
   ],
   "source": [
    "building_strp_2019"
   ]
  },
  {
   "cell_type": "code",
   "execution_count": 45,
   "metadata": {},
   "outputs": [],
   "source": [
    "# strp usually happens before build, but not by a huge amount"
   ]
  },
  {
   "cell_type": "code",
   "execution_count": 46,
   "metadata": {},
   "outputs": [
    {
     "data": {
      "text/html": [
       "<div style=\"width:100%;\"><div style=\"position:relative;width:100%;height:0;padding-bottom:60%;\"><iframe src=\"data:text/html;charset=utf-8;base64,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\" style=\"position:absolute;width:100%;height:100%;left:0;top:0;border:none !important;\" allowfullscreen webkitallowfullscreen mozallowfullscreen></iframe></div></div>"
      ],
      "text/plain": [
       "<folium.folium.Map at 0x1a21f05850>"
      ]
     },
     "execution_count": 46,
     "metadata": {},
     "output_type": "execute_result"
    }
   ],
   "source": [
    "nash_map = folium.Map(location=[36.1612, -86.7775], zoom_start=12)\n",
    "nash_map"
   ]
  },
  {
   "cell_type": "code",
   "execution_count": 47,
   "metadata": {},
   "outputs": [
    {
     "name": "stdout",
     "output_type": "stream",
     "text": [
      "[('fire_stations',)]\n"
     ]
    }
   ],
   "source": [
    "db = '../data/stations.db'\n",
    "con = sql.connect(db)\n",
    "mycursor = con.cursor() \n",
    "mycursor.execute(\"SELECT name FROM sqlite_master WHERE type='table' ORDER BY name;\")\n",
    "tables=(mycursor.fetchall())\n",
    "print(tables)"
   ]
  },
  {
   "cell_type": "code",
   "execution_count": 48,
   "metadata": {},
   "outputs": [],
   "source": [
    "fire_stations = pd.read_sql_query(\"SELECT * FROM fire_stations\", con)"
   ]
  },
  {
   "cell_type": "code",
   "execution_count": 49,
   "metadata": {},
   "outputs": [
    {
     "data": {
      "text/html": [
       "<div>\n",
       "<style scoped>\n",
       "    .dataframe tbody tr th:only-of-type {\n",
       "        vertical-align: middle;\n",
       "    }\n",
       "\n",
       "    .dataframe tbody tr th {\n",
       "        vertical-align: top;\n",
       "    }\n",
       "\n",
       "    .dataframe thead th {\n",
       "        text-align: right;\n",
       "    }\n",
       "</style>\n",
       "<table border=\"1\" class=\"dataframe\">\n",
       "  <thead>\n",
       "    <tr style=\"text-align: right;\">\n",
       "      <th></th>\n",
       "      <th>district</th>\n",
       "      <th>station_number</th>\n",
       "      <th>address</th>\n",
       "      <th>city</th>\n",
       "      <th>state</th>\n",
       "      <th>lat</th>\n",
       "      <th>lng</th>\n",
       "    </tr>\n",
       "  </thead>\n",
       "  <tbody>\n",
       "    <tr>\n",
       "      <th>0</th>\n",
       "      <td>1</td>\n",
       "      <td>Station 30</td>\n",
       "      <td>3705 Old Clarksville Pike</td>\n",
       "      <td>Joelton</td>\n",
       "      <td>TN</td>\n",
       "      <td>36.316384</td>\n",
       "      <td>-86.876877</td>\n",
       "    </tr>\n",
       "    <tr>\n",
       "      <th>1</th>\n",
       "      <td>2</td>\n",
       "      <td>Station 24</td>\n",
       "      <td>3851 Clarksville Highway</td>\n",
       "      <td>Nashville</td>\n",
       "      <td>TN</td>\n",
       "      <td>36.203627</td>\n",
       "      <td>-86.840622</td>\n",
       "    </tr>\n",
       "    <tr>\n",
       "      <th>2</th>\n",
       "      <td>2</td>\n",
       "      <td>Station 25</td>\n",
       "      <td>2589 Whites Creek Pike</td>\n",
       "      <td>Nashville</td>\n",
       "      <td>TN</td>\n",
       "      <td>36.215851</td>\n",
       "      <td>-86.801616</td>\n",
       "    </tr>\n",
       "    <tr>\n",
       "      <th>3</th>\n",
       "      <td>8</td>\n",
       "      <td>Station 1</td>\n",
       "      <td>130 Broadmoor Avenue</td>\n",
       "      <td>Nashville</td>\n",
       "      <td>TN</td>\n",
       "      <td>36.229579</td>\n",
       "      <td>-86.757426</td>\n",
       "    </tr>\n",
       "    <tr>\n",
       "      <th>4</th>\n",
       "      <td>8</td>\n",
       "      <td>Station 31</td>\n",
       "      <td>415 Douglas Avenue</td>\n",
       "      <td>Madison</td>\n",
       "      <td>TN</td>\n",
       "      <td>36.259135</td>\n",
       "      <td>-86.716084</td>\n",
       "    </tr>\n",
       "  </tbody>\n",
       "</table>\n",
       "</div>"
      ],
      "text/plain": [
       "  district station_number                    address       city state  \\\n",
       "0        1     Station 30  3705 Old Clarksville Pike    Joelton    TN   \n",
       "1        2     Station 24   3851 Clarksville Highway  Nashville    TN   \n",
       "2        2     Station 25     2589 Whites Creek Pike  Nashville    TN   \n",
       "3        8      Station 1       130 Broadmoor Avenue  Nashville    TN   \n",
       "4        8     Station 31         415 Douglas Avenue    Madison    TN   \n",
       "\n",
       "         lat        lng  \n",
       "0  36.316384 -86.876877  \n",
       "1  36.203627 -86.840622  \n",
       "2  36.215851 -86.801616  \n",
       "3  36.229579 -86.757426  \n",
       "4  36.259135 -86.716084  "
      ]
     },
     "execution_count": 49,
     "metadata": {},
     "output_type": "execute_result"
    }
   ],
   "source": [
    "fire_stations.head()"
   ]
  },
  {
   "cell_type": "code",
   "execution_count": 50,
   "metadata": {},
   "outputs": [
    {
     "data": {
      "text/plain": [
       "(38, 7)"
      ]
     },
     "execution_count": 50,
     "metadata": {},
     "output_type": "execute_result"
    }
   ],
   "source": [
    "fire_stations.shape"
   ]
  },
  {
   "cell_type": "code",
   "execution_count": 55,
   "metadata": {},
   "outputs": [
    {
     "data": {
      "text/html": [
       "<div style=\"width:100%;\"><div style=\"position:relative;width:100%;height:0;padding-bottom:60%;\"><iframe src=\"data:text/html;charset=utf-8;base64,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\" style=\"position:absolute;width:100%;height:100%;left:0;top:0;border:none !important;\" allowfullscreen webkitallowfullscreen mozallowfullscreen></iframe></div></div>"
      ],
      "text/plain": [
       "<folium.folium.Map at 0x1a1f8d08d0>"
      ]
     },
     "execution_count": 55,
     "metadata": {},
     "output_type": "execute_result"
    }
   ],
   "source": [
    "nash_map = folium.Map(location=[36.1612, -86.7775], zoom_start=12)\n",
    "for ind, row in fire_stations.iterrows():\n",
    "    point = [row['lat'], row['lng']]\n",
    "    folium.Marker(point, popup=row['district']).add_to(nash_map)\n",
    "nash_map"
   ]
  },
  {
   "cell_type": "code",
   "execution_count": 52,
   "metadata": {
    "scrolled": true
   },
   "outputs": [
    {
     "name": "stdout",
     "output_type": "stream",
     "text": [
      "[('permits_2018',), ('resident_survey_2018',), ('station_dist',), ('strp_2018',)]\n"
     ]
    }
   ],
   "source": [
    "db = '../data/multi_table.db'\n",
    "con = sql.connect(db)\n",
    "mycursor = con.cursor() \n",
    "mycursor.execute(\"SELECT name FROM sqlite_master WHERE type='table' ORDER BY name;\")\n",
    "tables=(mycursor.fetchall())\n",
    "print(tables)"
   ]
  },
  {
   "cell_type": "code",
   "execution_count": 53,
   "metadata": {},
   "outputs": [],
   "source": [
    "fire_council_survey = pd.read_sql_query(\"SELECT station_dist.district, station_dist.station_number, resident_survey_2018.fire_and_ems__overall, resident_survey_2018.fire_services, resident_survey_2018.fire_response_time, resident_survey_2018.fire_professionalism FROM strp_2018 INNER JOIN resident_survey_2018 ON resident_survey_2018.zip_code = strp_2018.zip LEFT JOIN station_dist ON station_dist.district = strp_2018.council_district\", con)"
   ]
  },
  {
   "cell_type": "markdown",
   "metadata": {},
   "source": [
    "\"SELECT station_dist.district, station_dist.station_number, resident_survey_2018.fire_and_ems__overall, resident_survey_2018.fire_services, resident_survey_2018.fire_response_time, resident_survey_2018.fire_professionalism\n",
    "FROM strp_2018\n",
    "INNER JOIN resident_survey_2018 ON resident_survey_2018.zip_code = strp_2018.zip\n",
    "LEFT JOIN station_dist ON station_dist.district = strp_2018.council_district\""
   ]
  },
  {
   "cell_type": "code",
   "execution_count": 54,
   "metadata": {},
   "outputs": [
    {
     "data": {
      "text/html": [
       "<div>\n",
       "<style scoped>\n",
       "    .dataframe tbody tr th:only-of-type {\n",
       "        vertical-align: middle;\n",
       "    }\n",
       "\n",
       "    .dataframe tbody tr th {\n",
       "        vertical-align: top;\n",
       "    }\n",
       "\n",
       "    .dataframe thead th {\n",
       "        text-align: right;\n",
       "    }\n",
       "</style>\n",
       "<table border=\"1\" class=\"dataframe\">\n",
       "  <thead>\n",
       "    <tr style=\"text-align: right;\">\n",
       "      <th></th>\n",
       "      <th>district</th>\n",
       "      <th>station_number</th>\n",
       "      <th>fire_and_ems__overall</th>\n",
       "      <th>fire_services</th>\n",
       "      <th>fire_response_time</th>\n",
       "      <th>fire_professionalism</th>\n",
       "    </tr>\n",
       "  </thead>\n",
       "  <tbody>\n",
       "    <tr>\n",
       "      <th>255</th>\n",
       "      <td>1.0</td>\n",
       "      <td>['Station 30']</td>\n",
       "      <td>Satisfied</td>\n",
       "      <td>Satisfied</td>\n",
       "      <td>Satisfied</td>\n",
       "      <td>Satisfied</td>\n",
       "    </tr>\n",
       "    <tr>\n",
       "      <th>149</th>\n",
       "      <td>2.0</td>\n",
       "      <td>['Station 24' 'Station 25']</td>\n",
       "      <td>Satisfied</td>\n",
       "      <td>Satisfied</td>\n",
       "      <td>Don't Know</td>\n",
       "      <td>Don't Know</td>\n",
       "    </tr>\n",
       "    <tr>\n",
       "      <th>96</th>\n",
       "      <td>3.0</td>\n",
       "      <td>['Station 39']</td>\n",
       "      <td>Very Satisfied</td>\n",
       "      <td>Don't Know</td>\n",
       "      <td>Don't Know</td>\n",
       "      <td>Don't Know</td>\n",
       "    </tr>\n",
       "    <tr>\n",
       "      <th>306</th>\n",
       "      <td>4.0</td>\n",
       "      <td>[]</td>\n",
       "      <td>Very Satisfied</td>\n",
       "      <td>Satisfied</td>\n",
       "      <td>Satisfied</td>\n",
       "      <td>Satisfied</td>\n",
       "    </tr>\n",
       "    <tr>\n",
       "      <th>0</th>\n",
       "      <td>5.0</td>\n",
       "      <td>['Station 3']</td>\n",
       "      <td>Satisfied</td>\n",
       "      <td>Satisfied</td>\n",
       "      <td>Don't Know</td>\n",
       "      <td>Don't Know</td>\n",
       "    </tr>\n",
       "    <tr>\n",
       "      <th>23</th>\n",
       "      <td>6.0</td>\n",
       "      <td>['Station 14']</td>\n",
       "      <td>Satisfied</td>\n",
       "      <td>Satisfied</td>\n",
       "      <td>Satisfied</td>\n",
       "      <td>Don't Know</td>\n",
       "    </tr>\n",
       "    <tr>\n",
       "      <th>3</th>\n",
       "      <td>7.0</td>\n",
       "      <td>['Station 29' 'Station 18']</td>\n",
       "      <td>Satisfied</td>\n",
       "      <td>Neutral</td>\n",
       "      <td>Satisfied</td>\n",
       "      <td>Very Satisfied</td>\n",
       "    </tr>\n",
       "    <tr>\n",
       "      <th>6</th>\n",
       "      <td>8.0</td>\n",
       "      <td>['Station 1' 'Station 31']</td>\n",
       "      <td>Satisfied</td>\n",
       "      <td>Neutral</td>\n",
       "      <td>Satisfied</td>\n",
       "      <td>Very Satisfied</td>\n",
       "    </tr>\n",
       "    <tr>\n",
       "      <th>22</th>\n",
       "      <td>9.0</td>\n",
       "      <td>['Station 38']</td>\n",
       "      <td>Satisfied</td>\n",
       "      <td>Satisfied</td>\n",
       "      <td>Neutral</td>\n",
       "      <td>Don't Know</td>\n",
       "    </tr>\n",
       "    <tr>\n",
       "      <th>401</th>\n",
       "      <td>10.0</td>\n",
       "      <td>[]</td>\n",
       "      <td>Satisfied</td>\n",
       "      <td>Satisfied</td>\n",
       "      <td>Neutral</td>\n",
       "      <td>Don't Know</td>\n",
       "    </tr>\n",
       "    <tr>\n",
       "      <th>395</th>\n",
       "      <td>11.0</td>\n",
       "      <td>['Station 36']</td>\n",
       "      <td>Satisfied</td>\n",
       "      <td>Satisfied</td>\n",
       "      <td>Satisfied</td>\n",
       "      <td>Neutral</td>\n",
       "    </tr>\n",
       "    <tr>\n",
       "      <th>50</th>\n",
       "      <td>12.0</td>\n",
       "      <td>[]</td>\n",
       "      <td>Satisfied</td>\n",
       "      <td>Satisfied</td>\n",
       "      <td>Satisfied</td>\n",
       "      <td>Satisfied</td>\n",
       "    </tr>\n",
       "    <tr>\n",
       "      <th>126</th>\n",
       "      <td>13.0</td>\n",
       "      <td>['Station 15' 'Station 4']</td>\n",
       "      <td>Satisfied</td>\n",
       "      <td>Satisfied</td>\n",
       "      <td>Don't Know</td>\n",
       "      <td>Satisfied</td>\n",
       "    </tr>\n",
       "    <tr>\n",
       "      <th>150</th>\n",
       "      <td>14.0</td>\n",
       "      <td>['Station 32']</td>\n",
       "      <td>Satisfied</td>\n",
       "      <td>Satisfied</td>\n",
       "      <td>Satisfied</td>\n",
       "      <td>Satisfied</td>\n",
       "    </tr>\n",
       "    <tr>\n",
       "      <th>38</th>\n",
       "      <td>15.0</td>\n",
       "      <td>['Station 22' 'Station 28']</td>\n",
       "      <td>Satisfied</td>\n",
       "      <td>Satisfied</td>\n",
       "      <td>Don't Know</td>\n",
       "      <td>Satisfied</td>\n",
       "    </tr>\n",
       "    <tr>\n",
       "      <th>60</th>\n",
       "      <td>16.0</td>\n",
       "      <td>['Station 21']</td>\n",
       "      <td>Satisfied</td>\n",
       "      <td>Satisfied</td>\n",
       "      <td>Satisfied</td>\n",
       "      <td>Don't Know</td>\n",
       "    </tr>\n",
       "    <tr>\n",
       "      <th>5</th>\n",
       "      <td>17.0</td>\n",
       "      <td>['Station 12' 'Station 8' 'Station 5']</td>\n",
       "      <td>Satisfied</td>\n",
       "      <td>Don't Know</td>\n",
       "      <td>Don't Know</td>\n",
       "      <td>Don't Know</td>\n",
       "    </tr>\n",
       "    <tr>\n",
       "      <th>39</th>\n",
       "      <td>18.0</td>\n",
       "      <td>['Station 16']</td>\n",
       "      <td>Satisfied</td>\n",
       "      <td>Satisfied</td>\n",
       "      <td>Don't Know</td>\n",
       "      <td>Satisfied</td>\n",
       "    </tr>\n",
       "    <tr>\n",
       "      <th>8</th>\n",
       "      <td>19.0</td>\n",
       "      <td>['Station 9' 'Station 2']</td>\n",
       "      <td>Neutral</td>\n",
       "      <td>Neutral</td>\n",
       "      <td>Neutral</td>\n",
       "      <td>Neutral</td>\n",
       "    </tr>\n",
       "    <tr>\n",
       "      <th>29</th>\n",
       "      <td>20.0</td>\n",
       "      <td>['Station 23']</td>\n",
       "      <td>Satisfied</td>\n",
       "      <td>Don't Know</td>\n",
       "      <td>Don't Know</td>\n",
       "      <td>Don't Know</td>\n",
       "    </tr>\n",
       "    <tr>\n",
       "      <th>1</th>\n",
       "      <td>21.0</td>\n",
       "      <td>['Station 11' 'Station 19']</td>\n",
       "      <td>Satisfied</td>\n",
       "      <td>Don't Know</td>\n",
       "      <td>Don't Know</td>\n",
       "      <td>Don't Know</td>\n",
       "    </tr>\n",
       "    <tr>\n",
       "      <th>367</th>\n",
       "      <td>22.0</td>\n",
       "      <td>['Station 37']</td>\n",
       "      <td>Satisfied</td>\n",
       "      <td>Satisfied</td>\n",
       "      <td>Satisfied</td>\n",
       "      <td>Satisfied</td>\n",
       "    </tr>\n",
       "    <tr>\n",
       "      <th>81</th>\n",
       "      <td>23.0</td>\n",
       "      <td>['Station 7']</td>\n",
       "      <td>Satisfied</td>\n",
       "      <td>Satisfied</td>\n",
       "      <td>Don't Know</td>\n",
       "      <td>Satisfied</td>\n",
       "    </tr>\n",
       "    <tr>\n",
       "      <th>2</th>\n",
       "      <td>24.0</td>\n",
       "      <td>['Station 13' 'Station 17']</td>\n",
       "      <td>Satisfied</td>\n",
       "      <td>Don't Know</td>\n",
       "      <td>Don't Know</td>\n",
       "      <td>Don't Know</td>\n",
       "    </tr>\n",
       "    <tr>\n",
       "      <th>164</th>\n",
       "      <td>25.0</td>\n",
       "      <td>['Station 20']</td>\n",
       "      <td>Satisfied</td>\n",
       "      <td>Satisfied</td>\n",
       "      <td>Satisfied</td>\n",
       "      <td>Very Satisfied</td>\n",
       "    </tr>\n",
       "    <tr>\n",
       "      <th>66</th>\n",
       "      <td>26.0</td>\n",
       "      <td>['Station 27']</td>\n",
       "      <td>Very Satisfied</td>\n",
       "      <td>Satisfied</td>\n",
       "      <td>Satisfied</td>\n",
       "      <td>Satisfied</td>\n",
       "    </tr>\n",
       "    <tr>\n",
       "      <th>31</th>\n",
       "      <td>27.0</td>\n",
       "      <td>['Station 10']</td>\n",
       "      <td>Very Satisfied</td>\n",
       "      <td>Satisfied</td>\n",
       "      <td>Satisfied</td>\n",
       "      <td>Satisfied</td>\n",
       "    </tr>\n",
       "    <tr>\n",
       "      <th>167</th>\n",
       "      <td>28.0</td>\n",
       "      <td>[]</td>\n",
       "      <td>Very Satisfied</td>\n",
       "      <td>Satisfied</td>\n",
       "      <td>Satisfied</td>\n",
       "      <td>Satisfied</td>\n",
       "    </tr>\n",
       "    <tr>\n",
       "      <th>109</th>\n",
       "      <td>29.0</td>\n",
       "      <td>['Station 33']</td>\n",
       "      <td>Very Satisfied</td>\n",
       "      <td>Satisfied</td>\n",
       "      <td>Satisfied</td>\n",
       "      <td>Satisfied</td>\n",
       "    </tr>\n",
       "    <tr>\n",
       "      <th>348</th>\n",
       "      <td>30.0</td>\n",
       "      <td>['Station 6']</td>\n",
       "      <td>Very Satisfied</td>\n",
       "      <td>Satisfied</td>\n",
       "      <td>Satisfied</td>\n",
       "      <td>Satisfied</td>\n",
       "    </tr>\n",
       "    <tr>\n",
       "      <th>736</th>\n",
       "      <td>31.0</td>\n",
       "      <td>[]</td>\n",
       "      <td>Satisfied</td>\n",
       "      <td>Satisfied</td>\n",
       "      <td>Satisfied</td>\n",
       "      <td>Very Satisfied</td>\n",
       "    </tr>\n",
       "    <tr>\n",
       "      <th>304</th>\n",
       "      <td>33.0</td>\n",
       "      <td>['Station 35']</td>\n",
       "      <td>Satisfied</td>\n",
       "      <td>Satisfied</td>\n",
       "      <td>Satisfied</td>\n",
       "      <td>Satisfied</td>\n",
       "    </tr>\n",
       "    <tr>\n",
       "      <th>21</th>\n",
       "      <td>NaN</td>\n",
       "      <td>None</td>\n",
       "      <td>Satisfied</td>\n",
       "      <td>Don't Know</td>\n",
       "      <td>Don't Know</td>\n",
       "      <td>Don't Know</td>\n",
       "    </tr>\n",
       "  </tbody>\n",
       "</table>\n",
       "</div>"
      ],
      "text/plain": [
       "     district                          station_number fire_and_ems__overall  \\\n",
       "255       1.0                          ['Station 30']             Satisfied   \n",
       "149       2.0             ['Station 24' 'Station 25']             Satisfied   \n",
       "96        3.0                          ['Station 39']        Very Satisfied   \n",
       "306       4.0                                      []        Very Satisfied   \n",
       "0         5.0                           ['Station 3']             Satisfied   \n",
       "23        6.0                          ['Station 14']             Satisfied   \n",
       "3         7.0             ['Station 29' 'Station 18']             Satisfied   \n",
       "6         8.0              ['Station 1' 'Station 31']             Satisfied   \n",
       "22        9.0                          ['Station 38']             Satisfied   \n",
       "401      10.0                                      []             Satisfied   \n",
       "395      11.0                          ['Station 36']             Satisfied   \n",
       "50       12.0                                      []             Satisfied   \n",
       "126      13.0              ['Station 15' 'Station 4']             Satisfied   \n",
       "150      14.0                          ['Station 32']             Satisfied   \n",
       "38       15.0             ['Station 22' 'Station 28']             Satisfied   \n",
       "60       16.0                          ['Station 21']             Satisfied   \n",
       "5        17.0  ['Station 12' 'Station 8' 'Station 5']             Satisfied   \n",
       "39       18.0                          ['Station 16']             Satisfied   \n",
       "8        19.0               ['Station 9' 'Station 2']               Neutral   \n",
       "29       20.0                          ['Station 23']             Satisfied   \n",
       "1        21.0             ['Station 11' 'Station 19']             Satisfied   \n",
       "367      22.0                          ['Station 37']             Satisfied   \n",
       "81       23.0                           ['Station 7']             Satisfied   \n",
       "2        24.0             ['Station 13' 'Station 17']             Satisfied   \n",
       "164      25.0                          ['Station 20']             Satisfied   \n",
       "66       26.0                          ['Station 27']        Very Satisfied   \n",
       "31       27.0                          ['Station 10']        Very Satisfied   \n",
       "167      28.0                                      []        Very Satisfied   \n",
       "109      29.0                          ['Station 33']        Very Satisfied   \n",
       "348      30.0                           ['Station 6']        Very Satisfied   \n",
       "736      31.0                                      []             Satisfied   \n",
       "304      33.0                          ['Station 35']             Satisfied   \n",
       "21        NaN                                    None             Satisfied   \n",
       "\n",
       "    fire_services fire_response_time fire_professionalism  \n",
       "255     Satisfied          Satisfied            Satisfied  \n",
       "149     Satisfied         Don't Know           Don't Know  \n",
       "96     Don't Know         Don't Know           Don't Know  \n",
       "306     Satisfied          Satisfied            Satisfied  \n",
       "0       Satisfied         Don't Know           Don't Know  \n",
       "23      Satisfied          Satisfied           Don't Know  \n",
       "3         Neutral          Satisfied       Very Satisfied  \n",
       "6         Neutral          Satisfied       Very Satisfied  \n",
       "22      Satisfied            Neutral           Don't Know  \n",
       "401     Satisfied            Neutral           Don't Know  \n",
       "395     Satisfied          Satisfied              Neutral  \n",
       "50      Satisfied          Satisfied            Satisfied  \n",
       "126     Satisfied         Don't Know            Satisfied  \n",
       "150     Satisfied          Satisfied            Satisfied  \n",
       "38      Satisfied         Don't Know            Satisfied  \n",
       "60      Satisfied          Satisfied           Don't Know  \n",
       "5      Don't Know         Don't Know           Don't Know  \n",
       "39      Satisfied         Don't Know            Satisfied  \n",
       "8         Neutral            Neutral              Neutral  \n",
       "29     Don't Know         Don't Know           Don't Know  \n",
       "1      Don't Know         Don't Know           Don't Know  \n",
       "367     Satisfied          Satisfied            Satisfied  \n",
       "81      Satisfied         Don't Know            Satisfied  \n",
       "2      Don't Know         Don't Know           Don't Know  \n",
       "164     Satisfied          Satisfied       Very Satisfied  \n",
       "66      Satisfied          Satisfied            Satisfied  \n",
       "31      Satisfied          Satisfied            Satisfied  \n",
       "167     Satisfied          Satisfied            Satisfied  \n",
       "109     Satisfied          Satisfied            Satisfied  \n",
       "348     Satisfied          Satisfied            Satisfied  \n",
       "736     Satisfied          Satisfied       Very Satisfied  \n",
       "304     Satisfied          Satisfied            Satisfied  \n",
       "21     Don't Know         Don't Know           Don't Know  "
      ]
     },
     "execution_count": 54,
     "metadata": {},
     "output_type": "execute_result"
    }
   ],
   "source": [
    "fire_council_survey.drop_duplicates('district').sort_values('district')"
   ]
  },
  {
   "cell_type": "code",
   "execution_count": null,
   "metadata": {},
   "outputs": [],
   "source": []
  }
 ],
 "metadata": {
  "kernelspec": {
   "display_name": "Python 3",
   "language": "python",
   "name": "python3"
  },
  "language_info": {
   "codemirror_mode": {
    "name": "ipython",
    "version": 3
   },
   "file_extension": ".py",
   "mimetype": "text/x-python",
   "name": "python",
   "nbconvert_exporter": "python",
   "pygments_lexer": "ipython3",
   "version": "3.7.6"
  }
 },
 "nbformat": 4,
 "nbformat_minor": 2
}
