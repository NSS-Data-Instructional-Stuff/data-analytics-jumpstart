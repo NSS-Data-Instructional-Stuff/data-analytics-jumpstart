{
 "cells": [
  {
   "cell_type": "code",
   "execution_count": 1,
   "metadata": {},
   "outputs": [],
   "source": [
    "import pandas as pd"
   ]
  },
  {
   "cell_type": "markdown",
   "metadata": {},
   "source": [
    "### Data Types: all objects in python have a type. You can check the type by using the _type()_ function. Here are a few standard ones"
   ]
  },
  {
   "cell_type": "code",
   "execution_count": 2,
   "metadata": {},
   "outputs": [
    {
     "data": {
      "text/plain": [
       "float"
      ]
     },
     "execution_count": 2,
     "metadata": {},
     "output_type": "execute_result"
    }
   ],
   "source": [
    "type(1.5)"
   ]
  },
  {
   "cell_type": "code",
   "execution_count": 3,
   "metadata": {},
   "outputs": [
    {
     "data": {
      "text/plain": [
       "int"
      ]
     },
     "execution_count": 3,
     "metadata": {},
     "output_type": "execute_result"
    }
   ],
   "source": [
    "type(3)"
   ]
  },
  {
   "cell_type": "code",
   "execution_count": 4,
   "metadata": {},
   "outputs": [
    {
     "data": {
      "text/plain": [
       "str"
      ]
     },
     "execution_count": 4,
     "metadata": {},
     "output_type": "execute_result"
    }
   ],
   "source": [
    "type('abc')"
   ]
  },
  {
   "cell_type": "code",
   "execution_count": 5,
   "metadata": {},
   "outputs": [
    {
     "data": {
      "text/plain": [
       "bool"
      ]
     },
     "execution_count": 5,
     "metadata": {},
     "output_type": "execute_result"
    }
   ],
   "source": [
    "type(True)"
   ]
  },
  {
   "cell_type": "markdown",
   "metadata": {},
   "source": [
    "### You can convert between types"
   ]
  },
  {
   "cell_type": "code",
   "execution_count": 6,
   "metadata": {},
   "outputs": [
    {
     "data": {
      "text/plain": [
       "1.0"
      ]
     },
     "execution_count": 6,
     "metadata": {},
     "output_type": "execute_result"
    }
   ],
   "source": [
    "float(1)"
   ]
  },
  {
   "cell_type": "code",
   "execution_count": 7,
   "metadata": {},
   "outputs": [
    {
     "data": {
      "text/plain": [
       "'1'"
      ]
     },
     "execution_count": 7,
     "metadata": {},
     "output_type": "execute_result"
    }
   ],
   "source": [
    "str(1)"
   ]
  },
  {
   "cell_type": "code",
   "execution_count": 8,
   "metadata": {},
   "outputs": [
    {
     "data": {
      "text/plain": [
       "9"
      ]
     },
     "execution_count": 8,
     "metadata": {},
     "output_type": "execute_result"
    }
   ],
   "source": [
    "int('9')"
   ]
  },
  {
   "cell_type": "code",
   "execution_count": 9,
   "metadata": {},
   "outputs": [
    {
     "data": {
      "text/plain": [
       "9"
      ]
     },
     "execution_count": 9,
     "metadata": {},
     "output_type": "execute_result"
    }
   ],
   "source": [
    "int(9.9)"
   ]
  },
  {
   "cell_type": "markdown",
   "metadata": {},
   "source": [
    "### DataFrames also have a type"
   ]
  },
  {
   "cell_type": "code",
   "execution_count": 11,
   "metadata": {},
   "outputs": [],
   "source": [
    "accidents = pd.read_csv('Traffic_Accidents__2019_.csv')"
   ]
  },
  {
   "cell_type": "code",
   "execution_count": 12,
   "metadata": {
    "scrolled": true
   },
   "outputs": [
    {
     "data": {
      "text/plain": [
       "pandas.core.frame.DataFrame"
      ]
     },
     "execution_count": 12,
     "metadata": {},
     "output_type": "execute_result"
    }
   ],
   "source": [
    "type(accidents)"
   ]
  },
  {
   "cell_type": "markdown",
   "metadata": {},
   "source": [
    "### And each column has a type"
   ]
  },
  {
   "cell_type": "code",
   "execution_count": 13,
   "metadata": {},
   "outputs": [
    {
     "data": {
      "text/plain": [
       "Accident Number                 int64\n",
       "Date and Time                  object\n",
       "Number of Motor Vehicles        int64\n",
       "Number of Injuries              int64\n",
       "Number of Fatalities            int64\n",
       "Property Damage                object\n",
       "Hit and Run                    object\n",
       "Reporting Officer             float64\n",
       "Collision Type Code           float64\n",
       "Collision Type Description     object\n",
       "Weather Code                  float64\n",
       "Weather Description            object\n",
       "Illumination Code             float64\n",
       "Illumination Description       object\n",
       "Harmful Code                   object\n",
       "Harmful Code Description       object\n",
       "Street Address                 object\n",
       "City                           object\n",
       "State                          object\n",
       "ZIP                           float64\n",
       "RPA                           float64\n",
       "Precinct                       object\n",
       "Latitude                      float64\n",
       "Longitude                     float64\n",
       "Mapped Location                object\n",
       "dtype: object"
      ]
     },
     "execution_count": 13,
     "metadata": {},
     "output_type": "execute_result"
    }
   ],
   "source": [
    "accidents.dtypes"
   ]
  },
  {
   "cell_type": "code",
   "execution_count": 18,
   "metadata": {
    "scrolled": true
   },
   "outputs": [
    {
     "data": {
      "text/html": [
       "<div>\n",
       "<style scoped>\n",
       "    .dataframe tbody tr th:only-of-type {\n",
       "        vertical-align: middle;\n",
       "    }\n",
       "\n",
       "    .dataframe tbody tr th {\n",
       "        vertical-align: top;\n",
       "    }\n",
       "\n",
       "    .dataframe thead th {\n",
       "        text-align: right;\n",
       "    }\n",
       "</style>\n",
       "<table border=\"1\" class=\"dataframe\">\n",
       "  <thead>\n",
       "    <tr style=\"text-align: right;\">\n",
       "      <th></th>\n",
       "      <th>Accident Number</th>\n",
       "      <th>Date and Time</th>\n",
       "      <th>Number of Motor Vehicles</th>\n",
       "      <th>Number of Injuries</th>\n",
       "      <th>Number of Fatalities</th>\n",
       "      <th>Property Damage</th>\n",
       "      <th>Hit and Run</th>\n",
       "      <th>Reporting Officer</th>\n",
       "      <th>Collision Type Code</th>\n",
       "      <th>Collision Type Description</th>\n",
       "      <th>...</th>\n",
       "      <th>Harmful Code Description</th>\n",
       "      <th>Street Address</th>\n",
       "      <th>City</th>\n",
       "      <th>State</th>\n",
       "      <th>ZIP</th>\n",
       "      <th>RPA</th>\n",
       "      <th>Precinct</th>\n",
       "      <th>Latitude</th>\n",
       "      <th>Longitude</th>\n",
       "      <th>Mapped Location</th>\n",
       "    </tr>\n",
       "  </thead>\n",
       "  <tbody>\n",
       "    <tr>\n",
       "      <th>0</th>\n",
       "      <td>20190038972</td>\n",
       "      <td>01/15/2019 07:40:00 PM</td>\n",
       "      <td>2</td>\n",
       "      <td>0</td>\n",
       "      <td>0</td>\n",
       "      <td>NaN</td>\n",
       "      <td>N</td>\n",
       "      <td>256374.0</td>\n",
       "      <td>4.0</td>\n",
       "      <td>ANGLE</td>\n",
       "      <td>...</td>\n",
       "      <td>MOTOR VEHICLE IN TRANSPORT</td>\n",
       "      <td>BELL RD &amp; CEDAR POINTE PKWY</td>\n",
       "      <td>ANTIOCH</td>\n",
       "      <td>TN</td>\n",
       "      <td>37013.0</td>\n",
       "      <td>8753.0</td>\n",
       "      <td>SOUTH</td>\n",
       "      <td>36.0449</td>\n",
       "      <td>-86.6671</td>\n",
       "      <td>POINT (-86.6671 36.0449)</td>\n",
       "    </tr>\n",
       "    <tr>\n",
       "      <th>1</th>\n",
       "      <td>20190045402</td>\n",
       "      <td>01/17/2019 11:09:00 PM</td>\n",
       "      <td>2</td>\n",
       "      <td>0</td>\n",
       "      <td>0</td>\n",
       "      <td>NaN</td>\n",
       "      <td>Y</td>\n",
       "      <td>405424.0</td>\n",
       "      <td>11.0</td>\n",
       "      <td>Front to Rear</td>\n",
       "      <td>...</td>\n",
       "      <td>PARKED MOTOR VEHICLE</td>\n",
       "      <td>3248 PERCY PRIEST DR</td>\n",
       "      <td>NASHVILLE</td>\n",
       "      <td>TN</td>\n",
       "      <td>37214.0</td>\n",
       "      <td>8955.0</td>\n",
       "      <td>HERMIT</td>\n",
       "      <td>36.1531</td>\n",
       "      <td>-86.6291</td>\n",
       "      <td>POINT (-86.6291 36.1531)</td>\n",
       "    </tr>\n",
       "    <tr>\n",
       "      <th>2</th>\n",
       "      <td>20190051468</td>\n",
       "      <td>01/20/2019 12:57:00 PM</td>\n",
       "      <td>2</td>\n",
       "      <td>0</td>\n",
       "      <td>0</td>\n",
       "      <td>NaN</td>\n",
       "      <td>N</td>\n",
       "      <td>834798.0</td>\n",
       "      <td>6.0</td>\n",
       "      <td>SIDESWIPE - OPPOSITE DIRECTION</td>\n",
       "      <td>...</td>\n",
       "      <td>PARKED MOTOR VEHICLE</td>\n",
       "      <td>700 THOMPSON LN</td>\n",
       "      <td>NASHVILLE</td>\n",
       "      <td>TN</td>\n",
       "      <td>37204.0</td>\n",
       "      <td>8305.0</td>\n",
       "      <td>MIDTOW</td>\n",
       "      <td>36.1122</td>\n",
       "      <td>-86.7625</td>\n",
       "      <td>POINT (-86.7625 36.1122)</td>\n",
       "    </tr>\n",
       "    <tr>\n",
       "      <th>3</th>\n",
       "      <td>20190088097</td>\n",
       "      <td>02/02/2019 12:38:00 AM</td>\n",
       "      <td>2</td>\n",
       "      <td>0</td>\n",
       "      <td>0</td>\n",
       "      <td>NaN</td>\n",
       "      <td>Y</td>\n",
       "      <td>660929.0</td>\n",
       "      <td>4.0</td>\n",
       "      <td>ANGLE</td>\n",
       "      <td>...</td>\n",
       "      <td>MOTOR VEHICLE IN TRANSPORT;PARKED MOTOR VEHICLE</td>\n",
       "      <td>400 RADNO</td>\n",
       "      <td>NASHVILLE</td>\n",
       "      <td>TN</td>\n",
       "      <td>NaN</td>\n",
       "      <td>NaN</td>\n",
       "      <td>NaN</td>\n",
       "      <td>36.0483</td>\n",
       "      <td>-86.4369</td>\n",
       "      <td>POINT (-86.4369 36.0483)</td>\n",
       "    </tr>\n",
       "    <tr>\n",
       "      <th>4</th>\n",
       "      <td>20190091289</td>\n",
       "      <td>02/03/2019 01:25:00 PM</td>\n",
       "      <td>2</td>\n",
       "      <td>0</td>\n",
       "      <td>0</td>\n",
       "      <td>NaN</td>\n",
       "      <td>N</td>\n",
       "      <td>212369.0</td>\n",
       "      <td>4.0</td>\n",
       "      <td>ANGLE</td>\n",
       "      <td>...</td>\n",
       "      <td>MOTOR VEHICLE IN TRANSPORT</td>\n",
       "      <td>ELLINGTON AG CENTER PVTDR &amp; EDMONDSON PK</td>\n",
       "      <td>NASHVILLE</td>\n",
       "      <td>TN</td>\n",
       "      <td>37220.0</td>\n",
       "      <td>8615.0</td>\n",
       "      <td>MIDTOW</td>\n",
       "      <td>36.0618</td>\n",
       "      <td>-86.7405</td>\n",
       "      <td>POINT (-86.7405 36.0618)</td>\n",
       "    </tr>\n",
       "  </tbody>\n",
       "</table>\n",
       "<p>5 rows × 25 columns</p>\n",
       "</div>"
      ],
      "text/plain": [
       "   Accident Number           Date and Time  Number of Motor Vehicles  \\\n",
       "0      20190038972  01/15/2019 07:40:00 PM                         2   \n",
       "1      20190045402  01/17/2019 11:09:00 PM                         2   \n",
       "2      20190051468  01/20/2019 12:57:00 PM                         2   \n",
       "3      20190088097  02/02/2019 12:38:00 AM                         2   \n",
       "4      20190091289  02/03/2019 01:25:00 PM                         2   \n",
       "\n",
       "   Number of Injuries  Number of Fatalities Property Damage Hit and Run  \\\n",
       "0                   0                     0             NaN           N   \n",
       "1                   0                     0             NaN           Y   \n",
       "2                   0                     0             NaN           N   \n",
       "3                   0                     0             NaN           Y   \n",
       "4                   0                     0             NaN           N   \n",
       "\n",
       "   Reporting Officer  Collision Type Code      Collision Type Description  \\\n",
       "0           256374.0                  4.0                           ANGLE   \n",
       "1           405424.0                 11.0                   Front to Rear   \n",
       "2           834798.0                  6.0  SIDESWIPE - OPPOSITE DIRECTION   \n",
       "3           660929.0                  4.0                           ANGLE   \n",
       "4           212369.0                  4.0                           ANGLE   \n",
       "\n",
       "             ...                                    Harmful Code Description  \\\n",
       "0            ...                                  MOTOR VEHICLE IN TRANSPORT   \n",
       "1            ...                                        PARKED MOTOR VEHICLE   \n",
       "2            ...                                        PARKED MOTOR VEHICLE   \n",
       "3            ...             MOTOR VEHICLE IN TRANSPORT;PARKED MOTOR VEHICLE   \n",
       "4            ...                                  MOTOR VEHICLE IN TRANSPORT   \n",
       "\n",
       "                             Street Address       City State      ZIP     RPA  \\\n",
       "0               BELL RD & CEDAR POINTE PKWY    ANTIOCH    TN  37013.0  8753.0   \n",
       "1                      3248 PERCY PRIEST DR  NASHVILLE    TN  37214.0  8955.0   \n",
       "2                           700 THOMPSON LN  NASHVILLE    TN  37204.0  8305.0   \n",
       "3                                 400 RADNO  NASHVILLE    TN      NaN     NaN   \n",
       "4  ELLINGTON AG CENTER PVTDR & EDMONDSON PK  NASHVILLE    TN  37220.0  8615.0   \n",
       "\n",
       "  Precinct Latitude Longitude           Mapped Location  \n",
       "0    SOUTH  36.0449  -86.6671  POINT (-86.6671 36.0449)  \n",
       "1   HERMIT  36.1531  -86.6291  POINT (-86.6291 36.1531)  \n",
       "2   MIDTOW  36.1122  -86.7625  POINT (-86.7625 36.1122)  \n",
       "3      NaN  36.0483  -86.4369  POINT (-86.4369 36.0483)  \n",
       "4   MIDTOW  36.0618  -86.7405  POINT (-86.7405 36.0618)  \n",
       "\n",
       "[5 rows x 25 columns]"
      ]
     },
     "execution_count": 18,
     "metadata": {},
     "output_type": "execute_result"
    }
   ],
   "source": [
    "accidents.head()"
   ]
  },
  {
   "cell_type": "markdown",
   "metadata": {},
   "source": [
    "### One data type you will encounter is a `datetime`"
   ]
  },
  {
   "cell_type": "markdown",
   "metadata": {},
   "source": [
    "### The `Date and Time` column in the `accidents` dataframe is treated as an `object` but we can convert it to a different type, such as a `datetime` "
   ]
  },
  {
   "cell_type": "code",
   "execution_count": 16,
   "metadata": {},
   "outputs": [],
   "source": [
    "# Let's convert the 'Date and Time' column to a datetime and assign it back to itself\n",
    "accidents['Date and Time'] = pd.to_datetime(accidents['Date and Time'])\n",
    "\n",
    "# pd.to_datetime will infer the different date and time components of the string.\n",
    "# If the datetime is in a strange format or you want to be explicit you can use the 'format' argument\n",
    "# You will have to use datetime symbols: \n",
    "# https://docs.python.org/3/library/datetime.html#strftime-and-strptime-behavior\n",
    "\n",
    "# It will take a second to run..."
   ]
  },
  {
   "cell_type": "code",
   "execution_count": 17,
   "metadata": {},
   "outputs": [
    {
     "data": {
      "text/plain": [
       "Accident Number                        int64\n",
       "Date and Time                 datetime64[ns]\n",
       "Number of Motor Vehicles               int64\n",
       "Number of Injuries                     int64\n",
       "Number of Fatalities                   int64\n",
       "Property Damage                       object\n",
       "Hit and Run                           object\n",
       "Reporting Officer                    float64\n",
       "Collision Type Code                  float64\n",
       "Collision Type Description            object\n",
       "Weather Code                         float64\n",
       "Weather Description                   object\n",
       "Illumination Code                    float64\n",
       "Illumination Description              object\n",
       "Harmful Code                          object\n",
       "Harmful Code Description              object\n",
       "Street Address                        object\n",
       "City                                  object\n",
       "State                                 object\n",
       "ZIP                                  float64\n",
       "RPA                                  float64\n",
       "Precinct                              object\n",
       "Latitude                             float64\n",
       "Longitude                            float64\n",
       "Mapped Location                       object\n",
       "dtype: object"
      ]
     },
     "execution_count": 17,
     "metadata": {},
     "output_type": "execute_result"
    }
   ],
   "source": [
    "# Now the column is a datetime64[ns]\n",
    "accidents.dtypes"
   ]
  },
  {
   "cell_type": "code",
   "execution_count": 18,
   "metadata": {},
   "outputs": [
    {
     "data": {
      "text/html": [
       "<div>\n",
       "<style scoped>\n",
       "    .dataframe tbody tr th:only-of-type {\n",
       "        vertical-align: middle;\n",
       "    }\n",
       "\n",
       "    .dataframe tbody tr th {\n",
       "        vertical-align: top;\n",
       "    }\n",
       "\n",
       "    .dataframe thead th {\n",
       "        text-align: right;\n",
       "    }\n",
       "</style>\n",
       "<table border=\"1\" class=\"dataframe\">\n",
       "  <thead>\n",
       "    <tr style=\"text-align: right;\">\n",
       "      <th></th>\n",
       "      <th>Accident Number</th>\n",
       "      <th>Date and Time</th>\n",
       "      <th>Number of Motor Vehicles</th>\n",
       "      <th>Number of Injuries</th>\n",
       "      <th>Number of Fatalities</th>\n",
       "      <th>Property Damage</th>\n",
       "      <th>Hit and Run</th>\n",
       "      <th>Reporting Officer</th>\n",
       "      <th>Collision Type Code</th>\n",
       "      <th>Collision Type Description</th>\n",
       "      <th>...</th>\n",
       "      <th>Harmful Code Description</th>\n",
       "      <th>Street Address</th>\n",
       "      <th>City</th>\n",
       "      <th>State</th>\n",
       "      <th>ZIP</th>\n",
       "      <th>RPA</th>\n",
       "      <th>Precinct</th>\n",
       "      <th>Latitude</th>\n",
       "      <th>Longitude</th>\n",
       "      <th>Mapped Location</th>\n",
       "    </tr>\n",
       "  </thead>\n",
       "  <tbody>\n",
       "    <tr>\n",
       "      <th>0</th>\n",
       "      <td>20190038972</td>\n",
       "      <td>2019-01-15 19:40:00</td>\n",
       "      <td>2</td>\n",
       "      <td>0</td>\n",
       "      <td>0</td>\n",
       "      <td>NaN</td>\n",
       "      <td>N</td>\n",
       "      <td>256374.0</td>\n",
       "      <td>4.0</td>\n",
       "      <td>ANGLE</td>\n",
       "      <td>...</td>\n",
       "      <td>MOTOR VEHICLE IN TRANSPORT</td>\n",
       "      <td>BELL RD &amp; CEDAR POINTE PKWY</td>\n",
       "      <td>ANTIOCH</td>\n",
       "      <td>TN</td>\n",
       "      <td>37013.0</td>\n",
       "      <td>8753.0</td>\n",
       "      <td>SOUTH</td>\n",
       "      <td>36.0449</td>\n",
       "      <td>-86.6671</td>\n",
       "      <td>POINT (-86.6671 36.0449)</td>\n",
       "    </tr>\n",
       "    <tr>\n",
       "      <th>1</th>\n",
       "      <td>20190045402</td>\n",
       "      <td>2019-01-17 23:09:00</td>\n",
       "      <td>2</td>\n",
       "      <td>0</td>\n",
       "      <td>0</td>\n",
       "      <td>NaN</td>\n",
       "      <td>Y</td>\n",
       "      <td>405424.0</td>\n",
       "      <td>11.0</td>\n",
       "      <td>Front to Rear</td>\n",
       "      <td>...</td>\n",
       "      <td>PARKED MOTOR VEHICLE</td>\n",
       "      <td>3248 PERCY PRIEST DR</td>\n",
       "      <td>NASHVILLE</td>\n",
       "      <td>TN</td>\n",
       "      <td>37214.0</td>\n",
       "      <td>8955.0</td>\n",
       "      <td>HERMIT</td>\n",
       "      <td>36.1531</td>\n",
       "      <td>-86.6291</td>\n",
       "      <td>POINT (-86.6291 36.1531)</td>\n",
       "    </tr>\n",
       "    <tr>\n",
       "      <th>2</th>\n",
       "      <td>20190051468</td>\n",
       "      <td>2019-01-20 12:57:00</td>\n",
       "      <td>2</td>\n",
       "      <td>0</td>\n",
       "      <td>0</td>\n",
       "      <td>NaN</td>\n",
       "      <td>N</td>\n",
       "      <td>834798.0</td>\n",
       "      <td>6.0</td>\n",
       "      <td>SIDESWIPE - OPPOSITE DIRECTION</td>\n",
       "      <td>...</td>\n",
       "      <td>PARKED MOTOR VEHICLE</td>\n",
       "      <td>700 THOMPSON LN</td>\n",
       "      <td>NASHVILLE</td>\n",
       "      <td>TN</td>\n",
       "      <td>37204.0</td>\n",
       "      <td>8305.0</td>\n",
       "      <td>MIDTOW</td>\n",
       "      <td>36.1122</td>\n",
       "      <td>-86.7625</td>\n",
       "      <td>POINT (-86.7625 36.1122)</td>\n",
       "    </tr>\n",
       "    <tr>\n",
       "      <th>3</th>\n",
       "      <td>20190088097</td>\n",
       "      <td>2019-02-02 00:38:00</td>\n",
       "      <td>2</td>\n",
       "      <td>0</td>\n",
       "      <td>0</td>\n",
       "      <td>NaN</td>\n",
       "      <td>Y</td>\n",
       "      <td>660929.0</td>\n",
       "      <td>4.0</td>\n",
       "      <td>ANGLE</td>\n",
       "      <td>...</td>\n",
       "      <td>MOTOR VEHICLE IN TRANSPORT;PARKED MOTOR VEHICLE</td>\n",
       "      <td>400 RADNO</td>\n",
       "      <td>NASHVILLE</td>\n",
       "      <td>TN</td>\n",
       "      <td>NaN</td>\n",
       "      <td>NaN</td>\n",
       "      <td>NaN</td>\n",
       "      <td>36.0483</td>\n",
       "      <td>-86.4369</td>\n",
       "      <td>POINT (-86.4369 36.0483)</td>\n",
       "    </tr>\n",
       "    <tr>\n",
       "      <th>4</th>\n",
       "      <td>20190091289</td>\n",
       "      <td>2019-02-03 13:25:00</td>\n",
       "      <td>2</td>\n",
       "      <td>0</td>\n",
       "      <td>0</td>\n",
       "      <td>NaN</td>\n",
       "      <td>N</td>\n",
       "      <td>212369.0</td>\n",
       "      <td>4.0</td>\n",
       "      <td>ANGLE</td>\n",
       "      <td>...</td>\n",
       "      <td>MOTOR VEHICLE IN TRANSPORT</td>\n",
       "      <td>ELLINGTON AG CENTER PVTDR &amp; EDMONDSON PK</td>\n",
       "      <td>NASHVILLE</td>\n",
       "      <td>TN</td>\n",
       "      <td>37220.0</td>\n",
       "      <td>8615.0</td>\n",
       "      <td>MIDTOW</td>\n",
       "      <td>36.0618</td>\n",
       "      <td>-86.7405</td>\n",
       "      <td>POINT (-86.7405 36.0618)</td>\n",
       "    </tr>\n",
       "  </tbody>\n",
       "</table>\n",
       "<p>5 rows × 25 columns</p>\n",
       "</div>"
      ],
      "text/plain": [
       "   Accident Number       Date and Time  Number of Motor Vehicles  \\\n",
       "0      20190038972 2019-01-15 19:40:00                         2   \n",
       "1      20190045402 2019-01-17 23:09:00                         2   \n",
       "2      20190051468 2019-01-20 12:57:00                         2   \n",
       "3      20190088097 2019-02-02 00:38:00                         2   \n",
       "4      20190091289 2019-02-03 13:25:00                         2   \n",
       "\n",
       "   Number of Injuries  Number of Fatalities Property Damage Hit and Run  \\\n",
       "0                   0                     0             NaN           N   \n",
       "1                   0                     0             NaN           Y   \n",
       "2                   0                     0             NaN           N   \n",
       "3                   0                     0             NaN           Y   \n",
       "4                   0                     0             NaN           N   \n",
       "\n",
       "   Reporting Officer  Collision Type Code      Collision Type Description  \\\n",
       "0           256374.0                  4.0                           ANGLE   \n",
       "1           405424.0                 11.0                   Front to Rear   \n",
       "2           834798.0                  6.0  SIDESWIPE - OPPOSITE DIRECTION   \n",
       "3           660929.0                  4.0                           ANGLE   \n",
       "4           212369.0                  4.0                           ANGLE   \n",
       "\n",
       "   ...                         Harmful Code Description  \\\n",
       "0  ...                       MOTOR VEHICLE IN TRANSPORT   \n",
       "1  ...                             PARKED MOTOR VEHICLE   \n",
       "2  ...                             PARKED MOTOR VEHICLE   \n",
       "3  ...  MOTOR VEHICLE IN TRANSPORT;PARKED MOTOR VEHICLE   \n",
       "4  ...                       MOTOR VEHICLE IN TRANSPORT   \n",
       "\n",
       "                             Street Address       City State      ZIP     RPA  \\\n",
       "0               BELL RD & CEDAR POINTE PKWY    ANTIOCH    TN  37013.0  8753.0   \n",
       "1                      3248 PERCY PRIEST DR  NASHVILLE    TN  37214.0  8955.0   \n",
       "2                           700 THOMPSON LN  NASHVILLE    TN  37204.0  8305.0   \n",
       "3                                 400 RADNO  NASHVILLE    TN      NaN     NaN   \n",
       "4  ELLINGTON AG CENTER PVTDR & EDMONDSON PK  NASHVILLE    TN  37220.0  8615.0   \n",
       "\n",
       "  Precinct Latitude Longitude           Mapped Location  \n",
       "0    SOUTH  36.0449  -86.6671  POINT (-86.6671 36.0449)  \n",
       "1   HERMIT  36.1531  -86.6291  POINT (-86.6291 36.1531)  \n",
       "2   MIDTOW  36.1122  -86.7625  POINT (-86.7625 36.1122)  \n",
       "3      NaN  36.0483  -86.4369  POINT (-86.4369 36.0483)  \n",
       "4   MIDTOW  36.0618  -86.7405  POINT (-86.7405 36.0618)  \n",
       "\n",
       "[5 rows x 25 columns]"
      ]
     },
     "execution_count": 18,
     "metadata": {},
     "output_type": "execute_result"
    }
   ],
   "source": [
    "# The values in the Date and Time column look different now\n",
    "accidents.head()"
   ]
  },
  {
   "cell_type": "code",
   "execution_count": 19,
   "metadata": {},
   "outputs": [
    {
     "data": {
      "text/plain": [
       "Timestamp('2019-01-15 19:40:00')"
      ]
     },
     "execution_count": 19,
     "metadata": {},
     "output_type": "execute_result"
    }
   ],
   "source": [
    "# And we can see each value is a timestamp\n",
    "accidents.loc[0,'Date and Time']"
   ]
  },
  {
   "cell_type": "markdown",
   "metadata": {},
   "source": [
    "### Once you have a `datetime` object, you can pull out individual parts"
   ]
  },
  {
   "cell_type": "code",
   "execution_count": 20,
   "metadata": {},
   "outputs": [
    {
     "data": {
      "text/html": [
       "<div>\n",
       "<style scoped>\n",
       "    .dataframe tbody tr th:only-of-type {\n",
       "        vertical-align: middle;\n",
       "    }\n",
       "\n",
       "    .dataframe tbody tr th {\n",
       "        vertical-align: top;\n",
       "    }\n",
       "\n",
       "    .dataframe thead th {\n",
       "        text-align: right;\n",
       "    }\n",
       "</style>\n",
       "<table border=\"1\" class=\"dataframe\">\n",
       "  <thead>\n",
       "    <tr style=\"text-align: right;\">\n",
       "      <th></th>\n",
       "      <th>Accident Number</th>\n",
       "      <th>Date and Time</th>\n",
       "      <th>Number of Motor Vehicles</th>\n",
       "      <th>Number of Injuries</th>\n",
       "      <th>Number of Fatalities</th>\n",
       "      <th>Property Damage</th>\n",
       "      <th>Hit and Run</th>\n",
       "      <th>Reporting Officer</th>\n",
       "      <th>Collision Type Code</th>\n",
       "      <th>Collision Type Description</th>\n",
       "      <th>...</th>\n",
       "      <th>Street Address</th>\n",
       "      <th>City</th>\n",
       "      <th>State</th>\n",
       "      <th>ZIP</th>\n",
       "      <th>RPA</th>\n",
       "      <th>Precinct</th>\n",
       "      <th>Latitude</th>\n",
       "      <th>Longitude</th>\n",
       "      <th>Mapped Location</th>\n",
       "      <th>month</th>\n",
       "    </tr>\n",
       "  </thead>\n",
       "  <tbody>\n",
       "    <tr>\n",
       "      <th>0</th>\n",
       "      <td>20190038972</td>\n",
       "      <td>2019-01-15 19:40:00</td>\n",
       "      <td>2</td>\n",
       "      <td>0</td>\n",
       "      <td>0</td>\n",
       "      <td>NaN</td>\n",
       "      <td>N</td>\n",
       "      <td>256374.0</td>\n",
       "      <td>4.0</td>\n",
       "      <td>ANGLE</td>\n",
       "      <td>...</td>\n",
       "      <td>BELL RD &amp; CEDAR POINTE PKWY</td>\n",
       "      <td>ANTIOCH</td>\n",
       "      <td>TN</td>\n",
       "      <td>37013.0</td>\n",
       "      <td>8753.0</td>\n",
       "      <td>SOUTH</td>\n",
       "      <td>36.0449</td>\n",
       "      <td>-86.6671</td>\n",
       "      <td>POINT (-86.6671 36.0449)</td>\n",
       "      <td>1</td>\n",
       "    </tr>\n",
       "    <tr>\n",
       "      <th>1</th>\n",
       "      <td>20190045402</td>\n",
       "      <td>2019-01-17 23:09:00</td>\n",
       "      <td>2</td>\n",
       "      <td>0</td>\n",
       "      <td>0</td>\n",
       "      <td>NaN</td>\n",
       "      <td>Y</td>\n",
       "      <td>405424.0</td>\n",
       "      <td>11.0</td>\n",
       "      <td>Front to Rear</td>\n",
       "      <td>...</td>\n",
       "      <td>3248 PERCY PRIEST DR</td>\n",
       "      <td>NASHVILLE</td>\n",
       "      <td>TN</td>\n",
       "      <td>37214.0</td>\n",
       "      <td>8955.0</td>\n",
       "      <td>HERMIT</td>\n",
       "      <td>36.1531</td>\n",
       "      <td>-86.6291</td>\n",
       "      <td>POINT (-86.6291 36.1531)</td>\n",
       "      <td>1</td>\n",
       "    </tr>\n",
       "    <tr>\n",
       "      <th>2</th>\n",
       "      <td>20190051468</td>\n",
       "      <td>2019-01-20 12:57:00</td>\n",
       "      <td>2</td>\n",
       "      <td>0</td>\n",
       "      <td>0</td>\n",
       "      <td>NaN</td>\n",
       "      <td>N</td>\n",
       "      <td>834798.0</td>\n",
       "      <td>6.0</td>\n",
       "      <td>SIDESWIPE - OPPOSITE DIRECTION</td>\n",
       "      <td>...</td>\n",
       "      <td>700 THOMPSON LN</td>\n",
       "      <td>NASHVILLE</td>\n",
       "      <td>TN</td>\n",
       "      <td>37204.0</td>\n",
       "      <td>8305.0</td>\n",
       "      <td>MIDTOW</td>\n",
       "      <td>36.1122</td>\n",
       "      <td>-86.7625</td>\n",
       "      <td>POINT (-86.7625 36.1122)</td>\n",
       "      <td>1</td>\n",
       "    </tr>\n",
       "    <tr>\n",
       "      <th>3</th>\n",
       "      <td>20190088097</td>\n",
       "      <td>2019-02-02 00:38:00</td>\n",
       "      <td>2</td>\n",
       "      <td>0</td>\n",
       "      <td>0</td>\n",
       "      <td>NaN</td>\n",
       "      <td>Y</td>\n",
       "      <td>660929.0</td>\n",
       "      <td>4.0</td>\n",
       "      <td>ANGLE</td>\n",
       "      <td>...</td>\n",
       "      <td>400 RADNO</td>\n",
       "      <td>NASHVILLE</td>\n",
       "      <td>TN</td>\n",
       "      <td>NaN</td>\n",
       "      <td>NaN</td>\n",
       "      <td>NaN</td>\n",
       "      <td>36.0483</td>\n",
       "      <td>-86.4369</td>\n",
       "      <td>POINT (-86.4369 36.0483)</td>\n",
       "      <td>2</td>\n",
       "    </tr>\n",
       "    <tr>\n",
       "      <th>4</th>\n",
       "      <td>20190091289</td>\n",
       "      <td>2019-02-03 13:25:00</td>\n",
       "      <td>2</td>\n",
       "      <td>0</td>\n",
       "      <td>0</td>\n",
       "      <td>NaN</td>\n",
       "      <td>N</td>\n",
       "      <td>212369.0</td>\n",
       "      <td>4.0</td>\n",
       "      <td>ANGLE</td>\n",
       "      <td>...</td>\n",
       "      <td>ELLINGTON AG CENTER PVTDR &amp; EDMONDSON PK</td>\n",
       "      <td>NASHVILLE</td>\n",
       "      <td>TN</td>\n",
       "      <td>37220.0</td>\n",
       "      <td>8615.0</td>\n",
       "      <td>MIDTOW</td>\n",
       "      <td>36.0618</td>\n",
       "      <td>-86.7405</td>\n",
       "      <td>POINT (-86.7405 36.0618)</td>\n",
       "      <td>2</td>\n",
       "    </tr>\n",
       "  </tbody>\n",
       "</table>\n",
       "<p>5 rows × 26 columns</p>\n",
       "</div>"
      ],
      "text/plain": [
       "   Accident Number       Date and Time  Number of Motor Vehicles  \\\n",
       "0      20190038972 2019-01-15 19:40:00                         2   \n",
       "1      20190045402 2019-01-17 23:09:00                         2   \n",
       "2      20190051468 2019-01-20 12:57:00                         2   \n",
       "3      20190088097 2019-02-02 00:38:00                         2   \n",
       "4      20190091289 2019-02-03 13:25:00                         2   \n",
       "\n",
       "   Number of Injuries  Number of Fatalities Property Damage Hit and Run  \\\n",
       "0                   0                     0             NaN           N   \n",
       "1                   0                     0             NaN           Y   \n",
       "2                   0                     0             NaN           N   \n",
       "3                   0                     0             NaN           Y   \n",
       "4                   0                     0             NaN           N   \n",
       "\n",
       "   Reporting Officer  Collision Type Code      Collision Type Description  \\\n",
       "0           256374.0                  4.0                           ANGLE   \n",
       "1           405424.0                 11.0                   Front to Rear   \n",
       "2           834798.0                  6.0  SIDESWIPE - OPPOSITE DIRECTION   \n",
       "3           660929.0                  4.0                           ANGLE   \n",
       "4           212369.0                  4.0                           ANGLE   \n",
       "\n",
       "   ...                            Street Address       City  State      ZIP  \\\n",
       "0  ...               BELL RD & CEDAR POINTE PKWY    ANTIOCH     TN  37013.0   \n",
       "1  ...                      3248 PERCY PRIEST DR  NASHVILLE     TN  37214.0   \n",
       "2  ...                           700 THOMPSON LN  NASHVILLE     TN  37204.0   \n",
       "3  ...                                 400 RADNO  NASHVILLE     TN      NaN   \n",
       "4  ...  ELLINGTON AG CENTER PVTDR & EDMONDSON PK  NASHVILLE     TN  37220.0   \n",
       "\n",
       "      RPA Precinct Latitude Longitude           Mapped Location  month  \n",
       "0  8753.0    SOUTH  36.0449  -86.6671  POINT (-86.6671 36.0449)      1  \n",
       "1  8955.0   HERMIT  36.1531  -86.6291  POINT (-86.6291 36.1531)      1  \n",
       "2  8305.0   MIDTOW  36.1122  -86.7625  POINT (-86.7625 36.1122)      1  \n",
       "3     NaN      NaN  36.0483  -86.4369  POINT (-86.4369 36.0483)      2  \n",
       "4  8615.0   MIDTOW  36.0618  -86.7405  POINT (-86.7405 36.0618)      2  \n",
       "\n",
       "[5 rows x 26 columns]"
      ]
     },
     "execution_count": 20,
     "metadata": {},
     "output_type": "execute_result"
    }
   ],
   "source": [
    "# Use .dt to specify a datetime attribute/function and then what you want to pull out\n",
    "\n",
    "# Here we are pulling out the month from the 'Date and Time' column and saving it to a new column called 'month'\n",
    "accidents['month'] = accidents['Date and Time'].dt.month\n",
    "accidents.head()"
   ]
  },
  {
   "cell_type": "code",
   "execution_count": 21,
   "metadata": {},
   "outputs": [
    {
     "data": {
      "text/plain": [
       "8"
      ]
     },
     "execution_count": 21,
     "metadata": {},
     "output_type": "execute_result"
    }
   ],
   "source": [
    "# What is the maximum number of cars involved in a single accident in July\n",
    "july_accidents = accidents[accidents['month']==7]\n",
    "max(july_accidents['Number of Motor Vehicles'])"
   ]
  },
  {
   "cell_type": "code",
   "execution_count": 22,
   "metadata": {},
   "outputs": [
    {
     "data": {
      "text/plain": [
       "2622"
      ]
     },
     "execution_count": 22,
     "metadata": {},
     "output_type": "execute_result"
    }
   ],
   "source": [
    "# How many accidents happened in December?\n",
    "sum(accidents['month']==12)"
   ]
  },
  {
   "cell_type": "markdown",
   "metadata": {},
   "source": [
    "### There are many different attributes associated with datetimes"
   ]
  },
  {
   "cell_type": "code",
   "execution_count": 23,
   "metadata": {},
   "outputs": [
    {
     "data": {
      "text/plain": [
       "0    19:40:00\n",
       "1    23:09:00\n",
       "2    12:57:00\n",
       "3    00:38:00\n",
       "4    13:25:00\n",
       "Name: Date and Time, dtype: object"
      ]
     },
     "execution_count": 23,
     "metadata": {},
     "output_type": "execute_result"
    }
   ],
   "source": [
    "accidents['Date and Time'].dt.time.head()"
   ]
  },
  {
   "cell_type": "code",
   "execution_count": 24,
   "metadata": {},
   "outputs": [
    {
     "data": {
      "text/plain": [
       "0    2019-01-15\n",
       "1    2019-01-17\n",
       "2    2019-01-20\n",
       "3    2019-02-02\n",
       "4    2019-02-03\n",
       "Name: Date and Time, dtype: object"
      ]
     },
     "execution_count": 24,
     "metadata": {},
     "output_type": "execute_result"
    }
   ],
   "source": [
    "accidents['Date and Time'].dt.date.head()"
   ]
  },
  {
   "cell_type": "code",
   "execution_count": 25,
   "metadata": {},
   "outputs": [
    {
     "data": {
      "text/plain": [
       "0    1\n",
       "1    3\n",
       "2    6\n",
       "3    5\n",
       "4    6\n",
       "Name: Date and Time, dtype: int64"
      ]
     },
     "execution_count": 25,
     "metadata": {},
     "output_type": "execute_result"
    }
   ],
   "source": [
    "accidents['Date and Time'].dt.weekday.head()"
   ]
  },
  {
   "cell_type": "code",
   "execution_count": 26,
   "metadata": {},
   "outputs": [
    {
     "data": {
      "text/plain": [
       "0    False\n",
       "1    False\n",
       "2    False\n",
       "3    False\n",
       "4    False\n",
       "Name: Date and Time, dtype: bool"
      ]
     },
     "execution_count": 26,
     "metadata": {},
     "output_type": "execute_result"
    }
   ],
   "source": [
    "accidents['Date and Time'].dt.is_leap_year.head()"
   ]
  },
  {
   "cell_type": "markdown",
   "metadata": {},
   "source": [
    "### You can use comparison symbols on `datetime` objects as well"
   ]
  },
  {
   "cell_type": "code",
   "execution_count": 27,
   "metadata": {},
   "outputs": [
    {
     "data": {
      "text/plain": [
       "5558"
      ]
     },
     "execution_count": 27,
     "metadata": {},
     "output_type": "execute_result"
    }
   ],
   "source": [
    "# How many accidents happened before March 3\n",
    "sum(accidents['Date and Time'] < '03/03/2019')\n",
    "\n",
    "# Note: You have to input the comparison value as a string,\n",
    "# but the format can vary and pandas will attempt to infer the format.\n",
    "# Try putting in different formats and rerunning this cell."
   ]
  },
  {
   "cell_type": "markdown",
   "metadata": {},
   "source": [
    "### You can also perform calculations on `datetime` objects"
   ]
  },
  {
   "cell_type": "code",
   "execution_count": 28,
   "metadata": {},
   "outputs": [
    {
     "data": {
      "text/plain": [
       "Timedelta('81 days 16:05:00')"
      ]
     },
     "execution_count": 28,
     "metadata": {},
     "output_type": "execute_result"
    }
   ],
   "source": [
    "# How long between the 1st and 100th accident?\n",
    "accidents = accidents.sort_values('Date and Time')\n",
    "accidents.loc[100, 'Date and Time'] - accidents.loc[0, 'Date and Time']\n",
    "\n",
    "# It appears as a Timedelta, or a change in time"
   ]
  },
  {
   "cell_type": "markdown",
   "metadata": {},
   "source": [
    "### Converting `datetimes` to other formats can be tricky"
   ]
  },
  {
   "cell_type": "markdown",
   "metadata": {},
   "source": [
    "##### You can use the .astype() function to convert a whole column to different type. Be sure to save the output back to the column if you want the change to persist!"
   ]
  },
  {
   "cell_type": "code",
   "execution_count": 29,
   "metadata": {},
   "outputs": [
    {
     "data": {
      "text/plain": [
       "9126     1546300800000000000\n",
       "526      1546300800000000000\n",
       "4939     1546300800000000000\n",
       "13280    1546301100000000000\n",
       "18619    1546302600000000000\n",
       "Name: Date and Time, dtype: int64"
      ]
     },
     "execution_count": 29,
     "metadata": {},
     "output_type": "execute_result"
    }
   ],
   "source": [
    "accidents['Date and Time'].astype(int).head()\n",
    "\n",
    "# This is the total number of nanoseconds for a given datetime"
   ]
  },
  {
   "cell_type": "code",
   "execution_count": null,
   "metadata": {},
   "outputs": [],
   "source": []
  },
  {
   "cell_type": "code",
   "execution_count": null,
   "metadata": {},
   "outputs": [],
   "source": []
  }
 ],
 "metadata": {
  "kernelspec": {
   "display_name": "Python 3",
   "language": "python",
   "name": "python3"
  },
  "language_info": {
   "codemirror_mode": {
    "name": "ipython",
    "version": 3
   },
   "file_extension": ".py",
   "mimetype": "text/x-python",
   "name": "python",
   "nbconvert_exporter": "python",
   "pygments_lexer": "ipython3",
   "version": "3.6.4"
  }
 },
 "nbformat": 4,
 "nbformat_minor": 2
}
