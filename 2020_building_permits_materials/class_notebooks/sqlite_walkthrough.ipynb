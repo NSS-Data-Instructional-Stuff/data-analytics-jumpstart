{
 "cells": [
  {
   "cell_type": "code",
   "execution_count": 1,
   "metadata": {},
   "outputs": [],
   "source": [
    "import pandas as pd\n",
    "import sqlite3 as sql"
   ]
  },
  {
   "cell_type": "markdown",
   "metadata": {},
   "source": [
    "## Creating a connection to the weather.db database"
   ]
  },
  {
   "cell_type": "code",
   "execution_count": 2,
   "metadata": {},
   "outputs": [],
   "source": [
    "# Telling python what database to use\n",
    "\n",
    "conn = sql.connect('../data/weather.db')\n",
    "\n",
    "# Activating the cursor, which will allow us to pass queries through sqlite and access the database directly\n",
    "\n",
    "cur = conn.cursor()"
   ]
  },
  {
   "cell_type": "markdown",
   "metadata": {},
   "source": [
    "## Checking what tables exist within a database"
   ]
  },
  {
   "cell_type": "code",
   "execution_count": 3,
   "metadata": {},
   "outputs": [],
   "source": [
    "# Execute tells the cursor to run the query provided\n",
    "\n",
    "cur.execute(\"SELECT name FROM sqlite_master WHERE type='table' ORDER BY name;\")\n",
    "\n",
    "# fetchall() allows us to see everything returned by our query, which we store in our 'available_tables' variable\n",
    "\n",
    "available_tables = (cur.fetchall())"
   ]
  },
  {
   "cell_type": "code",
   "execution_count": 4,
   "metadata": {},
   "outputs": [
    {
     "name": "stdout",
     "output_type": "stream",
     "text": [
      "[('rainfall_2013',), ('weather_stations',)]\n"
     ]
    }
   ],
   "source": [
    "print(available_tables)"
   ]
  },
  {
   "cell_type": "markdown",
   "metadata": {},
   "source": [
    "## Querying the 'weather_stations' table"
   ]
  },
  {
   "cell_type": "code",
   "execution_count": 5,
   "metadata": {},
   "outputs": [],
   "source": [
    "# Let's check to see what our data looks like by selecting the first 5 rows\n",
    "\n",
    "cur.execute(\"SELECT * FROM weather_stations LIMIT 5;\")\n",
    "\n",
    "weather_stations = (cur.fetchall())"
   ]
  },
  {
   "cell_type": "code",
   "execution_count": 6,
   "metadata": {},
   "outputs": [
    {
     "data": {
      "text/plain": [
       "list"
      ]
     },
     "execution_count": 6,
     "metadata": {},
     "output_type": "execute_result"
    }
   ],
   "source": [
    "# What is the type of weather_data_2013?\n",
    "\n",
    "type(weather_stations)"
   ]
  },
  {
   "cell_type": "code",
   "execution_count": 7,
   "metadata": {
    "scrolled": true
   },
   "outputs": [
    {
     "data": {
      "text/plain": [
       "[('US1TNCH0002',\n",
       "  'KINGSTON SPRINGS 0.3 ENE, TN US',\n",
       "  '36.0984',\n",
       "  '-87.0963',\n",
       "  '177.1'),\n",
       " ('US1TNCH0001', 'ASHLAND CITY 5.6 ENE, TN US', '36.306', '-86.966', '232.9'),\n",
       " ('USC00403280',\n",
       "  'FRANKLIN SEWAGE PLANT, TN US',\n",
       "  '35.9417',\n",
       "  '-86.8685',\n",
       "  '199.6'),\n",
       " ('US1TNCH0007',\n",
       "  'KINGSTON SPRINGS 1.4 SW, TN US',\n",
       "  '36.0806',\n",
       "  '-87.1165',\n",
       "  '224.0'),\n",
       " ('US1TNCH0004',\n",
       "  'KINGSTON SPRINGS 4.8 SW, TN US',\n",
       "  '36.0556',\n",
       "  '-87.1701',\n",
       "  '238.0')]"
      ]
     },
     "execution_count": 7,
     "metadata": {},
     "output_type": "execute_result"
    }
   ],
   "source": [
    "weather_stations"
   ]
  },
  {
   "cell_type": "markdown",
   "metadata": {},
   "source": [
    "## Using Pandas to place results into a DataFrame"
   ]
  },
  {
   "cell_type": "code",
   "execution_count": 8,
   "metadata": {},
   "outputs": [],
   "source": [
    "# Using the same query as before to select the first 5 rows from weather2013.db\n",
    "\n",
    "weather_stations_df = pd.read_sql(\"SELECT * FROM weather_stations;\", conn)"
   ]
  },
  {
   "cell_type": "code",
   "execution_count": 9,
   "metadata": {},
   "outputs": [
    {
     "data": {
      "text/plain": [
       "pandas.core.frame.DataFrame"
      ]
     },
     "execution_count": 9,
     "metadata": {},
     "output_type": "execute_result"
    }
   ],
   "source": [
    "# Checking the type again\n",
    "\n",
    "type(weather_stations_df)"
   ]
  },
  {
   "cell_type": "code",
   "execution_count": 10,
   "metadata": {},
   "outputs": [
    {
     "data": {
      "text/html": [
       "<div>\n",
       "<style scoped>\n",
       "    .dataframe tbody tr th:only-of-type {\n",
       "        vertical-align: middle;\n",
       "    }\n",
       "\n",
       "    .dataframe tbody tr th {\n",
       "        vertical-align: top;\n",
       "    }\n",
       "\n",
       "    .dataframe thead th {\n",
       "        text-align: right;\n",
       "    }\n",
       "</style>\n",
       "<table border=\"1\" class=\"dataframe\">\n",
       "  <thead>\n",
       "    <tr style=\"text-align: right;\">\n",
       "      <th></th>\n",
       "      <th>station</th>\n",
       "      <th>name</th>\n",
       "      <th>lat</th>\n",
       "      <th>lng</th>\n",
       "      <th>elevation</th>\n",
       "    </tr>\n",
       "  </thead>\n",
       "  <tbody>\n",
       "    <tr>\n",
       "      <th>0</th>\n",
       "      <td>US1TNCH0002</td>\n",
       "      <td>KINGSTON SPRINGS 0.3 ENE, TN US</td>\n",
       "      <td>36.0984</td>\n",
       "      <td>-87.0963</td>\n",
       "      <td>177.1</td>\n",
       "    </tr>\n",
       "    <tr>\n",
       "      <th>1</th>\n",
       "      <td>US1TNCH0001</td>\n",
       "      <td>ASHLAND CITY 5.6 ENE, TN US</td>\n",
       "      <td>36.306</td>\n",
       "      <td>-86.966</td>\n",
       "      <td>232.9</td>\n",
       "    </tr>\n",
       "    <tr>\n",
       "      <th>2</th>\n",
       "      <td>USC00403280</td>\n",
       "      <td>FRANKLIN SEWAGE PLANT, TN US</td>\n",
       "      <td>35.9417</td>\n",
       "      <td>-86.8685</td>\n",
       "      <td>199.6</td>\n",
       "    </tr>\n",
       "    <tr>\n",
       "      <th>3</th>\n",
       "      <td>US1TNCH0007</td>\n",
       "      <td>KINGSTON SPRINGS 1.4 SW, TN US</td>\n",
       "      <td>36.0806</td>\n",
       "      <td>-87.1165</td>\n",
       "      <td>224.0</td>\n",
       "    </tr>\n",
       "    <tr>\n",
       "      <th>4</th>\n",
       "      <td>US1TNCH0004</td>\n",
       "      <td>KINGSTON SPRINGS 4.8 SW, TN US</td>\n",
       "      <td>36.0556</td>\n",
       "      <td>-87.1701</td>\n",
       "      <td>238.0</td>\n",
       "    </tr>\n",
       "  </tbody>\n",
       "</table>\n",
       "</div>"
      ],
      "text/plain": [
       "       station                             name      lat       lng elevation\n",
       "0  US1TNCH0002  KINGSTON SPRINGS 0.3 ENE, TN US  36.0984  -87.0963     177.1\n",
       "1  US1TNCH0001      ASHLAND CITY 5.6 ENE, TN US   36.306   -86.966     232.9\n",
       "2  USC00403280     FRANKLIN SEWAGE PLANT, TN US  35.9417  -86.8685     199.6\n",
       "3  US1TNCH0007   KINGSTON SPRINGS 1.4 SW, TN US  36.0806  -87.1165     224.0\n",
       "4  US1TNCH0004   KINGSTON SPRINGS 4.8 SW, TN US  36.0556  -87.1701     238.0"
      ]
     },
     "execution_count": 10,
     "metadata": {},
     "output_type": "execute_result"
    }
   ],
   "source": [
    "weather_stations_df.head()"
   ]
  },
  {
   "cell_type": "code",
   "execution_count": 11,
   "metadata": {},
   "outputs": [
    {
     "data": {
      "text/plain": [
       "(155, 5)"
      ]
     },
     "execution_count": 11,
     "metadata": {},
     "output_type": "execute_result"
    }
   ],
   "source": [
    "weather_stations_df.shape"
   ]
  },
  {
   "cell_type": "markdown",
   "metadata": {},
   "source": [
    "## Example of a query using the DISTINCT clause"
   ]
  },
  {
   "cell_type": "code",
   "execution_count": 12,
   "metadata": {},
   "outputs": [],
   "source": [
    "# When building sql queries, it may be useful to write the query independently and save to variable\n",
    "# then pass variable to function\n",
    "# Multi-line queries can use triple quotes (''' ''') to keep it together as one string\n",
    "\n",
    "query = '''\n",
    "SELECT DISTINCT(elevation)\n",
    "FROM weather_stations;\n",
    "'''"
   ]
  },
  {
   "cell_type": "code",
   "execution_count": 13,
   "metadata": {},
   "outputs": [],
   "source": [
    "unique_elevations = pd.read_sql(query, conn)"
   ]
  },
  {
   "cell_type": "code",
   "execution_count": 14,
   "metadata": {},
   "outputs": [
    {
     "data": {
      "text/html": [
       "<div>\n",
       "<style scoped>\n",
       "    .dataframe tbody tr th:only-of-type {\n",
       "        vertical-align: middle;\n",
       "    }\n",
       "\n",
       "    .dataframe tbody tr th {\n",
       "        vertical-align: top;\n",
       "    }\n",
       "\n",
       "    .dataframe thead th {\n",
       "        text-align: right;\n",
       "    }\n",
       "</style>\n",
       "<table border=\"1\" class=\"dataframe\">\n",
       "  <thead>\n",
       "    <tr style=\"text-align: right;\">\n",
       "      <th></th>\n",
       "      <th>elevation</th>\n",
       "    </tr>\n",
       "  </thead>\n",
       "  <tbody>\n",
       "    <tr>\n",
       "      <th>0</th>\n",
       "      <td>177.1</td>\n",
       "    </tr>\n",
       "    <tr>\n",
       "      <th>1</th>\n",
       "      <td>232.9</td>\n",
       "    </tr>\n",
       "    <tr>\n",
       "      <th>2</th>\n",
       "      <td>199.6</td>\n",
       "    </tr>\n",
       "    <tr>\n",
       "      <th>3</th>\n",
       "      <td>224.0</td>\n",
       "    </tr>\n",
       "    <tr>\n",
       "      <th>4</th>\n",
       "      <td>238.0</td>\n",
       "    </tr>\n",
       "    <tr>\n",
       "      <th>...</th>\n",
       "      <td>...</td>\n",
       "    </tr>\n",
       "    <tr>\n",
       "      <th>112</th>\n",
       "      <td>188.4</td>\n",
       "    </tr>\n",
       "    <tr>\n",
       "      <th>113</th>\n",
       "      <td>143.9</td>\n",
       "    </tr>\n",
       "    <tr>\n",
       "      <th>114</th>\n",
       "      <td>178.9</td>\n",
       "    </tr>\n",
       "    <tr>\n",
       "      <th>115</th>\n",
       "      <td>138.7</td>\n",
       "    </tr>\n",
       "    <tr>\n",
       "      <th>116</th>\n",
       "      <td>154.8</td>\n",
       "    </tr>\n",
       "  </tbody>\n",
       "</table>\n",
       "<p>117 rows × 1 columns</p>\n",
       "</div>"
      ],
      "text/plain": [
       "    elevation\n",
       "0       177.1\n",
       "1       232.9\n",
       "2       199.6\n",
       "3       224.0\n",
       "4       238.0\n",
       "..        ...\n",
       "112     188.4\n",
       "113     143.9\n",
       "114     178.9\n",
       "115     138.7\n",
       "116     154.8\n",
       "\n",
       "[117 rows x 1 columns]"
      ]
     },
     "execution_count": 14,
     "metadata": {},
     "output_type": "execute_result"
    }
   ],
   "source": [
    "unique_elevations"
   ]
  },
  {
   "cell_type": "markdown",
   "metadata": {},
   "source": [
    "## Example of a query using the WHERE clause"
   ]
  },
  {
   "cell_type": "code",
   "execution_count": 15,
   "metadata": {},
   "outputs": [],
   "source": [
    "query = '''\n",
    "SELECT *\n",
    "FROM weather_stations\n",
    "WHERE elevation > 200;\n",
    "'''"
   ]
  },
  {
   "cell_type": "code",
   "execution_count": 16,
   "metadata": {},
   "outputs": [],
   "source": [
    "# This time, we'll query weather2013 to find the dates where the percipitation was greater than 1\n",
    "\n",
    "high_elevation = pd.read_sql(query, conn)"
   ]
  },
  {
   "cell_type": "code",
   "execution_count": 17,
   "metadata": {},
   "outputs": [
    {
     "data": {
      "text/html": [
       "<div>\n",
       "<style scoped>\n",
       "    .dataframe tbody tr th:only-of-type {\n",
       "        vertical-align: middle;\n",
       "    }\n",
       "\n",
       "    .dataframe tbody tr th {\n",
       "        vertical-align: top;\n",
       "    }\n",
       "\n",
       "    .dataframe thead th {\n",
       "        text-align: right;\n",
       "    }\n",
       "</style>\n",
       "<table border=\"1\" class=\"dataframe\">\n",
       "  <thead>\n",
       "    <tr style=\"text-align: right;\">\n",
       "      <th></th>\n",
       "      <th>station</th>\n",
       "      <th>name</th>\n",
       "      <th>lat</th>\n",
       "      <th>lng</th>\n",
       "      <th>elevation</th>\n",
       "    </tr>\n",
       "  </thead>\n",
       "  <tbody>\n",
       "    <tr>\n",
       "      <th>0</th>\n",
       "      <td>US1TNCH0001</td>\n",
       "      <td>ASHLAND CITY 5.6 ENE, TN US</td>\n",
       "      <td>36.306</td>\n",
       "      <td>-86.966</td>\n",
       "      <td>232.9</td>\n",
       "    </tr>\n",
       "    <tr>\n",
       "      <th>1</th>\n",
       "      <td>US1TNCH0007</td>\n",
       "      <td>KINGSTON SPRINGS 1.4 SW, TN US</td>\n",
       "      <td>36.0806</td>\n",
       "      <td>-87.1165</td>\n",
       "      <td>224.0</td>\n",
       "    </tr>\n",
       "    <tr>\n",
       "      <th>2</th>\n",
       "      <td>US1TNCH0004</td>\n",
       "      <td>KINGSTON SPRINGS 4.8 SW, TN US</td>\n",
       "      <td>36.0556</td>\n",
       "      <td>-87.1701</td>\n",
       "      <td>238.0</td>\n",
       "    </tr>\n",
       "    <tr>\n",
       "      <th>3</th>\n",
       "      <td>US1TNRB0003</td>\n",
       "      <td>SPRINGFIELD 1.8 WSW, TN US</td>\n",
       "      <td>36.493</td>\n",
       "      <td>-86.9107</td>\n",
       "      <td>201.5</td>\n",
       "    </tr>\n",
       "    <tr>\n",
       "      <th>4</th>\n",
       "      <td>US1TNRB0002</td>\n",
       "      <td>CROSS PLAINS 3.7 W, TN US</td>\n",
       "      <td>36.5502</td>\n",
       "      <td>-86.7476</td>\n",
       "      <td>223.1</td>\n",
       "    </tr>\n",
       "  </tbody>\n",
       "</table>\n",
       "</div>"
      ],
      "text/plain": [
       "       station                            name      lat       lng elevation\n",
       "0  US1TNCH0001     ASHLAND CITY 5.6 ENE, TN US   36.306   -86.966     232.9\n",
       "1  US1TNCH0007  KINGSTON SPRINGS 1.4 SW, TN US  36.0806  -87.1165     224.0\n",
       "2  US1TNCH0004  KINGSTON SPRINGS 4.8 SW, TN US  36.0556  -87.1701     238.0\n",
       "3  US1TNRB0003      SPRINGFIELD 1.8 WSW, TN US   36.493  -86.9107     201.5\n",
       "4  US1TNRB0002       CROSS PLAINS 3.7 W, TN US  36.5502  -86.7476     223.1"
      ]
     },
     "execution_count": 17,
     "metadata": {},
     "output_type": "execute_result"
    }
   ],
   "source": [
    "high_elevation.head()"
   ]
  },
  {
   "cell_type": "markdown",
   "metadata": {},
   "source": [
    "## Example of a query using the BETWEEN clause"
   ]
  },
  {
   "cell_type": "code",
   "execution_count": 18,
   "metadata": {},
   "outputs": [],
   "source": [
    "query = '''\n",
    "SELECT *\n",
    "FROM weather_stations\n",
    "WHERE elevation BETWEEN 200 AND 220;\n",
    "'''"
   ]
  },
  {
   "cell_type": "code",
   "execution_count": 19,
   "metadata": {},
   "outputs": [
    {
     "data": {
      "text/html": [
       "<div>\n",
       "<style scoped>\n",
       "    .dataframe tbody tr th:only-of-type {\n",
       "        vertical-align: middle;\n",
       "    }\n",
       "\n",
       "    .dataframe tbody tr th {\n",
       "        vertical-align: top;\n",
       "    }\n",
       "\n",
       "    .dataframe thead th {\n",
       "        text-align: right;\n",
       "    }\n",
       "</style>\n",
       "<table border=\"1\" class=\"dataframe\">\n",
       "  <thead>\n",
       "    <tr style=\"text-align: right;\">\n",
       "      <th></th>\n",
       "      <th>station</th>\n",
       "      <th>name</th>\n",
       "      <th>lat</th>\n",
       "      <th>lng</th>\n",
       "      <th>elevation</th>\n",
       "    </tr>\n",
       "  </thead>\n",
       "  <tbody>\n",
       "    <tr>\n",
       "      <th>0</th>\n",
       "      <td>US1TNRB0003</td>\n",
       "      <td>SPRINGFIELD 1.8 WSW, TN US</td>\n",
       "      <td>36.493</td>\n",
       "      <td>-86.9107</td>\n",
       "      <td>201.5</td>\n",
       "    </tr>\n",
       "    <tr>\n",
       "      <th>1</th>\n",
       "      <td>USC00406435</td>\n",
       "      <td>NEAPOLIS EXPERIMENTAL STATION, TN US</td>\n",
       "      <td>35.7197</td>\n",
       "      <td>-86.9654</td>\n",
       "      <td>213.4</td>\n",
       "    </tr>\n",
       "    <tr>\n",
       "      <th>2</th>\n",
       "      <td>US1TNDV0102</td>\n",
       "      <td>BELLE MEADE 1.2 ESE, TN US</td>\n",
       "      <td>36.094</td>\n",
       "      <td>-86.8341</td>\n",
       "      <td>200.9</td>\n",
       "    </tr>\n",
       "    <tr>\n",
       "      <th>3</th>\n",
       "      <td>US1TNDV0075</td>\n",
       "      <td>BRENTWOOD 2.8 NE, TN US</td>\n",
       "      <td>36.0243</td>\n",
       "      <td>-86.7509</td>\n",
       "      <td>210.0</td>\n",
       "    </tr>\n",
       "    <tr>\n",
       "      <th>4</th>\n",
       "      <td>US1TNWL0010</td>\n",
       "      <td>NOLENSVILLE 1.0 NNW, TN US</td>\n",
       "      <td>35.9597</td>\n",
       "      <td>-86.6575</td>\n",
       "      <td>216.4</td>\n",
       "    </tr>\n",
       "  </tbody>\n",
       "</table>\n",
       "</div>"
      ],
      "text/plain": [
       "       station                                  name      lat       lng  \\\n",
       "0  US1TNRB0003            SPRINGFIELD 1.8 WSW, TN US   36.493  -86.9107   \n",
       "1  USC00406435  NEAPOLIS EXPERIMENTAL STATION, TN US  35.7197  -86.9654   \n",
       "2  US1TNDV0102            BELLE MEADE 1.2 ESE, TN US   36.094  -86.8341   \n",
       "3  US1TNDV0075               BRENTWOOD 2.8 NE, TN US  36.0243  -86.7509   \n",
       "4  US1TNWL0010            NOLENSVILLE 1.0 NNW, TN US  35.9597  -86.6575   \n",
       "\n",
       "  elevation  \n",
       "0     201.5  \n",
       "1     213.4  \n",
       "2     200.9  \n",
       "3     210.0  \n",
       "4     216.4  "
      ]
     },
     "execution_count": 19,
     "metadata": {},
     "output_type": "execute_result"
    }
   ],
   "source": [
    "# This time, we'll query weather2013 to find the dates where the percipitation was between 0.2 and 0.5\n",
    "\n",
    "mid_elevation = pd.read_sql(query, conn)\n",
    "mid_elevation.head()"
   ]
  },
  {
   "cell_type": "markdown",
   "metadata": {},
   "source": [
    "## Same example, but using the ORDER BY to sort on percipitation"
   ]
  },
  {
   "cell_type": "code",
   "execution_count": 20,
   "metadata": {},
   "outputs": [],
   "source": [
    "query = '''\n",
    "SELECT *\n",
    "FROM weather_stations\n",
    "WHERE elevation BETWEEN 200 AND 220\n",
    "ORDER BY elevation;\n",
    "'''"
   ]
  },
  {
   "cell_type": "code",
   "execution_count": 21,
   "metadata": {},
   "outputs": [
    {
     "data": {
      "text/html": [
       "<div>\n",
       "<style scoped>\n",
       "    .dataframe tbody tr th:only-of-type {\n",
       "        vertical-align: middle;\n",
       "    }\n",
       "\n",
       "    .dataframe tbody tr th {\n",
       "        vertical-align: top;\n",
       "    }\n",
       "\n",
       "    .dataframe thead th {\n",
       "        text-align: right;\n",
       "    }\n",
       "</style>\n",
       "<table border=\"1\" class=\"dataframe\">\n",
       "  <thead>\n",
       "    <tr style=\"text-align: right;\">\n",
       "      <th></th>\n",
       "      <th>station</th>\n",
       "      <th>name</th>\n",
       "      <th>lat</th>\n",
       "      <th>lng</th>\n",
       "      <th>elevation</th>\n",
       "    </tr>\n",
       "  </thead>\n",
       "  <tbody>\n",
       "    <tr>\n",
       "      <th>0</th>\n",
       "      <td>US1TNDV0102</td>\n",
       "      <td>BELLE MEADE 1.2 ESE, TN US</td>\n",
       "      <td>36.094</td>\n",
       "      <td>-86.8341</td>\n",
       "      <td>200.9</td>\n",
       "    </tr>\n",
       "    <tr>\n",
       "      <th>1</th>\n",
       "      <td>US1TNRB0035</td>\n",
       "      <td>PLEASANT VIEW 2.8 ESE, TN US</td>\n",
       "      <td>36.3806</td>\n",
       "      <td>-86.9898</td>\n",
       "      <td>201.2</td>\n",
       "    </tr>\n",
       "    <tr>\n",
       "      <th>2</th>\n",
       "      <td>US1TNRB0003</td>\n",
       "      <td>SPRINGFIELD 1.8 WSW, TN US</td>\n",
       "      <td>36.493</td>\n",
       "      <td>-86.9107</td>\n",
       "      <td>201.5</td>\n",
       "    </tr>\n",
       "    <tr>\n",
       "      <th>3</th>\n",
       "      <td>US1TNWN0068</td>\n",
       "      <td>LEBANON 4.1 NW, TN US</td>\n",
       "      <td>36.2451</td>\n",
       "      <td>-86.3811</td>\n",
       "      <td>202.1</td>\n",
       "    </tr>\n",
       "    <tr>\n",
       "      <th>4</th>\n",
       "      <td>US1TNWL0070</td>\n",
       "      <td>FRANKLIN 2.5 W, TN US</td>\n",
       "      <td>35.9285</td>\n",
       "      <td>-86.8872</td>\n",
       "      <td>202.1</td>\n",
       "    </tr>\n",
       "  </tbody>\n",
       "</table>\n",
       "</div>"
      ],
      "text/plain": [
       "       station                          name      lat       lng elevation\n",
       "0  US1TNDV0102    BELLE MEADE 1.2 ESE, TN US   36.094  -86.8341     200.9\n",
       "1  US1TNRB0035  PLEASANT VIEW 2.8 ESE, TN US  36.3806  -86.9898     201.2\n",
       "2  US1TNRB0003    SPRINGFIELD 1.8 WSW, TN US   36.493  -86.9107     201.5\n",
       "3  US1TNWN0068         LEBANON 4.1 NW, TN US  36.2451  -86.3811     202.1\n",
       "4  US1TNWL0070         FRANKLIN 2.5 W, TN US  35.9285  -86.8872     202.1"
      ]
     },
     "execution_count": 21,
     "metadata": {},
     "output_type": "execute_result"
    }
   ],
   "source": [
    "# Using ASC or DESC to specify how to order the desired column - Is ASC or DESC used by default?\n",
    "\n",
    "mid_elevation = pd.read_sql(query, conn)\n",
    "mid_elevation.head()"
   ]
  },
  {
   "cell_type": "markdown",
   "metadata": {},
   "source": [
    "## What's in the other table?"
   ]
  },
  {
   "cell_type": "code",
   "execution_count": 22,
   "metadata": {},
   "outputs": [],
   "source": [
    "query = '''\n",
    "SELECT *\n",
    "FROM rainfall_2013\n",
    "LIMIT 5;\n",
    "'''"
   ]
  },
  {
   "cell_type": "code",
   "execution_count": 23,
   "metadata": {},
   "outputs": [
    {
     "data": {
      "text/html": [
       "<div>\n",
       "<style scoped>\n",
       "    .dataframe tbody tr th:only-of-type {\n",
       "        vertical-align: middle;\n",
       "    }\n",
       "\n",
       "    .dataframe tbody tr th {\n",
       "        vertical-align: top;\n",
       "    }\n",
       "\n",
       "    .dataframe thead th {\n",
       "        text-align: right;\n",
       "    }\n",
       "</style>\n",
       "<table border=\"1\" class=\"dataframe\">\n",
       "  <thead>\n",
       "    <tr style=\"text-align: right;\">\n",
       "      <th></th>\n",
       "      <th>record_id</th>\n",
       "      <th>station</th>\n",
       "      <th>date</th>\n",
       "      <th>precip</th>\n",
       "      <th>avg_temp</th>\n",
       "    </tr>\n",
       "  </thead>\n",
       "  <tbody>\n",
       "    <tr>\n",
       "      <th>0</th>\n",
       "      <td>1</td>\n",
       "      <td>US1TNCH0002</td>\n",
       "      <td>1/1/13</td>\n",
       "      <td>0.38</td>\n",
       "      <td></td>\n",
       "    </tr>\n",
       "    <tr>\n",
       "      <th>1</th>\n",
       "      <td>2</td>\n",
       "      <td>US1TNCH0002</td>\n",
       "      <td>1/2/13</td>\n",
       "      <td>0.08</td>\n",
       "      <td></td>\n",
       "    </tr>\n",
       "    <tr>\n",
       "      <th>2</th>\n",
       "      <td>3</td>\n",
       "      <td>US1TNCH0002</td>\n",
       "      <td>1/3/13</td>\n",
       "      <td>0.0</td>\n",
       "      <td></td>\n",
       "    </tr>\n",
       "    <tr>\n",
       "      <th>3</th>\n",
       "      <td>4</td>\n",
       "      <td>US1TNCH0002</td>\n",
       "      <td>1/4/13</td>\n",
       "      <td>0.0</td>\n",
       "      <td></td>\n",
       "    </tr>\n",
       "    <tr>\n",
       "      <th>4</th>\n",
       "      <td>5</td>\n",
       "      <td>US1TNCH0002</td>\n",
       "      <td>1/5/13</td>\n",
       "      <td>0.0</td>\n",
       "      <td></td>\n",
       "    </tr>\n",
       "  </tbody>\n",
       "</table>\n",
       "</div>"
      ],
      "text/plain": [
       "   record_id      station    date precip avg_temp\n",
       "0          1  US1TNCH0002  1/1/13   0.38         \n",
       "1          2  US1TNCH0002  1/2/13   0.08         \n",
       "2          3  US1TNCH0002  1/3/13    0.0         \n",
       "3          4  US1TNCH0002  1/4/13    0.0         \n",
       "4          5  US1TNCH0002  1/5/13    0.0         "
      ]
     },
     "execution_count": 23,
     "metadata": {},
     "output_type": "execute_result"
    }
   ],
   "source": [
    "rainfall_2013 = pd.read_sql(query, conn)\n",
    "rainfall_2013.head()"
   ]
  },
  {
   "cell_type": "markdown",
   "metadata": {},
   "source": [
    "## Example of using JOIN to combine tables"
   ]
  },
  {
   "cell_type": "code",
   "execution_count": 24,
   "metadata": {},
   "outputs": [],
   "source": [
    "query = '''\n",
    "SELECT *\n",
    "FROM rainfall_2013\n",
    "LEFT JOIN weather_stations ON rainfall_2013.station = weather_stations.station\n",
    "LIMIT 5;\n",
    "'''"
   ]
  },
  {
   "cell_type": "code",
   "execution_count": 25,
   "metadata": {},
   "outputs": [
    {
     "data": {
      "text/html": [
       "<div>\n",
       "<style scoped>\n",
       "    .dataframe tbody tr th:only-of-type {\n",
       "        vertical-align: middle;\n",
       "    }\n",
       "\n",
       "    .dataframe tbody tr th {\n",
       "        vertical-align: top;\n",
       "    }\n",
       "\n",
       "    .dataframe thead th {\n",
       "        text-align: right;\n",
       "    }\n",
       "</style>\n",
       "<table border=\"1\" class=\"dataframe\">\n",
       "  <thead>\n",
       "    <tr style=\"text-align: right;\">\n",
       "      <th></th>\n",
       "      <th>record_id</th>\n",
       "      <th>station</th>\n",
       "      <th>date</th>\n",
       "      <th>precip</th>\n",
       "      <th>avg_temp</th>\n",
       "      <th>station</th>\n",
       "      <th>name</th>\n",
       "      <th>lat</th>\n",
       "      <th>lng</th>\n",
       "      <th>elevation</th>\n",
       "    </tr>\n",
       "  </thead>\n",
       "  <tbody>\n",
       "    <tr>\n",
       "      <th>0</th>\n",
       "      <td>1</td>\n",
       "      <td>US1TNCH0002</td>\n",
       "      <td>1/1/13</td>\n",
       "      <td>0.38</td>\n",
       "      <td></td>\n",
       "      <td>US1TNCH0002</td>\n",
       "      <td>KINGSTON SPRINGS 0.3 ENE, TN US</td>\n",
       "      <td>36.0984</td>\n",
       "      <td>-87.0963</td>\n",
       "      <td>177.1</td>\n",
       "    </tr>\n",
       "    <tr>\n",
       "      <th>1</th>\n",
       "      <td>2</td>\n",
       "      <td>US1TNCH0002</td>\n",
       "      <td>1/2/13</td>\n",
       "      <td>0.08</td>\n",
       "      <td></td>\n",
       "      <td>US1TNCH0002</td>\n",
       "      <td>KINGSTON SPRINGS 0.3 ENE, TN US</td>\n",
       "      <td>36.0984</td>\n",
       "      <td>-87.0963</td>\n",
       "      <td>177.1</td>\n",
       "    </tr>\n",
       "    <tr>\n",
       "      <th>2</th>\n",
       "      <td>3</td>\n",
       "      <td>US1TNCH0002</td>\n",
       "      <td>1/3/13</td>\n",
       "      <td>0.0</td>\n",
       "      <td></td>\n",
       "      <td>US1TNCH0002</td>\n",
       "      <td>KINGSTON SPRINGS 0.3 ENE, TN US</td>\n",
       "      <td>36.0984</td>\n",
       "      <td>-87.0963</td>\n",
       "      <td>177.1</td>\n",
       "    </tr>\n",
       "    <tr>\n",
       "      <th>3</th>\n",
       "      <td>4</td>\n",
       "      <td>US1TNCH0002</td>\n",
       "      <td>1/4/13</td>\n",
       "      <td>0.0</td>\n",
       "      <td></td>\n",
       "      <td>US1TNCH0002</td>\n",
       "      <td>KINGSTON SPRINGS 0.3 ENE, TN US</td>\n",
       "      <td>36.0984</td>\n",
       "      <td>-87.0963</td>\n",
       "      <td>177.1</td>\n",
       "    </tr>\n",
       "    <tr>\n",
       "      <th>4</th>\n",
       "      <td>5</td>\n",
       "      <td>US1TNCH0002</td>\n",
       "      <td>1/5/13</td>\n",
       "      <td>0.0</td>\n",
       "      <td></td>\n",
       "      <td>US1TNCH0002</td>\n",
       "      <td>KINGSTON SPRINGS 0.3 ENE, TN US</td>\n",
       "      <td>36.0984</td>\n",
       "      <td>-87.0963</td>\n",
       "      <td>177.1</td>\n",
       "    </tr>\n",
       "  </tbody>\n",
       "</table>\n",
       "</div>"
      ],
      "text/plain": [
       "   record_id      station    date precip avg_temp      station  \\\n",
       "0          1  US1TNCH0002  1/1/13   0.38           US1TNCH0002   \n",
       "1          2  US1TNCH0002  1/2/13   0.08           US1TNCH0002   \n",
       "2          3  US1TNCH0002  1/3/13    0.0           US1TNCH0002   \n",
       "3          4  US1TNCH0002  1/4/13    0.0           US1TNCH0002   \n",
       "4          5  US1TNCH0002  1/5/13    0.0           US1TNCH0002   \n",
       "\n",
       "                              name      lat       lng elevation  \n",
       "0  KINGSTON SPRINGS 0.3 ENE, TN US  36.0984  -87.0963     177.1  \n",
       "1  KINGSTON SPRINGS 0.3 ENE, TN US  36.0984  -87.0963     177.1  \n",
       "2  KINGSTON SPRINGS 0.3 ENE, TN US  36.0984  -87.0963     177.1  \n",
       "3  KINGSTON SPRINGS 0.3 ENE, TN US  36.0984  -87.0963     177.1  \n",
       "4  KINGSTON SPRINGS 0.3 ENE, TN US  36.0984  -87.0963     177.1  "
      ]
     },
     "execution_count": 25,
     "metadata": {},
     "output_type": "execute_result"
    }
   ],
   "source": [
    "weather_rainfall = pd.read_sql(query, conn)\n",
    "weather_rainfall.head()"
   ]
  },
  {
   "cell_type": "markdown",
   "metadata": {},
   "source": [
    "## Another example using USING and other selection criteria"
   ]
  },
  {
   "cell_type": "code",
   "execution_count": 26,
   "metadata": {},
   "outputs": [],
   "source": [
    "query = '''\n",
    "SELECT *\n",
    "FROM rainfall_2013\n",
    "LEFT JOIN weather_stations USING(station, station)\n",
    "WHERE weather_stations.name LIKE \"%NASHVILLE%\"\n",
    "AND precip > 0.1\n",
    "ORDER BY rainfall_2013.precip\n",
    "LIMIT 5;\n",
    "'''"
   ]
  },
  {
   "cell_type": "code",
   "execution_count": 27,
   "metadata": {},
   "outputs": [
    {
     "data": {
      "text/html": [
       "<div>\n",
       "<style scoped>\n",
       "    .dataframe tbody tr th:only-of-type {\n",
       "        vertical-align: middle;\n",
       "    }\n",
       "\n",
       "    .dataframe tbody tr th {\n",
       "        vertical-align: top;\n",
       "    }\n",
       "\n",
       "    .dataframe thead th {\n",
       "        text-align: right;\n",
       "    }\n",
       "</style>\n",
       "<table border=\"1\" class=\"dataframe\">\n",
       "  <thead>\n",
       "    <tr style=\"text-align: right;\">\n",
       "      <th></th>\n",
       "      <th>record_id</th>\n",
       "      <th>station</th>\n",
       "      <th>date</th>\n",
       "      <th>precip</th>\n",
       "      <th>avg_temp</th>\n",
       "      <th>name</th>\n",
       "      <th>lat</th>\n",
       "      <th>lng</th>\n",
       "      <th>elevation</th>\n",
       "    </tr>\n",
       "  </thead>\n",
       "  <tbody>\n",
       "    <tr>\n",
       "      <th>0</th>\n",
       "      <td>10092</td>\n",
       "      <td>USW00013897</td>\n",
       "      <td>1/14/13</td>\n",
       "      <td>0.11</td>\n",
       "      <td></td>\n",
       "      <td>NASHVILLE INTERNATIONAL AIRPORT, TN US</td>\n",
       "      <td>36.11889</td>\n",
       "      <td>-86.68917</td>\n",
       "      <td>182.9</td>\n",
       "    </tr>\n",
       "    <tr>\n",
       "      <th>1</th>\n",
       "      <td>10109</td>\n",
       "      <td>USW00013897</td>\n",
       "      <td>1/31/13</td>\n",
       "      <td>0.11</td>\n",
       "      <td></td>\n",
       "      <td>NASHVILLE INTERNATIONAL AIRPORT, TN US</td>\n",
       "      <td>36.11889</td>\n",
       "      <td>-86.68917</td>\n",
       "      <td>182.9</td>\n",
       "    </tr>\n",
       "    <tr>\n",
       "      <th>2</th>\n",
       "      <td>10117</td>\n",
       "      <td>USW00013897</td>\n",
       "      <td>2/8/13</td>\n",
       "      <td>0.11</td>\n",
       "      <td></td>\n",
       "      <td>NASHVILLE INTERNATIONAL AIRPORT, TN US</td>\n",
       "      <td>36.11889</td>\n",
       "      <td>-86.68917</td>\n",
       "      <td>182.9</td>\n",
       "    </tr>\n",
       "    <tr>\n",
       "      <th>3</th>\n",
       "      <td>10172</td>\n",
       "      <td>USW00013897</td>\n",
       "      <td>4/4/13</td>\n",
       "      <td>0.11</td>\n",
       "      <td>46.0</td>\n",
       "      <td>NASHVILLE INTERNATIONAL AIRPORT, TN US</td>\n",
       "      <td>36.11889</td>\n",
       "      <td>-86.68917</td>\n",
       "      <td>182.9</td>\n",
       "    </tr>\n",
       "    <tr>\n",
       "      <th>4</th>\n",
       "      <td>10203</td>\n",
       "      <td>USW00013897</td>\n",
       "      <td>5/5/13</td>\n",
       "      <td>0.11</td>\n",
       "      <td>50.0</td>\n",
       "      <td>NASHVILLE INTERNATIONAL AIRPORT, TN US</td>\n",
       "      <td>36.11889</td>\n",
       "      <td>-86.68917</td>\n",
       "      <td>182.9</td>\n",
       "    </tr>\n",
       "  </tbody>\n",
       "</table>\n",
       "</div>"
      ],
      "text/plain": [
       "   record_id      station     date precip avg_temp  \\\n",
       "0      10092  USW00013897  1/14/13   0.11            \n",
       "1      10109  USW00013897  1/31/13   0.11            \n",
       "2      10117  USW00013897   2/8/13   0.11            \n",
       "3      10172  USW00013897   4/4/13   0.11     46.0   \n",
       "4      10203  USW00013897   5/5/13   0.11     50.0   \n",
       "\n",
       "                                     name       lat        lng elevation  \n",
       "0  NASHVILLE INTERNATIONAL AIRPORT, TN US  36.11889  -86.68917     182.9  \n",
       "1  NASHVILLE INTERNATIONAL AIRPORT, TN US  36.11889  -86.68917     182.9  \n",
       "2  NASHVILLE INTERNATIONAL AIRPORT, TN US  36.11889  -86.68917     182.9  \n",
       "3  NASHVILLE INTERNATIONAL AIRPORT, TN US  36.11889  -86.68917     182.9  \n",
       "4  NASHVILLE INTERNATIONAL AIRPORT, TN US  36.11889  -86.68917     182.9  "
      ]
     },
     "execution_count": 27,
     "metadata": {},
     "output_type": "execute_result"
    }
   ],
   "source": [
    "weather_rainfall = pd.read_sql(query, conn)\n",
    "weather_rainfall.head()"
   ]
  },
  {
   "cell_type": "markdown",
   "metadata": {},
   "source": [
    "## Best Practice - Close connections after use to prevent the tables from being locked"
   ]
  },
  {
   "cell_type": "code",
   "execution_count": 28,
   "metadata": {},
   "outputs": [],
   "source": [
    "cur.close()\n",
    "conn.close()"
   ]
  },
  {
   "cell_type": "code",
   "execution_count": null,
   "metadata": {},
   "outputs": [],
   "source": []
  }
 ],
 "metadata": {
  "kernelspec": {
   "display_name": "Python 3",
   "language": "python",
   "name": "python3"
  },
  "language_info": {
   "codemirror_mode": {
    "name": "ipython",
    "version": 3
   },
   "file_extension": ".py",
   "mimetype": "text/x-python",
   "name": "python",
   "nbconvert_exporter": "python",
   "pygments_lexer": "ipython3",
   "version": "3.7.6"
  }
 },
 "nbformat": 4,
 "nbformat_minor": 2
}
