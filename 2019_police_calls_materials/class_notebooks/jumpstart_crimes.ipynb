{
 "cells": [
  {
   "cell_type": "markdown",
   "metadata": {},
   "source": [
    "## Week 1"
   ]
  },
  {
   "cell_type": "code",
   "execution_count": 76,
   "metadata": {
    "collapsed": true
   },
   "outputs": [],
   "source": [
    "import pandas as pd\n",
    "import folium\n",
    "import matplotlib.pyplot as plt\n",
    "import seaborn as sns\n",
    "import numpy as np\n",
    "import sqlite3 as sql\n",
    "import warnings\n",
    "warnings.filterwarnings('ignore')\n",
    "\n",
    "%matplotlib inline"
   ]
  },
  {
   "cell_type": "markdown",
   "metadata": {},
   "source": [
    "#### Read in police call data for 2013"
   ]
  },
  {
   "cell_type": "code",
   "execution_count": 4,
   "metadata": {
    "scrolled": false
   },
   "outputs": [
    {
     "data": {
      "text/html": [
       "<div>\n",
       "<style scoped>\n",
       "    .dataframe tbody tr th:only-of-type {\n",
       "        vertical-align: middle;\n",
       "    }\n",
       "\n",
       "    .dataframe tbody tr th {\n",
       "        vertical-align: top;\n",
       "    }\n",
       "\n",
       "    .dataframe thead th {\n",
       "        text-align: right;\n",
       "    }\n",
       "</style>\n",
       "<table border=\"1\" class=\"dataframe\">\n",
       "  <thead>\n",
       "    <tr style=\"text-align: right;\">\n",
       "      <th></th>\n",
       "      <th>Event Number</th>\n",
       "      <th>Call Received</th>\n",
       "      <th>Complaint Number</th>\n",
       "      <th>Shift</th>\n",
       "      <th>Tencode</th>\n",
       "      <th>Tencode Description</th>\n",
       "      <th>Tencode Suffix</th>\n",
       "      <th>Tencode Suffix Description</th>\n",
       "      <th>Disposition Code</th>\n",
       "      <th>Disposition Description</th>\n",
       "      <th>Block</th>\n",
       "      <th>Street Name</th>\n",
       "      <th>Unit Dispatched</th>\n",
       "      <th>Sector</th>\n",
       "      <th>Zone</th>\n",
       "      <th>Reporting Area (RPA)</th>\n",
       "      <th>Latitude</th>\n",
       "      <th>Longitude</th>\n",
       "      <th>Mapped Location</th>\n",
       "    </tr>\n",
       "  </thead>\n",
       "  <tbody>\n",
       "    <tr>\n",
       "      <th>0</th>\n",
       "      <td>PD201300000001</td>\n",
       "      <td>01/01/2013 12:00:00 AM</td>\n",
       "      <td>20130000003</td>\n",
       "      <td>C</td>\n",
       "      <td>15</td>\n",
       "      <td>Community Policing Activity</td>\n",
       "      <td>P</td>\n",
       "      <td>PROGRESS</td>\n",
       "      <td>15</td>\n",
       "      <td>COMMUNITY POLICING</td>\n",
       "      <td>0</td>\n",
       "      <td>11TH AV N / CHARLOTTE AV</td>\n",
       "      <td>410C</td>\n",
       "      <td>C</td>\n",
       "      <td>11.0</td>\n",
       "      <td>4205</td>\n",
       "      <td>36.162</td>\n",
       "      <td>-86.791</td>\n",
       "      <td>(36.162, -86.791)</td>\n",
       "    </tr>\n",
       "    <tr>\n",
       "      <th>1</th>\n",
       "      <td>PD201300000004</td>\n",
       "      <td>01/01/2013 12:01:00 AM</td>\n",
       "      <td>20130000005</td>\n",
       "      <td>C</td>\n",
       "      <td>83</td>\n",
       "      <td>Shots Fired</td>\n",
       "      <td>P</td>\n",
       "      <td>PROGRESS</td>\n",
       "      <td>11</td>\n",
       "      <td>DISREGARD / SIGNAL 9</td>\n",
       "      <td>0</td>\n",
       "      <td>HOPEDALE DR / HAYWOOD LN</td>\n",
       "      <td>333C</td>\n",
       "      <td>S</td>\n",
       "      <td>33.0</td>\n",
       "      <td>8711</td>\n",
       "      <td>36.069</td>\n",
       "      <td>-86.716</td>\n",
       "      <td>(36.069, -86.716)</td>\n",
       "    </tr>\n",
       "    <tr>\n",
       "      <th>2</th>\n",
       "      <td>PD201300000005</td>\n",
       "      <td>01/01/2013 12:01:00 AM</td>\n",
       "      <td>20130000008</td>\n",
       "      <td>C</td>\n",
       "      <td>83</td>\n",
       "      <td>Shots Fired</td>\n",
       "      <td>P</td>\n",
       "      <td>PROGRESS</td>\n",
       "      <td>6</td>\n",
       "      <td>ASSISTED OTHER UNIT</td>\n",
       "      <td>0</td>\n",
       "      <td>10TH AV N / CHEATHAM PL</td>\n",
       "      <td>415C</td>\n",
       "      <td>C</td>\n",
       "      <td>15.0</td>\n",
       "      <td>4327</td>\n",
       "      <td>36.176</td>\n",
       "      <td>-86.797</td>\n",
       "      <td>(36.176, -86.797)</td>\n",
       "    </tr>\n",
       "    <tr>\n",
       "      <th>3</th>\n",
       "      <td>PD201300000007</td>\n",
       "      <td>01/01/2013 12:02:00 AM</td>\n",
       "      <td>0</td>\n",
       "      <td>C</td>\n",
       "      <td>96</td>\n",
       "      <td>Business Check</td>\n",
       "      <td>NaN</td>\n",
       "      <td>NaN</td>\n",
       "      <td>12</td>\n",
       "      <td>LOCATION/BUILDING SECURE</td>\n",
       "      <td>0</td>\n",
       "      <td>OLDHAM ST / COWAN ST</td>\n",
       "      <td>415C</td>\n",
       "      <td>C</td>\n",
       "      <td>13.0</td>\n",
       "      <td>1989</td>\n",
       "      <td>36.175</td>\n",
       "      <td>-86.776</td>\n",
       "      <td>(36.175, -86.776)</td>\n",
       "    </tr>\n",
       "    <tr>\n",
       "      <th>4</th>\n",
       "      <td>PD201300000006</td>\n",
       "      <td>01/01/2013 12:02:00 AM</td>\n",
       "      <td>20130000006</td>\n",
       "      <td>C</td>\n",
       "      <td>43</td>\n",
       "      <td>Want Officer for Investigation / Assistance</td>\n",
       "      <td>P</td>\n",
       "      <td>PROGRESS</td>\n",
       "      <td>6</td>\n",
       "      <td>ASSISTED OTHER UNIT</td>\n",
       "      <td>600</td>\n",
       "      <td>SYLVAN ST</td>\n",
       "      <td>2W81</td>\n",
       "      <td>E</td>\n",
       "      <td>11.0</td>\n",
       "      <td>1043</td>\n",
       "      <td>36.168</td>\n",
       "      <td>-86.759</td>\n",
       "      <td>(36.168, -86.759)</td>\n",
       "    </tr>\n",
       "  </tbody>\n",
       "</table>\n",
       "</div>"
      ],
      "text/plain": [
       "     Event Number           Call Received  Complaint Number Shift  Tencode  \\\n",
       "0  PD201300000001  01/01/2013 12:00:00 AM       20130000003     C       15   \n",
       "1  PD201300000004  01/01/2013 12:01:00 AM       20130000005     C       83   \n",
       "2  PD201300000005  01/01/2013 12:01:00 AM       20130000008     C       83   \n",
       "3  PD201300000007  01/01/2013 12:02:00 AM                 0     C       96   \n",
       "4  PD201300000006  01/01/2013 12:02:00 AM       20130000006     C       43   \n",
       "\n",
       "                           Tencode Description Tencode Suffix  \\\n",
       "0                  Community Policing Activity              P   \n",
       "1                                  Shots Fired              P   \n",
       "2                                  Shots Fired              P   \n",
       "3                               Business Check            NaN   \n",
       "4  Want Officer for Investigation / Assistance              P   \n",
       "\n",
       "  Tencode Suffix Description  Disposition Code   Disposition Description  \\\n",
       "0                   PROGRESS                15        COMMUNITY POLICING   \n",
       "1                   PROGRESS                11      DISREGARD / SIGNAL 9   \n",
       "2                   PROGRESS                 6       ASSISTED OTHER UNIT   \n",
       "3                        NaN                12  LOCATION/BUILDING SECURE   \n",
       "4                   PROGRESS                 6       ASSISTED OTHER UNIT   \n",
       "\n",
       "   Block               Street Name Unit Dispatched Sector  Zone  \\\n",
       "0      0  11TH AV N / CHARLOTTE AV            410C      C  11.0   \n",
       "1      0  HOPEDALE DR / HAYWOOD LN            333C      S  33.0   \n",
       "2      0   10TH AV N / CHEATHAM PL            415C      C  15.0   \n",
       "3      0      OLDHAM ST / COWAN ST            415C      C  13.0   \n",
       "4    600                SYLVAN ST             2W81      E  11.0   \n",
       "\n",
       "   Reporting Area (RPA)  Latitude  Longitude    Mapped Location  \n",
       "0                  4205    36.162    -86.791  (36.162, -86.791)  \n",
       "1                  8711    36.069    -86.716  (36.069, -86.716)  \n",
       "2                  4327    36.176    -86.797  (36.176, -86.797)  \n",
       "3                  1989    36.175    -86.776  (36.175, -86.776)  \n",
       "4                  1043    36.168    -86.759  (36.168, -86.759)  "
      ]
     },
     "execution_count": 4,
     "metadata": {},
     "output_type": "execute_result"
    }
   ],
   "source": [
    "police_2013 = pd.read_csv('data/Metro_Nashville_Davidson_County_Calls_For_Police_Service__2013.csv')\n",
    "police_2013.head()"
   ]
  },
  {
   "cell_type": "code",
   "execution_count": 5,
   "metadata": {},
   "outputs": [
    {
     "data": {
      "text/html": [
       "<div>\n",
       "<style scoped>\n",
       "    .dataframe tbody tr th:only-of-type {\n",
       "        vertical-align: middle;\n",
       "    }\n",
       "\n",
       "    .dataframe tbody tr th {\n",
       "        vertical-align: top;\n",
       "    }\n",
       "\n",
       "    .dataframe thead th {\n",
       "        text-align: right;\n",
       "    }\n",
       "</style>\n",
       "<table border=\"1\" class=\"dataframe\">\n",
       "  <thead>\n",
       "    <tr style=\"text-align: right;\">\n",
       "      <th></th>\n",
       "      <th>Event Number</th>\n",
       "      <th>Call Received</th>\n",
       "      <th>Complaint Number</th>\n",
       "      <th>Shift</th>\n",
       "      <th>Tencode</th>\n",
       "      <th>Tencode Description</th>\n",
       "      <th>Tencode Suffix</th>\n",
       "      <th>Tencode Suffix Description</th>\n",
       "      <th>Disposition Code</th>\n",
       "      <th>Disposition Description</th>\n",
       "      <th>Block</th>\n",
       "      <th>Street Name</th>\n",
       "      <th>Unit Dispatched</th>\n",
       "      <th>Sector</th>\n",
       "      <th>Zone</th>\n",
       "      <th>Reporting Area (RPA)</th>\n",
       "      <th>Latitude</th>\n",
       "      <th>Longitude</th>\n",
       "      <th>Mapped Location</th>\n",
       "    </tr>\n",
       "  </thead>\n",
       "  <tbody>\n",
       "    <tr>\n",
       "      <th>1211705</th>\n",
       "      <td>PD201301344233</td>\n",
       "      <td>12/31/2013 11:57:00 PM</td>\n",
       "      <td>20131202596</td>\n",
       "      <td>NaN</td>\n",
       "      <td>43</td>\n",
       "      <td>Want Officer for Investigation / Assistance</td>\n",
       "      <td>P</td>\n",
       "      <td>PROGRESS</td>\n",
       "      <td>5</td>\n",
       "      <td>GONE ON ARRIVAL</td>\n",
       "      <td>600</td>\n",
       "      <td>ROTHWOOD AV</td>\n",
       "      <td>714C</td>\n",
       "      <td>M</td>\n",
       "      <td>11.0</td>\n",
       "      <td>0</td>\n",
       "      <td>34.153</td>\n",
       "      <td>-92.509</td>\n",
       "      <td>(34.153, -92.509)</td>\n",
       "    </tr>\n",
       "    <tr>\n",
       "      <th>1211706</th>\n",
       "      <td>PD201301344235</td>\n",
       "      <td>12/31/2013 11:57:00 PM</td>\n",
       "      <td>20131202597</td>\n",
       "      <td>NaN</td>\n",
       "      <td>96</td>\n",
       "      <td>Business Check</td>\n",
       "      <td>NaN</td>\n",
       "      <td>NaN</td>\n",
       "      <td>15</td>\n",
       "      <td>COMMUNITY POLICING</td>\n",
       "      <td>4600</td>\n",
       "      <td>NOLENSVILLE PKE</td>\n",
       "      <td>332C</td>\n",
       "      <td>S</td>\n",
       "      <td>33.0</td>\n",
       "      <td>0</td>\n",
       "      <td>34.153</td>\n",
       "      <td>-92.509</td>\n",
       "      <td>(34.153, -92.509)</td>\n",
       "    </tr>\n",
       "    <tr>\n",
       "      <th>1211707</th>\n",
       "      <td>PD201301344236</td>\n",
       "      <td>12/31/2013 11:57:00 PM</td>\n",
       "      <td>20140000052</td>\n",
       "      <td>NaN</td>\n",
       "      <td>44</td>\n",
       "      <td>Disorderly Person</td>\n",
       "      <td>P</td>\n",
       "      <td>PROGRESS</td>\n",
       "      <td>5</td>\n",
       "      <td>GONE ON ARRIVAL</td>\n",
       "      <td>3800</td>\n",
       "      <td>CENTRAL PKE</td>\n",
       "      <td>521C</td>\n",
       "      <td>H</td>\n",
       "      <td>21.0</td>\n",
       "      <td>9529</td>\n",
       "      <td>34.153</td>\n",
       "      <td>-92.509</td>\n",
       "      <td>(34.153, -92.509)</td>\n",
       "    </tr>\n",
       "    <tr>\n",
       "      <th>1211708</th>\n",
       "      <td>PD201301344237</td>\n",
       "      <td>12/31/2013 11:58:00 PM</td>\n",
       "      <td>20140000169</td>\n",
       "      <td>NaN</td>\n",
       "      <td>53</td>\n",
       "      <td>Holdup / Robbery</td>\n",
       "      <td>R</td>\n",
       "      <td>REPORT</td>\n",
       "      <td>1</td>\n",
       "      <td>M.P.D. REPORT COMPLED</td>\n",
       "      <td>1100</td>\n",
       "      <td>AIRPORT CENTER DR</td>\n",
       "      <td>515C</td>\n",
       "      <td>H</td>\n",
       "      <td>17.0</td>\n",
       "      <td>9411</td>\n",
       "      <td>34.153</td>\n",
       "      <td>-92.509</td>\n",
       "      <td>(34.153, -92.509)</td>\n",
       "    </tr>\n",
       "    <tr>\n",
       "      <th>1211709</th>\n",
       "      <td>PD201301344238</td>\n",
       "      <td>12/31/2013 11:59:00 PM</td>\n",
       "      <td>20140000006</td>\n",
       "      <td>NaN</td>\n",
       "      <td>83</td>\n",
       "      <td>Shots Fired</td>\n",
       "      <td>P</td>\n",
       "      <td>PROGRESS</td>\n",
       "      <td>5</td>\n",
       "      <td>GONE ON ARRIVAL</td>\n",
       "      <td>1700</td>\n",
       "      <td>SEIFRIED ST</td>\n",
       "      <td>6F85</td>\n",
       "      <td>N</td>\n",
       "      <td>11.0</td>\n",
       "      <td>4415</td>\n",
       "      <td>34.153</td>\n",
       "      <td>-92.509</td>\n",
       "      <td>(34.153, -92.509)</td>\n",
       "    </tr>\n",
       "  </tbody>\n",
       "</table>\n",
       "</div>"
      ],
      "text/plain": [
       "           Event Number           Call Received  Complaint Number Shift  \\\n",
       "1211705  PD201301344233  12/31/2013 11:57:00 PM       20131202596   NaN   \n",
       "1211706  PD201301344235  12/31/2013 11:57:00 PM       20131202597   NaN   \n",
       "1211707  PD201301344236  12/31/2013 11:57:00 PM       20140000052   NaN   \n",
       "1211708  PD201301344237  12/31/2013 11:58:00 PM       20140000169   NaN   \n",
       "1211709  PD201301344238  12/31/2013 11:59:00 PM       20140000006   NaN   \n",
       "\n",
       "         Tencode                          Tencode Description Tencode Suffix  \\\n",
       "1211705       43  Want Officer for Investigation / Assistance              P   \n",
       "1211706       96                               Business Check            NaN   \n",
       "1211707       44                            Disorderly Person              P   \n",
       "1211708       53                             Holdup / Robbery              R   \n",
       "1211709       83                                  Shots Fired              P   \n",
       "\n",
       "        Tencode Suffix Description  Disposition Code Disposition Description  \\\n",
       "1211705                   PROGRESS                 5         GONE ON ARRIVAL   \n",
       "1211706                        NaN                15      COMMUNITY POLICING   \n",
       "1211707                   PROGRESS                 5         GONE ON ARRIVAL   \n",
       "1211708                     REPORT                 1   M.P.D. REPORT COMPLED   \n",
       "1211709                   PROGRESS                 5         GONE ON ARRIVAL   \n",
       "\n",
       "         Block         Street Name Unit Dispatched Sector  Zone  \\\n",
       "1211705    600        ROTHWOOD AV             714C      M  11.0   \n",
       "1211706   4600    NOLENSVILLE PKE             332C      S  33.0   \n",
       "1211707   3800        CENTRAL PKE             521C      H  21.0   \n",
       "1211708   1100  AIRPORT CENTER DR             515C      H  17.0   \n",
       "1211709   1700        SEIFRIED ST             6F85      N  11.0   \n",
       "\n",
       "         Reporting Area (RPA)  Latitude  Longitude    Mapped Location  \n",
       "1211705                     0    34.153    -92.509  (34.153, -92.509)  \n",
       "1211706                     0    34.153    -92.509  (34.153, -92.509)  \n",
       "1211707                  9529    34.153    -92.509  (34.153, -92.509)  \n",
       "1211708                  9411    34.153    -92.509  (34.153, -92.509)  \n",
       "1211709                  4415    34.153    -92.509  (34.153, -92.509)  "
      ]
     },
     "execution_count": 5,
     "metadata": {},
     "output_type": "execute_result"
    }
   ],
   "source": [
    "police_2013.tail()"
   ]
  },
  {
   "cell_type": "code",
   "execution_count": 6,
   "metadata": {},
   "outputs": [
    {
     "data": {
      "text/plain": [
       "(1211710, 19)"
      ]
     },
     "execution_count": 6,
     "metadata": {},
     "output_type": "execute_result"
    }
   ],
   "source": [
    "police_2013.shape"
   ]
  },
  {
   "cell_type": "code",
   "execution_count": 7,
   "metadata": {
    "collapsed": true
   },
   "outputs": [],
   "source": [
    "police_2013.columns = ['id', 'call_time', 'complaint_id', 'shift', 'tencode', \n",
    "                       'tencode_desc', 'a', 'b', 'disposition', 'disposition_desc',\n",
    "                      'c', 'd', 'unit', 'sector', 'zone', 'e', 'lat', 'lng', 'f']"
   ]
  },
  {
   "cell_type": "code",
   "execution_count": 8,
   "metadata": {
    "collapsed": true
   },
   "outputs": [],
   "source": [
    "police_2013 = police_2013.drop(columns = ['a', 'b', 'c', 'd', 'e', 'f'])"
   ]
  },
  {
   "cell_type": "code",
   "execution_count": 9,
   "metadata": {
    "scrolled": false
   },
   "outputs": [
    {
     "data": {
      "text/html": [
       "<div>\n",
       "<style scoped>\n",
       "    .dataframe tbody tr th:only-of-type {\n",
       "        vertical-align: middle;\n",
       "    }\n",
       "\n",
       "    .dataframe tbody tr th {\n",
       "        vertical-align: top;\n",
       "    }\n",
       "\n",
       "    .dataframe thead th {\n",
       "        text-align: right;\n",
       "    }\n",
       "</style>\n",
       "<table border=\"1\" class=\"dataframe\">\n",
       "  <thead>\n",
       "    <tr style=\"text-align: right;\">\n",
       "      <th></th>\n",
       "      <th>id</th>\n",
       "      <th>call_time</th>\n",
       "      <th>complaint_id</th>\n",
       "      <th>shift</th>\n",
       "      <th>tencode</th>\n",
       "      <th>tencode_desc</th>\n",
       "      <th>disposition</th>\n",
       "      <th>disposition_desc</th>\n",
       "      <th>unit</th>\n",
       "      <th>sector</th>\n",
       "      <th>zone</th>\n",
       "      <th>lat</th>\n",
       "      <th>lng</th>\n",
       "    </tr>\n",
       "  </thead>\n",
       "  <tbody>\n",
       "    <tr>\n",
       "      <th>0</th>\n",
       "      <td>PD201300000001</td>\n",
       "      <td>01/01/2013 12:00:00 AM</td>\n",
       "      <td>20130000003</td>\n",
       "      <td>C</td>\n",
       "      <td>15</td>\n",
       "      <td>Community Policing Activity</td>\n",
       "      <td>15</td>\n",
       "      <td>COMMUNITY POLICING</td>\n",
       "      <td>410C</td>\n",
       "      <td>C</td>\n",
       "      <td>11.0</td>\n",
       "      <td>36.162</td>\n",
       "      <td>-86.791</td>\n",
       "    </tr>\n",
       "    <tr>\n",
       "      <th>1</th>\n",
       "      <td>PD201300000004</td>\n",
       "      <td>01/01/2013 12:01:00 AM</td>\n",
       "      <td>20130000005</td>\n",
       "      <td>C</td>\n",
       "      <td>83</td>\n",
       "      <td>Shots Fired</td>\n",
       "      <td>11</td>\n",
       "      <td>DISREGARD / SIGNAL 9</td>\n",
       "      <td>333C</td>\n",
       "      <td>S</td>\n",
       "      <td>33.0</td>\n",
       "      <td>36.069</td>\n",
       "      <td>-86.716</td>\n",
       "    </tr>\n",
       "  </tbody>\n",
       "</table>\n",
       "</div>"
      ],
      "text/plain": [
       "               id               call_time  complaint_id shift  tencode  \\\n",
       "0  PD201300000001  01/01/2013 12:00:00 AM   20130000003     C       15   \n",
       "1  PD201300000004  01/01/2013 12:01:00 AM   20130000005     C       83   \n",
       "\n",
       "                  tencode_desc  disposition      disposition_desc  unit  \\\n",
       "0  Community Policing Activity           15    COMMUNITY POLICING  410C   \n",
       "1                  Shots Fired           11  DISREGARD / SIGNAL 9  333C   \n",
       "\n",
       "  sector  zone     lat     lng  \n",
       "0      C  11.0  36.162 -86.791  \n",
       "1      S  33.0  36.069 -86.716  "
      ]
     },
     "execution_count": 9,
     "metadata": {},
     "output_type": "execute_result"
    }
   ],
   "source": [
    "police_2013.head(2)"
   ]
  },
  {
   "cell_type": "markdown",
   "metadata": {},
   "source": [
    "#### Unit 423C had 6816 calls, the most in 2013; 365 units had more than 1000 calls in 2013"
   ]
  },
  {
   "cell_type": "code",
   "execution_count": 10,
   "metadata": {},
   "outputs": [
    {
     "data": {
      "text/plain": [
       "423C    6816\n",
       "611C    5902\n",
       "Name: unit, dtype: int64"
      ]
     },
     "execution_count": 10,
     "metadata": {},
     "output_type": "execute_result"
    }
   ],
   "source": [
    "police_2013.unit.value_counts().head(2)"
   ]
  },
  {
   "cell_type": "code",
   "execution_count": 11,
   "metadata": {},
   "outputs": [
    {
     "data": {
      "text/plain": [
       "365"
      ]
     },
     "execution_count": 11,
     "metadata": {},
     "output_type": "execute_result"
    }
   ],
   "source": [
    "sum(police_2013.unit.value_counts() > 1000)"
   ]
  },
  {
   "cell_type": "markdown",
   "metadata": {},
   "source": [
    "#### Most calls in 2013 were for `Traffic Violations`. There were 388,850 calls for this."
   ]
  },
  {
   "cell_type": "code",
   "execution_count": 12,
   "metadata": {},
   "outputs": [
    {
     "data": {
      "text/plain": [
       "Traffic Violation    388850\n",
       "Business Check       239471\n",
       "Name: tencode_desc, dtype: int64"
      ]
     },
     "execution_count": 12,
     "metadata": {},
     "output_type": "execute_result"
    }
   ],
   "source": [
    "police_2013.tencode_desc.value_counts().head(2)"
   ]
  },
  {
   "cell_type": "markdown",
   "metadata": {},
   "source": [
    "#### Create a dataframe with the count of calls in 2013 for every tencode"
   ]
  },
  {
   "cell_type": "code",
   "execution_count": 13,
   "metadata": {
    "collapsed": true
   },
   "outputs": [],
   "source": [
    "crime_counts_2013 = police_2013.tencode_desc.value_counts().to_frame()\n",
    "crime_counts_2013.reset_index(inplace=True)\n",
    "crime_counts_2013.columns = ['crime', 'count']"
   ]
  },
  {
   "cell_type": "code",
   "execution_count": 14,
   "metadata": {},
   "outputs": [
    {
     "data": {
      "text/html": [
       "<div>\n",
       "<style scoped>\n",
       "    .dataframe tbody tr th:only-of-type {\n",
       "        vertical-align: middle;\n",
       "    }\n",
       "\n",
       "    .dataframe tbody tr th {\n",
       "        vertical-align: top;\n",
       "    }\n",
       "\n",
       "    .dataframe thead th {\n",
       "        text-align: right;\n",
       "    }\n",
       "</style>\n",
       "<table border=\"1\" class=\"dataframe\">\n",
       "  <thead>\n",
       "    <tr style=\"text-align: right;\">\n",
       "      <th></th>\n",
       "      <th>crime</th>\n",
       "      <th>count</th>\n",
       "    </tr>\n",
       "  </thead>\n",
       "  <tbody>\n",
       "    <tr>\n",
       "      <th>0</th>\n",
       "      <td>Traffic Violation</td>\n",
       "      <td>388850</td>\n",
       "    </tr>\n",
       "    <tr>\n",
       "      <th>1</th>\n",
       "      <td>Business Check</td>\n",
       "      <td>239471</td>\n",
       "    </tr>\n",
       "    <tr>\n",
       "      <th>2</th>\n",
       "      <td>Want Officer for Investigation / Assistance</td>\n",
       "      <td>163571</td>\n",
       "    </tr>\n",
       "    <tr>\n",
       "      <th>3</th>\n",
       "      <td>Community Policing Activity</td>\n",
       "      <td>51248</td>\n",
       "    </tr>\n",
       "    <tr>\n",
       "      <th>4</th>\n",
       "      <td>Suspicious Person</td>\n",
       "      <td>47585</td>\n",
       "    </tr>\n",
       "    <tr>\n",
       "      <th>5</th>\n",
       "      <td>Administrative/Special Assignment</td>\n",
       "      <td>43248</td>\n",
       "    </tr>\n",
       "    <tr>\n",
       "      <th>6</th>\n",
       "      <td>Vehicle Accident - Property Damage</td>\n",
       "      <td>32655</td>\n",
       "    </tr>\n",
       "    <tr>\n",
       "      <th>7</th>\n",
       "      <td>Disorderly Person</td>\n",
       "      <td>32488</td>\n",
       "    </tr>\n",
       "    <tr>\n",
       "      <th>8</th>\n",
       "      <td>Safety Hazard</td>\n",
       "      <td>30270</td>\n",
       "    </tr>\n",
       "    <tr>\n",
       "      <th>9</th>\n",
       "      <td>Theft</td>\n",
       "      <td>29767</td>\n",
       "    </tr>\n",
       "  </tbody>\n",
       "</table>\n",
       "</div>"
      ],
      "text/plain": [
       "                                         crime   count\n",
       "0                            Traffic Violation  388850\n",
       "1                               Business Check  239471\n",
       "2  Want Officer for Investigation / Assistance  163571\n",
       "3                  Community Policing Activity   51248\n",
       "4                            Suspicious Person   47585\n",
       "5            Administrative/Special Assignment   43248\n",
       "6           Vehicle Accident - Property Damage   32655\n",
       "7                            Disorderly Person   32488\n",
       "8                                Safety Hazard   30270\n",
       "9                                        Theft   29767"
      ]
     },
     "execution_count": 14,
     "metadata": {},
     "output_type": "execute_result"
    }
   ],
   "source": [
    "crime_counts_2013.head(10)"
   ]
  },
  {
   "cell_type": "code",
   "execution_count": 15,
   "metadata": {
    "collapsed": true
   },
   "outputs": [],
   "source": [
    "crime_counts_2013['year'] = 2013"
   ]
  },
  {
   "cell_type": "code",
   "execution_count": 16,
   "metadata": {},
   "outputs": [
    {
     "data": {
      "text/html": [
       "<div>\n",
       "<style scoped>\n",
       "    .dataframe tbody tr th:only-of-type {\n",
       "        vertical-align: middle;\n",
       "    }\n",
       "\n",
       "    .dataframe tbody tr th {\n",
       "        vertical-align: top;\n",
       "    }\n",
       "\n",
       "    .dataframe thead th {\n",
       "        text-align: right;\n",
       "    }\n",
       "</style>\n",
       "<table border=\"1\" class=\"dataframe\">\n",
       "  <thead>\n",
       "    <tr style=\"text-align: right;\">\n",
       "      <th></th>\n",
       "      <th>crime</th>\n",
       "      <th>count</th>\n",
       "      <th>year</th>\n",
       "    </tr>\n",
       "  </thead>\n",
       "  <tbody>\n",
       "    <tr>\n",
       "      <th>0</th>\n",
       "      <td>Traffic Violation</td>\n",
       "      <td>388850</td>\n",
       "      <td>2013</td>\n",
       "    </tr>\n",
       "    <tr>\n",
       "      <th>1</th>\n",
       "      <td>Business Check</td>\n",
       "      <td>239471</td>\n",
       "      <td>2013</td>\n",
       "    </tr>\n",
       "    <tr>\n",
       "      <th>2</th>\n",
       "      <td>Want Officer for Investigation / Assistance</td>\n",
       "      <td>163571</td>\n",
       "      <td>2013</td>\n",
       "    </tr>\n",
       "    <tr>\n",
       "      <th>3</th>\n",
       "      <td>Community Policing Activity</td>\n",
       "      <td>51248</td>\n",
       "      <td>2013</td>\n",
       "    </tr>\n",
       "    <tr>\n",
       "      <th>4</th>\n",
       "      <td>Suspicious Person</td>\n",
       "      <td>47585</td>\n",
       "      <td>2013</td>\n",
       "    </tr>\n",
       "  </tbody>\n",
       "</table>\n",
       "</div>"
      ],
      "text/plain": [
       "                                         crime   count  year\n",
       "0                            Traffic Violation  388850  2013\n",
       "1                               Business Check  239471  2013\n",
       "2  Want Officer for Investigation / Assistance  163571  2013\n",
       "3                  Community Policing Activity   51248  2013\n",
       "4                            Suspicious Person   47585  2013"
      ]
     },
     "execution_count": 16,
     "metadata": {},
     "output_type": "execute_result"
    }
   ],
   "source": [
    "crime_counts_2013.head()"
   ]
  },
  {
   "cell_type": "code",
   "execution_count": 17,
   "metadata": {},
   "outputs": [
    {
     "data": {
      "image/png": "[encoded data removed]",
      "text/plain": [
       "<matplotlib.figure.Figure at 0x110ad5550>"
      ]
     },
     "metadata": {},
     "output_type": "display_data"
    }
   ],
   "source": [
    "plt.figure(figsize = (8, 10))\n",
    "plt.barh('crime', 'count', data = crime_counts_2013)\n",
    "plt.title('2013 Crime Counts');"
   ]
  },
  {
   "cell_type": "code",
   "execution_count": 18,
   "metadata": {},
   "outputs": [
    {
     "data": {
      "image/png": "[encoded data removed]",
      "text/plain": [
       "<matplotlib.figure.Figure at 0x110ccf588>"
      ]
     },
     "metadata": {},
     "output_type": "display_data"
    }
   ],
   "source": [
    "plt.figure(figsize = (10, 10))\n",
    "sns.set(style=\"whitegrid\")\n",
    "sns.barplot('count', 'crime', data = crime_counts_2013)\n",
    "plt.xlabel('')\n",
    "plt.ylabel('')\n",
    "plt.title('2013 Crime Counts');"
   ]
  },
  {
   "cell_type": "markdown",
   "metadata": {},
   "source": [
    "## Week 2"
   ]
  },
  {
   "cell_type": "markdown",
   "metadata": {},
   "source": [
    "#### Read in police call data for 2018"
   ]
  },
  {
   "cell_type": "code",
   "execution_count": 19,
   "metadata": {},
   "outputs": [
    {
     "data": {
      "text/html": [
       "<div>\n",
       "<style scoped>\n",
       "    .dataframe tbody tr th:only-of-type {\n",
       "        vertical-align: middle;\n",
       "    }\n",
       "\n",
       "    .dataframe tbody tr th {\n",
       "        vertical-align: top;\n",
       "    }\n",
       "\n",
       "    .dataframe thead th {\n",
       "        text-align: right;\n",
       "    }\n",
       "</style>\n",
       "<table border=\"1\" class=\"dataframe\">\n",
       "  <thead>\n",
       "    <tr style=\"text-align: right;\">\n",
       "      <th></th>\n",
       "      <th>Event Number</th>\n",
       "      <th>Call Received</th>\n",
       "      <th>Complaint Number</th>\n",
       "      <th>Shift</th>\n",
       "      <th>Tencode</th>\n",
       "      <th>Tencode Description</th>\n",
       "      <th>Tencode Suffix</th>\n",
       "      <th>Tencode Suffix Description</th>\n",
       "      <th>Disposition Code</th>\n",
       "      <th>Disposition Description</th>\n",
       "      <th>Block</th>\n",
       "      <th>Street Name</th>\n",
       "      <th>Unit Dispatched</th>\n",
       "      <th>Sector</th>\n",
       "      <th>Zone</th>\n",
       "      <th>Reporting Area (RPA)</th>\n",
       "      <th>Latitude</th>\n",
       "      <th>Longitude</th>\n",
       "      <th>Mapped Location</th>\n",
       "    </tr>\n",
       "  </thead>\n",
       "  <tbody>\n",
       "    <tr>\n",
       "      <th>0</th>\n",
       "      <td>PD201800000002</td>\n",
       "      <td>01/01/2018 12:00:00 AM</td>\n",
       "      <td>20180000002</td>\n",
       "      <td>C</td>\n",
       "      <td>96</td>\n",
       "      <td>Business Check</td>\n",
       "      <td>NaN</td>\n",
       "      <td>NaN</td>\n",
       "      <td>12</td>\n",
       "      <td>LOCATION/BUILDING SECURE</td>\n",
       "      <td>0.0</td>\n",
       "      <td>3RD AV N &amp; JEFFERSON ST</td>\n",
       "      <td>7F62</td>\n",
       "      <td>C</td>\n",
       "      <td>13</td>\n",
       "      <td>4311.0</td>\n",
       "      <td>36.175</td>\n",
       "      <td>-86.785</td>\n",
       "      <td>(36.175, -86.785)</td>\n",
       "    </tr>\n",
       "    <tr>\n",
       "      <th>1</th>\n",
       "      <td>PD201800000003</td>\n",
       "      <td>01/01/2018 12:00:00 AM</td>\n",
       "      <td>20180000003</td>\n",
       "      <td>C</td>\n",
       "      <td>96</td>\n",
       "      <td>Business Check</td>\n",
       "      <td>NaN</td>\n",
       "      <td>NaN</td>\n",
       "      <td>12</td>\n",
       "      <td>LOCATION/BUILDING SECURE</td>\n",
       "      <td>2300.0</td>\n",
       "      <td>8TH AV S</td>\n",
       "      <td>821C</td>\n",
       "      <td>MT</td>\n",
       "      <td>23</td>\n",
       "      <td>6929.0</td>\n",
       "      <td>36.127</td>\n",
       "      <td>-86.778</td>\n",
       "      <td>(36.127, -86.778)</td>\n",
       "    </tr>\n",
       "  </tbody>\n",
       "</table>\n",
       "</div>"
      ],
      "text/plain": [
       "     Event Number           Call Received  Complaint Number Shift  Tencode  \\\n",
       "0  PD201800000002  01/01/2018 12:00:00 AM       20180000002     C       96   \n",
       "1  PD201800000003  01/01/2018 12:00:00 AM       20180000003     C       96   \n",
       "\n",
       "  Tencode Description Tencode Suffix Tencode Suffix Description  \\\n",
       "0      Business Check            NaN                        NaN   \n",
       "1      Business Check            NaN                        NaN   \n",
       "\n",
       "   Disposition Code   Disposition Description   Block  \\\n",
       "0                12  LOCATION/BUILDING SECURE     0.0   \n",
       "1                12  LOCATION/BUILDING SECURE  2300.0   \n",
       "\n",
       "               Street Name Unit Dispatched Sector Zone  Reporting Area (RPA)  \\\n",
       "0  3RD AV N & JEFFERSON ST            7F62      C   13                4311.0   \n",
       "1                8TH AV S             821C     MT   23                6929.0   \n",
       "\n",
       "   Latitude  Longitude    Mapped Location  \n",
       "0    36.175    -86.785  (36.175, -86.785)  \n",
       "1    36.127    -86.778  (36.127, -86.778)  "
      ]
     },
     "execution_count": 19,
     "metadata": {},
     "output_type": "execute_result"
    }
   ],
   "source": [
    "police_2018 = pd.read_csv('data/Metro_Nashville_Davidson_County_Calls_For_Police_Service__2018.csv')\n",
    "police_2018.head(2)"
   ]
  },
  {
   "cell_type": "code",
   "execution_count": 20,
   "metadata": {},
   "outputs": [
    {
     "data": {
      "text/plain": [
       "(747323, 19)"
      ]
     },
     "execution_count": 20,
     "metadata": {},
     "output_type": "execute_result"
    }
   ],
   "source": [
    "police_2018.shape"
   ]
  },
  {
   "cell_type": "code",
   "execution_count": 21,
   "metadata": {
    "collapsed": true
   },
   "outputs": [],
   "source": [
    "police_2018.columns = ['id', 'call_time', 'complaint_id', 'shift', 'tencode', \n",
    "                       'tencode_desc', 'a', 'b', 'disposition', 'disposition_desc',\n",
    "                      'c', 'd', 'unit', 'sector', 'zone', 'e', 'lat', 'lng', 'f']"
   ]
  },
  {
   "cell_type": "code",
   "execution_count": 22,
   "metadata": {
    "collapsed": true
   },
   "outputs": [],
   "source": [
    "police_2018 = police_2018.drop(columns = ['a', 'b', 'c', 'd', 'e', 'f'])"
   ]
  },
  {
   "cell_type": "code",
   "execution_count": 23,
   "metadata": {},
   "outputs": [
    {
     "data": {
      "text/html": [
       "<div>\n",
       "<style scoped>\n",
       "    .dataframe tbody tr th:only-of-type {\n",
       "        vertical-align: middle;\n",
       "    }\n",
       "\n",
       "    .dataframe tbody tr th {\n",
       "        vertical-align: top;\n",
       "    }\n",
       "\n",
       "    .dataframe thead th {\n",
       "        text-align: right;\n",
       "    }\n",
       "</style>\n",
       "<table border=\"1\" class=\"dataframe\">\n",
       "  <thead>\n",
       "    <tr style=\"text-align: right;\">\n",
       "      <th></th>\n",
       "      <th>id</th>\n",
       "      <th>call_time</th>\n",
       "      <th>complaint_id</th>\n",
       "      <th>shift</th>\n",
       "      <th>tencode</th>\n",
       "      <th>tencode_desc</th>\n",
       "      <th>disposition</th>\n",
       "      <th>disposition_desc</th>\n",
       "      <th>unit</th>\n",
       "      <th>sector</th>\n",
       "      <th>zone</th>\n",
       "      <th>lat</th>\n",
       "      <th>lng</th>\n",
       "    </tr>\n",
       "  </thead>\n",
       "  <tbody>\n",
       "    <tr>\n",
       "      <th>0</th>\n",
       "      <td>PD201800000002</td>\n",
       "      <td>01/01/2018 12:00:00 AM</td>\n",
       "      <td>20180000002</td>\n",
       "      <td>C</td>\n",
       "      <td>96</td>\n",
       "      <td>Business Check</td>\n",
       "      <td>12</td>\n",
       "      <td>LOCATION/BUILDING SECURE</td>\n",
       "      <td>7F62</td>\n",
       "      <td>C</td>\n",
       "      <td>13</td>\n",
       "      <td>36.175</td>\n",
       "      <td>-86.785</td>\n",
       "    </tr>\n",
       "    <tr>\n",
       "      <th>1</th>\n",
       "      <td>PD201800000003</td>\n",
       "      <td>01/01/2018 12:00:00 AM</td>\n",
       "      <td>20180000003</td>\n",
       "      <td>C</td>\n",
       "      <td>96</td>\n",
       "      <td>Business Check</td>\n",
       "      <td>12</td>\n",
       "      <td>LOCATION/BUILDING SECURE</td>\n",
       "      <td>821C</td>\n",
       "      <td>MT</td>\n",
       "      <td>23</td>\n",
       "      <td>36.127</td>\n",
       "      <td>-86.778</td>\n",
       "    </tr>\n",
       "    <tr>\n",
       "      <th>2</th>\n",
       "      <td>PD201800000004</td>\n",
       "      <td>01/01/2018 12:00:00 AM</td>\n",
       "      <td>20180000004</td>\n",
       "      <td>C</td>\n",
       "      <td>96</td>\n",
       "      <td>Business Check</td>\n",
       "      <td>12</td>\n",
       "      <td>LOCATION/BUILDING SECURE</td>\n",
       "      <td>311C</td>\n",
       "      <td>S</td>\n",
       "      <td>13</td>\n",
       "      <td>36.113</td>\n",
       "      <td>-86.746</td>\n",
       "    </tr>\n",
       "  </tbody>\n",
       "</table>\n",
       "</div>"
      ],
      "text/plain": [
       "               id               call_time  complaint_id shift  tencode  \\\n",
       "0  PD201800000002  01/01/2018 12:00:00 AM   20180000002     C       96   \n",
       "1  PD201800000003  01/01/2018 12:00:00 AM   20180000003     C       96   \n",
       "2  PD201800000004  01/01/2018 12:00:00 AM   20180000004     C       96   \n",
       "\n",
       "     tencode_desc  disposition          disposition_desc  unit sector zone  \\\n",
       "0  Business Check           12  LOCATION/BUILDING SECURE  7F62      C   13   \n",
       "1  Business Check           12  LOCATION/BUILDING SECURE  821C     MT   23   \n",
       "2  Business Check           12  LOCATION/BUILDING SECURE  311C      S   13   \n",
       "\n",
       "      lat     lng  \n",
       "0  36.175 -86.785  \n",
       "1  36.127 -86.778  \n",
       "2  36.113 -86.746  "
      ]
     },
     "execution_count": 23,
     "metadata": {},
     "output_type": "execute_result"
    }
   ],
   "source": [
    "police_2018.head(3)"
   ]
  },
  {
   "cell_type": "markdown",
   "metadata": {},
   "source": [
    "#### Unit 125C had 6200 calls, the most in 2018; 271 units had more than 1000 calls in 2018"
   ]
  },
  {
   "cell_type": "code",
   "execution_count": 24,
   "metadata": {},
   "outputs": [
    {
     "data": {
      "text/plain": [
       "125C    6200\n",
       "421C    4983\n",
       "Name: unit, dtype: int64"
      ]
     },
     "execution_count": 24,
     "metadata": {},
     "output_type": "execute_result"
    }
   ],
   "source": [
    "police_2018.unit.value_counts().head(2)"
   ]
  },
  {
   "cell_type": "code",
   "execution_count": 25,
   "metadata": {
    "scrolled": true
   },
   "outputs": [
    {
     "data": {
      "text/plain": [
       "271"
      ]
     },
     "execution_count": 25,
     "metadata": {},
     "output_type": "execute_result"
    }
   ],
   "source": [
    "sum(police_2018.unit.value_counts() > 1000)"
   ]
  },
  {
   "cell_type": "markdown",
   "metadata": {},
   "source": [
    "#### Create a dataframe with the count of calls in 2018 for every tencode"
   ]
  },
  {
   "cell_type": "code",
   "execution_count": 26,
   "metadata": {
    "collapsed": true,
    "scrolled": true
   },
   "outputs": [],
   "source": [
    "crime_counts_2018 = police_2018.tencode_desc.value_counts().to_frame()\n",
    "crime_counts_2018.reset_index(inplace=True)\n",
    "crime_counts_2018.columns = ['crime', 'count']"
   ]
  },
  {
   "cell_type": "code",
   "execution_count": 27,
   "metadata": {
    "scrolled": false
   },
   "outputs": [
    {
     "data": {
      "text/html": [
       "<div>\n",
       "<style scoped>\n",
       "    .dataframe tbody tr th:only-of-type {\n",
       "        vertical-align: middle;\n",
       "    }\n",
       "\n",
       "    .dataframe tbody tr th {\n",
       "        vertical-align: top;\n",
       "    }\n",
       "\n",
       "    .dataframe thead th {\n",
       "        text-align: right;\n",
       "    }\n",
       "</style>\n",
       "<table border=\"1\" class=\"dataframe\">\n",
       "  <thead>\n",
       "    <tr style=\"text-align: right;\">\n",
       "      <th></th>\n",
       "      <th>crime</th>\n",
       "      <th>count</th>\n",
       "    </tr>\n",
       "  </thead>\n",
       "  <tbody>\n",
       "    <tr>\n",
       "      <th>0</th>\n",
       "      <td>Business Check</td>\n",
       "      <td>156142</td>\n",
       "    </tr>\n",
       "    <tr>\n",
       "      <th>1</th>\n",
       "      <td>Traffic Violation</td>\n",
       "      <td>143257</td>\n",
       "    </tr>\n",
       "    <tr>\n",
       "      <th>2</th>\n",
       "      <td>Want Officer for Investigation / Assistance</td>\n",
       "      <td>126718</td>\n",
       "    </tr>\n",
       "    <tr>\n",
       "      <th>3</th>\n",
       "      <td>Administrative/Special Assignment</td>\n",
       "      <td>41765</td>\n",
       "    </tr>\n",
       "    <tr>\n",
       "      <th>4</th>\n",
       "      <td>Community Policing Activity</td>\n",
       "      <td>34511</td>\n",
       "    </tr>\n",
       "    <tr>\n",
       "      <th>5</th>\n",
       "      <td>Disorderly Person</td>\n",
       "      <td>30139</td>\n",
       "    </tr>\n",
       "    <tr>\n",
       "      <th>6</th>\n",
       "      <td>Suspicious Person</td>\n",
       "      <td>28908</td>\n",
       "    </tr>\n",
       "    <tr>\n",
       "      <th>7</th>\n",
       "      <td>Vehicle Accident - Property Damage</td>\n",
       "      <td>28134</td>\n",
       "    </tr>\n",
       "    <tr>\n",
       "      <th>8</th>\n",
       "      <td>Theft</td>\n",
       "      <td>27392</td>\n",
       "    </tr>\n",
       "    <tr>\n",
       "      <th>9</th>\n",
       "      <td>Safety Hazard</td>\n",
       "      <td>25581</td>\n",
       "    </tr>\n",
       "  </tbody>\n",
       "</table>\n",
       "</div>"
      ],
      "text/plain": [
       "                                         crime   count\n",
       "0                               Business Check  156142\n",
       "1                            Traffic Violation  143257\n",
       "2  Want Officer for Investigation / Assistance  126718\n",
       "3            Administrative/Special Assignment   41765\n",
       "4                  Community Policing Activity   34511\n",
       "5                            Disorderly Person   30139\n",
       "6                            Suspicious Person   28908\n",
       "7           Vehicle Accident - Property Damage   28134\n",
       "8                                        Theft   27392\n",
       "9                                Safety Hazard   25581"
      ]
     },
     "execution_count": 27,
     "metadata": {},
     "output_type": "execute_result"
    }
   ],
   "source": [
    "crime_counts_2018.head(10)"
   ]
  },
  {
   "cell_type": "code",
   "execution_count": 28,
   "metadata": {
    "scrolled": true
   },
   "outputs": [
    {
     "data": {
      "image/png": "[encoded data removed]",
      "text/plain": [
       "<matplotlib.figure.Figure at 0x1a1cc4a0f0>"
      ]
     },
     "metadata": {},
     "output_type": "display_data"
    }
   ],
   "source": [
    "plt.figure(figsize = (8, 10))\n",
    "plt.barh('crime', 'count', data = crime_counts_2018);"
   ]
  },
  {
   "cell_type": "markdown",
   "metadata": {},
   "source": [
    "#### 2018 data is missing year-end; remove rows from 2013 for month + day after latest 2018 month + day"
   ]
  },
  {
   "cell_type": "code",
   "execution_count": 29,
   "metadata": {
    "collapsed": true
   },
   "outputs": [],
   "source": [
    "police_2018.call_time.max()      #09/21/2018 12:59:58 AM\n",
    "\n",
    "police_2013 = police_2013.loc[police_2013.call_time < '09/21/2013 12:59:58 AM']"
   ]
  },
  {
   "cell_type": "code",
   "execution_count": 30,
   "metadata": {},
   "outputs": [
    {
     "data": {
      "text/plain": [
       "'09/21/2013 12:59:00 AM'"
      ]
     },
     "execution_count": 30,
     "metadata": {},
     "output_type": "execute_result"
    }
   ],
   "source": [
    "police_2013.call_time.max()"
   ]
  },
  {
   "cell_type": "code",
   "execution_count": 31,
   "metadata": {},
   "outputs": [
    {
     "data": {
      "text/plain": [
       "(900584, 13)"
      ]
     },
     "execution_count": 31,
     "metadata": {},
     "output_type": "execute_result"
    }
   ],
   "source": [
    "police_2013.shape"
   ]
  },
  {
   "cell_type": "markdown",
   "metadata": {},
   "source": [
    "#### Create a subset of the police call data (for both 2013 and 2018) that includes these five tencodes:\n",
    "- *Theft*\n",
    "- *Burglary - Residence*\n",
    "- *Burglary - Non-Residence*\n",
    "- *Holdup / Robbery*\n",
    "- *Bank Robbery*"
   ]
  },
  {
   "cell_type": "code",
   "execution_count": 32,
   "metadata": {
    "collapsed": true
   },
   "outputs": [],
   "source": [
    "crime_subset_list = [ 'Theft', 'Burglary - Residence', \n",
    "                     'Burglary - Non-Residence', \n",
    "                     'Holdup / Robbery', 'Bank Robbery']"
   ]
  },
  {
   "cell_type": "code",
   "execution_count": 33,
   "metadata": {},
   "outputs": [
    {
     "data": {
      "text/plain": [
       "(67324, 13)"
      ]
     },
     "execution_count": 33,
     "metadata": {},
     "output_type": "execute_result"
    }
   ],
   "source": [
    "crime_subset_2018 = police_2018[police_2018.tencode_desc.isin(crime_subset_list)]\n",
    "crime_subset_2018.shape"
   ]
  },
  {
   "cell_type": "code",
   "execution_count": 34,
   "metadata": {},
   "outputs": [
    {
     "data": {
      "text/plain": [
       "(62197, 13)"
      ]
     },
     "execution_count": 34,
     "metadata": {},
     "output_type": "execute_result"
    }
   ],
   "source": [
    "crime_subset_2013 = police_2013[police_2013.tencode_desc.isin(crime_subset_list)]\n",
    "crime_subset_2013.shape"
   ]
  },
  {
   "cell_type": "markdown",
   "metadata": {},
   "source": [
    "#### Add a year column to each data frame and then concatenate them"
   ]
  },
  {
   "cell_type": "code",
   "execution_count": 35,
   "metadata": {},
   "outputs": [
    {
     "name": "stderr",
     "output_type": "stream",
     "text": [
      "/anaconda3/lib/python3.6/site-packages/ipykernel_launcher.py:1: SettingWithCopyWarning: \n",
      "A value is trying to be set on a copy of a slice from a DataFrame.\n",
      "Try using .loc[row_indexer,col_indexer] = value instead\n",
      "\n",
      "See the caveats in the documentation: http://pandas.pydata.org/pandas-docs/stable/indexing.html#indexing-view-versus-copy\n",
      "  \"\"\"Entry point for launching an IPython kernel.\n"
     ]
    }
   ],
   "source": [
    "crime_subset_2018['year'] = 2018\n",
    "crime_subset_2013.insert(0, 'year', 2013)"
   ]
  },
  {
   "cell_type": "code",
   "execution_count": 36,
   "metadata": {},
   "outputs": [
    {
     "name": "stderr",
     "output_type": "stream",
     "text": [
      "/anaconda3/lib/python3.6/site-packages/ipykernel_launcher.py:1: FutureWarning: Sorting because non-concatenation axis is not aligned. A future version\n",
      "of pandas will change to not sort by default.\n",
      "\n",
      "To accept the future behavior, pass 'sort=False'.\n",
      "\n",
      "To retain the current behavior and silence the warning, pass 'sort=True'.\n",
      "\n",
      "  \"\"\"Entry point for launching an IPython kernel.\n"
     ]
    },
    {
     "data": {
      "text/plain": [
       "(129521, 14)"
      ]
     },
     "execution_count": 36,
     "metadata": {},
     "output_type": "execute_result"
    }
   ],
   "source": [
    "crimes = pd.concat([crime_subset_2013, crime_subset_2018])\n",
    "crimes.shape"
   ]
  },
  {
   "cell_type": "markdown",
   "metadata": {},
   "source": [
    "#### Find the counts of each tencode description; collapse categories; get new counts"
   ]
  },
  {
   "cell_type": "code",
   "execution_count": 37,
   "metadata": {
    "scrolled": true
   },
   "outputs": [
    {
     "data": {
      "text/plain": [
       "Theft                       49425\n",
       "Burglary - Residence        40329\n",
       "Burglary - Non-Residence    33556\n",
       "Holdup / Robbery             6025\n",
       "Bank Robbery                  186\n",
       "Name: tencode_desc, dtype: int64"
      ]
     },
     "execution_count": 37,
     "metadata": {},
     "output_type": "execute_result"
    }
   ],
   "source": [
    "crimes.tencode_desc.value_counts()"
   ]
  },
  {
   "cell_type": "code",
   "execution_count": 38,
   "metadata": {
    "collapsed": true
   },
   "outputs": [],
   "source": [
    "crimes.tencode_desc = crimes.tencode_desc.map(\n",
    "    {'Bank Robbery': 'Robbery',\n",
    "     'Theft': 'Theft', \n",
    "     'Burglary - Residence': 'Burglary',\n",
    "     'Burglary - Non-Residence': 'Burglary',\n",
    "     'Holdup / Robbery': 'Robbery'})     "
   ]
  },
  {
   "cell_type": "code",
   "execution_count": 39,
   "metadata": {},
   "outputs": [
    {
     "data": {
      "text/plain": [
       "Burglary    73885\n",
       "Theft       49425\n",
       "Robbery      6211\n",
       "Name: tencode_desc, dtype: int64"
      ]
     },
     "execution_count": 39,
     "metadata": {},
     "output_type": "execute_result"
    }
   ],
   "source": [
    "crimes.tencode_desc.value_counts()"
   ]
  },
  {
   "cell_type": "markdown",
   "metadata": {},
   "source": [
    "#### Create a data frame with year, category, and count of calls for that year and category"
   ]
  },
  {
   "cell_type": "code",
   "execution_count": 40,
   "metadata": {
    "collapsed": true
   },
   "outputs": [],
   "source": [
    "#group by year and get counts\n",
    "aggregated = crimes.groupby(['year', 'tencode_desc']).agg('count').reset_index()"
   ]
  },
  {
   "cell_type": "code",
   "execution_count": 41,
   "metadata": {},
   "outputs": [
    {
     "data": {
      "text/html": [
       "<div>\n",
       "<style scoped>\n",
       "    .dataframe tbody tr th:only-of-type {\n",
       "        vertical-align: middle;\n",
       "    }\n",
       "\n",
       "    .dataframe tbody tr th {\n",
       "        vertical-align: top;\n",
       "    }\n",
       "\n",
       "    .dataframe thead th {\n",
       "        text-align: right;\n",
       "    }\n",
       "</style>\n",
       "<table border=\"1\" class=\"dataframe\">\n",
       "  <thead>\n",
       "    <tr style=\"text-align: right;\">\n",
       "      <th></th>\n",
       "      <th>year</th>\n",
       "      <th>category</th>\n",
       "      <th>count</th>\n",
       "    </tr>\n",
       "  </thead>\n",
       "  <tbody>\n",
       "    <tr>\n",
       "      <th>0</th>\n",
       "      <td>2013</td>\n",
       "      <td>Burglary</td>\n",
       "      <td>37165</td>\n",
       "    </tr>\n",
       "    <tr>\n",
       "      <th>1</th>\n",
       "      <td>2013</td>\n",
       "      <td>Robbery</td>\n",
       "      <td>2999</td>\n",
       "    </tr>\n",
       "    <tr>\n",
       "      <th>2</th>\n",
       "      <td>2013</td>\n",
       "      <td>Theft</td>\n",
       "      <td>22033</td>\n",
       "    </tr>\n",
       "    <tr>\n",
       "      <th>3</th>\n",
       "      <td>2018</td>\n",
       "      <td>Burglary</td>\n",
       "      <td>36720</td>\n",
       "    </tr>\n",
       "    <tr>\n",
       "      <th>4</th>\n",
       "      <td>2018</td>\n",
       "      <td>Robbery</td>\n",
       "      <td>3212</td>\n",
       "    </tr>\n",
       "    <tr>\n",
       "      <th>5</th>\n",
       "      <td>2018</td>\n",
       "      <td>Theft</td>\n",
       "      <td>27392</td>\n",
       "    </tr>\n",
       "  </tbody>\n",
       "</table>\n",
       "</div>"
      ],
      "text/plain": [
       "   year  category  count\n",
       "0  2013  Burglary  37165\n",
       "1  2013   Robbery   2999\n",
       "2  2013     Theft  22033\n",
       "3  2018  Burglary  36720\n",
       "4  2018   Robbery   3212\n",
       "5  2018     Theft  27392"
      ]
     },
     "execution_count": 41,
     "metadata": {},
     "output_type": "execute_result"
    }
   ],
   "source": [
    "aggregated = aggregated.iloc[0:,0:3]\n",
    "aggregated.columns = ['year', 'category', 'count']\n",
    "aggregated"
   ]
  },
  {
   "cell_type": "markdown",
   "metadata": {},
   "source": [
    "#### Facet grid of bar plots to compare years for each crime category"
   ]
  },
  {
   "cell_type": "code",
   "execution_count": 42,
   "metadata": {
    "scrolled": true
   },
   "outputs": [
    {
     "data": {
      "image/png": "[encoded data removed]",
      "text/plain": [
       "<matplotlib.figure.Figure at 0x110bb7b00>"
      ]
     },
     "metadata": {},
     "output_type": "display_data"
    }
   ],
   "source": [
    "sns.set(style=\"ticks\")\n",
    "\n",
    "#fig, ax = plt.subplots(figsize = (8, 10))\n",
    "\n",
    "# Initialize a grid of plots with an Axes for each country\n",
    "grid = sns.FacetGrid(aggregated, col=\"category\", hue=\"category\", col_wrap=3)\n",
    "\n",
    "# Draw a line plot to show the trajectory of each country\n",
    "grid.map(plt.bar, \"year\", \"count\")\n",
    "\n",
    "# # Adjust the tick positions and labels\n",
    "grid.set(xticks=[2013, 2018], yticks=[0, 5000, 10000, 15000, 20000, 25000, \n",
    "                                      30000, 35000, 40000, 45000, 50000, 55000],\n",
    "        xlim=(2012, 2019), ylim=(0, 60000));"
   ]
  },
  {
   "cell_type": "code",
   "execution_count": 43,
   "metadata": {},
   "outputs": [
    {
     "data": {
      "text/html": [
       "<div>\n",
       "<style scoped>\n",
       "    .dataframe tbody tr th:only-of-type {\n",
       "        vertical-align: middle;\n",
       "    }\n",
       "\n",
       "    .dataframe tbody tr th {\n",
       "        vertical-align: top;\n",
       "    }\n",
       "\n",
       "    .dataframe thead th {\n",
       "        text-align: right;\n",
       "    }\n",
       "</style>\n",
       "<table border=\"1\" class=\"dataframe\">\n",
       "  <thead>\n",
       "    <tr style=\"text-align: right;\">\n",
       "      <th></th>\n",
       "      <th>call_time</th>\n",
       "      <th>complaint_id</th>\n",
       "      <th>disposition</th>\n",
       "      <th>disposition_desc</th>\n",
       "      <th>id</th>\n",
       "      <th>lat</th>\n",
       "      <th>lng</th>\n",
       "      <th>sector</th>\n",
       "      <th>shift</th>\n",
       "      <th>tencode</th>\n",
       "      <th>tencode_desc</th>\n",
       "      <th>unit</th>\n",
       "      <th>year</th>\n",
       "      <th>zone</th>\n",
       "    </tr>\n",
       "  </thead>\n",
       "  <tbody>\n",
       "    <tr>\n",
       "      <th>21</th>\n",
       "      <td>01/01/2013 12:09:00 AM</td>\n",
       "      <td>20130000057</td>\n",
       "      <td>13</td>\n",
       "      <td>FALSE CALL</td>\n",
       "      <td>PD201300000031</td>\n",
       "      <td>36.056</td>\n",
       "      <td>-86.936</td>\n",
       "      <td>W</td>\n",
       "      <td>C</td>\n",
       "      <td>70</td>\n",
       "      <td>Burglary</td>\n",
       "      <td>137C</td>\n",
       "      <td>2013</td>\n",
       "      <td>37</td>\n",
       "    </tr>\n",
       "    <tr>\n",
       "      <th>24</th>\n",
       "      <td>01/01/2013 12:10:00 AM</td>\n",
       "      <td>20130000030</td>\n",
       "      <td>4</td>\n",
       "      <td>ASSISTED CITIZEN</td>\n",
       "      <td>PD201300000034</td>\n",
       "      <td>36.105</td>\n",
       "      <td>-86.762</td>\n",
       "      <td>S</td>\n",
       "      <td>C</td>\n",
       "      <td>71</td>\n",
       "      <td>Burglary</td>\n",
       "      <td>VANDY</td>\n",
       "      <td>2013</td>\n",
       "      <td>21</td>\n",
       "    </tr>\n",
       "    <tr>\n",
       "      <th>27</th>\n",
       "      <td>01/01/2013 12:10:00 AM</td>\n",
       "      <td>20130000124</td>\n",
       "      <td>12</td>\n",
       "      <td>LOCATION/BUILDING SECURE</td>\n",
       "      <td>PD201300000038</td>\n",
       "      <td>36.241</td>\n",
       "      <td>-86.735</td>\n",
       "      <td>M</td>\n",
       "      <td>C</td>\n",
       "      <td>70</td>\n",
       "      <td>Burglary</td>\n",
       "      <td>7F80</td>\n",
       "      <td>2013</td>\n",
       "      <td>23</td>\n",
       "    </tr>\n",
       "  </tbody>\n",
       "</table>\n",
       "</div>"
      ],
      "text/plain": [
       "                 call_time  complaint_id  disposition  \\\n",
       "21  01/01/2013 12:09:00 AM   20130000057           13   \n",
       "24  01/01/2013 12:10:00 AM   20130000030            4   \n",
       "27  01/01/2013 12:10:00 AM   20130000124           12   \n",
       "\n",
       "            disposition_desc              id     lat     lng sector shift  \\\n",
       "21                FALSE CALL  PD201300000031  36.056 -86.936      W     C   \n",
       "24          ASSISTED CITIZEN  PD201300000034  36.105 -86.762      S     C   \n",
       "27  LOCATION/BUILDING SECURE  PD201300000038  36.241 -86.735      M     C   \n",
       "\n",
       "    tencode tencode_desc   unit  year zone  \n",
       "21       70     Burglary   137C  2013   37  \n",
       "24       71     Burglary  VANDY  2013   21  \n",
       "27       70     Burglary   7F80  2013   23  "
      ]
     },
     "execution_count": 43,
     "metadata": {},
     "output_type": "execute_result"
    }
   ],
   "source": [
    "crimes.head(3)"
   ]
  },
  {
   "cell_type": "markdown",
   "metadata": {},
   "source": [
    "#### Central sector (`C`) had the least number of crimes for 2013 with 3,716"
   ]
  },
  {
   "cell_type": "code",
   "execution_count": 44,
   "metadata": {},
   "outputs": [
    {
     "data": {
      "text/plain": [
       "W    15093\n",
       "S    13884\n",
       "H    11179\n",
       "E     6841\n",
       "N     5938\n",
       "M     5529\n",
       "C     3716\n",
       "Name: sector, dtype: int64"
      ]
     },
     "execution_count": 44,
     "metadata": {},
     "output_type": "execute_result"
    }
   ],
   "source": [
    "crimes.loc[crimes.year == 2013].sector.value_counts()"
   ]
  },
  {
   "cell_type": "markdown",
   "metadata": {},
   "source": [
    "#### Central sector (`C`) had the least number of crimes for 2018, too, with 2,772"
   ]
  },
  {
   "cell_type": "code",
   "execution_count": 45,
   "metadata": {},
   "outputs": [
    {
     "data": {
      "text/plain": [
       "S     9367\n",
       "MT    9279\n",
       "H     7863\n",
       "W     7182\n",
       "N     6213\n",
       "E     5651\n",
       "M     4927\n",
       "C     2772\n",
       "Name: sector, dtype: int64"
      ]
     },
     "execution_count": 45,
     "metadata": {},
     "output_type": "execute_result"
    }
   ],
   "source": [
    "crimes.loc[crimes.year == 2018].sector.value_counts()"
   ]
  },
  {
   "cell_type": "markdown",
   "metadata": {},
   "source": [
    "#### 30.7% of calls in 2013 had a disposition of `disregard / signal 9`"
   ]
  },
  {
   "cell_type": "code",
   "execution_count": 46,
   "metadata": {},
   "outputs": [
    {
     "data": {
      "text/plain": [
       "19000"
      ]
     },
     "execution_count": 46,
     "metadata": {},
     "output_type": "execute_result"
    }
   ],
   "source": [
    "len(crimes.loc[(crimes.year == 2013) & (crimes.disposition_desc == 'DISREGARD / SIGNAL 9')])"
   ]
  },
  {
   "cell_type": "code",
   "execution_count": 47,
   "metadata": {},
   "outputs": [
    {
     "name": "stdout",
     "output_type": "stream",
     "text": [
      "62197\n"
     ]
    },
    {
     "data": {
      "text/plain": [
       "DISREGARD / SIGNAL 9             0.306709\n",
       "M.P.D. REPORT COMPLED            0.279170\n",
       "LOCATION/BUILDING SECURE         0.151014\n",
       "ASSISTED OTHER UNIT              0.087267\n",
       "FALSE CALL                       0.061277\n",
       "ASSISTED CITIZEN                 0.047265\n",
       "NO RESPONSE                      0.030332\n",
       "GONE ON ARRIVAL                  0.014706\n",
       "ADVISORY / NOTICE FORM GIVEN     0.008733\n",
       "ARREST, CUSTODIAL OR CITATION    0.003374\n",
       "CITATION - TRAFFIC               0.003358\n",
       "ADVISED IN CIVIL CASE            0.002583\n",
       "ASSISTANCE REFUSED               0.002276\n",
       "SUBJECT WARNED                   0.001437\n",
       "COMMUNITY POLICING               0.000500\n",
       "Name: disposition_desc, dtype: float64"
      ]
     },
     "execution_count": 47,
     "metadata": {},
     "output_type": "execute_result"
    }
   ],
   "source": [
    "#crimes.disposition_desc.value_counts()\n",
    "print(crimes.loc[crimes.year == 2013].shape[0])\n",
    "crimes.loc[crimes.year == 2013].disposition_desc.value_counts(True)\n",
    "# print('The percentage of calls that were disposition of disregard is ', \n",
    "#      len(crimes.loc[(crimes.year == 2013) & (crimes.disposition_desc == 'DISREGARD / SIGNAL 9')]) / crimes.loc[crimes.year == 2013].shape[0])"
   ]
  },
  {
   "cell_type": "markdown",
   "metadata": {},
   "source": [
    "#### 28.2% of calls in 2018 had a disposition of `disregard / signal 9`"
   ]
  },
  {
   "cell_type": "code",
   "execution_count": 48,
   "metadata": {
    "scrolled": true
   },
   "outputs": [
    {
     "name": "stdout",
     "output_type": "stream",
     "text": [
      "67324\n"
     ]
    },
    {
     "data": {
      "text/plain": [
       "DISREGARD / SIGNAL 9             18993\n",
       "M.P.D. REPORT COMPLED            18597\n",
       "LOCATION/BUILDING SECURE         11025\n",
       "ASSISTED OTHER UNIT               5813\n",
       "FALSE CALL                        5112\n",
       "ASSISTED CITIZEN                  2997\n",
       "NO RESPONSE                       1868\n",
       "GONE ON ARRIVAL                   1613\n",
       "ADVISORY / NOTICE FORM GIVEN       349\n",
       "ASSISTANCE REFUSED                 267\n",
       "CITATION - TRAFFIC                 240\n",
       "ARREST, CUSTODIAL OR CITATION      184\n",
       "ADVISED IN CIVIL CASE              124\n",
       "COMMUNITY POLICING                  69\n",
       "SUBJECT WARNED                      62\n",
       "Name: disposition_desc, dtype: int64"
      ]
     },
     "execution_count": 48,
     "metadata": {},
     "output_type": "execute_result"
    }
   ],
   "source": [
    "print(crimes.loc[crimes.year == 2018].shape[0])\n",
    "crimes.loc[crimes.year == 2018].disposition_desc.value_counts()"
   ]
  },
  {
   "cell_type": "code",
   "execution_count": 49,
   "metadata": {},
   "outputs": [
    {
     "name": "stdout",
     "output_type": "stream",
     "text": [
      "0.2821133622482324\n"
     ]
    }
   ],
   "source": [
    "print(18993 / crimes.loc[crimes.year == 2018].shape[0])"
   ]
  },
  {
   "cell_type": "markdown",
   "metadata": {},
   "source": [
    "### Week 3"
   ]
  },
  {
   "cell_type": "code",
   "execution_count": 50,
   "metadata": {
    "scrolled": true
   },
   "outputs": [
    {
     "data": {
      "text/html": [
       "<div style=\"width:100%;\"><div style=\"position:relative;width:100%;height:0;padding-bottom:60%;\"><iframe src=\"data:text/html;charset=utf-8;base64,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\" style=\"position:absolute;width:100%;height:100%;left:0;top:0;border:none !important;\" allowfullscreen webkitallowfullscreen mozallowfullscreen></iframe></div></div>"
      ],
      "text/plain": [
       "<folium.folium.Map at 0x110b8e908>"
      ]
     },
     "execution_count": 50,
     "metadata": {},
     "output_type": "execute_result"
    }
   ],
   "source": [
    "nashville = [36.1612, -86.7775]\n",
    "nashville_map = folium.Map(location = nashville, zoom_start = 12)\n",
    "nashville_map"
   ]
  },
  {
   "cell_type": "code",
   "execution_count": 51,
   "metadata": {},
   "outputs": [
    {
     "data": {
      "text/html": [
       "<div>\n",
       "<style scoped>\n",
       "    .dataframe tbody tr th:only-of-type {\n",
       "        vertical-align: middle;\n",
       "    }\n",
       "\n",
       "    .dataframe tbody tr th {\n",
       "        vertical-align: top;\n",
       "    }\n",
       "\n",
       "    .dataframe thead th {\n",
       "        text-align: right;\n",
       "    }\n",
       "</style>\n",
       "<table border=\"1\" class=\"dataframe\">\n",
       "  <thead>\n",
       "    <tr style=\"text-align: right;\">\n",
       "      <th></th>\n",
       "      <th>call_time</th>\n",
       "      <th>complaint_id</th>\n",
       "      <th>disposition</th>\n",
       "      <th>disposition_desc</th>\n",
       "      <th>id</th>\n",
       "      <th>lat</th>\n",
       "      <th>lng</th>\n",
       "      <th>sector</th>\n",
       "      <th>shift</th>\n",
       "      <th>tencode</th>\n",
       "      <th>tencode_desc</th>\n",
       "      <th>unit</th>\n",
       "      <th>year</th>\n",
       "      <th>zone</th>\n",
       "    </tr>\n",
       "  </thead>\n",
       "  <tbody>\n",
       "    <tr>\n",
       "      <th>23493</th>\n",
       "      <td>01/07/2013 02:39:00 PM</td>\n",
       "      <td>20130018910</td>\n",
       "      <td>5</td>\n",
       "      <td>GONE ON ARRIVAL</td>\n",
       "      <td>PD201300025565</td>\n",
       "      <td>36.072</td>\n",
       "      <td>-86.638</td>\n",
       "      <td>S</td>\n",
       "      <td>A</td>\n",
       "      <td>53</td>\n",
       "      <td>Robbery</td>\n",
       "      <td>315A</td>\n",
       "      <td>2013</td>\n",
       "      <td>35</td>\n",
       "    </tr>\n",
       "    <tr>\n",
       "      <th>66394</th>\n",
       "      <td>01/18/2013 11:36:00 AM</td>\n",
       "      <td>20130053046</td>\n",
       "      <td>5</td>\n",
       "      <td>GONE ON ARRIVAL</td>\n",
       "      <td>PD201300072099</td>\n",
       "      <td>36.280</td>\n",
       "      <td>-86.709</td>\n",
       "      <td>M</td>\n",
       "      <td>A</td>\n",
       "      <td>53</td>\n",
       "      <td>Robbery</td>\n",
       "      <td>720A</td>\n",
       "      <td>2013</td>\n",
       "      <td>23</td>\n",
       "    </tr>\n",
       "    <tr>\n",
       "      <th>70399</th>\n",
       "      <td>01/19/2013 04:00:00 PM</td>\n",
       "      <td>20130056279</td>\n",
       "      <td>5</td>\n",
       "      <td>GONE ON ARRIVAL</td>\n",
       "      <td>PD201300076532</td>\n",
       "      <td>36.043</td>\n",
       "      <td>-86.703</td>\n",
       "      <td>S</td>\n",
       "      <td>B</td>\n",
       "      <td>53</td>\n",
       "      <td>Robbery</td>\n",
       "      <td>333B</td>\n",
       "      <td>2013</td>\n",
       "      <td>37</td>\n",
       "    </tr>\n",
       "    <tr>\n",
       "      <th>247413</th>\n",
       "      <td>03/10/2013 08:57:00 PM</td>\n",
       "      <td>20130232812</td>\n",
       "      <td>5</td>\n",
       "      <td>GONE ON ARRIVAL</td>\n",
       "      <td>PD201300269780</td>\n",
       "      <td>34.153</td>\n",
       "      <td>-92.509</td>\n",
       "      <td>N</td>\n",
       "      <td>B</td>\n",
       "      <td>53</td>\n",
       "      <td>Robbery</td>\n",
       "      <td>627B</td>\n",
       "      <td>2013</td>\n",
       "      <td>27</td>\n",
       "    </tr>\n",
       "    <tr>\n",
       "      <th>249056</th>\n",
       "      <td>03/11/2013 10:20:00 AM</td>\n",
       "      <td>20130234595</td>\n",
       "      <td>5</td>\n",
       "      <td>GONE ON ARRIVAL</td>\n",
       "      <td>PD201300271557</td>\n",
       "      <td>34.153</td>\n",
       "      <td>-92.509</td>\n",
       "      <td>N</td>\n",
       "      <td>A</td>\n",
       "      <td>53</td>\n",
       "      <td>Robbery</td>\n",
       "      <td>611A</td>\n",
       "      <td>2013</td>\n",
       "      <td>11</td>\n",
       "    </tr>\n",
       "  </tbody>\n",
       "</table>\n",
       "</div>"
      ],
      "text/plain": [
       "                     call_time  complaint_id  disposition disposition_desc  \\\n",
       "23493   01/07/2013 02:39:00 PM   20130018910            5  GONE ON ARRIVAL   \n",
       "66394   01/18/2013 11:36:00 AM   20130053046            5  GONE ON ARRIVAL   \n",
       "70399   01/19/2013 04:00:00 PM   20130056279            5  GONE ON ARRIVAL   \n",
       "247413  03/10/2013 08:57:00 PM   20130232812            5  GONE ON ARRIVAL   \n",
       "249056  03/11/2013 10:20:00 AM   20130234595            5  GONE ON ARRIVAL   \n",
       "\n",
       "                    id     lat     lng sector shift  tencode tencode_desc  \\\n",
       "23493   PD201300025565  36.072 -86.638      S     A       53      Robbery   \n",
       "66394   PD201300072099  36.280 -86.709      M     A       53      Robbery   \n",
       "70399   PD201300076532  36.043 -86.703      S     B       53      Robbery   \n",
       "247413  PD201300269780  34.153 -92.509      N     B       53      Robbery   \n",
       "249056  PD201300271557  34.153 -92.509      N     A       53      Robbery   \n",
       "\n",
       "        unit  year zone  \n",
       "23493   315A  2013   35  \n",
       "66394   720A  2013   23  \n",
       "70399   333B  2013   37  \n",
       "247413  627B  2013   27  \n",
       "249056  611A  2013   11  "
      ]
     },
     "execution_count": 51,
     "metadata": {},
     "output_type": "execute_result"
    }
   ],
   "source": [
    "robberies = crimes[(crimes.tencode_desc == 'Robbery') &\n",
    "            (crimes.disposition_desc == 'GONE ON ARRIVAL')]\n",
    "robberies.head()"
   ]
  },
  {
   "cell_type": "code",
   "execution_count": 52,
   "metadata": {},
   "outputs": [
    {
     "data": {
      "text/plain": [
       "call_time           0\n",
       "complaint_id        0\n",
       "disposition         0\n",
       "disposition_desc    0\n",
       "id                  0\n",
       "lat                 0\n",
       "lng                 0\n",
       "sector              0\n",
       "shift               0\n",
       "tencode             0\n",
       "tencode_desc        0\n",
       "unit                0\n",
       "year                0\n",
       "zone                0\n",
       "dtype: int64"
      ]
     },
     "execution_count": 52,
     "metadata": {},
     "output_type": "execute_result"
    }
   ],
   "source": [
    "# get rid of rows that are missing location info\n",
    "robberies = robberies.loc[robberies.lat.notna()]\n",
    "robberies.isnull().sum()"
   ]
  },
  {
   "cell_type": "code",
   "execution_count": 53,
   "metadata": {
    "scrolled": true
   },
   "outputs": [
    {
     "data": {
      "text/html": [
       "<div style=\"width:100%;\"><div style=\"position:relative;width:100%;height:0;padding-bottom:60%;\"><iframe src=\"data:text/html;charset=utf-8;base64,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\" style=\"position:absolute;width:100%;height:100%;left:0;top:0;border:none !important;\" allowfullscreen webkitallowfullscreen mozallowfullscreen></iframe></div></div>"
      ],
      "text/plain": [
       "<folium.folium.Map at 0x110b8e908>"
      ]
     },
     "execution_count": 53,
     "metadata": {},
     "output_type": "execute_result"
    }
   ],
   "source": [
    "for row in robberies.iterrows():\n",
    "    vals = row[1]\n",
    "    location = [vals['lat'], vals['lng']]\n",
    "    popup = str(vals['tencode_desc']) + ': ' + str(vals['disposition_desc'])\n",
    "    marker = folium.Marker(location = location, popup = popup)\n",
    "    marker.add_to(nashville_map)\n",
    "nashville_map    "
   ]
  },
  {
   "cell_type": "markdown",
   "metadata": {},
   "source": [
    "#### Get Nashville related weather data from sqlite"
   ]
  },
  {
   "cell_type": "code",
   "execution_count": 54,
   "metadata": {
    "collapsed": true
   },
   "outputs": [],
   "source": [
    "db = 'data/weather.db'"
   ]
  },
  {
   "cell_type": "code",
   "execution_count": 55,
   "metadata": {},
   "outputs": [
    {
     "name": "stdout",
     "output_type": "stream",
     "text": [
      "[('Old',), ('weather2013',)]\n"
     ]
    }
   ],
   "source": [
    "con = sql.connect(db)\n",
    "mycursor = con.cursor() \n",
    "mycursor.execute(\"SELECT name FROM sqlite_master WHERE type='table' ORDER BY name;\")\n",
    "available_tables = mycursor.fetchall()\n",
    "print(available_tables)"
   ]
  },
  {
   "cell_type": "code",
   "execution_count": 56,
   "metadata": {
    "collapsed": true
   },
   "outputs": [],
   "source": [
    "weather2013 = pd.read_sql_query('select * from weather2013 where name like \"%NASHVILLE%\"', con)"
   ]
  },
  {
   "cell_type": "code",
   "execution_count": 57,
   "metadata": {
    "collapsed": true
   },
   "outputs": [],
   "source": [
    "# def get_query(select, db=db):\n",
    "#     '''Executes a select statement and returns results and column/field names.'''\n",
    "#     with sql.connect(db) as conn:\n",
    "#         c = conn.cursor()\n",
    "#         c.execute(select)\n",
    "#         col_names = [str(name[0]).lower() for name in c.description]\n",
    "#     return c.fetchall(), col_names"
   ]
  },
  {
   "cell_type": "code",
   "execution_count": 58,
   "metadata": {},
   "outputs": [
    {
     "data": {
      "text/html": [
       "<div>\n",
       "<style scoped>\n",
       "    .dataframe tbody tr th:only-of-type {\n",
       "        vertical-align: middle;\n",
       "    }\n",
       "\n",
       "    .dataframe tbody tr th {\n",
       "        vertical-align: top;\n",
       "    }\n",
       "\n",
       "    .dataframe thead th {\n",
       "        text-align: right;\n",
       "    }\n",
       "</style>\n",
       "<table border=\"1\" class=\"dataframe\">\n",
       "  <thead>\n",
       "    <tr style=\"text-align: right;\">\n",
       "      <th></th>\n",
       "      <th>station</th>\n",
       "      <th>name</th>\n",
       "      <th>lat</th>\n",
       "      <th>lng</th>\n",
       "      <th>elevation</th>\n",
       "      <th>date</th>\n",
       "      <th>precip</th>\n",
       "      <th>avg_temp</th>\n",
       "    </tr>\n",
       "  </thead>\n",
       "  <tbody>\n",
       "    <tr>\n",
       "      <th>0</th>\n",
       "      <td>US1TNDV0110</td>\n",
       "      <td>NASHVILLE 11.2 SW, TN US</td>\n",
       "      <td>36.0597</td>\n",
       "      <td>-86.9364</td>\n",
       "      <td>183.2</td>\n",
       "      <td>1/1/13</td>\n",
       "      <td>0.44</td>\n",
       "      <td></td>\n",
       "    </tr>\n",
       "    <tr>\n",
       "      <th>1</th>\n",
       "      <td>US1TNDV0110</td>\n",
       "      <td>NASHVILLE 11.2 SW, TN US</td>\n",
       "      <td>36.0597</td>\n",
       "      <td>-86.9364</td>\n",
       "      <td>183.2</td>\n",
       "      <td>2/10/13</td>\n",
       "      <td>0.00</td>\n",
       "      <td></td>\n",
       "    </tr>\n",
       "    <tr>\n",
       "      <th>2</th>\n",
       "      <td>US1TNDV0110</td>\n",
       "      <td>NASHVILLE 11.2 SW, TN US</td>\n",
       "      <td>36.0597</td>\n",
       "      <td>-86.9364</td>\n",
       "      <td>183.2</td>\n",
       "      <td>2/17/13</td>\n",
       "      <td>0.00</td>\n",
       "      <td></td>\n",
       "    </tr>\n",
       "    <tr>\n",
       "      <th>3</th>\n",
       "      <td>US1TNDV0110</td>\n",
       "      <td>NASHVILLE 11.2 SW, TN US</td>\n",
       "      <td>36.0597</td>\n",
       "      <td>-86.9364</td>\n",
       "      <td>183.2</td>\n",
       "      <td>3/25/13</td>\n",
       "      <td>0.32</td>\n",
       "      <td></td>\n",
       "    </tr>\n",
       "    <tr>\n",
       "      <th>4</th>\n",
       "      <td>US1TNDV0110</td>\n",
       "      <td>NASHVILLE 11.2 SW, TN US</td>\n",
       "      <td>36.0597</td>\n",
       "      <td>-86.9364</td>\n",
       "      <td>183.2</td>\n",
       "      <td>4/19/13</td>\n",
       "      <td>1.30</td>\n",
       "      <td></td>\n",
       "    </tr>\n",
       "  </tbody>\n",
       "</table>\n",
       "</div>"
      ],
      "text/plain": [
       "       station                      name      lat      lng  elevation  \\\n",
       "0  US1TNDV0110  NASHVILLE 11.2 SW, TN US  36.0597 -86.9364      183.2   \n",
       "1  US1TNDV0110  NASHVILLE 11.2 SW, TN US  36.0597 -86.9364      183.2   \n",
       "2  US1TNDV0110  NASHVILLE 11.2 SW, TN US  36.0597 -86.9364      183.2   \n",
       "3  US1TNDV0110  NASHVILLE 11.2 SW, TN US  36.0597 -86.9364      183.2   \n",
       "4  US1TNDV0110  NASHVILLE 11.2 SW, TN US  36.0597 -86.9364      183.2   \n",
       "\n",
       "      date  precip avg_temp  \n",
       "0   1/1/13    0.44           \n",
       "1  2/10/13    0.00           \n",
       "2  2/17/13    0.00           \n",
       "3  3/25/13    0.32           \n",
       "4  4/19/13    1.30           "
      ]
     },
     "execution_count": 58,
     "metadata": {},
     "output_type": "execute_result"
    }
   ],
   "source": [
    "# select = 'select * from weather2013 where name like \"%NASHVILLE%\"'\n",
    "# data, cols = get_query(select)\n",
    "# weather2013 = pd.DataFrame(data, columns=cols)\n",
    "weather2013.head()"
   ]
  },
  {
   "cell_type": "code",
   "execution_count": 59,
   "metadata": {},
   "outputs": [
    {
     "data": {
      "text/plain": [
       "(2858, 8)"
      ]
     },
     "execution_count": 59,
     "metadata": {},
     "output_type": "execute_result"
    }
   ],
   "source": [
    "weather2013.shape"
   ]
  },
  {
   "cell_type": "code",
   "execution_count": 60,
   "metadata": {},
   "outputs": [
    {
     "name": "stdout",
     "output_type": "stream",
     "text": [
      "['USW00013897', 'US1TNDV0112', 'US1TNDV0117', 'US1TNDV0019', 'USC00406403', 'US1TNDV0138', 'US1TNDV0139', 'US1TNDV0121', 'US1TNDV0122', 'US1TNDV0141', 'US1TNDV0110', 'US1TNDV0091']\n"
     ]
    }
   ],
   "source": [
    "stations = list(set(weather2013.station))\n",
    "print(stations)"
   ]
  },
  {
   "cell_type": "code",
   "execution_count": 61,
   "metadata": {},
   "outputs": [
    {
     "data": {
      "text/plain": [
       "[[36.0597, -86.9364],\n",
       " [36.1108, -86.8987],\n",
       " [36.11889, -86.68917],\n",
       " [36.1422, -86.8357],\n",
       " [36.0802, -86.8155],\n",
       " [36.1523, -86.8746],\n",
       " [36.1217, -86.6203],\n",
       " [36.1135, -86.6781],\n",
       " [36.2042, -86.8319],\n",
       " [36.2224, -86.7205],\n",
       " [36.1784, -86.6704],\n",
       " [36.213, -86.7166]]"
      ]
     },
     "execution_count": 61,
     "metadata": {},
     "output_type": "execute_result"
    }
   ],
   "source": [
    "locs = []\n",
    "for row in weather2013.iterrows():\n",
    "    vals = row[1]\n",
    "    loc = [vals['lat'], vals['lng']]\n",
    "    locs.append(loc)\n",
    "    \n",
    "locations = []\n",
    "for l in locs:\n",
    "    if l not in locations:\n",
    "        locations.append(l)\n",
    "        \n",
    "locations        "
   ]
  },
  {
   "cell_type": "code",
   "execution_count": 62,
   "metadata": {},
   "outputs": [
    {
     "data": {
      "text/html": [
       "<div style=\"width:100%;\"><div style=\"position:relative;width:100%;height:0;padding-bottom:60%;\"><iframe src=\"data:text/html;charset=utf-8;base64,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\" style=\"position:absolute;width:100%;height:100%;left:0;top:0;border:none !important;\" allowfullscreen webkitallowfullscreen mozallowfullscreen></iframe></div></div>"
      ],
      "text/plain": [
       "<folium.folium.Map at 0x10b7916d8>"
      ]
     },
     "execution_count": 62,
     "metadata": {},
     "output_type": "execute_result"
    }
   ],
   "source": [
    "nashville = [36.1612, -86.7775]\n",
    "weather_map = folium.Map(location = nashville, zoom_start = 12)\n",
    "for location in locations:\n",
    "    popup = str(location)\n",
    "    marker = folium.Marker(location = location, popup = popup)\n",
    "    marker.add_to(weather_map)\n",
    "\n",
    "weather_map"
   ]
  },
  {
   "cell_type": "code",
   "execution_count": 63,
   "metadata": {},
   "outputs": [
    {
     "data": {
      "text/html": [
       "<div>\n",
       "<style scoped>\n",
       "    .dataframe tbody tr th:only-of-type {\n",
       "        vertical-align: middle;\n",
       "    }\n",
       "\n",
       "    .dataframe tbody tr th {\n",
       "        vertical-align: top;\n",
       "    }\n",
       "\n",
       "    .dataframe thead th {\n",
       "        text-align: right;\n",
       "    }\n",
       "</style>\n",
       "<table border=\"1\" class=\"dataframe\">\n",
       "  <thead>\n",
       "    <tr style=\"text-align: right;\">\n",
       "      <th></th>\n",
       "      <th>station</th>\n",
       "      <th>name</th>\n",
       "      <th>lat</th>\n",
       "      <th>lng</th>\n",
       "      <th>elevation</th>\n",
       "      <th>date</th>\n",
       "      <th>precip</th>\n",
       "      <th>avg_temp</th>\n",
       "    </tr>\n",
       "  </thead>\n",
       "  <tbody>\n",
       "    <tr>\n",
       "      <th>636</th>\n",
       "      <td>US1TNDV0019</td>\n",
       "      <td>NASHVILLE 3.5 SW, TN US</td>\n",
       "      <td>36.1422</td>\n",
       "      <td>-86.8357</td>\n",
       "      <td>159.1</td>\n",
       "      <td>8/1/13</td>\n",
       "      <td>0.1</td>\n",
       "      <td></td>\n",
       "    </tr>\n",
       "    <tr>\n",
       "      <th>637</th>\n",
       "      <td>US1TNDV0019</td>\n",
       "      <td>NASHVILLE 3.5 SW, TN US</td>\n",
       "      <td>36.1422</td>\n",
       "      <td>-86.8357</td>\n",
       "      <td>159.1</td>\n",
       "      <td>8/8/13</td>\n",
       "      <td>1.4</td>\n",
       "      <td></td>\n",
       "    </tr>\n",
       "    <tr>\n",
       "      <th>638</th>\n",
       "      <td>US1TNDV0019</td>\n",
       "      <td>NASHVILLE 3.5 SW, TN US</td>\n",
       "      <td>36.1422</td>\n",
       "      <td>-86.8357</td>\n",
       "      <td>159.1</td>\n",
       "      <td>8/9/13</td>\n",
       "      <td>0.4</td>\n",
       "      <td></td>\n",
       "    </tr>\n",
       "  </tbody>\n",
       "</table>\n",
       "</div>"
      ],
      "text/plain": [
       "         station                     name      lat      lng  elevation  \\\n",
       "636  US1TNDV0019  NASHVILLE 3.5 SW, TN US  36.1422 -86.8357      159.1   \n",
       "637  US1TNDV0019  NASHVILLE 3.5 SW, TN US  36.1422 -86.8357      159.1   \n",
       "638  US1TNDV0019  NASHVILLE 3.5 SW, TN US  36.1422 -86.8357      159.1   \n",
       "\n",
       "       date  precip avg_temp  \n",
       "636  8/1/13     0.1           \n",
       "637  8/8/13     1.4           \n",
       "638  8/9/13     0.4           "
      ]
     },
     "execution_count": 63,
     "metadata": {},
     "output_type": "execute_result"
    }
   ],
   "source": [
    "nash_weather = weather2013.loc[weather2013.lat == 36.1422]\n",
    "nash_weather.head(3)"
   ]
  },
  {
   "cell_type": "code",
   "execution_count": 64,
   "metadata": {},
   "outputs": [
    {
     "data": {
      "text/plain": [
       "(209, 8)"
      ]
     },
     "execution_count": 64,
     "metadata": {},
     "output_type": "execute_result"
    }
   ],
   "source": [
    "sept_weather = weather2013.loc[weather2013.date.str[0] == '9']\n",
    "sept_weather.shape"
   ]
  },
  {
   "cell_type": "code",
   "execution_count": 65,
   "metadata": {},
   "outputs": [
    {
     "data": {
      "text/plain": [
       "(41, 9)"
      ]
     },
     "execution_count": 65,
     "metadata": {},
     "output_type": "execute_result"
    }
   ],
   "source": [
    "nash_weather = nash_weather.reset_index()\n",
    "nash_weather.shape"
   ]
  },
  {
   "cell_type": "code",
   "execution_count": 66,
   "metadata": {},
   "outputs": [
    {
     "data": {
      "text/html": [
       "<div>\n",
       "<style scoped>\n",
       "    .dataframe tbody tr th:only-of-type {\n",
       "        vertical-align: middle;\n",
       "    }\n",
       "\n",
       "    .dataframe tbody tr th {\n",
       "        vertical-align: top;\n",
       "    }\n",
       "\n",
       "    .dataframe thead th {\n",
       "        text-align: right;\n",
       "    }\n",
       "</style>\n",
       "<table border=\"1\" class=\"dataframe\">\n",
       "  <thead>\n",
       "    <tr style=\"text-align: right;\">\n",
       "      <th></th>\n",
       "      <th>index</th>\n",
       "      <th>station</th>\n",
       "      <th>name</th>\n",
       "      <th>lat</th>\n",
       "      <th>lng</th>\n",
       "      <th>elevation</th>\n",
       "      <th>date</th>\n",
       "      <th>precip</th>\n",
       "      <th>avg_temp</th>\n",
       "    </tr>\n",
       "  </thead>\n",
       "  <tbody>\n",
       "    <tr>\n",
       "      <th>7</th>\n",
       "      <td>643</td>\n",
       "      <td>US1TNDV0019</td>\n",
       "      <td>NASHVILLE 3.5 SW, TN US</td>\n",
       "      <td>36.1422</td>\n",
       "      <td>-86.8357</td>\n",
       "      <td>159.1</td>\n",
       "      <td>9/1/13</td>\n",
       "      <td>0.00</td>\n",
       "      <td></td>\n",
       "    </tr>\n",
       "    <tr>\n",
       "      <th>8</th>\n",
       "      <td>644</td>\n",
       "      <td>US1TNDV0019</td>\n",
       "      <td>NASHVILLE 3.5 SW, TN US</td>\n",
       "      <td>36.1422</td>\n",
       "      <td>-86.8357</td>\n",
       "      <td>159.1</td>\n",
       "      <td>9/2/13</td>\n",
       "      <td>2.50</td>\n",
       "      <td></td>\n",
       "    </tr>\n",
       "    <tr>\n",
       "      <th>9</th>\n",
       "      <td>645</td>\n",
       "      <td>US1TNDV0019</td>\n",
       "      <td>NASHVILLE 3.5 SW, TN US</td>\n",
       "      <td>36.1422</td>\n",
       "      <td>-86.8357</td>\n",
       "      <td>159.1</td>\n",
       "      <td>9/9/13</td>\n",
       "      <td>0.25</td>\n",
       "      <td></td>\n",
       "    </tr>\n",
       "    <tr>\n",
       "      <th>10</th>\n",
       "      <td>646</td>\n",
       "      <td>US1TNDV0019</td>\n",
       "      <td>NASHVILLE 3.5 SW, TN US</td>\n",
       "      <td>36.1422</td>\n",
       "      <td>-86.8357</td>\n",
       "      <td>159.1</td>\n",
       "      <td>9/11/13</td>\n",
       "      <td>0.70</td>\n",
       "      <td></td>\n",
       "    </tr>\n",
       "    <tr>\n",
       "      <th>11</th>\n",
       "      <td>647</td>\n",
       "      <td>US1TNDV0019</td>\n",
       "      <td>NASHVILLE 3.5 SW, TN US</td>\n",
       "      <td>36.1422</td>\n",
       "      <td>-86.8357</td>\n",
       "      <td>159.1</td>\n",
       "      <td>9/13/13</td>\n",
       "      <td>2.30</td>\n",
       "      <td></td>\n",
       "    </tr>\n",
       "  </tbody>\n",
       "</table>\n",
       "</div>"
      ],
      "text/plain": [
       "    index      station                     name      lat      lng  elevation  \\\n",
       "7     643  US1TNDV0019  NASHVILLE 3.5 SW, TN US  36.1422 -86.8357      159.1   \n",
       "8     644  US1TNDV0019  NASHVILLE 3.5 SW, TN US  36.1422 -86.8357      159.1   \n",
       "9     645  US1TNDV0019  NASHVILLE 3.5 SW, TN US  36.1422 -86.8357      159.1   \n",
       "10    646  US1TNDV0019  NASHVILLE 3.5 SW, TN US  36.1422 -86.8357      159.1   \n",
       "11    647  US1TNDV0019  NASHVILLE 3.5 SW, TN US  36.1422 -86.8357      159.1   \n",
       "\n",
       "       date  precip avg_temp  \n",
       "7    9/1/13    0.00           \n",
       "8    9/2/13    2.50           \n",
       "9    9/9/13    0.25           \n",
       "10  9/11/13    0.70           \n",
       "11  9/13/13    2.30           "
      ]
     },
     "execution_count": 66,
     "metadata": {},
     "output_type": "execute_result"
    }
   ],
   "source": [
    "nash_weather = nash_weather.loc[nash_weather.date.str[0] == '9']\n",
    "nash_weather.head()"
   ]
  },
  {
   "cell_type": "code",
   "execution_count": 67,
   "metadata": {},
   "outputs": [
    {
     "name": "stderr",
     "output_type": "stream",
     "text": [
      "/anaconda3/lib/python3.6/site-packages/ipykernel_launcher.py:2: SettingWithCopyWarning: \n",
      "A value is trying to be set on a copy of a slice from a DataFrame.\n",
      "Try using .loc[row_indexer,col_indexer] = value instead\n",
      "\n",
      "See the caveats in the documentation: http://pandas.pydata.org/pandas-docs/stable/indexing.html#indexing-view-versus-copy\n",
      "  \n"
     ]
    },
    {
     "data": {
      "text/html": [
       "<div>\n",
       "<style scoped>\n",
       "    .dataframe tbody tr th:only-of-type {\n",
       "        vertical-align: middle;\n",
       "    }\n",
       "\n",
       "    .dataframe tbody tr th {\n",
       "        vertical-align: top;\n",
       "    }\n",
       "\n",
       "    .dataframe thead th {\n",
       "        text-align: right;\n",
       "    }\n",
       "</style>\n",
       "<table border=\"1\" class=\"dataframe\">\n",
       "  <thead>\n",
       "    <tr style=\"text-align: right;\">\n",
       "      <th></th>\n",
       "      <th>call_time</th>\n",
       "      <th>complaint_id</th>\n",
       "      <th>disposition</th>\n",
       "      <th>disposition_desc</th>\n",
       "      <th>id</th>\n",
       "      <th>lat</th>\n",
       "      <th>lng</th>\n",
       "      <th>sector</th>\n",
       "      <th>shift</th>\n",
       "      <th>tencode</th>\n",
       "      <th>tencode_desc</th>\n",
       "      <th>unit</th>\n",
       "      <th>year</th>\n",
       "      <th>zone</th>\n",
       "      <th>date</th>\n",
       "    </tr>\n",
       "  </thead>\n",
       "  <tbody>\n",
       "    <tr>\n",
       "      <th>21</th>\n",
       "      <td>01/01/2013 12:09:00 AM</td>\n",
       "      <td>20130000057</td>\n",
       "      <td>13</td>\n",
       "      <td>FALSE CALL</td>\n",
       "      <td>PD201300000031</td>\n",
       "      <td>36.056</td>\n",
       "      <td>-86.936</td>\n",
       "      <td>W</td>\n",
       "      <td>C</td>\n",
       "      <td>70</td>\n",
       "      <td>Burglary</td>\n",
       "      <td>137C</td>\n",
       "      <td>2013</td>\n",
       "      <td>37</td>\n",
       "      <td>01/01/2013</td>\n",
       "    </tr>\n",
       "    <tr>\n",
       "      <th>24</th>\n",
       "      <td>01/01/2013 12:10:00 AM</td>\n",
       "      <td>20130000030</td>\n",
       "      <td>4</td>\n",
       "      <td>ASSISTED CITIZEN</td>\n",
       "      <td>PD201300000034</td>\n",
       "      <td>36.105</td>\n",
       "      <td>-86.762</td>\n",
       "      <td>S</td>\n",
       "      <td>C</td>\n",
       "      <td>71</td>\n",
       "      <td>Burglary</td>\n",
       "      <td>VANDY</td>\n",
       "      <td>2013</td>\n",
       "      <td>21</td>\n",
       "      <td>01/01/2013</td>\n",
       "    </tr>\n",
       "    <tr>\n",
       "      <th>27</th>\n",
       "      <td>01/01/2013 12:10:00 AM</td>\n",
       "      <td>20130000124</td>\n",
       "      <td>12</td>\n",
       "      <td>LOCATION/BUILDING SECURE</td>\n",
       "      <td>PD201300000038</td>\n",
       "      <td>36.241</td>\n",
       "      <td>-86.735</td>\n",
       "      <td>M</td>\n",
       "      <td>C</td>\n",
       "      <td>70</td>\n",
       "      <td>Burglary</td>\n",
       "      <td>7F80</td>\n",
       "      <td>2013</td>\n",
       "      <td>23</td>\n",
       "      <td>01/01/2013</td>\n",
       "    </tr>\n",
       "  </tbody>\n",
       "</table>\n",
       "</div>"
      ],
      "text/plain": [
       "                 call_time  complaint_id  disposition  \\\n",
       "21  01/01/2013 12:09:00 AM   20130000057           13   \n",
       "24  01/01/2013 12:10:00 AM   20130000030            4   \n",
       "27  01/01/2013 12:10:00 AM   20130000124           12   \n",
       "\n",
       "            disposition_desc              id     lat     lng sector shift  \\\n",
       "21                FALSE CALL  PD201300000031  36.056 -86.936      W     C   \n",
       "24          ASSISTED CITIZEN  PD201300000034  36.105 -86.762      S     C   \n",
       "27  LOCATION/BUILDING SECURE  PD201300000038  36.241 -86.735      M     C   \n",
       "\n",
       "    tencode tencode_desc   unit  year zone        date  \n",
       "21       70     Burglary   137C  2013   37  01/01/2013  \n",
       "24       71     Burglary  VANDY  2013   21  01/01/2013  \n",
       "27       70     Burglary   7F80  2013   23  01/01/2013  "
      ]
     },
     "execution_count": 67,
     "metadata": {},
     "output_type": "execute_result"
    }
   ],
   "source": [
    "burglaries = crimes[(crimes.tencode_desc == 'Burglary')]\n",
    "burglaries['date'] = burglaries.call_time.str[0:10]    \n",
    "burglaries.head(3)"
   ]
  },
  {
   "cell_type": "code",
   "execution_count": 68,
   "metadata": {
    "collapsed": true
   },
   "outputs": [],
   "source": [
    "burglaries = burglaries.loc[burglaries.date.str[1] == '9']"
   ]
  },
  {
   "cell_type": "code",
   "execution_count": 69,
   "metadata": {},
   "outputs": [
    {
     "data": {
      "text/html": [
       "<div>\n",
       "<style scoped>\n",
       "    .dataframe tbody tr th:only-of-type {\n",
       "        vertical-align: middle;\n",
       "    }\n",
       "\n",
       "    .dataframe tbody tr th {\n",
       "        vertical-align: top;\n",
       "    }\n",
       "\n",
       "    .dataframe thead th {\n",
       "        text-align: right;\n",
       "    }\n",
       "</style>\n",
       "<table border=\"1\" class=\"dataframe\">\n",
       "  <thead>\n",
       "    <tr style=\"text-align: right;\">\n",
       "      <th></th>\n",
       "      <th>date</th>\n",
       "      <th>count</th>\n",
       "    </tr>\n",
       "  </thead>\n",
       "  <tbody>\n",
       "    <tr>\n",
       "      <th>0</th>\n",
       "      <td>09/01/2013</td>\n",
       "      <td>136</td>\n",
       "    </tr>\n",
       "    <tr>\n",
       "      <th>1</th>\n",
       "      <td>09/01/2018</td>\n",
       "      <td>166</td>\n",
       "    </tr>\n",
       "  </tbody>\n",
       "</table>\n",
       "</div>"
      ],
      "text/plain": [
       "         date  count\n",
       "0  09/01/2013    136\n",
       "1  09/01/2018    166"
      ]
     },
     "execution_count": 69,
     "metadata": {},
     "output_type": "execute_result"
    }
   ],
   "source": [
    "sept_agg = burglaries.groupby('date').count().reset_index()\n",
    "sept_agg = sept_agg.iloc[:, 0:2]\n",
    "sept_agg.columns = ['date', 'count']\n",
    "sept_agg.head(2)"
   ]
  },
  {
   "cell_type": "code",
   "execution_count": 70,
   "metadata": {},
   "outputs": [
    {
     "data": {
      "text/plain": [
       "(42, 2)"
      ]
     },
     "execution_count": 70,
     "metadata": {},
     "output_type": "execute_result"
    }
   ],
   "source": [
    "sept_agg.shape"
   ]
  },
  {
   "cell_type": "code",
   "execution_count": 71,
   "metadata": {},
   "outputs": [
    {
     "name": "stderr",
     "output_type": "stream",
     "text": [
      "/anaconda3/lib/python3.6/site-packages/pandas/core/generic.py:5096: SettingWithCopyWarning: \n",
      "A value is trying to be set on a copy of a slice from a DataFrame.\n",
      "Try using .loc[row_indexer,col_indexer] = value instead\n",
      "\n",
      "See the caveats in the documentation: http://pandas.pydata.org/pandas-docs/stable/indexing.html#indexing-view-versus-copy\n",
      "  self[name] = value\n"
     ]
    }
   ],
   "source": [
    "sept_weather.date = pd.to_datetime(sept_weather.date)\n",
    "sept_agg.date = pd.to_datetime(sept_agg.date)"
   ]
  },
  {
   "cell_type": "code",
   "execution_count": 72,
   "metadata": {
    "collapsed": true
   },
   "outputs": [],
   "source": [
    "weather_agg = sept_weather.groupby('date').agg('mean').reset_index()"
   ]
  },
  {
   "cell_type": "code",
   "execution_count": 73,
   "metadata": {},
   "outputs": [
    {
     "data": {
      "text/plain": [
       "Index(['date', 'lat', 'lng', 'elevation', 'precip'], dtype='object')"
      ]
     },
     "execution_count": 73,
     "metadata": {},
     "output_type": "execute_result"
    }
   ],
   "source": [
    "weather_agg.columns"
   ]
  },
  {
   "cell_type": "code",
   "execution_count": 74,
   "metadata": {},
   "outputs": [
    {
     "data": {
      "text/html": [
       "<div>\n",
       "<style scoped>\n",
       "    .dataframe tbody tr th:only-of-type {\n",
       "        vertical-align: middle;\n",
       "    }\n",
       "\n",
       "    .dataframe tbody tr th {\n",
       "        vertical-align: top;\n",
       "    }\n",
       "\n",
       "    .dataframe thead th {\n",
       "        text-align: right;\n",
       "    }\n",
       "</style>\n",
       "<table border=\"1\" class=\"dataframe\">\n",
       "  <thead>\n",
       "    <tr style=\"text-align: right;\">\n",
       "      <th></th>\n",
       "      <th>date</th>\n",
       "      <th>count</th>\n",
       "      <th>lat</th>\n",
       "      <th>lng</th>\n",
       "      <th>elevation</th>\n",
       "      <th>precip</th>\n",
       "    </tr>\n",
       "  </thead>\n",
       "  <tbody>\n",
       "    <tr>\n",
       "      <th>0</th>\n",
       "      <td>2013-09-01</td>\n",
       "      <td>136</td>\n",
       "      <td>36.156699</td>\n",
       "      <td>-86.740084</td>\n",
       "      <td>168.225000</td>\n",
       "      <td>0.120000</td>\n",
       "    </tr>\n",
       "    <tr>\n",
       "      <th>1</th>\n",
       "      <td>2013-09-02</td>\n",
       "      <td>141</td>\n",
       "      <td>36.156699</td>\n",
       "      <td>-86.740084</td>\n",
       "      <td>168.225000</td>\n",
       "      <td>0.413750</td>\n",
       "    </tr>\n",
       "    <tr>\n",
       "      <th>2</th>\n",
       "      <td>2013-09-03</td>\n",
       "      <td>147</td>\n",
       "      <td>36.164948</td>\n",
       "      <td>-86.744112</td>\n",
       "      <td>170.200000</td>\n",
       "      <td>0.296667</td>\n",
       "    </tr>\n",
       "    <tr>\n",
       "      <th>3</th>\n",
       "      <td>2013-09-04</td>\n",
       "      <td>141</td>\n",
       "      <td>36.157213</td>\n",
       "      <td>-86.766196</td>\n",
       "      <td>172.185714</td>\n",
       "      <td>0.004286</td>\n",
       "    </tr>\n",
       "    <tr>\n",
       "      <th>4</th>\n",
       "      <td>2013-09-05</td>\n",
       "      <td>136</td>\n",
       "      <td>36.157213</td>\n",
       "      <td>-86.766196</td>\n",
       "      <td>172.185714</td>\n",
       "      <td>0.000000</td>\n",
       "    </tr>\n",
       "  </tbody>\n",
       "</table>\n",
       "</div>"
      ],
      "text/plain": [
       "        date  count        lat        lng   elevation    precip\n",
       "0 2013-09-01    136  36.156699 -86.740084  168.225000  0.120000\n",
       "1 2013-09-02    141  36.156699 -86.740084  168.225000  0.413750\n",
       "2 2013-09-03    147  36.164948 -86.744112  170.200000  0.296667\n",
       "3 2013-09-04    141  36.157213 -86.766196  172.185714  0.004286\n",
       "4 2013-09-05    136  36.157213 -86.766196  172.185714  0.000000"
      ]
     },
     "execution_count": 74,
     "metadata": {},
     "output_type": "execute_result"
    }
   ],
   "source": [
    "merged = pd.merge(sept_agg, weather_agg)\n",
    "merged.head()"
   ]
  },
  {
   "cell_type": "code",
   "execution_count": 82,
   "metadata": {},
   "outputs": [
    {
     "data": {
      "image/png": "[encoded data removed]",
      "text/plain": [
       "<matplotlib.figure.Figure at 0x114aa3e80>"
      ]
     },
     "metadata": {},
     "output_type": "display_data"
    }
   ],
   "source": [
    "fig, ax1 = plt.subplots()\n",
    "\n",
    "#ax1.set_xlabel('date')\n",
    "ax1.set_ylabel('rainfall', color = 'darkblue')\n",
    "ax1.plot('date', 'precip', data = merged, \n",
    "         marker = '.', linestyle = ':', color = 'darkblue')\n",
    "ax1.tick_params(axis='y', labelcolor='darkblue')\n",
    "plt.xticks(rotation = 45)\n",
    "\n",
    "ax2 = ax1.twinx()\n",
    "ax2.set_ylabel('burglary count', color = 'red')\n",
    "\n",
    "ax2.plot('date', 'count', data = merged,\n",
    "        marker = '.', linestyle = '-', color = 'red', alpha = 0.3)\n",
    "\n",
    "plt.title('September 2013 Rain and Burglaries');"
   ]
  },
  {
   "cell_type": "markdown",
   "metadata": {
    "collapsed": true
   },
   "source": [
    "#### There is a definite suggestion of a relationship (especially on two dates with highest burglary count). More analysis needed! :)"
   ]
  },
  {
   "cell_type": "code",
   "execution_count": 41,
   "metadata": {},
   "outputs": [
    {
     "data": {
      "text/plain": [
       "Business Check                                 156142\n",
       "Traffic Violation                              143257\n",
       "Want Officer for Investigation / Assistance    126718\n",
       "Administrative/Special Assignment               41765\n",
       "Community Policing Activity                     34511\n",
       "Disorderly Person                               30139\n",
       "Suspicious Person                               28908\n",
       "Vehicle Accident - Property Damage              28134\n",
       "Theft                                           27392\n",
       "Safety Hazard                                   25581\n",
       "Burglary - Residence                            19110\n",
       "Burglary - Non-Residence                        17610\n",
       "Investigate 911 Hang-Up Call                    14125\n",
       "Vehicle Accident - Personal Injury               7515\n",
       "Vehicle Blocking Right of Way                    7510\n",
       "Fight / Assault                                  6328\n",
       "Shots Fired                                      4977\n",
       "Holdup / Robbery                                 3118\n",
       "Fixed Post                                       2770\n",
       "Meal Break                                       2687\n",
       "Missing Person                                   2657\n",
       "Person with Weapon                               2626\n",
       "Dangerous / Injured Animal                       2421\n",
       "Suicidal Person                                  2247\n",
       "Transport Prisoner / Suspect                     2220\n",
       "Intoxicated Person                               1791\n",
       "Corpse / D. O. A.                                 816\n",
       "Person Indecently Exposed                         729\n",
       "Mentally ILL Person                               539\n",
       "Shooting                                          477\n",
       "Person Screaming                                  438\n",
       "Prowler                                           354\n",
       "Escort / Convoy                                   346\n",
       "Fire                                              345\n",
       "Personal Relief                                   237\n",
       "Hazardous Liquid / Gas Leak                       208\n",
       "Cutting / Stabbing                                169\n",
       "Kidnapping                                        117\n",
       "Bank Robbery                                       94\n",
       "Explosion                                          51\n",
       "Bomb Threat                                        35\n",
       "Gang Activity                                      30\n",
       "Personnel in Serious Danger                        20\n",
       "Drowning                                           19\n",
       "Barricaded Suspect                                 14\n",
       "Prisoner Escapee                                    8\n",
       "Riot / Disorderly Crowd                             7\n",
       "Active Aggressor                                    4\n",
       "Occult Activity                                     4\n",
       "Train Derailment                                    2\n",
       "Sniper                                              1\n",
       "Name: tencode_desc, dtype: int64"
      ]
     },
     "execution_count": 41,
     "metadata": {},
     "output_type": "execute_result"
    }
   ],
   "source": [
    "police_2018.tencode_desc.value_counts()"
   ]
  },
  {
   "cell_type": "code",
   "execution_count": 42,
   "metadata": {
    "collapsed": true
   },
   "outputs": [],
   "source": [
    "sniper = police_2018.loc[police_2018.tencode_desc == 'Sniper']"
   ]
  },
  {
   "cell_type": "code",
   "execution_count": 51,
   "metadata": {
    "collapsed": true
   },
   "outputs": [],
   "source": [
    "sniper2 = police_2013.loc[police_2013.tencode_desc == 'Sniper']"
   ]
  },
  {
   "cell_type": "code",
   "execution_count": 55,
   "metadata": {},
   "outputs": [
    {
     "data": {
      "text/html": [
       "<div>\n",
       "<style scoped>\n",
       "    .dataframe tbody tr th:only-of-type {\n",
       "        vertical-align: middle;\n",
       "    }\n",
       "\n",
       "    .dataframe tbody tr th {\n",
       "        vertical-align: top;\n",
       "    }\n",
       "\n",
       "    .dataframe thead th {\n",
       "        text-align: right;\n",
       "    }\n",
       "</style>\n",
       "<table border=\"1\" class=\"dataframe\">\n",
       "  <thead>\n",
       "    <tr style=\"text-align: right;\">\n",
       "      <th></th>\n",
       "      <th>id</th>\n",
       "      <th>call_time</th>\n",
       "      <th>complaint_id</th>\n",
       "      <th>shift</th>\n",
       "      <th>tencode</th>\n",
       "      <th>tencode_desc</th>\n",
       "      <th>disposition</th>\n",
       "      <th>disposition_desc</th>\n",
       "      <th>unit</th>\n",
       "      <th>sector</th>\n",
       "      <th>zone</th>\n",
       "      <th>lat</th>\n",
       "      <th>lng</th>\n",
       "    </tr>\n",
       "  </thead>\n",
       "  <tbody>\n",
       "    <tr>\n",
       "      <th>327273</th>\n",
       "      <td>PD201800384974</td>\n",
       "      <td>04/15/2018 09:26:00 PM</td>\n",
       "      <td>20180338724</td>\n",
       "      <td>B</td>\n",
       "      <td>4000</td>\n",
       "      <td>Sniper</td>\n",
       "      <td>11</td>\n",
       "      <td>DISREGARD / SIGNAL 9</td>\n",
       "      <td>415B</td>\n",
       "      <td>C</td>\n",
       "      <td>21</td>\n",
       "      <td>36.163</td>\n",
       "      <td>-86.776</td>\n",
       "    </tr>\n",
       "    <tr>\n",
       "      <th>477160</th>\n",
       "      <td>PD201300524134</td>\n",
       "      <td>05/16/2013 12:49:00 PM</td>\n",
       "      <td>20130464451</td>\n",
       "      <td>A</td>\n",
       "      <td>4000</td>\n",
       "      <td>Sniper</td>\n",
       "      <td>9</td>\n",
       "      <td>SUBJECT WARNED</td>\n",
       "      <td>NaN</td>\n",
       "      <td>H</td>\n",
       "      <td>13</td>\n",
       "      <td>34.153</td>\n",
       "      <td>-92.509</td>\n",
       "    </tr>\n",
       "  </tbody>\n",
       "</table>\n",
       "</div>"
      ],
      "text/plain": [
       "                    id               call_time  complaint_id shift  tencode  \\\n",
       "327273  PD201800384974  04/15/2018 09:26:00 PM   20180338724     B     4000   \n",
       "477160  PD201300524134  05/16/2013 12:49:00 PM   20130464451     A     4000   \n",
       "\n",
       "       tencode_desc  disposition      disposition_desc  unit sector zone  \\\n",
       "327273       Sniper           11  DISREGARD / SIGNAL 9  415B      C   21   \n",
       "477160       Sniper            9        SUBJECT WARNED   NaN      H   13   \n",
       "\n",
       "           lat     lng  \n",
       "327273  36.163 -86.776  \n",
       "477160  34.153 -92.509  "
      ]
     },
     "execution_count": 55,
     "metadata": {},
     "output_type": "execute_result"
    }
   ],
   "source": [
    "snipers = pd.concat([sniper, sniper2])\n",
    "snipers"
   ]
  },
  {
   "cell_type": "code",
   "execution_count": 56,
   "metadata": {
    "scrolled": true
   },
   "outputs": [
    {
     "data": {
      "text/html": [
       "<div style=\"width:100%;\"><div style=\"position:relative;width:100%;height:0;padding-bottom:60%;\"><iframe src=\"data:text/html;charset=utf-8;base64,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\" style=\"position:absolute;width:100%;height:100%;left:0;top:0;border:none !important;\" allowfullscreen webkitallowfullscreen mozallowfullscreen></iframe></div></div>"
      ],
      "text/plain": [
       "<folium.folium.Map at 0x11b417b38>"
      ]
     },
     "execution_count": 56,
     "metadata": {},
     "output_type": "execute_result"
    }
   ],
   "source": [
    "sniper_map = folium.Map(location = [36.1612, -86.7775], zoom_start = 15)\n",
    "\n",
    "for row in snipers.iterrows():\n",
    "    vals = row[1]\n",
    "    location = [vals['lat'], vals['lng']]\n",
    "    popup = str(vals['tencode_desc']) + ': ' + str(vals['disposition_desc'])\n",
    "    marker = folium.Marker(location = location, popup = popup)\n",
    "    marker.add_to(sniper_map)\n",
    "\n",
    "sniper_map"
   ]
  },
  {
   "cell_type": "code",
   "execution_count": 49,
   "metadata": {},
   "outputs": [
    {
     "name": "stdout",
     "output_type": "stream",
     "text": [
      "[327273    36.163\n",
      "Name: lat, dtype: float64, 327273   -86.776\n",
      "Name: lng, dtype: float64]\n"
     ]
    }
   ],
   "source": [
    "print(location)"
   ]
  },
  {
   "cell_type": "code",
   "execution_count": null,
   "metadata": {
    "collapsed": true
   },
   "outputs": [],
   "source": []
  }
 ],
 "metadata": {
  "kernelspec": {
   "display_name": "Python 3",
   "language": "python",
   "name": "python3"
  },
  "language_info": {
   "codemirror_mode": {
    "name": "ipython",
    "version": 3
   },
   "file_extension": ".py",
   "mimetype": "text/x-python",
   "name": "python",
   "nbconvert_exporter": "python",
   "pygments_lexer": "ipython3",
   "version": "3.6.7"
  }
 },
 "nbformat": 4,
 "nbformat_minor": 2
}
